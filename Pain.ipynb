{
  "cells": [
    {
      "cell_type": "markdown",
      "source": "# Pain Meds\n\nThe author has long been interested in finding objective biomarkers of pain from biochemical data.  Finding such biomarkers could go a long way in improving pain management:\n* matching the pain med strength to the objective severity of pain\n* markers of disease improvement / progression in chronic pain conditions\n* surrogate biomarkers for clinical trials\n* forensic determination of licit and illicit drug use\n\nHere, we are using NHANES data to look for correlations between the use of opiate and non-opiate pain medicine and clinical biochemistry.  Such correlations could help shed light on which patients are most likely to progress to long-term opiate use, and what are the biochemical effects of doing so.  We do not attempt to determine causality.  \n\nDatasets to consider:\n\n* DEMO: Demographic Variables\n* RXQ_RX: Prescription Medications\n* PAQ: Physical Activity\n* SLQ: Sleep Disorders\n* BIOPRO: Standard Biochemistry Profile\n* BMX: Body Measures\n* CBC: Complete Blood Count\n\nFrom combined 2013–2018 data, we identified 5 groups of people (total N=13481):  \n1) no prescription drug use (N=7122)  \n2) non-CNS prescriptions only (N=4006)  \n3) CNS, non-analgesics prescriptions (N=964)  \n4) analgesics, non-narcotic prescriptions (N=679)  \n5) narcotic analgesic prescriptions (N=710)  \n\nBased on the preliminary analysis below, we need to perform matching on age, gender, and BMI.",
      "metadata": {
        "tags": [],
        "cell_id": "00000-a1d176fa-bba8-4767-8491-e62b3dbdc01f",
        "deepnote_cell_type": "markdown"
      }
    },
    {
      "cell_type": "code",
      "metadata": {
        "tags": [],
        "deepnote_to_be_reexecuted": false,
        "source_hash": "2f19d1f9",
        "execution_millis": 16,
        "cell_id": "00001-72c15519-55e1-46b9-8764-dbff880d8552",
        "execution_start": 1615176318669,
        "deepnote_cell_type": "code"
      },
      "source": "%load_ext autoreload\n%autoreload 2",
      "execution_count": 1,
      "outputs": []
    },
    {
      "cell_type": "code",
      "metadata": {
        "tags": [],
        "deepnote_to_be_reexecuted": false,
        "source_hash": "a7feb491",
        "execution_millis": 771,
        "cell_id": "00002-140f9202-0b18-4166-91eb-977fa5d66786",
        "execution_start": 1615176318690,
        "deepnote_cell_type": "code"
      },
      "source": "import logging\nimport matplotlib.pyplot as plt\nimport numpy as np\nimport os\nimport pandas as pd\nimport seaborn as sns\nimport scipy.stats\nimport sys\n\nfrom scipy import stats\n\npd.options.display.max_rows = 96\npd.options.display.max_columns = 96\npd.options.display.max_colwidth = 128\nsns.set_context('notebook')\n\nformatter = logging.Formatter(\n    fmt='%(asctime)s.%(msecs)03d %(levelname)s [%(name)s] %(message)s',\n    datefmt='%y%m%d@%H:%M:%S',\n)\n\nlogger = logging.getLogger('pynhanes')\nlogger.setLevel(logging.DEBUG)\n# f = logging.FileHandler('nhanes.log')\n# f.setFormatter(formatter)\nh = logging.StreamHandler(stream=sys.stdout)\nh.setFormatter(formatter)\n\nif not logger.hasHandlers():\n    logger.addHandler(h)  # log to STDOUT or Jupyter\n#     logger.addHandler(f)  # log to file\n\nimport pynhanes",
      "execution_count": 2,
      "outputs": [
        {
          "name": "stdout",
          "text": "210308@04:05:19.428 DEBUG [pynhanes] pynhanes package (re)loaded\n",
          "output_type": "stream"
        }
      ]
    },
    {
      "cell_type": "markdown",
      "source": "## Analgesic Drugs\nNHANES dataset `RXD_DRUG: Prescription Medications - Drug Information` provides Multum Lexicon 3-level nested category system that assigns a therapeutic classification to each drug.  We are interested in:\n* `First Level Category Name == 'CENTRAL NERVOUS SYSTEM AGENTS' | RXDDCI1A == 57`\n* `Second Level Category Name == 'ANALGESICS' | RXDDCI1B == 58`\n* `Third Level Category Name == 'NARCOTIC ANALGESICS' | RXDDCI1C == 60`\n* `Third Level Category Name == 'NARCOTIC ANALGESIC COMBINATIONS' | RXDDCI1C == 191`\n",
      "metadata": {
        "tags": [],
        "cell_id": "00003-88fa9c79-e456-4c37-b621-33ad35ff897d",
        "deepnote_cell_type": "markdown"
      }
    },
    {
      "cell_type": "code",
      "metadata": {
        "tags": [],
        "cell_id": "00003-431d0dfc-dfca-4df6-b3f7-14529a7e50ac",
        "deepnote_to_be_reexecuted": false,
        "source_hash": "c313dd91",
        "execution_millis": 1259,
        "execution_start": 1615176319457,
        "deepnote_cell_type": "code"
      },
      "source": "drugs = pynhanes.data.load_drugs()\ndrugs_cns = drugs[drugs.RXDDCI1A == 57].copy()\ndrugs_analgesics = drugs[drugs.RXDDCI1B == 58].copy()\ndrugs_narcotics =  drugs[drugs.RXDDCI1C.isin([60, 191])].copy()\nlogger.info(f'found {len(drugs_cns)} CNS drugs; {len(drugs_analgesics)} analgesics; {len(drugs_narcotics)} narcotic analgesics')\ndrugs_narcotics.tail(4)",
      "execution_count": 3,
      "outputs": [
        {
          "name": "stdout",
          "text": "210308@04:05:20.528 INFO [pynhanes.data] read 1513 rows x 63 cols from https://wwwn.cdc.gov/Nchs/Nhanes/1999-2000/RXQ_DRUG.xpt\n210308@04:05:20.536 INFO [pynhanes] found 240 CNS drugs; 95 analgesics; 34 narcotic analgesics\n",
          "output_type": "stream"
        },
        {
          "output_type": "execute_result",
          "execution_count": 3,
          "data": {
            "application/vnd.deepnote.dataframe.v2+json": {
              "row_count": 4,
              "column_count": 63,
              "columns": [
                {
                  "name": "RXDDRGID",
                  "dtype": "object",
                  "stats": {
                    "unique_count": 4,
                    "nan_count": 0,
                    "categories": [
                      {
                        "name": "d04269",
                        "count": 1
                      },
                      {
                        "name": "d04766",
                        "count": 1
                      },
                      {
                        "name": "2 others",
                        "count": 2
                      }
                    ]
                  }
                },
                {
                  "name": "RXDDRUG",
                  "dtype": "object",
                  "stats": {
                    "unique_count": 4,
                    "nan_count": 0,
                    "categories": [
                      {
                        "name": "ACETAMINOPHEN; CAFFEINE; DIHYDROCODEINE",
                        "count": 1
                      },
                      {
                        "name": "ACETAMINOPHEN; TRAMADOL",
                        "count": 1
                      },
                      {
                        "name": "2 others",
                        "count": 2
                      }
                    ]
                  }
                },
                {
                  "name": "RXDINGFL",
                  "dtype": "float64",
                  "stats": {
                    "unique_count": 2,
                    "nan_count": 0,
                    "min": 1,
                    "max": 2,
                    "histogram": [
                      {
                        "bin_start": 1,
                        "bin_end": 1.1,
                        "count": 1
                      },
                      {
                        "bin_start": 1.1,
                        "bin_end": 1.2,
                        "count": 0
                      },
                      {
                        "bin_start": 1.2,
                        "bin_end": 1.3,
                        "count": 0
                      },
                      {
                        "bin_start": 1.3,
                        "bin_end": 1.4,
                        "count": 0
                      },
                      {
                        "bin_start": 1.4,
                        "bin_end": 1.5,
                        "count": 0
                      },
                      {
                        "bin_start": 1.5,
                        "bin_end": 1.6,
                        "count": 0
                      },
                      {
                        "bin_start": 1.6,
                        "bin_end": 1.7000000000000002,
                        "count": 0
                      },
                      {
                        "bin_start": 1.7000000000000002,
                        "bin_end": 1.8,
                        "count": 0
                      },
                      {
                        "bin_start": 1.8,
                        "bin_end": 1.9,
                        "count": 0
                      },
                      {
                        "bin_start": 1.9,
                        "bin_end": 2,
                        "count": 3
                      }
                    ]
                  }
                },
                {
                  "name": "RXDDCI1A",
                  "dtype": "float64",
                  "stats": {
                    "unique_count": 1,
                    "nan_count": 0,
                    "min": 57,
                    "max": 57,
                    "histogram": [
                      {
                        "bin_start": 56.5,
                        "bin_end": 56.6,
                        "count": 0
                      },
                      {
                        "bin_start": 56.6,
                        "bin_end": 56.7,
                        "count": 0
                      },
                      {
                        "bin_start": 56.7,
                        "bin_end": 56.8,
                        "count": 0
                      },
                      {
                        "bin_start": 56.8,
                        "bin_end": 56.9,
                        "count": 0
                      },
                      {
                        "bin_start": 56.9,
                        "bin_end": 57,
                        "count": 0
                      },
                      {
                        "bin_start": 57,
                        "bin_end": 57.1,
                        "count": 4
                      },
                      {
                        "bin_start": 57.1,
                        "bin_end": 57.2,
                        "count": 0
                      },
                      {
                        "bin_start": 57.2,
                        "bin_end": 57.3,
                        "count": 0
                      },
                      {
                        "bin_start": 57.3,
                        "bin_end": 57.4,
                        "count": 0
                      },
                      {
                        "bin_start": 57.4,
                        "bin_end": 57.5,
                        "count": 0
                      }
                    ]
                  }
                },
                {
                  "name": "RXDDCI1B",
                  "dtype": "float64",
                  "stats": {
                    "unique_count": 1,
                    "nan_count": 0,
                    "min": 58,
                    "max": 58,
                    "histogram": [
                      {
                        "bin_start": 57.5,
                        "bin_end": 57.6,
                        "count": 0
                      },
                      {
                        "bin_start": 57.6,
                        "bin_end": 57.7,
                        "count": 0
                      },
                      {
                        "bin_start": 57.7,
                        "bin_end": 57.8,
                        "count": 0
                      },
                      {
                        "bin_start": 57.8,
                        "bin_end": 57.9,
                        "count": 0
                      },
                      {
                        "bin_start": 57.9,
                        "bin_end": 58,
                        "count": 0
                      },
                      {
                        "bin_start": 58,
                        "bin_end": 58.1,
                        "count": 4
                      },
                      {
                        "bin_start": 58.1,
                        "bin_end": 58.2,
                        "count": 0
                      },
                      {
                        "bin_start": 58.2,
                        "bin_end": 58.3,
                        "count": 0
                      },
                      {
                        "bin_start": 58.3,
                        "bin_end": 58.4,
                        "count": 0
                      },
                      {
                        "bin_start": 58.4,
                        "bin_end": 58.5,
                        "count": 0
                      }
                    ]
                  }
                },
                {
                  "name": "RXDDCI1C",
                  "dtype": "float64",
                  "stats": {
                    "unique_count": 2,
                    "nan_count": 0,
                    "min": 60,
                    "max": 191,
                    "histogram": [
                      {
                        "bin_start": 60,
                        "bin_end": 73.1,
                        "count": 1
                      },
                      {
                        "bin_start": 73.1,
                        "bin_end": 86.2,
                        "count": 0
                      },
                      {
                        "bin_start": 86.2,
                        "bin_end": 99.3,
                        "count": 0
                      },
                      {
                        "bin_start": 99.3,
                        "bin_end": 112.4,
                        "count": 0
                      },
                      {
                        "bin_start": 112.4,
                        "bin_end": 125.5,
                        "count": 0
                      },
                      {
                        "bin_start": 125.5,
                        "bin_end": 138.6,
                        "count": 0
                      },
                      {
                        "bin_start": 138.6,
                        "bin_end": 151.7,
                        "count": 0
                      },
                      {
                        "bin_start": 151.7,
                        "bin_end": 164.8,
                        "count": 0
                      },
                      {
                        "bin_start": 164.8,
                        "bin_end": 177.89999999999998,
                        "count": 0
                      },
                      {
                        "bin_start": 177.89999999999998,
                        "bin_end": 191,
                        "count": 3
                      }
                    ]
                  }
                },
                {
                  "name": "RXDDCI2A",
                  "dtype": "float64",
                  "stats": {
                    "unique_count": 0,
                    "nan_count": 4,
                    "min": null,
                    "max": null,
                    "histogram": [
                      {
                        "bin_start": 0,
                        "bin_end": 0.1,
                        "count": 0
                      },
                      {
                        "bin_start": 0.1,
                        "bin_end": 0.2,
                        "count": 0
                      },
                      {
                        "bin_start": 0.2,
                        "bin_end": 0.30000000000000004,
                        "count": 0
                      },
                      {
                        "bin_start": 0.30000000000000004,
                        "bin_end": 0.4,
                        "count": 0
                      },
                      {
                        "bin_start": 0.4,
                        "bin_end": 0.5,
                        "count": 0
                      },
                      {
                        "bin_start": 0.5,
                        "bin_end": 0.6000000000000001,
                        "count": 0
                      },
                      {
                        "bin_start": 0.6000000000000001,
                        "bin_end": 0.7000000000000001,
                        "count": 0
                      },
                      {
                        "bin_start": 0.7000000000000001,
                        "bin_end": 0.8,
                        "count": 0
                      },
                      {
                        "bin_start": 0.8,
                        "bin_end": 0.9,
                        "count": 0
                      },
                      {
                        "bin_start": 0.9,
                        "bin_end": 1,
                        "count": 0
                      }
                    ]
                  }
                },
                {
                  "name": "RXDDCI2B",
                  "dtype": "float64",
                  "stats": {
                    "unique_count": 0,
                    "nan_count": 4,
                    "min": null,
                    "max": null,
                    "histogram": [
                      {
                        "bin_start": 0,
                        "bin_end": 0.1,
                        "count": 0
                      },
                      {
                        "bin_start": 0.1,
                        "bin_end": 0.2,
                        "count": 0
                      },
                      {
                        "bin_start": 0.2,
                        "bin_end": 0.30000000000000004,
                        "count": 0
                      },
                      {
                        "bin_start": 0.30000000000000004,
                        "bin_end": 0.4,
                        "count": 0
                      },
                      {
                        "bin_start": 0.4,
                        "bin_end": 0.5,
                        "count": 0
                      },
                      {
                        "bin_start": 0.5,
                        "bin_end": 0.6000000000000001,
                        "count": 0
                      },
                      {
                        "bin_start": 0.6000000000000001,
                        "bin_end": 0.7000000000000001,
                        "count": 0
                      },
                      {
                        "bin_start": 0.7000000000000001,
                        "bin_end": 0.8,
                        "count": 0
                      },
                      {
                        "bin_start": 0.8,
                        "bin_end": 0.9,
                        "count": 0
                      },
                      {
                        "bin_start": 0.9,
                        "bin_end": 1,
                        "count": 0
                      }
                    ]
                  }
                },
                {
                  "name": "RXDDCI2C",
                  "dtype": "float64",
                  "stats": {
                    "unique_count": 0,
                    "nan_count": 4,
                    "min": null,
                    "max": null,
                    "histogram": [
                      {
                        "bin_start": 0,
                        "bin_end": 0.1,
                        "count": 0
                      },
                      {
                        "bin_start": 0.1,
                        "bin_end": 0.2,
                        "count": 0
                      },
                      {
                        "bin_start": 0.2,
                        "bin_end": 0.30000000000000004,
                        "count": 0
                      },
                      {
                        "bin_start": 0.30000000000000004,
                        "bin_end": 0.4,
                        "count": 0
                      },
                      {
                        "bin_start": 0.4,
                        "bin_end": 0.5,
                        "count": 0
                      },
                      {
                        "bin_start": 0.5,
                        "bin_end": 0.6000000000000001,
                        "count": 0
                      },
                      {
                        "bin_start": 0.6000000000000001,
                        "bin_end": 0.7000000000000001,
                        "count": 0
                      },
                      {
                        "bin_start": 0.7000000000000001,
                        "bin_end": 0.8,
                        "count": 0
                      },
                      {
                        "bin_start": 0.8,
                        "bin_end": 0.9,
                        "count": 0
                      },
                      {
                        "bin_start": 0.9,
                        "bin_end": 1,
                        "count": 0
                      }
                    ]
                  }
                },
                {
                  "name": "RXDDCI3A",
                  "dtype": "float64",
                  "stats": {
                    "unique_count": 0,
                    "nan_count": 4,
                    "min": null,
                    "max": null,
                    "histogram": [
                      {
                        "bin_start": 0,
                        "bin_end": 0.1,
                        "count": 0
                      },
                      {
                        "bin_start": 0.1,
                        "bin_end": 0.2,
                        "count": 0
                      },
                      {
                        "bin_start": 0.2,
                        "bin_end": 0.30000000000000004,
                        "count": 0
                      },
                      {
                        "bin_start": 0.30000000000000004,
                        "bin_end": 0.4,
                        "count": 0
                      },
                      {
                        "bin_start": 0.4,
                        "bin_end": 0.5,
                        "count": 0
                      },
                      {
                        "bin_start": 0.5,
                        "bin_end": 0.6000000000000001,
                        "count": 0
                      },
                      {
                        "bin_start": 0.6000000000000001,
                        "bin_end": 0.7000000000000001,
                        "count": 0
                      },
                      {
                        "bin_start": 0.7000000000000001,
                        "bin_end": 0.8,
                        "count": 0
                      },
                      {
                        "bin_start": 0.8,
                        "bin_end": 0.9,
                        "count": 0
                      },
                      {
                        "bin_start": 0.9,
                        "bin_end": 1,
                        "count": 0
                      }
                    ]
                  }
                },
                {
                  "name": "RXDDCI3B",
                  "dtype": "float64",
                  "stats": {
                    "unique_count": 0,
                    "nan_count": 4,
                    "min": null,
                    "max": null,
                    "histogram": [
                      {
                        "bin_start": 0,
                        "bin_end": 0.1,
                        "count": 0
                      },
                      {
                        "bin_start": 0.1,
                        "bin_end": 0.2,
                        "count": 0
                      },
                      {
                        "bin_start": 0.2,
                        "bin_end": 0.30000000000000004,
                        "count": 0
                      },
                      {
                        "bin_start": 0.30000000000000004,
                        "bin_end": 0.4,
                        "count": 0
                      },
                      {
                        "bin_start": 0.4,
                        "bin_end": 0.5,
                        "count": 0
                      },
                      {
                        "bin_start": 0.5,
                        "bin_end": 0.6000000000000001,
                        "count": 0
                      },
                      {
                        "bin_start": 0.6000000000000001,
                        "bin_end": 0.7000000000000001,
                        "count": 0
                      },
                      {
                        "bin_start": 0.7000000000000001,
                        "bin_end": 0.8,
                        "count": 0
                      },
                      {
                        "bin_start": 0.8,
                        "bin_end": 0.9,
                        "count": 0
                      },
                      {
                        "bin_start": 0.9,
                        "bin_end": 1,
                        "count": 0
                      }
                    ]
                  }
                },
                {
                  "name": "RXDDCI3C",
                  "dtype": "float64",
                  "stats": {
                    "unique_count": 0,
                    "nan_count": 4,
                    "min": null,
                    "max": null,
                    "histogram": [
                      {
                        "bin_start": 0,
                        "bin_end": 0.1,
                        "count": 0
                      },
                      {
                        "bin_start": 0.1,
                        "bin_end": 0.2,
                        "count": 0
                      },
                      {
                        "bin_start": 0.2,
                        "bin_end": 0.30000000000000004,
                        "count": 0
                      },
                      {
                        "bin_start": 0.30000000000000004,
                        "bin_end": 0.4,
                        "count": 0
                      },
                      {
                        "bin_start": 0.4,
                        "bin_end": 0.5,
                        "count": 0
                      },
                      {
                        "bin_start": 0.5,
                        "bin_end": 0.6000000000000001,
                        "count": 0
                      },
                      {
                        "bin_start": 0.6000000000000001,
                        "bin_end": 0.7000000000000001,
                        "count": 0
                      },
                      {
                        "bin_start": 0.7000000000000001,
                        "bin_end": 0.8,
                        "count": 0
                      },
                      {
                        "bin_start": 0.8,
                        "bin_end": 0.9,
                        "count": 0
                      },
                      {
                        "bin_start": 0.9,
                        "bin_end": 1,
                        "count": 0
                      }
                    ]
                  }
                },
                {
                  "name": "RXDDCI4A",
                  "dtype": "float64",
                  "stats": {
                    "unique_count": 0,
                    "nan_count": 4,
                    "min": null,
                    "max": null,
                    "histogram": [
                      {
                        "bin_start": 0,
                        "bin_end": 0.1,
                        "count": 0
                      },
                      {
                        "bin_start": 0.1,
                        "bin_end": 0.2,
                        "count": 0
                      },
                      {
                        "bin_start": 0.2,
                        "bin_end": 0.30000000000000004,
                        "count": 0
                      },
                      {
                        "bin_start": 0.30000000000000004,
                        "bin_end": 0.4,
                        "count": 0
                      },
                      {
                        "bin_start": 0.4,
                        "bin_end": 0.5,
                        "count": 0
                      },
                      {
                        "bin_start": 0.5,
                        "bin_end": 0.6000000000000001,
                        "count": 0
                      },
                      {
                        "bin_start": 0.6000000000000001,
                        "bin_end": 0.7000000000000001,
                        "count": 0
                      },
                      {
                        "bin_start": 0.7000000000000001,
                        "bin_end": 0.8,
                        "count": 0
                      },
                      {
                        "bin_start": 0.8,
                        "bin_end": 0.9,
                        "count": 0
                      },
                      {
                        "bin_start": 0.9,
                        "bin_end": 1,
                        "count": 0
                      }
                    ]
                  }
                },
                {
                  "name": "RXDDCI4B",
                  "dtype": "float64",
                  "stats": {
                    "unique_count": 0,
                    "nan_count": 4,
                    "min": null,
                    "max": null,
                    "histogram": [
                      {
                        "bin_start": 0,
                        "bin_end": 0.1,
                        "count": 0
                      },
                      {
                        "bin_start": 0.1,
                        "bin_end": 0.2,
                        "count": 0
                      },
                      {
                        "bin_start": 0.2,
                        "bin_end": 0.30000000000000004,
                        "count": 0
                      },
                      {
                        "bin_start": 0.30000000000000004,
                        "bin_end": 0.4,
                        "count": 0
                      },
                      {
                        "bin_start": 0.4,
                        "bin_end": 0.5,
                        "count": 0
                      },
                      {
                        "bin_start": 0.5,
                        "bin_end": 0.6000000000000001,
                        "count": 0
                      },
                      {
                        "bin_start": 0.6000000000000001,
                        "bin_end": 0.7000000000000001,
                        "count": 0
                      },
                      {
                        "bin_start": 0.7000000000000001,
                        "bin_end": 0.8,
                        "count": 0
                      },
                      {
                        "bin_start": 0.8,
                        "bin_end": 0.9,
                        "count": 0
                      },
                      {
                        "bin_start": 0.9,
                        "bin_end": 1,
                        "count": 0
                      }
                    ]
                  }
                },
                {
                  "name": "RXDDCI4C",
                  "dtype": "float64",
                  "stats": {
                    "unique_count": 0,
                    "nan_count": 4,
                    "min": null,
                    "max": null,
                    "histogram": [
                      {
                        "bin_start": 0,
                        "bin_end": 0.1,
                        "count": 0
                      },
                      {
                        "bin_start": 0.1,
                        "bin_end": 0.2,
                        "count": 0
                      },
                      {
                        "bin_start": 0.2,
                        "bin_end": 0.30000000000000004,
                        "count": 0
                      },
                      {
                        "bin_start": 0.30000000000000004,
                        "bin_end": 0.4,
                        "count": 0
                      },
                      {
                        "bin_start": 0.4,
                        "bin_end": 0.5,
                        "count": 0
                      },
                      {
                        "bin_start": 0.5,
                        "bin_end": 0.6000000000000001,
                        "count": 0
                      },
                      {
                        "bin_start": 0.6000000000000001,
                        "bin_end": 0.7000000000000001,
                        "count": 0
                      },
                      {
                        "bin_start": 0.7000000000000001,
                        "bin_end": 0.8,
                        "count": 0
                      },
                      {
                        "bin_start": 0.8,
                        "bin_end": 0.9,
                        "count": 0
                      },
                      {
                        "bin_start": 0.9,
                        "bin_end": 1,
                        "count": 0
                      }
                    ]
                  }
                },
                {
                  "name": "RXDICI1A",
                  "dtype": "float64",
                  "stats": {
                    "unique_count": 1,
                    "nan_count": 0,
                    "min": 57,
                    "max": 57,
                    "histogram": [
                      {
                        "bin_start": 56.5,
                        "bin_end": 56.6,
                        "count": 0
                      },
                      {
                        "bin_start": 56.6,
                        "bin_end": 56.7,
                        "count": 0
                      },
                      {
                        "bin_start": 56.7,
                        "bin_end": 56.8,
                        "count": 0
                      },
                      {
                        "bin_start": 56.8,
                        "bin_end": 56.9,
                        "count": 0
                      },
                      {
                        "bin_start": 56.9,
                        "bin_end": 57,
                        "count": 0
                      },
                      {
                        "bin_start": 57,
                        "bin_end": 57.1,
                        "count": 4
                      },
                      {
                        "bin_start": 57.1,
                        "bin_end": 57.2,
                        "count": 0
                      },
                      {
                        "bin_start": 57.2,
                        "bin_end": 57.3,
                        "count": 0
                      },
                      {
                        "bin_start": 57.3,
                        "bin_end": 57.4,
                        "count": 0
                      },
                      {
                        "bin_start": 57.4,
                        "bin_end": 57.5,
                        "count": 0
                      }
                    ]
                  }
                },
                {
                  "name": "RXDICI1B",
                  "dtype": "float64",
                  "stats": {
                    "unique_count": 1,
                    "nan_count": 0,
                    "min": 58,
                    "max": 58,
                    "histogram": [
                      {
                        "bin_start": 57.5,
                        "bin_end": 57.6,
                        "count": 0
                      },
                      {
                        "bin_start": 57.6,
                        "bin_end": 57.7,
                        "count": 0
                      },
                      {
                        "bin_start": 57.7,
                        "bin_end": 57.8,
                        "count": 0
                      },
                      {
                        "bin_start": 57.8,
                        "bin_end": 57.9,
                        "count": 0
                      },
                      {
                        "bin_start": 57.9,
                        "bin_end": 58,
                        "count": 0
                      },
                      {
                        "bin_start": 58,
                        "bin_end": 58.1,
                        "count": 4
                      },
                      {
                        "bin_start": 58.1,
                        "bin_end": 58.2,
                        "count": 0
                      },
                      {
                        "bin_start": 58.2,
                        "bin_end": 58.3,
                        "count": 0
                      },
                      {
                        "bin_start": 58.3,
                        "bin_end": 58.4,
                        "count": 0
                      },
                      {
                        "bin_start": 58.4,
                        "bin_end": 58.5,
                        "count": 0
                      }
                    ]
                  }
                },
                {
                  "name": "RXDICI1C",
                  "dtype": "float64",
                  "stats": {
                    "unique_count": 2,
                    "nan_count": 0,
                    "min": 59,
                    "max": 60,
                    "histogram": [
                      {
                        "bin_start": 59,
                        "bin_end": 59.1,
                        "count": 2
                      },
                      {
                        "bin_start": 59.1,
                        "bin_end": 59.2,
                        "count": 0
                      },
                      {
                        "bin_start": 59.2,
                        "bin_end": 59.3,
                        "count": 0
                      },
                      {
                        "bin_start": 59.3,
                        "bin_end": 59.4,
                        "count": 0
                      },
                      {
                        "bin_start": 59.4,
                        "bin_end": 59.5,
                        "count": 0
                      },
                      {
                        "bin_start": 59.5,
                        "bin_end": 59.6,
                        "count": 0
                      },
                      {
                        "bin_start": 59.6,
                        "bin_end": 59.7,
                        "count": 0
                      },
                      {
                        "bin_start": 59.7,
                        "bin_end": 59.8,
                        "count": 0
                      },
                      {
                        "bin_start": 59.8,
                        "bin_end": 59.9,
                        "count": 0
                      },
                      {
                        "bin_start": 59.9,
                        "bin_end": 60,
                        "count": 2
                      }
                    ]
                  }
                },
                {
                  "name": "RXDICI2A",
                  "dtype": "float64",
                  "stats": {
                    "unique_count": 2,
                    "nan_count": 1,
                    "min": 57,
                    "max": 105,
                    "histogram": [
                      {
                        "bin_start": 57,
                        "bin_end": 61.8,
                        "count": 2
                      },
                      {
                        "bin_start": 61.8,
                        "bin_end": 66.6,
                        "count": 0
                      },
                      {
                        "bin_start": 66.6,
                        "bin_end": 71.4,
                        "count": 0
                      },
                      {
                        "bin_start": 71.4,
                        "bin_end": 76.2,
                        "count": 0
                      },
                      {
                        "bin_start": 76.2,
                        "bin_end": 81,
                        "count": 0
                      },
                      {
                        "bin_start": 81,
                        "bin_end": 85.8,
                        "count": 0
                      },
                      {
                        "bin_start": 85.8,
                        "bin_end": 90.6,
                        "count": 0
                      },
                      {
                        "bin_start": 90.6,
                        "bin_end": 95.4,
                        "count": 0
                      },
                      {
                        "bin_start": 95.4,
                        "bin_end": 100.19999999999999,
                        "count": 0
                      },
                      {
                        "bin_start": 100.19999999999999,
                        "bin_end": 105,
                        "count": 1
                      }
                    ]
                  }
                },
                {
                  "name": "RXDICI2B",
                  "dtype": "float64",
                  "stats": {
                    "unique_count": 2,
                    "nan_count": 1,
                    "min": 58,
                    "max": 106,
                    "histogram": [
                      {
                        "bin_start": 58,
                        "bin_end": 62.8,
                        "count": 2
                      },
                      {
                        "bin_start": 62.8,
                        "bin_end": 67.6,
                        "count": 0
                      },
                      {
                        "bin_start": 67.6,
                        "bin_end": 72.4,
                        "count": 0
                      },
                      {
                        "bin_start": 72.4,
                        "bin_end": 77.2,
                        "count": 0
                      },
                      {
                        "bin_start": 77.2,
                        "bin_end": 82,
                        "count": 0
                      },
                      {
                        "bin_start": 82,
                        "bin_end": 86.8,
                        "count": 0
                      },
                      {
                        "bin_start": 86.8,
                        "bin_end": 91.6,
                        "count": 0
                      },
                      {
                        "bin_start": 91.6,
                        "bin_end": 96.4,
                        "count": 0
                      },
                      {
                        "bin_start": 96.4,
                        "bin_end": 101.19999999999999,
                        "count": 0
                      },
                      {
                        "bin_start": 101.19999999999999,
                        "bin_end": 106,
                        "count": 1
                      }
                    ]
                  }
                },
                {
                  "name": "RXDICI2C",
                  "dtype": "float64",
                  "stats": {
                    "unique_count": 1,
                    "nan_count": 2,
                    "min": 60,
                    "max": 60,
                    "histogram": [
                      {
                        "bin_start": 59.5,
                        "bin_end": 59.6,
                        "count": 0
                      },
                      {
                        "bin_start": 59.6,
                        "bin_end": 59.7,
                        "count": 0
                      },
                      {
                        "bin_start": 59.7,
                        "bin_end": 59.8,
                        "count": 0
                      },
                      {
                        "bin_start": 59.8,
                        "bin_end": 59.9,
                        "count": 0
                      },
                      {
                        "bin_start": 59.9,
                        "bin_end": 60,
                        "count": 0
                      },
                      {
                        "bin_start": 60,
                        "bin_end": 60.1,
                        "count": 2
                      },
                      {
                        "bin_start": 60.1,
                        "bin_end": 60.2,
                        "count": 0
                      },
                      {
                        "bin_start": 60.2,
                        "bin_end": 60.3,
                        "count": 0
                      },
                      {
                        "bin_start": 60.3,
                        "bin_end": 60.4,
                        "count": 0
                      },
                      {
                        "bin_start": 60.4,
                        "bin_end": 60.5,
                        "count": 0
                      }
                    ]
                  }
                },
                {
                  "name": "RXDICI3A",
                  "dtype": "float64",
                  "stats": {
                    "unique_count": 1,
                    "nan_count": 3,
                    "min": 57,
                    "max": 57,
                    "histogram": [
                      {
                        "bin_start": 56.5,
                        "bin_end": 56.6,
                        "count": 0
                      },
                      {
                        "bin_start": 56.6,
                        "bin_end": 56.7,
                        "count": 0
                      },
                      {
                        "bin_start": 56.7,
                        "bin_end": 56.8,
                        "count": 0
                      },
                      {
                        "bin_start": 56.8,
                        "bin_end": 56.9,
                        "count": 0
                      },
                      {
                        "bin_start": 56.9,
                        "bin_end": 57,
                        "count": 0
                      },
                      {
                        "bin_start": 57,
                        "bin_end": 57.1,
                        "count": 1
                      },
                      {
                        "bin_start": 57.1,
                        "bin_end": 57.2,
                        "count": 0
                      },
                      {
                        "bin_start": 57.2,
                        "bin_end": 57.3,
                        "count": 0
                      },
                      {
                        "bin_start": 57.3,
                        "bin_end": 57.4,
                        "count": 0
                      },
                      {
                        "bin_start": 57.4,
                        "bin_end": 57.5,
                        "count": 0
                      }
                    ]
                  }
                },
                {
                  "name": "RXDICI3B",
                  "dtype": "float64",
                  "stats": {
                    "unique_count": 1,
                    "nan_count": 3,
                    "min": 71,
                    "max": 71,
                    "histogram": [
                      {
                        "bin_start": 70.5,
                        "bin_end": 70.6,
                        "count": 0
                      },
                      {
                        "bin_start": 70.6,
                        "bin_end": 70.7,
                        "count": 0
                      },
                      {
                        "bin_start": 70.7,
                        "bin_end": 70.8,
                        "count": 0
                      },
                      {
                        "bin_start": 70.8,
                        "bin_end": 70.9,
                        "count": 0
                      },
                      {
                        "bin_start": 70.9,
                        "bin_end": 71,
                        "count": 0
                      },
                      {
                        "bin_start": 71,
                        "bin_end": 71.1,
                        "count": 1
                      },
                      {
                        "bin_start": 71.1,
                        "bin_end": 71.2,
                        "count": 0
                      },
                      {
                        "bin_start": 71.2,
                        "bin_end": 71.3,
                        "count": 0
                      },
                      {
                        "bin_start": 71.3,
                        "bin_end": 71.4,
                        "count": 0
                      },
                      {
                        "bin_start": 71.4,
                        "bin_end": 71.5,
                        "count": 0
                      }
                    ]
                  }
                },
                {
                  "name": "RXDICI3C",
                  "dtype": "float64",
                  "stats": {
                    "unique_count": 0,
                    "nan_count": 4,
                    "min": null,
                    "max": null,
                    "histogram": [
                      {
                        "bin_start": 0,
                        "bin_end": 0.1,
                        "count": 0
                      },
                      {
                        "bin_start": 0.1,
                        "bin_end": 0.2,
                        "count": 0
                      },
                      {
                        "bin_start": 0.2,
                        "bin_end": 0.30000000000000004,
                        "count": 0
                      },
                      {
                        "bin_start": 0.30000000000000004,
                        "bin_end": 0.4,
                        "count": 0
                      },
                      {
                        "bin_start": 0.4,
                        "bin_end": 0.5,
                        "count": 0
                      },
                      {
                        "bin_start": 0.5,
                        "bin_end": 0.6000000000000001,
                        "count": 0
                      },
                      {
                        "bin_start": 0.6000000000000001,
                        "bin_end": 0.7000000000000001,
                        "count": 0
                      },
                      {
                        "bin_start": 0.7000000000000001,
                        "bin_end": 0.8,
                        "count": 0
                      },
                      {
                        "bin_start": 0.8,
                        "bin_end": 0.9,
                        "count": 0
                      },
                      {
                        "bin_start": 0.9,
                        "bin_end": 1,
                        "count": 0
                      }
                    ]
                  }
                },
                {
                  "name": "RXDICI4A",
                  "dtype": "float64",
                  "stats": {
                    "unique_count": 0,
                    "nan_count": 4,
                    "min": null,
                    "max": null,
                    "histogram": [
                      {
                        "bin_start": 0,
                        "bin_end": 0.1,
                        "count": 0
                      },
                      {
                        "bin_start": 0.1,
                        "bin_end": 0.2,
                        "count": 0
                      },
                      {
                        "bin_start": 0.2,
                        "bin_end": 0.30000000000000004,
                        "count": 0
                      },
                      {
                        "bin_start": 0.30000000000000004,
                        "bin_end": 0.4,
                        "count": 0
                      },
                      {
                        "bin_start": 0.4,
                        "bin_end": 0.5,
                        "count": 0
                      },
                      {
                        "bin_start": 0.5,
                        "bin_end": 0.6000000000000001,
                        "count": 0
                      },
                      {
                        "bin_start": 0.6000000000000001,
                        "bin_end": 0.7000000000000001,
                        "count": 0
                      },
                      {
                        "bin_start": 0.7000000000000001,
                        "bin_end": 0.8,
                        "count": 0
                      },
                      {
                        "bin_start": 0.8,
                        "bin_end": 0.9,
                        "count": 0
                      },
                      {
                        "bin_start": 0.9,
                        "bin_end": 1,
                        "count": 0
                      }
                    ]
                  }
                },
                {
                  "name": "RXDICI4B",
                  "dtype": "float64",
                  "stats": {
                    "unique_count": 0,
                    "nan_count": 4,
                    "min": null,
                    "max": null,
                    "histogram": [
                      {
                        "bin_start": 0,
                        "bin_end": 0.1,
                        "count": 0
                      },
                      {
                        "bin_start": 0.1,
                        "bin_end": 0.2,
                        "count": 0
                      },
                      {
                        "bin_start": 0.2,
                        "bin_end": 0.30000000000000004,
                        "count": 0
                      },
                      {
                        "bin_start": 0.30000000000000004,
                        "bin_end": 0.4,
                        "count": 0
                      },
                      {
                        "bin_start": 0.4,
                        "bin_end": 0.5,
                        "count": 0
                      },
                      {
                        "bin_start": 0.5,
                        "bin_end": 0.6000000000000001,
                        "count": 0
                      },
                      {
                        "bin_start": 0.6000000000000001,
                        "bin_end": 0.7000000000000001,
                        "count": 0
                      },
                      {
                        "bin_start": 0.7000000000000001,
                        "bin_end": 0.8,
                        "count": 0
                      },
                      {
                        "bin_start": 0.8,
                        "bin_end": 0.9,
                        "count": 0
                      },
                      {
                        "bin_start": 0.9,
                        "bin_end": 1,
                        "count": 0
                      }
                    ]
                  }
                },
                {
                  "name": "RXDICI4C",
                  "dtype": "float64",
                  "stats": {
                    "unique_count": 0,
                    "nan_count": 4,
                    "min": null,
                    "max": null,
                    "histogram": [
                      {
                        "bin_start": 0,
                        "bin_end": 0.1,
                        "count": 0
                      },
                      {
                        "bin_start": 0.1,
                        "bin_end": 0.2,
                        "count": 0
                      },
                      {
                        "bin_start": 0.2,
                        "bin_end": 0.30000000000000004,
                        "count": 0
                      },
                      {
                        "bin_start": 0.30000000000000004,
                        "bin_end": 0.4,
                        "count": 0
                      },
                      {
                        "bin_start": 0.4,
                        "bin_end": 0.5,
                        "count": 0
                      },
                      {
                        "bin_start": 0.5,
                        "bin_end": 0.6000000000000001,
                        "count": 0
                      },
                      {
                        "bin_start": 0.6000000000000001,
                        "bin_end": 0.7000000000000001,
                        "count": 0
                      },
                      {
                        "bin_start": 0.7000000000000001,
                        "bin_end": 0.8,
                        "count": 0
                      },
                      {
                        "bin_start": 0.8,
                        "bin_end": 0.9,
                        "count": 0
                      },
                      {
                        "bin_start": 0.9,
                        "bin_end": 1,
                        "count": 0
                      }
                    ]
                  }
                },
                {
                  "name": "RXDICI5A",
                  "dtype": "float64",
                  "stats": {
                    "unique_count": 0,
                    "nan_count": 4,
                    "min": null,
                    "max": null,
                    "histogram": [
                      {
                        "bin_start": 0,
                        "bin_end": 0.1,
                        "count": 0
                      },
                      {
                        "bin_start": 0.1,
                        "bin_end": 0.2,
                        "count": 0
                      },
                      {
                        "bin_start": 0.2,
                        "bin_end": 0.30000000000000004,
                        "count": 0
                      },
                      {
                        "bin_start": 0.30000000000000004,
                        "bin_end": 0.4,
                        "count": 0
                      },
                      {
                        "bin_start": 0.4,
                        "bin_end": 0.5,
                        "count": 0
                      },
                      {
                        "bin_start": 0.5,
                        "bin_end": 0.6000000000000001,
                        "count": 0
                      },
                      {
                        "bin_start": 0.6000000000000001,
                        "bin_end": 0.7000000000000001,
                        "count": 0
                      },
                      {
                        "bin_start": 0.7000000000000001,
                        "bin_end": 0.8,
                        "count": 0
                      },
                      {
                        "bin_start": 0.8,
                        "bin_end": 0.9,
                        "count": 0
                      },
                      {
                        "bin_start": 0.9,
                        "bin_end": 1,
                        "count": 0
                      }
                    ]
                  }
                },
                {
                  "name": "RXDICI5B",
                  "dtype": "float64",
                  "stats": {
                    "unique_count": 0,
                    "nan_count": 4,
                    "min": null,
                    "max": null,
                    "histogram": [
                      {
                        "bin_start": 0,
                        "bin_end": 0.1,
                        "count": 0
                      },
                      {
                        "bin_start": 0.1,
                        "bin_end": 0.2,
                        "count": 0
                      },
                      {
                        "bin_start": 0.2,
                        "bin_end": 0.30000000000000004,
                        "count": 0
                      },
                      {
                        "bin_start": 0.30000000000000004,
                        "bin_end": 0.4,
                        "count": 0
                      },
                      {
                        "bin_start": 0.4,
                        "bin_end": 0.5,
                        "count": 0
                      },
                      {
                        "bin_start": 0.5,
                        "bin_end": 0.6000000000000001,
                        "count": 0
                      },
                      {
                        "bin_start": 0.6000000000000001,
                        "bin_end": 0.7000000000000001,
                        "count": 0
                      },
                      {
                        "bin_start": 0.7000000000000001,
                        "bin_end": 0.8,
                        "count": 0
                      },
                      {
                        "bin_start": 0.8,
                        "bin_end": 0.9,
                        "count": 0
                      },
                      {
                        "bin_start": 0.9,
                        "bin_end": 1,
                        "count": 0
                      }
                    ]
                  }
                },
                {
                  "name": "RXDICI5C",
                  "dtype": "float64",
                  "stats": {
                    "unique_count": 0,
                    "nan_count": 4,
                    "min": null,
                    "max": null,
                    "histogram": [
                      {
                        "bin_start": 0,
                        "bin_end": 0.1,
                        "count": 0
                      },
                      {
                        "bin_start": 0.1,
                        "bin_end": 0.2,
                        "count": 0
                      },
                      {
                        "bin_start": 0.2,
                        "bin_end": 0.30000000000000004,
                        "count": 0
                      },
                      {
                        "bin_start": 0.30000000000000004,
                        "bin_end": 0.4,
                        "count": 0
                      },
                      {
                        "bin_start": 0.4,
                        "bin_end": 0.5,
                        "count": 0
                      },
                      {
                        "bin_start": 0.5,
                        "bin_end": 0.6000000000000001,
                        "count": 0
                      },
                      {
                        "bin_start": 0.6000000000000001,
                        "bin_end": 0.7000000000000001,
                        "count": 0
                      },
                      {
                        "bin_start": 0.7000000000000001,
                        "bin_end": 0.8,
                        "count": 0
                      },
                      {
                        "bin_start": 0.8,
                        "bin_end": 0.9,
                        "count": 0
                      },
                      {
                        "bin_start": 0.9,
                        "bin_end": 1,
                        "count": 0
                      }
                    ]
                  }
                },
                {
                  "name": "RXDICI6A",
                  "dtype": "float64",
                  "stats": {
                    "unique_count": 0,
                    "nan_count": 4,
                    "min": null,
                    "max": null,
                    "histogram": [
                      {
                        "bin_start": 0,
                        "bin_end": 0.1,
                        "count": 0
                      },
                      {
                        "bin_start": 0.1,
                        "bin_end": 0.2,
                        "count": 0
                      },
                      {
                        "bin_start": 0.2,
                        "bin_end": 0.30000000000000004,
                        "count": 0
                      },
                      {
                        "bin_start": 0.30000000000000004,
                        "bin_end": 0.4,
                        "count": 0
                      },
                      {
                        "bin_start": 0.4,
                        "bin_end": 0.5,
                        "count": 0
                      },
                      {
                        "bin_start": 0.5,
                        "bin_end": 0.6000000000000001,
                        "count": 0
                      },
                      {
                        "bin_start": 0.6000000000000001,
                        "bin_end": 0.7000000000000001,
                        "count": 0
                      },
                      {
                        "bin_start": 0.7000000000000001,
                        "bin_end": 0.8,
                        "count": 0
                      },
                      {
                        "bin_start": 0.8,
                        "bin_end": 0.9,
                        "count": 0
                      },
                      {
                        "bin_start": 0.9,
                        "bin_end": 1,
                        "count": 0
                      }
                    ]
                  }
                },
                {
                  "name": "RXDICI6B",
                  "dtype": "float64",
                  "stats": {
                    "unique_count": 0,
                    "nan_count": 4,
                    "min": null,
                    "max": null,
                    "histogram": [
                      {
                        "bin_start": 0,
                        "bin_end": 0.1,
                        "count": 0
                      },
                      {
                        "bin_start": 0.1,
                        "bin_end": 0.2,
                        "count": 0
                      },
                      {
                        "bin_start": 0.2,
                        "bin_end": 0.30000000000000004,
                        "count": 0
                      },
                      {
                        "bin_start": 0.30000000000000004,
                        "bin_end": 0.4,
                        "count": 0
                      },
                      {
                        "bin_start": 0.4,
                        "bin_end": 0.5,
                        "count": 0
                      },
                      {
                        "bin_start": 0.5,
                        "bin_end": 0.6000000000000001,
                        "count": 0
                      },
                      {
                        "bin_start": 0.6000000000000001,
                        "bin_end": 0.7000000000000001,
                        "count": 0
                      },
                      {
                        "bin_start": 0.7000000000000001,
                        "bin_end": 0.8,
                        "count": 0
                      },
                      {
                        "bin_start": 0.8,
                        "bin_end": 0.9,
                        "count": 0
                      },
                      {
                        "bin_start": 0.9,
                        "bin_end": 1,
                        "count": 0
                      }
                    ]
                  }
                },
                {
                  "name": "RXDICI6C",
                  "dtype": "float64",
                  "stats": {
                    "unique_count": 0,
                    "nan_count": 4,
                    "min": null,
                    "max": null,
                    "histogram": [
                      {
                        "bin_start": 0,
                        "bin_end": 0.1,
                        "count": 0
                      },
                      {
                        "bin_start": 0.1,
                        "bin_end": 0.2,
                        "count": 0
                      },
                      {
                        "bin_start": 0.2,
                        "bin_end": 0.30000000000000004,
                        "count": 0
                      },
                      {
                        "bin_start": 0.30000000000000004,
                        "bin_end": 0.4,
                        "count": 0
                      },
                      {
                        "bin_start": 0.4,
                        "bin_end": 0.5,
                        "count": 0
                      },
                      {
                        "bin_start": 0.5,
                        "bin_end": 0.6000000000000001,
                        "count": 0
                      },
                      {
                        "bin_start": 0.6000000000000001,
                        "bin_end": 0.7000000000000001,
                        "count": 0
                      },
                      {
                        "bin_start": 0.7000000000000001,
                        "bin_end": 0.8,
                        "count": 0
                      },
                      {
                        "bin_start": 0.8,
                        "bin_end": 0.9,
                        "count": 0
                      },
                      {
                        "bin_start": 0.9,
                        "bin_end": 1,
                        "count": 0
                      }
                    ]
                  }
                },
                {
                  "name": "RXDDCN1A",
                  "dtype": "object",
                  "stats": {
                    "unique_count": 1,
                    "nan_count": 0,
                    "categories": [
                      {
                        "name": "CENTRAL NERVOUS SYSTEM AGENTS",
                        "count": 4
                      }
                    ]
                  }
                },
                {
                  "name": "RXDDCN1B",
                  "dtype": "object",
                  "stats": {
                    "unique_count": 1,
                    "nan_count": 0,
                    "categories": [
                      {
                        "name": "ANALGESICS",
                        "count": 4
                      }
                    ]
                  }
                },
                {
                  "name": "RXDDCN1C",
                  "dtype": "object",
                  "stats": {
                    "unique_count": 2,
                    "nan_count": 0,
                    "categories": [
                      {
                        "name": "NARCOTIC ANALGESIC COMBINATIONS",
                        "count": 3
                      },
                      {
                        "name": "NARCOTIC ANALGESICS",
                        "count": 1
                      }
                    ]
                  }
                },
                {
                  "name": "RXDDCN2A",
                  "dtype": "object",
                  "stats": {
                    "unique_count": 1,
                    "nan_count": 0,
                    "categories": [
                      {
                        "name": "",
                        "count": 4
                      }
                    ]
                  }
                },
                {
                  "name": "RXDDCN2B",
                  "dtype": "object",
                  "stats": {
                    "unique_count": 1,
                    "nan_count": 0,
                    "categories": [
                      {
                        "name": "",
                        "count": 4
                      }
                    ]
                  }
                },
                {
                  "name": "RXDDCN2C",
                  "dtype": "object",
                  "stats": {
                    "unique_count": 1,
                    "nan_count": 0,
                    "categories": [
                      {
                        "name": "",
                        "count": 4
                      }
                    ]
                  }
                },
                {
                  "name": "RXDDCN3A",
                  "dtype": "object",
                  "stats": {
                    "unique_count": 1,
                    "nan_count": 0,
                    "categories": [
                      {
                        "name": "",
                        "count": 4
                      }
                    ]
                  }
                },
                {
                  "name": "RXDDCN3B",
                  "dtype": "object",
                  "stats": {
                    "unique_count": 1,
                    "nan_count": 0,
                    "categories": [
                      {
                        "name": "",
                        "count": 4
                      }
                    ]
                  }
                },
                {
                  "name": "RXDDCN3C",
                  "dtype": "object",
                  "stats": {
                    "unique_count": 1,
                    "nan_count": 0,
                    "categories": [
                      {
                        "name": "",
                        "count": 4
                      }
                    ]
                  }
                },
                {
                  "name": "RXDDCN4A",
                  "dtype": "object",
                  "stats": {
                    "unique_count": 1,
                    "nan_count": 0,
                    "categories": [
                      {
                        "name": "",
                        "count": 4
                      }
                    ]
                  }
                },
                {
                  "name": "RXDDCN4B",
                  "dtype": "object",
                  "stats": {
                    "unique_count": 1,
                    "nan_count": 0,
                    "categories": [
                      {
                        "name": "",
                        "count": 4
                      }
                    ]
                  }
                },
                {
                  "name": "RXDDCN4C",
                  "dtype": "object",
                  "stats": {
                    "unique_count": 1,
                    "nan_count": 0,
                    "categories": [
                      {
                        "name": "",
                        "count": 4
                      }
                    ]
                  }
                },
                {
                  "name": "RXDICN1A",
                  "dtype": "object",
                  "stats": {
                    "unique_count": 1,
                    "nan_count": 0,
                    "categories": [
                      {
                        "name": "CENTRAL NERVOUS SYSTEM AGENTS",
                        "count": 4
                      }
                    ]
                  }
                },
                {
                  "name": "RXDICN1B",
                  "dtype": "object",
                  "stats": {
                    "unique_count": 1,
                    "nan_count": 0,
                    "categories": [
                      {
                        "name": "ANALGESICS",
                        "count": 4
                      }
                    ]
                  }
                },
                {
                  "name": "RXDICN1C",
                  "dtype": "object",
                  "stats": {
                    "unique_count": 2,
                    "nan_count": 0,
                    "categories": [
                      {
                        "name": "MISCELLANEOUS ANALGESICS",
                        "count": 2
                      },
                      {
                        "name": "NARCOTIC ANALGESICS",
                        "count": 2
                      }
                    ]
                  }
                },
                {
                  "name": "RXDICN2A",
                  "dtype": "object",
                  "stats": {
                    "unique_count": 3,
                    "nan_count": 0,
                    "categories": [
                      {
                        "name": "CENTRAL NERVOUS SYSTEM AGENTS",
                        "count": 2
                      },
                      {
                        "name": "MISCELLANEOUS AGENTS",
                        "count": 1
                      },
                      {
                        "name": "",
                        "count": 1
                      }
                    ]
                  }
                },
                {
                  "name": "RXDICN2B",
                  "dtype": "object",
                  "stats": {
                    "unique_count": 3,
                    "nan_count": 0,
                    "categories": [
                      {
                        "name": "ANALGESICS",
                        "count": 2
                      },
                      {
                        "name": "ANTIDOTES",
                        "count": 1
                      },
                      {
                        "name": "",
                        "count": 1
                      }
                    ]
                  }
                },
                {
                  "name": "RXDICN2C",
                  "dtype": "object",
                  "stats": {
                    "unique_count": 2,
                    "nan_count": 0,
                    "categories": [
                      {
                        "name": "NARCOTIC ANALGESICS",
                        "count": 2
                      },
                      {
                        "name": "",
                        "count": 2
                      }
                    ]
                  }
                },
                {
                  "name": "RXDICN3A",
                  "dtype": "object",
                  "stats": {
                    "unique_count": 2,
                    "nan_count": 0,
                    "categories": [
                      {
                        "name": "",
                        "count": 3
                      },
                      {
                        "name": "CENTRAL NERVOUS SYSTEM AGENTS",
                        "count": 1
                      }
                    ]
                  }
                },
                {
                  "name": "RXDICN3B",
                  "dtype": "object",
                  "stats": {
                    "unique_count": 2,
                    "nan_count": 0,
                    "categories": [
                      {
                        "name": "",
                        "count": 3
                      },
                      {
                        "name": "CNS STIMULANTS",
                        "count": 1
                      }
                    ]
                  }
                },
                {
                  "name": "RXDICN3C",
                  "dtype": "object",
                  "stats": {
                    "unique_count": 1,
                    "nan_count": 0,
                    "categories": [
                      {
                        "name": "",
                        "count": 4
                      }
                    ]
                  }
                },
                {
                  "name": "RXDICN4A",
                  "dtype": "object",
                  "stats": {
                    "unique_count": 1,
                    "nan_count": 0,
                    "categories": [
                      {
                        "name": "",
                        "count": 4
                      }
                    ]
                  }
                },
                {
                  "name": "RXDICN4B",
                  "dtype": "object",
                  "stats": {
                    "unique_count": 1,
                    "nan_count": 0,
                    "categories": [
                      {
                        "name": "",
                        "count": 4
                      }
                    ]
                  }
                },
                {
                  "name": "RXDICN4C",
                  "dtype": "object",
                  "stats": {
                    "unique_count": 1,
                    "nan_count": 0,
                    "categories": [
                      {
                        "name": "",
                        "count": 4
                      }
                    ]
                  }
                },
                {
                  "name": "RXDICN5A",
                  "dtype": "object",
                  "stats": {
                    "unique_count": 1,
                    "nan_count": 0,
                    "categories": [
                      {
                        "name": "",
                        "count": 4
                      }
                    ]
                  }
                },
                {
                  "name": "RXDICN5B",
                  "dtype": "object",
                  "stats": {
                    "unique_count": 1,
                    "nan_count": 0,
                    "categories": [
                      {
                        "name": "",
                        "count": 4
                      }
                    ]
                  }
                },
                {
                  "name": "RXDICN5C",
                  "dtype": "object",
                  "stats": {
                    "unique_count": 1,
                    "nan_count": 0,
                    "categories": [
                      {
                        "name": "",
                        "count": 4
                      }
                    ]
                  }
                },
                {
                  "name": "RXDICN6A",
                  "dtype": "object",
                  "stats": {
                    "unique_count": 1,
                    "nan_count": 0,
                    "categories": [
                      {
                        "name": "",
                        "count": 4
                      }
                    ]
                  }
                },
                {
                  "name": "RXDICN6B",
                  "dtype": "object",
                  "stats": {
                    "unique_count": 1,
                    "nan_count": 0,
                    "categories": [
                      {
                        "name": "",
                        "count": 4
                      }
                    ]
                  }
                },
                {
                  "name": "RXDICN6C",
                  "dtype": "object",
                  "stats": {
                    "unique_count": 1,
                    "nan_count": 0,
                    "categories": [
                      {
                        "name": "",
                        "count": 4
                      }
                    ]
                  }
                },
                {
                  "name": "_deepnote_index_column",
                  "dtype": "int64"
                }
              ],
              "rows_top": [
                {
                  "RXDDRGID": "d04269",
                  "RXDDRUG": "ACETAMINOPHEN; CAFFEINE; DIHYDROCODEINE",
                  "RXDINGFL": 2,
                  "RXDDCI1A": 57,
                  "RXDDCI1B": 58,
                  "RXDDCI1C": 191,
                  "RXDDCI2A": "nan",
                  "RXDDCI2B": "nan",
                  "RXDDCI2C": "nan",
                  "RXDDCI3A": "nan",
                  "RXDDCI3B": "nan",
                  "RXDDCI3C": "nan",
                  "RXDDCI4A": "nan",
                  "RXDDCI4B": "nan",
                  "RXDDCI4C": "nan",
                  "RXDICI1A": 57,
                  "RXDICI1B": 58,
                  "RXDICI1C": 59,
                  "RXDICI2A": "57.0",
                  "RXDICI2B": "58.0",
                  "RXDICI2C": "60.0",
                  "RXDICI3A": "57.0",
                  "RXDICI3B": "71.0",
                  "RXDICI3C": "nan",
                  "RXDICI4A": "nan",
                  "RXDICI4B": "nan",
                  "RXDICI4C": "nan",
                  "RXDICI5A": "nan",
                  "RXDICI5B": "nan",
                  "RXDICI5C": "nan",
                  "RXDICI6A": "nan",
                  "RXDICI6B": "nan",
                  "RXDICI6C": "nan",
                  "RXDDCN1A": "CENTRAL NERVOUS SYSTEM AGENTS",
                  "RXDDCN1B": "ANALGESICS",
                  "RXDDCN1C": "NARCOTIC ANALGESIC COMBINATIONS",
                  "RXDDCN2A": "",
                  "RXDDCN2B": "",
                  "RXDDCN2C": "",
                  "RXDDCN3A": "",
                  "RXDDCN3B": "",
                  "RXDDCN3C": "",
                  "RXDDCN4A": "",
                  "RXDDCN4B": "",
                  "RXDDCN4C": "",
                  "RXDICN1A": "CENTRAL NERVOUS SYSTEM AGENTS",
                  "RXDICN1B": "ANALGESICS",
                  "RXDICN1C": "MISCELLANEOUS ANALGESICS",
                  "RXDICN2A": "CENTRAL NERVOUS SYSTEM AGENTS",
                  "RXDICN2B": "ANALGESICS",
                  "RXDICN2C": "NARCOTIC ANALGESICS",
                  "RXDICN3A": "CENTRAL NERVOUS SYSTEM AGENTS",
                  "RXDICN3B": "CNS STIMULANTS",
                  "RXDICN3C": "",
                  "RXDICN4A": "",
                  "RXDICN4B": "",
                  "RXDICN4C": "",
                  "RXDICN5A": "",
                  "RXDICN5B": "",
                  "RXDICN5C": "",
                  "RXDICN6A": "",
                  "RXDICN6B": "",
                  "RXDICN6C": "",
                  "_deepnote_index_column": 1040
                },
                {
                  "RXDDRGID": "d04766",
                  "RXDDRUG": "ACETAMINOPHEN; TRAMADOL",
                  "RXDINGFL": 2,
                  "RXDDCI1A": 57,
                  "RXDDCI1B": 58,
                  "RXDDCI1C": 191,
                  "RXDDCI2A": "nan",
                  "RXDDCI2B": "nan",
                  "RXDDCI2C": "nan",
                  "RXDDCI3A": "nan",
                  "RXDDCI3B": "nan",
                  "RXDDCI3C": "nan",
                  "RXDDCI4A": "nan",
                  "RXDDCI4B": "nan",
                  "RXDDCI4C": "nan",
                  "RXDICI1A": 57,
                  "RXDICI1B": 58,
                  "RXDICI1C": 59,
                  "RXDICI2A": "57.0",
                  "RXDICI2B": "58.0",
                  "RXDICI2C": "60.0",
                  "RXDICI3A": "nan",
                  "RXDICI3B": "nan",
                  "RXDICI3C": "nan",
                  "RXDICI4A": "nan",
                  "RXDICI4B": "nan",
                  "RXDICI4C": "nan",
                  "RXDICI5A": "nan",
                  "RXDICI5B": "nan",
                  "RXDICI5C": "nan",
                  "RXDICI6A": "nan",
                  "RXDICI6B": "nan",
                  "RXDICI6C": "nan",
                  "RXDDCN1A": "CENTRAL NERVOUS SYSTEM AGENTS",
                  "RXDDCN1B": "ANALGESICS",
                  "RXDDCN1C": "NARCOTIC ANALGESIC COMBINATIONS",
                  "RXDDCN2A": "",
                  "RXDDCN2B": "",
                  "RXDDCN2C": "",
                  "RXDDCN3A": "",
                  "RXDDCN3B": "",
                  "RXDDCN3C": "",
                  "RXDDCN4A": "",
                  "RXDDCN4B": "",
                  "RXDDCN4C": "",
                  "RXDICN1A": "CENTRAL NERVOUS SYSTEM AGENTS",
                  "RXDICN1B": "ANALGESICS",
                  "RXDICN1C": "MISCELLANEOUS ANALGESICS",
                  "RXDICN2A": "CENTRAL NERVOUS SYSTEM AGENTS",
                  "RXDICN2B": "ANALGESICS",
                  "RXDICN2C": "NARCOTIC ANALGESICS",
                  "RXDICN3A": "",
                  "RXDICN3B": "",
                  "RXDICN3C": "",
                  "RXDICN4A": "",
                  "RXDICN4B": "",
                  "RXDICN4C": "",
                  "RXDICN5A": "",
                  "RXDICN5B": "",
                  "RXDICN5C": "",
                  "RXDICN6A": "",
                  "RXDICN6B": "",
                  "RXDICN6C": "",
                  "_deepnote_index_column": 1172
                },
                {
                  "RXDDRGID": "d04819",
                  "RXDDRUG": "BUPRENORPHINE; NALOXONE",
                  "RXDINGFL": 2,
                  "RXDDCI1A": 57,
                  "RXDDCI1B": 58,
                  "RXDDCI1C": 191,
                  "RXDDCI2A": "nan",
                  "RXDDCI2B": "nan",
                  "RXDDCI2C": "nan",
                  "RXDDCI3A": "nan",
                  "RXDDCI3B": "nan",
                  "RXDDCI3C": "nan",
                  "RXDDCI4A": "nan",
                  "RXDDCI4B": "nan",
                  "RXDDCI4C": "nan",
                  "RXDICI1A": 57,
                  "RXDICI1B": 58,
                  "RXDICI1C": 60,
                  "RXDICI2A": "105.0",
                  "RXDICI2B": "106.0",
                  "RXDICI2C": "nan",
                  "RXDICI3A": "nan",
                  "RXDICI3B": "nan",
                  "RXDICI3C": "nan",
                  "RXDICI4A": "nan",
                  "RXDICI4B": "nan",
                  "RXDICI4C": "nan",
                  "RXDICI5A": "nan",
                  "RXDICI5B": "nan",
                  "RXDICI5C": "nan",
                  "RXDICI6A": "nan",
                  "RXDICI6B": "nan",
                  "RXDICI6C": "nan",
                  "RXDDCN1A": "CENTRAL NERVOUS SYSTEM AGENTS",
                  "RXDDCN1B": "ANALGESICS",
                  "RXDDCN1C": "NARCOTIC ANALGESIC COMBINATIONS",
                  "RXDDCN2A": "",
                  "RXDDCN2B": "",
                  "RXDDCN2C": "",
                  "RXDDCN3A": "",
                  "RXDDCN3B": "",
                  "RXDDCN3C": "",
                  "RXDDCN4A": "",
                  "RXDDCN4B": "",
                  "RXDDCN4C": "",
                  "RXDICN1A": "CENTRAL NERVOUS SYSTEM AGENTS",
                  "RXDICN1B": "ANALGESICS",
                  "RXDICN1C": "NARCOTIC ANALGESICS",
                  "RXDICN2A": "MISCELLANEOUS AGENTS",
                  "RXDICN2B": "ANTIDOTES",
                  "RXDICN2C": "",
                  "RXDICN3A": "",
                  "RXDICN3B": "",
                  "RXDICN3C": "",
                  "RXDICN4A": "",
                  "RXDICN4B": "",
                  "RXDICN4C": "",
                  "RXDICN5A": "",
                  "RXDICN5B": "",
                  "RXDICN5C": "",
                  "RXDICN6A": "",
                  "RXDICN6B": "",
                  "RXDICN6C": "",
                  "_deepnote_index_column": 1201
                },
                {
                  "RXDDRGID": "d07453",
                  "RXDDRUG": "TAPENTADOL",
                  "RXDINGFL": 1,
                  "RXDDCI1A": 57,
                  "RXDDCI1B": 58,
                  "RXDDCI1C": 60,
                  "RXDDCI2A": "nan",
                  "RXDDCI2B": "nan",
                  "RXDDCI2C": "nan",
                  "RXDDCI3A": "nan",
                  "RXDDCI3B": "nan",
                  "RXDDCI3C": "nan",
                  "RXDDCI4A": "nan",
                  "RXDDCI4B": "nan",
                  "RXDDCI4C": "nan",
                  "RXDICI1A": 57,
                  "RXDICI1B": 58,
                  "RXDICI1C": 60,
                  "RXDICI2A": "nan",
                  "RXDICI2B": "nan",
                  "RXDICI2C": "nan",
                  "RXDICI3A": "nan",
                  "RXDICI3B": "nan",
                  "RXDICI3C": "nan",
                  "RXDICI4A": "nan",
                  "RXDICI4B": "nan",
                  "RXDICI4C": "nan",
                  "RXDICI5A": "nan",
                  "RXDICI5B": "nan",
                  "RXDICI5C": "nan",
                  "RXDICI6A": "nan",
                  "RXDICI6B": "nan",
                  "RXDICI6C": "nan",
                  "RXDDCN1A": "CENTRAL NERVOUS SYSTEM AGENTS",
                  "RXDDCN1B": "ANALGESICS",
                  "RXDDCN1C": "NARCOTIC ANALGESICS",
                  "RXDDCN2A": "",
                  "RXDDCN2B": "",
                  "RXDDCN2C": "",
                  "RXDDCN3A": "",
                  "RXDDCN3B": "",
                  "RXDDCN3C": "",
                  "RXDDCN4A": "",
                  "RXDDCN4B": "",
                  "RXDDCN4C": "",
                  "RXDICN1A": "CENTRAL NERVOUS SYSTEM AGENTS",
                  "RXDICN1B": "ANALGESICS",
                  "RXDICN1C": "NARCOTIC ANALGESICS",
                  "RXDICN2A": "",
                  "RXDICN2B": "",
                  "RXDICN2C": "",
                  "RXDICN3A": "",
                  "RXDICN3B": "",
                  "RXDICN3C": "",
                  "RXDICN4A": "",
                  "RXDICN4B": "",
                  "RXDICN4C": "",
                  "RXDICN5A": "",
                  "RXDICN5B": "",
                  "RXDICN5C": "",
                  "RXDICN6A": "",
                  "RXDICN6B": "",
                  "RXDICN6C": "",
                  "_deepnote_index_column": 1373
                }
              ],
              "rows_bottom": null
            },
            "text/plain": "     RXDDRGID                                  RXDDRUG  RXDINGFL  RXDDCI1A  \\\n1040   d04269  ACETAMINOPHEN; CAFFEINE; DIHYDROCODEINE       2.0      57.0   \n1172   d04766                  ACETAMINOPHEN; TRAMADOL       2.0      57.0   \n1201   d04819                  BUPRENORPHINE; NALOXONE       2.0      57.0   \n1373   d07453                               TAPENTADOL       1.0      57.0   \n\n      RXDDCI1B  RXDDCI1C  RXDDCI2A  RXDDCI2B  RXDDCI2C  RXDDCI3A  RXDDCI3B  \\\n1040      58.0     191.0       NaN       NaN       NaN       NaN       NaN   \n1172      58.0     191.0       NaN       NaN       NaN       NaN       NaN   \n1201      58.0     191.0       NaN       NaN       NaN       NaN       NaN   \n1373      58.0      60.0       NaN       NaN       NaN       NaN       NaN   \n\n      RXDDCI3C  RXDDCI4A  RXDDCI4B  RXDDCI4C  RXDICI1A  RXDICI1B  RXDICI1C  \\\n1040       NaN       NaN       NaN       NaN      57.0      58.0      59.0   \n1172       NaN       NaN       NaN       NaN      57.0      58.0      59.0   \n1201       NaN       NaN       NaN       NaN      57.0      58.0      60.0   \n1373       NaN       NaN       NaN       NaN      57.0      58.0      60.0   \n\n      RXDICI2A  RXDICI2B  RXDICI2C  RXDICI3A  RXDICI3B  RXDICI3C  RXDICI4A  \\\n1040      57.0      58.0      60.0      57.0      71.0       NaN       NaN   \n1172      57.0      58.0      60.0       NaN       NaN       NaN       NaN   \n1201     105.0     106.0       NaN       NaN       NaN       NaN       NaN   \n1373       NaN       NaN       NaN       NaN       NaN       NaN       NaN   \n\n      RXDICI4B  RXDICI4C  RXDICI5A  RXDICI5B  RXDICI5C  RXDICI6A  RXDICI6B  \\\n1040       NaN       NaN       NaN       NaN       NaN       NaN       NaN   \n1172       NaN       NaN       NaN       NaN       NaN       NaN       NaN   \n1201       NaN       NaN       NaN       NaN       NaN       NaN       NaN   \n1373       NaN       NaN       NaN       NaN       NaN       NaN       NaN   \n\n      RXDICI6C                       RXDDCN1A    RXDDCN1B  \\\n1040       NaN  CENTRAL NERVOUS SYSTEM AGENTS  ANALGESICS   \n1172       NaN  CENTRAL NERVOUS SYSTEM AGENTS  ANALGESICS   \n1201       NaN  CENTRAL NERVOUS SYSTEM AGENTS  ANALGESICS   \n1373       NaN  CENTRAL NERVOUS SYSTEM AGENTS  ANALGESICS   \n\n                             RXDDCN1C RXDDCN2A RXDDCN2B RXDDCN2C RXDDCN3A  \\\n1040  NARCOTIC ANALGESIC COMBINATIONS                                       \n1172  NARCOTIC ANALGESIC COMBINATIONS                                       \n1201  NARCOTIC ANALGESIC COMBINATIONS                                       \n1373              NARCOTIC ANALGESICS                                       \n\n     RXDDCN3B RXDDCN3C RXDDCN4A RXDDCN4B RXDDCN4C  \\\n1040                                                \n1172                                                \n1201                                                \n1373                                                \n\n                           RXDICN1A    RXDICN1B                  RXDICN1C  \\\n1040  CENTRAL NERVOUS SYSTEM AGENTS  ANALGESICS  MISCELLANEOUS ANALGESICS   \n1172  CENTRAL NERVOUS SYSTEM AGENTS  ANALGESICS  MISCELLANEOUS ANALGESICS   \n1201  CENTRAL NERVOUS SYSTEM AGENTS  ANALGESICS       NARCOTIC ANALGESICS   \n1373  CENTRAL NERVOUS SYSTEM AGENTS  ANALGESICS       NARCOTIC ANALGESICS   \n\n                           RXDICN2A    RXDICN2B             RXDICN2C  \\\n1040  CENTRAL NERVOUS SYSTEM AGENTS  ANALGESICS  NARCOTIC ANALGESICS   \n1172  CENTRAL NERVOUS SYSTEM AGENTS  ANALGESICS  NARCOTIC ANALGESICS   \n1201           MISCELLANEOUS AGENTS   ANTIDOTES                        \n1373                                                                   \n\n                           RXDICN3A        RXDICN3B RXDICN3C RXDICN4A  \\\n1040  CENTRAL NERVOUS SYSTEM AGENTS  CNS STIMULANTS                     \n1172                                                                    \n1201                                                                    \n1373                                                                    \n\n     RXDICN4B RXDICN4C RXDICN5A RXDICN5B RXDICN5C RXDICN6A RXDICN6B RXDICN6C  \n1040                                                                          \n1172                                                                          \n1201                                                                          \n1373                                                                          ",
            "text/html": "<div>\n<style scoped>\n    .dataframe tbody tr th:only-of-type {\n        vertical-align: middle;\n    }\n\n    .dataframe tbody tr th {\n        vertical-align: top;\n    }\n\n    .dataframe thead th {\n        text-align: right;\n    }\n</style>\n<table border=\"1\" class=\"dataframe\">\n  <thead>\n    <tr style=\"text-align: right;\">\n      <th></th>\n      <th>RXDDRGID</th>\n      <th>RXDDRUG</th>\n      <th>RXDINGFL</th>\n      <th>RXDDCI1A</th>\n      <th>RXDDCI1B</th>\n      <th>RXDDCI1C</th>\n      <th>RXDDCI2A</th>\n      <th>RXDDCI2B</th>\n      <th>RXDDCI2C</th>\n      <th>RXDDCI3A</th>\n      <th>RXDDCI3B</th>\n      <th>RXDDCI3C</th>\n      <th>RXDDCI4A</th>\n      <th>RXDDCI4B</th>\n      <th>RXDDCI4C</th>\n      <th>RXDICI1A</th>\n      <th>RXDICI1B</th>\n      <th>RXDICI1C</th>\n      <th>RXDICI2A</th>\n      <th>RXDICI2B</th>\n      <th>RXDICI2C</th>\n      <th>RXDICI3A</th>\n      <th>RXDICI3B</th>\n      <th>RXDICI3C</th>\n      <th>RXDICI4A</th>\n      <th>RXDICI4B</th>\n      <th>RXDICI4C</th>\n      <th>RXDICI5A</th>\n      <th>RXDICI5B</th>\n      <th>RXDICI5C</th>\n      <th>RXDICI6A</th>\n      <th>RXDICI6B</th>\n      <th>RXDICI6C</th>\n      <th>RXDDCN1A</th>\n      <th>RXDDCN1B</th>\n      <th>RXDDCN1C</th>\n      <th>RXDDCN2A</th>\n      <th>RXDDCN2B</th>\n      <th>RXDDCN2C</th>\n      <th>RXDDCN3A</th>\n      <th>RXDDCN3B</th>\n      <th>RXDDCN3C</th>\n      <th>RXDDCN4A</th>\n      <th>RXDDCN4B</th>\n      <th>RXDDCN4C</th>\n      <th>RXDICN1A</th>\n      <th>RXDICN1B</th>\n      <th>RXDICN1C</th>\n      <th>RXDICN2A</th>\n      <th>RXDICN2B</th>\n      <th>RXDICN2C</th>\n      <th>RXDICN3A</th>\n      <th>RXDICN3B</th>\n      <th>RXDICN3C</th>\n      <th>RXDICN4A</th>\n      <th>RXDICN4B</th>\n      <th>RXDICN4C</th>\n      <th>RXDICN5A</th>\n      <th>RXDICN5B</th>\n      <th>RXDICN5C</th>\n      <th>RXDICN6A</th>\n      <th>RXDICN6B</th>\n      <th>RXDICN6C</th>\n    </tr>\n  </thead>\n  <tbody>\n    <tr>\n      <th>1040</th>\n      <td>d04269</td>\n      <td>ACETAMINOPHEN; CAFFEINE; DIHYDROCODEINE</td>\n      <td>2.0</td>\n      <td>57.0</td>\n      <td>58.0</td>\n      <td>191.0</td>\n      <td>NaN</td>\n      <td>NaN</td>\n      <td>NaN</td>\n      <td>NaN</td>\n      <td>NaN</td>\n      <td>NaN</td>\n      <td>NaN</td>\n      <td>NaN</td>\n      <td>NaN</td>\n      <td>57.0</td>\n      <td>58.0</td>\n      <td>59.0</td>\n      <td>57.0</td>\n      <td>58.0</td>\n      <td>60.0</td>\n      <td>57.0</td>\n      <td>71.0</td>\n      <td>NaN</td>\n      <td>NaN</td>\n      <td>NaN</td>\n      <td>NaN</td>\n      <td>NaN</td>\n      <td>NaN</td>\n      <td>NaN</td>\n      <td>NaN</td>\n      <td>NaN</td>\n      <td>NaN</td>\n      <td>CENTRAL NERVOUS SYSTEM AGENTS</td>\n      <td>ANALGESICS</td>\n      <td>NARCOTIC ANALGESIC COMBINATIONS</td>\n      <td></td>\n      <td></td>\n      <td></td>\n      <td></td>\n      <td></td>\n      <td></td>\n      <td></td>\n      <td></td>\n      <td></td>\n      <td>CENTRAL NERVOUS SYSTEM AGENTS</td>\n      <td>ANALGESICS</td>\n      <td>MISCELLANEOUS ANALGESICS</td>\n      <td>CENTRAL NERVOUS SYSTEM AGENTS</td>\n      <td>ANALGESICS</td>\n      <td>NARCOTIC ANALGESICS</td>\n      <td>CENTRAL NERVOUS SYSTEM AGENTS</td>\n      <td>CNS STIMULANTS</td>\n      <td></td>\n      <td></td>\n      <td></td>\n      <td></td>\n      <td></td>\n      <td></td>\n      <td></td>\n      <td></td>\n      <td></td>\n      <td></td>\n    </tr>\n    <tr>\n      <th>1172</th>\n      <td>d04766</td>\n      <td>ACETAMINOPHEN; TRAMADOL</td>\n      <td>2.0</td>\n      <td>57.0</td>\n      <td>58.0</td>\n      <td>191.0</td>\n      <td>NaN</td>\n      <td>NaN</td>\n      <td>NaN</td>\n      <td>NaN</td>\n      <td>NaN</td>\n      <td>NaN</td>\n      <td>NaN</td>\n      <td>NaN</td>\n      <td>NaN</td>\n      <td>57.0</td>\n      <td>58.0</td>\n      <td>59.0</td>\n      <td>57.0</td>\n      <td>58.0</td>\n      <td>60.0</td>\n      <td>NaN</td>\n      <td>NaN</td>\n      <td>NaN</td>\n      <td>NaN</td>\n      <td>NaN</td>\n      <td>NaN</td>\n      <td>NaN</td>\n      <td>NaN</td>\n      <td>NaN</td>\n      <td>NaN</td>\n      <td>NaN</td>\n      <td>NaN</td>\n      <td>CENTRAL NERVOUS SYSTEM AGENTS</td>\n      <td>ANALGESICS</td>\n      <td>NARCOTIC ANALGESIC COMBINATIONS</td>\n      <td></td>\n      <td></td>\n      <td></td>\n      <td></td>\n      <td></td>\n      <td></td>\n      <td></td>\n      <td></td>\n      <td></td>\n      <td>CENTRAL NERVOUS SYSTEM AGENTS</td>\n      <td>ANALGESICS</td>\n      <td>MISCELLANEOUS ANALGESICS</td>\n      <td>CENTRAL NERVOUS SYSTEM AGENTS</td>\n      <td>ANALGESICS</td>\n      <td>NARCOTIC ANALGESICS</td>\n      <td></td>\n      <td></td>\n      <td></td>\n      <td></td>\n      <td></td>\n      <td></td>\n      <td></td>\n      <td></td>\n      <td></td>\n      <td></td>\n      <td></td>\n      <td></td>\n    </tr>\n    <tr>\n      <th>1201</th>\n      <td>d04819</td>\n      <td>BUPRENORPHINE; NALOXONE</td>\n      <td>2.0</td>\n      <td>57.0</td>\n      <td>58.0</td>\n      <td>191.0</td>\n      <td>NaN</td>\n      <td>NaN</td>\n      <td>NaN</td>\n      <td>NaN</td>\n      <td>NaN</td>\n      <td>NaN</td>\n      <td>NaN</td>\n      <td>NaN</td>\n      <td>NaN</td>\n      <td>57.0</td>\n      <td>58.0</td>\n      <td>60.0</td>\n      <td>105.0</td>\n      <td>106.0</td>\n      <td>NaN</td>\n      <td>NaN</td>\n      <td>NaN</td>\n      <td>NaN</td>\n      <td>NaN</td>\n      <td>NaN</td>\n      <td>NaN</td>\n      <td>NaN</td>\n      <td>NaN</td>\n      <td>NaN</td>\n      <td>NaN</td>\n      <td>NaN</td>\n      <td>NaN</td>\n      <td>CENTRAL NERVOUS SYSTEM AGENTS</td>\n      <td>ANALGESICS</td>\n      <td>NARCOTIC ANALGESIC COMBINATIONS</td>\n      <td></td>\n      <td></td>\n      <td></td>\n      <td></td>\n      <td></td>\n      <td></td>\n      <td></td>\n      <td></td>\n      <td></td>\n      <td>CENTRAL NERVOUS SYSTEM AGENTS</td>\n      <td>ANALGESICS</td>\n      <td>NARCOTIC ANALGESICS</td>\n      <td>MISCELLANEOUS AGENTS</td>\n      <td>ANTIDOTES</td>\n      <td></td>\n      <td></td>\n      <td></td>\n      <td></td>\n      <td></td>\n      <td></td>\n      <td></td>\n      <td></td>\n      <td></td>\n      <td></td>\n      <td></td>\n      <td></td>\n      <td></td>\n    </tr>\n    <tr>\n      <th>1373</th>\n      <td>d07453</td>\n      <td>TAPENTADOL</td>\n      <td>1.0</td>\n      <td>57.0</td>\n      <td>58.0</td>\n      <td>60.0</td>\n      <td>NaN</td>\n      <td>NaN</td>\n      <td>NaN</td>\n      <td>NaN</td>\n      <td>NaN</td>\n      <td>NaN</td>\n      <td>NaN</td>\n      <td>NaN</td>\n      <td>NaN</td>\n      <td>57.0</td>\n      <td>58.0</td>\n      <td>60.0</td>\n      <td>NaN</td>\n      <td>NaN</td>\n      <td>NaN</td>\n      <td>NaN</td>\n      <td>NaN</td>\n      <td>NaN</td>\n      <td>NaN</td>\n      <td>NaN</td>\n      <td>NaN</td>\n      <td>NaN</td>\n      <td>NaN</td>\n      <td>NaN</td>\n      <td>NaN</td>\n      <td>NaN</td>\n      <td>NaN</td>\n      <td>CENTRAL NERVOUS SYSTEM AGENTS</td>\n      <td>ANALGESICS</td>\n      <td>NARCOTIC ANALGESICS</td>\n      <td></td>\n      <td></td>\n      <td></td>\n      <td></td>\n      <td></td>\n      <td></td>\n      <td></td>\n      <td></td>\n      <td></td>\n      <td>CENTRAL NERVOUS SYSTEM AGENTS</td>\n      <td>ANALGESICS</td>\n      <td>NARCOTIC ANALGESICS</td>\n      <td></td>\n      <td></td>\n      <td></td>\n      <td></td>\n      <td></td>\n      <td></td>\n      <td></td>\n      <td></td>\n      <td></td>\n      <td></td>\n      <td></td>\n      <td></td>\n      <td></td>\n      <td></td>\n      <td></td>\n    </tr>\n  </tbody>\n</table>\n</div>"
          },
          "metadata": {}
        }
      ]
    },
    {
      "cell_type": "markdown",
      "source": "## Load main data (2013–2018)\n\nInclusion criteria:\n* 18–65 yo\n* has BIOPRO, BMX, and CBC data\n* responsed \"yes\" or \"no\" to `RXQ_RX.RXDUSE`",
      "metadata": {
        "tags": [],
        "cell_id": "00005-e50d0661-c2bb-4874-97ec-698d21b35184",
        "deepnote_cell_type": "markdown"
      }
    },
    {
      "cell_type": "code",
      "metadata": {
        "tags": [],
        "deepnote_to_be_reexecuted": false,
        "source_hash": "6861cc8b",
        "execution_millis": 15806,
        "cell_id": "00003-7cbc02e9-3427-4d61-91c1-bfd79eba397f",
        "execution_start": 1615176320718,
        "deepnote_cell_type": "code"
      },
      "source": "dfs = pynhanes.data.load(datasets=['DEMO','RXQ_RX','BIOPRO','BMX','CBC'], years=(2013, 2018))",
      "execution_count": 4,
      "outputs": [
        {
          "name": "stdout",
          "text": "210308@04:05:21.909 INFO [pynhanes.data] read 10175 rows x 47 cols from https://wwwn.cdc.gov/Nchs/Nhanes/2013-2014/DEMO_H.XPT\n210308@04:05:23.039 INFO [pynhanes.data] read 9971 rows x 47 cols from https://wwwn.cdc.gov/Nchs/Nhanes/2015-2016/DEMO_I.XPT\n210308@04:05:23.973 INFO [pynhanes.data] read 9254 rows x 46 cols from https://wwwn.cdc.gov/Nchs/Nhanes/2017-2018/DEMO_J.XPT\n210308@04:05:23.993 INFO [pynhanes.data] combined DEMO datasets: 29400 rows x 52 cols\n210308@04:05:26.578 INFO [pynhanes.data] read 20194 rows x 13 cols from https://wwwn.cdc.gov/Nchs/Nhanes/2013-2014/RXQ_RX_H.XPT\n210308@04:05:29.060 INFO [pynhanes.data] read 19647 rows x 13 cols from https://wwwn.cdc.gov/Nchs/Nhanes/2015-2016/RXQ_RX_I.XPT\n210308@04:05:31.542 INFO [pynhanes.data] read 19643 rows x 13 cols from https://wwwn.cdc.gov/Nchs/Nhanes/2017-2018/RXQ_RX_J.XPT\n210308@04:05:31.568 INFO [pynhanes.data] combined RXQ_RX datasets: 59484 rows x 14 cols\n210308@04:05:32.191 INFO [pynhanes.data] read 6979 rows x 38 cols from https://wwwn.cdc.gov/Nchs/Nhanes/2013-2014/BIOPRO_H.XPT\n210308@04:05:32.796 INFO [pynhanes.data] read 6744 rows x 38 cols from https://wwwn.cdc.gov/Nchs/Nhanes/2015-2016/BIOPRO_I.XPT\n210308@04:05:33.424 INFO [pynhanes.data] read 6401 rows x 41 cols from https://wwwn.cdc.gov/Nchs/Nhanes/2017-2018/BIOPRO_J.XPT\n210308@04:05:33.435 INFO [pynhanes.data] combined BIOPRO datasets: 20124 rows x 42 cols\n210308@04:05:34.053 INFO [pynhanes.data] read 9813 rows x 26 cols from https://wwwn.cdc.gov/Nchs/Nhanes/2013-2014/BMX_H.XPT\n210308@04:05:34.639 INFO [pynhanes.data] read 9544 rows x 26 cols from https://wwwn.cdc.gov/Nchs/Nhanes/2015-2016/BMX_I.XPT\n210308@04:05:35.093 INFO [pynhanes.data] read 8704 rows x 21 cols from https://wwwn.cdc.gov/Nchs/Nhanes/2017-2018/BMX_J.XPT\n210308@04:05:35.102 INFO [pynhanes.data] combined BMX datasets: 28061 rows x 29 cols\n210308@04:05:35.583 INFO [pynhanes.data] read 9422 rows x 21 cols from https://wwwn.cdc.gov/Nchs/Nhanes/2013-2014/CBC_H.XPT\n210308@04:05:36.058 INFO [pynhanes.data] read 9165 rows x 21 cols from https://wwwn.cdc.gov/Nchs/Nhanes/2015-2016/CBC_I.XPT\n210308@04:05:36.508 INFO [pynhanes.data] read 8366 rows x 22 cols from https://wwwn.cdc.gov/Nchs/Nhanes/2017-2018/CBC_J.XPT\n210308@04:05:36.517 INFO [pynhanes.data] combined CBC datasets: 26953 rows x 23 cols\n",
          "output_type": "stream"
        }
      ]
    },
    {
      "cell_type": "markdown",
      "source": "### Apply inclusion / exclusion criteria",
      "metadata": {
        "tags": [],
        "cell_id": "00007-9a3172cf-054a-4e98-8c15-24783556bf40",
        "deepnote_cell_type": "markdown"
      }
    },
    {
      "cell_type": "code",
      "source": "incl1 = dfs['DEMO'].loc[dfs['DEMO'].RIDAGEYR.between(18,65), 'SEQN']\nincl2_biopro = dfs['BIOPRO'].SEQN\nincl2_bmx = dfs['BMX'].SEQN\nincl2_cbc = dfs['CBC'].SEQN\nincl3 = dfs['RXQ_RX'].loc[dfs['RXQ_RX'].RXDUSE.isin([1,2]), 'SEQN']\nincl = set(incl1) & set(incl2_biopro) & set(incl2_bmx) & set(incl2_cbc)  & set(incl3)\n\nlogger.info(f'total participants included: {len(incl)}')\n\ndfs['DEMO'] = dfs['DEMO'].loc[dfs['DEMO'].SEQN.isin(incl), :]\ndfs['RXQ_RX'] = dfs['RXQ_RX'].loc[dfs['RXQ_RX'].SEQN.isin(incl), :]\ndfs['BIOPRO'] = dfs['BIOPRO'].loc[dfs['BIOPRO'].SEQN.isin(incl), :]\ndfs['BMX'] = dfs['BMX'].loc[dfs['BMX'].SEQN.isin(incl), :]\ndfs['CBC'] = dfs['CBC'].loc[dfs['CBC'].SEQN.isin(incl), :]",
      "metadata": {
        "tags": [],
        "cell_id": "00007-8865fa7c-50a2-4ef0-9ff6-08f919c91c93",
        "deepnote_to_be_reexecuted": false,
        "source_hash": "85108427",
        "execution_millis": 111,
        "execution_start": 1615176336527,
        "deepnote_cell_type": "code"
      },
      "outputs": [
        {
          "name": "stdout",
          "text": "210308@04:05:36.576 INFO [pynhanes] total participants included: 13481\n",
          "output_type": "stream"
        }
      ],
      "execution_count": 5
    },
    {
      "cell_type": "markdown",
      "source": "### Identify Drug Status",
      "metadata": {
        "tags": [],
        "cell_id": "00009-d2a32173-0157-40b2-9f60-3436cb2beb12",
        "deepnote_cell_type": "markdown"
      }
    },
    {
      "cell_type": "code",
      "source": "on_any_drugs = dfs['RXQ_RX'].loc[dfs['RXQ_RX'].RXDUSE == 1, 'SEQN']\non_cns_drugs = dfs['RXQ_RX'].loc[dfs['RXQ_RX'].RXDDRGID.isin(drugs_cns.RXDDRGID), 'SEQN']\non_analgesics = dfs['RXQ_RX'].loc[dfs['RXQ_RX'].RXDDRGID.isin(drugs_analgesics.RXDDRGID), 'SEQN']\non_narcotics = dfs['RXQ_RX'].loc[dfs['RXQ_RX'].RXDDRGID.isin(drugs_narcotics.RXDDRGID), 'SEQN']\n\ndfs['DEMO']['on_any_drugs'] = dfs['DEMO'].SEQN.isin(on_any_drugs)\ndfs['DEMO']['on_cns_drugs'] = dfs['DEMO'].SEQN.isin(on_cns_drugs)\ndfs['DEMO']['on_analgesics'] = dfs['DEMO'].SEQN.isin(on_analgesics)\ndfs['DEMO']['on_narcotics'] = dfs['DEMO'].SEQN.isin(on_narcotics)\n\ndrug_status_columns = ['on_any_drugs','on_cns_drugs','on_analgesics','on_narcotics']\n# turn 4 boolean values into a single column\ndfs['DEMO']['drug_group'] = dfs['DEMO'][drug_status_columns].apply(sum, axis=1)\ndfs['DEMO'].groupby(drug_status_columns + ['drug_group']).SEQN.nunique()",
      "metadata": {
        "tags": [],
        "cell_id": "00007-9b33c6fb-b20e-4604-bd0a-4490fc77c9fe",
        "deepnote_to_be_reexecuted": false,
        "source_hash": "3823194b",
        "execution_millis": 160,
        "execution_start": 1615176336640,
        "deepnote_cell_type": "code"
      },
      "outputs": [
        {
          "output_type": "execute_result",
          "execution_count": 6,
          "data": {
            "text/plain": "on_any_drugs  on_cns_drugs  on_analgesics  on_narcotics  drug_group\nFalse         False         False          False         0             7122\nTrue          False         False          False         1             4006\n              True          False          False         2              964\n                            True           False         3              679\n                                           True          4              710\nName: SEQN, dtype: int64"
          },
          "metadata": {}
        }
      ],
      "execution_count": 6
    },
    {
      "cell_type": "code",
      "source": "drugs_by_gender = pd.concat([\n    pd.crosstab(dfs['DEMO'].RIAGENDR.map({1:'M', 2: 'F'}), dfs['DEMO'].drug_group, margins=True, normalize='columns')*100,\n    pd.crosstab(dfs['DEMO'].RIAGENDR.map({1:'M', 2: 'F'}), dfs['DEMO'].drug_group, margins=True),\n]).round(0).astype(int)\ndrugs_by_gender.index = ['%(F)','%(M)','N(F)','N(M)','N(total)']\ndrugs_by_gender",
      "metadata": {
        "tags": [],
        "cell_id": "00011-0a14cf62-bd43-46db-823f-74de0050ab38",
        "deepnote_to_be_reexecuted": false,
        "source_hash": "ff87ca69",
        "execution_millis": 157,
        "execution_start": 1615176336797,
        "deepnote_cell_type": "code"
      },
      "outputs": [
        {
          "output_type": "execute_result",
          "execution_count": 7,
          "data": {
            "application/vnd.deepnote.dataframe.v2+json": {
              "row_count": 5,
              "column_count": 6,
              "columns": [
                {
                  "name": 0,
                  "dtype": "int64",
                  "stats": {
                    "unique_count": 5,
                    "nan_count": 0,
                    "min": 47,
                    "max": 7122,
                    "histogram": [
                      {
                        "bin_start": 47,
                        "bin_end": 754.5,
                        "count": 2
                      },
                      {
                        "bin_start": 754.5,
                        "bin_end": 1462,
                        "count": 0
                      },
                      {
                        "bin_start": 1462,
                        "bin_end": 2169.5,
                        "count": 0
                      },
                      {
                        "bin_start": 2169.5,
                        "bin_end": 2877,
                        "count": 0
                      },
                      {
                        "bin_start": 2877,
                        "bin_end": 3584.5,
                        "count": 1
                      },
                      {
                        "bin_start": 3584.5,
                        "bin_end": 4292,
                        "count": 1
                      },
                      {
                        "bin_start": 4292,
                        "bin_end": 4999.5,
                        "count": 0
                      },
                      {
                        "bin_start": 4999.5,
                        "bin_end": 5707,
                        "count": 0
                      },
                      {
                        "bin_start": 5707,
                        "bin_end": 6414.5,
                        "count": 0
                      },
                      {
                        "bin_start": 6414.5,
                        "bin_end": 7122,
                        "count": 1
                      }
                    ]
                  }
                },
                {
                  "name": 1,
                  "dtype": "int64",
                  "stats": {
                    "unique_count": 5,
                    "nan_count": 0,
                    "min": 42,
                    "max": 4006,
                    "histogram": [
                      {
                        "bin_start": 42,
                        "bin_end": 438.4,
                        "count": 2
                      },
                      {
                        "bin_start": 438.4,
                        "bin_end": 834.8,
                        "count": 0
                      },
                      {
                        "bin_start": 834.8,
                        "bin_end": 1231.1999999999998,
                        "count": 0
                      },
                      {
                        "bin_start": 1231.1999999999998,
                        "bin_end": 1627.6,
                        "count": 0
                      },
                      {
                        "bin_start": 1627.6,
                        "bin_end": 2024,
                        "count": 1
                      },
                      {
                        "bin_start": 2024,
                        "bin_end": 2420.3999999999996,
                        "count": 1
                      },
                      {
                        "bin_start": 2420.3999999999996,
                        "bin_end": 2816.7999999999997,
                        "count": 0
                      },
                      {
                        "bin_start": 2816.7999999999997,
                        "bin_end": 3213.2,
                        "count": 0
                      },
                      {
                        "bin_start": 3213.2,
                        "bin_end": 3609.6,
                        "count": 0
                      },
                      {
                        "bin_start": 3609.6,
                        "bin_end": 4006,
                        "count": 1
                      }
                    ]
                  }
                },
                {
                  "name": 2,
                  "dtype": "int64",
                  "stats": {
                    "unique_count": 5,
                    "nan_count": 0,
                    "min": 40,
                    "max": 964,
                    "histogram": [
                      {
                        "bin_start": 40,
                        "bin_end": 132.4,
                        "count": 2
                      },
                      {
                        "bin_start": 132.4,
                        "bin_end": 224.8,
                        "count": 0
                      },
                      {
                        "bin_start": 224.8,
                        "bin_end": 317.20000000000005,
                        "count": 0
                      },
                      {
                        "bin_start": 317.20000000000005,
                        "bin_end": 409.6,
                        "count": 1
                      },
                      {
                        "bin_start": 409.6,
                        "bin_end": 502,
                        "count": 0
                      },
                      {
                        "bin_start": 502,
                        "bin_end": 594.4000000000001,
                        "count": 1
                      },
                      {
                        "bin_start": 594.4000000000001,
                        "bin_end": 686.8000000000001,
                        "count": 0
                      },
                      {
                        "bin_start": 686.8000000000001,
                        "bin_end": 779.2,
                        "count": 0
                      },
                      {
                        "bin_start": 779.2,
                        "bin_end": 871.6,
                        "count": 0
                      },
                      {
                        "bin_start": 871.6,
                        "bin_end": 964,
                        "count": 1
                      }
                    ]
                  }
                },
                {
                  "name": 3,
                  "dtype": "int64",
                  "stats": {
                    "unique_count": 5,
                    "nan_count": 0,
                    "min": 37,
                    "max": 679,
                    "histogram": [
                      {
                        "bin_start": 37,
                        "bin_end": 101.2,
                        "count": 2
                      },
                      {
                        "bin_start": 101.2,
                        "bin_end": 165.4,
                        "count": 0
                      },
                      {
                        "bin_start": 165.4,
                        "bin_end": 229.60000000000002,
                        "count": 0
                      },
                      {
                        "bin_start": 229.60000000000002,
                        "bin_end": 293.8,
                        "count": 1
                      },
                      {
                        "bin_start": 293.8,
                        "bin_end": 358,
                        "count": 0
                      },
                      {
                        "bin_start": 358,
                        "bin_end": 422.20000000000005,
                        "count": 0
                      },
                      {
                        "bin_start": 422.20000000000005,
                        "bin_end": 486.40000000000003,
                        "count": 1
                      },
                      {
                        "bin_start": 486.40000000000003,
                        "bin_end": 550.6,
                        "count": 0
                      },
                      {
                        "bin_start": 550.6,
                        "bin_end": 614.8000000000001,
                        "count": 0
                      },
                      {
                        "bin_start": 614.8000000000001,
                        "bin_end": 679,
                        "count": 1
                      }
                    ]
                  }
                },
                {
                  "name": 4,
                  "dtype": "int64",
                  "stats": {
                    "unique_count": 5,
                    "nan_count": 0,
                    "min": 43,
                    "max": 710,
                    "histogram": [
                      {
                        "bin_start": 43,
                        "bin_end": 109.7,
                        "count": 2
                      },
                      {
                        "bin_start": 109.7,
                        "bin_end": 176.4,
                        "count": 0
                      },
                      {
                        "bin_start": 176.4,
                        "bin_end": 243.10000000000002,
                        "count": 0
                      },
                      {
                        "bin_start": 243.10000000000002,
                        "bin_end": 309.8,
                        "count": 1
                      },
                      {
                        "bin_start": 309.8,
                        "bin_end": 376.5,
                        "count": 0
                      },
                      {
                        "bin_start": 376.5,
                        "bin_end": 443.20000000000005,
                        "count": 1
                      },
                      {
                        "bin_start": 443.20000000000005,
                        "bin_end": 509.90000000000003,
                        "count": 0
                      },
                      {
                        "bin_start": 509.90000000000003,
                        "bin_end": 576.6,
                        "count": 0
                      },
                      {
                        "bin_start": 576.6,
                        "bin_end": 643.3000000000001,
                        "count": 0
                      },
                      {
                        "bin_start": 643.3000000000001,
                        "bin_end": 710,
                        "count": 1
                      }
                    ]
                  }
                },
                {
                  "name": "All",
                  "dtype": "int64",
                  "stats": {
                    "unique_count": 5,
                    "nan_count": 0,
                    "min": 48,
                    "max": 13481,
                    "histogram": [
                      {
                        "bin_start": 48,
                        "bin_end": 1391.3,
                        "count": 2
                      },
                      {
                        "bin_start": 1391.3,
                        "bin_end": 2734.6,
                        "count": 0
                      },
                      {
                        "bin_start": 2734.6,
                        "bin_end": 4077.8999999999996,
                        "count": 0
                      },
                      {
                        "bin_start": 4077.8999999999996,
                        "bin_end": 5421.2,
                        "count": 0
                      },
                      {
                        "bin_start": 5421.2,
                        "bin_end": 6764.5,
                        "count": 1
                      },
                      {
                        "bin_start": 6764.5,
                        "bin_end": 8107.799999999999,
                        "count": 1
                      },
                      {
                        "bin_start": 8107.799999999999,
                        "bin_end": 9451.1,
                        "count": 0
                      },
                      {
                        "bin_start": 9451.1,
                        "bin_end": 10794.4,
                        "count": 0
                      },
                      {
                        "bin_start": 10794.4,
                        "bin_end": 12137.699999999999,
                        "count": 0
                      },
                      {
                        "bin_start": 12137.699999999999,
                        "bin_end": 13481,
                        "count": 1
                      }
                    ]
                  }
                },
                {
                  "name": "_deepnote_index_column",
                  "dtype": "object"
                }
              ],
              "rows_top": [
                {
                  "0": 47,
                  "1": 58,
                  "2": 60,
                  "3": 63,
                  "4": 57,
                  "All": 52,
                  "_deepnote_index_column": "%(F)"
                },
                {
                  "0": 53,
                  "1": 42,
                  "2": 40,
                  "3": 37,
                  "4": 43,
                  "All": 48,
                  "_deepnote_index_column": "%(M)"
                },
                {
                  "0": 3317,
                  "1": 2311,
                  "2": 578,
                  "3": 431,
                  "4": 406,
                  "All": 7043,
                  "_deepnote_index_column": "N(F)"
                },
                {
                  "0": 3805,
                  "1": 1695,
                  "2": 386,
                  "3": 248,
                  "4": 304,
                  "All": 6438,
                  "_deepnote_index_column": "N(M)"
                },
                {
                  "0": 7122,
                  "1": 4006,
                  "2": 964,
                  "3": 679,
                  "4": 710,
                  "All": 13481,
                  "_deepnote_index_column": "N(total)"
                }
              ],
              "rows_bottom": null
            },
            "text/plain": "drug_group     0     1    2    3    4    All\n%(F)          47    58   60   63   57     52\n%(M)          53    42   40   37   43     48\nN(F)        3317  2311  578  431  406   7043\nN(M)        3805  1695  386  248  304   6438\nN(total)    7122  4006  964  679  710  13481",
            "text/html": "<div>\n<style scoped>\n    .dataframe tbody tr th:only-of-type {\n        vertical-align: middle;\n    }\n\n    .dataframe tbody tr th {\n        vertical-align: top;\n    }\n\n    .dataframe thead th {\n        text-align: right;\n    }\n</style>\n<table border=\"1\" class=\"dataframe\">\n  <thead>\n    <tr style=\"text-align: right;\">\n      <th>drug_group</th>\n      <th>0</th>\n      <th>1</th>\n      <th>2</th>\n      <th>3</th>\n      <th>4</th>\n      <th>All</th>\n    </tr>\n  </thead>\n  <tbody>\n    <tr>\n      <th>%(F)</th>\n      <td>47</td>\n      <td>58</td>\n      <td>60</td>\n      <td>63</td>\n      <td>57</td>\n      <td>52</td>\n    </tr>\n    <tr>\n      <th>%(M)</th>\n      <td>53</td>\n      <td>42</td>\n      <td>40</td>\n      <td>37</td>\n      <td>43</td>\n      <td>48</td>\n    </tr>\n    <tr>\n      <th>N(F)</th>\n      <td>3317</td>\n      <td>2311</td>\n      <td>578</td>\n      <td>431</td>\n      <td>406</td>\n      <td>7043</td>\n    </tr>\n    <tr>\n      <th>N(M)</th>\n      <td>3805</td>\n      <td>1695</td>\n      <td>386</td>\n      <td>248</td>\n      <td>304</td>\n      <td>6438</td>\n    </tr>\n    <tr>\n      <th>N(total)</th>\n      <td>7122</td>\n      <td>4006</td>\n      <td>964</td>\n      <td>679</td>\n      <td>710</td>\n      <td>13481</td>\n    </tr>\n  </tbody>\n</table>\n</div>"
          },
          "metadata": {}
        }
      ],
      "execution_count": 7
    },
    {
      "cell_type": "markdown",
      "source": "## Between-group analysis\n\nAge, gender, and BMI will confound everything",
      "metadata": {
        "tags": [],
        "cell_id": "00013-1eb13267-786d-47fd-a504-c0f30f6eb61d",
        "deepnote_cell_type": "markdown"
      }
    },
    {
      "cell_type": "code",
      "source": "drugs_by_age = [g[1].RIDAGEYR.values for g in dfs['DEMO'].query('drug_group != 0').groupby('drug_group')]\nanova = stats.f_oneway(*drugs_by_age)\n\nlogger.info(f'Excluding drug_group 0: F={anova[0]:.1f}, log p={np.log10(anova[1]):.1f}')\n\nfig, ax = plt.subplots(figsize=(8,4))\nax.grid()\nax.set_axisbelow(True)\nax.set_ylim(8,82)\nax.set_title('Age in different drug groups')\nax.set_ylabel('Age (years)')\nsns.violinplot(data=dfs['DEMO'], x='drug_group', y='RIDAGEYR', hue='RIAGENDR', cut=0, inner='quartiles', scale='count', split=True, ax=ax)\n\nplt.legend(title='gender', handles=ax.get_legend().legendHandles, labels=('M','F'), ncol=2, loc='upper left')\nplt.show()",
      "metadata": {
        "tags": [],
        "cell_id": "00013-531a8c89-3119-4823-8b5f-f7ddf084ef06",
        "deepnote_to_be_reexecuted": false,
        "source_hash": "93b25d82",
        "execution_millis": 311,
        "execution_start": 1615176336949,
        "deepnote_cell_type": "code"
      },
      "outputs": [
        {
          "name": "stdout",
          "text": "210308@04:05:36.938 INFO [pynhanes] Excluding drug_group 0: F=8.2, log p=-4.7\n",
          "output_type": "stream"
        },
        {
          "data": {
            "text/plain": "<Figure size 576x288 with 1 Axes>",
            "image/png": "[encoded data removed]"
          },
          "metadata": {
            "needs_background": "light"
          },
          "output_type": "display_data"
        }
      ],
      "execution_count": 8
    },
    {
      "cell_type": "code",
      "source": "biopro = pd.merge(\n    left = dfs['DEMO'][['year','SEQN','drug_group','RIDAGEYR','RIAGENDR']],\n    right = dfs['BIOPRO'],\n    on = ['SEQN','year'],\n    how = 'left',\n)\nlogger.info(f'BIOPRO: {biopro.shape}')\n\nbmx = pd.merge(\n    left = dfs['DEMO'][['year','SEQN','drug_group','RIDAGEYR','RIAGENDR']],\n    right = dfs['BMX'],\n    on = ['SEQN','year'],\n    how = 'left',\n)\nlogger.info(f'BMX: {bmx.shape}')\n\ncbc = pd.merge(\n    left = dfs['DEMO'][['year','SEQN','drug_group','RIDAGEYR','RIAGENDR']],\n    right = dfs['CBC'],\n    on = ['SEQN','year'],\n    how = 'left',\n)\nlogger.info(f'CBC: {cbc.shape}')",
      "metadata": {
        "tags": [],
        "cell_id": "00015-cd162a72-104d-40dc-ade7-4701bea25e9b",
        "deepnote_to_be_reexecuted": false,
        "source_hash": "cf78d8a",
        "execution_millis": 77,
        "execution_start": 1615176337266,
        "deepnote_cell_type": "code"
      },
      "outputs": [
        {
          "name": "stdout",
          "text": "210308@04:05:37.298 INFO [pynhanes] BIOPRO: (13481, 45)\n210308@04:05:37.316 INFO [pynhanes] BMX: (13481, 32)\n210308@04:05:37.334 INFO [pynhanes] CBC: (13481, 26)\n",
          "output_type": "stream"
        }
      ],
      "execution_count": 9
    },
    {
      "cell_type": "markdown",
      "source": "### BIOPRO",
      "metadata": {
        "tags": [],
        "cell_id": "00015-37e7380f-6ce2-4577-be81-1083c71a99e8",
        "deepnote_cell_type": "markdown"
      }
    },
    {
      "cell_type": "code",
      "source": "kws = []\nfor col in [c for c in dfs['BIOPRO'].columns[1:] if 'X' in c]:\n    biopro_by_age = [list(filter(lambda x: x==x, g[1][col].values)) for g in biopro.groupby('drug_group')]\n    anova = stats.f_oneway(*biopro_by_age)\n    kw = stats.kruskal(*biopro_by_age)\n    kws.append(kw)\n    logger.info(f'{col}: ANOVA F={anova[0]:.1f}, Kruskal–Wallis H={kw[0]:.1f}, KW log p={np.log10(kw[1]):.1f}')",
      "metadata": {
        "tags": [],
        "cell_id": "00016-5640ede5-8cd3-45b7-bf0e-3598b8763159",
        "deepnote_to_be_reexecuted": false,
        "source_hash": "93d110ce",
        "execution_millis": 335,
        "execution_start": 1615176337345,
        "deepnote_cell_type": "code"
      },
      "outputs": [
        {
          "name": "stdout",
          "text": "210308@04:05:37.385 INFO [pynhanes] LBXSAL: ANOVA F=79.8, Kruskal–Wallis H=339.8, KW log p=-71.6\n210308@04:05:37.404 INFO [pynhanes] LBXSAPSI: ANOVA F=22.1, Kruskal–Wallis H=98.5, KW log p=-19.7\n210308@04:05:37.421 INFO [pynhanes] LBXSASSI: ANOVA F=1.9, Kruskal–Wallis H=9.1, KW log p=-1.2\n210308@04:05:37.438 INFO [pynhanes] LBXSATSI: ANOVA F=0.3, Kruskal–Wallis H=11.5, KW log p=-1.7\n210308@04:05:37.449 INFO [pynhanes] LBXSBU: ANOVA F=54.6, Kruskal–Wallis H=153.7, KW log p=-31.5\n210308@04:05:37.461 INFO [pynhanes] LBXSC3SI: ANOVA F=2.6, Kruskal–Wallis H=7.5, KW log p=-0.9\n210308@04:05:37.474 INFO [pynhanes] LBXSCA: ANOVA F=0.1, Kruskal–Wallis H=0.7, KW log p=-0.0\n210308@04:05:37.484 INFO [pynhanes] LBXSCH: ANOVA F=4.6, Kruskal–Wallis H=21.6, KW log p=-3.6\n210308@04:05:37.496 INFO [pynhanes] LBXSCK: ANOVA F=6.5, Kruskal–Wallis H=136.5, KW log p=-27.8\n210308@04:05:37.506 INFO [pynhanes] LBXSCLSI: ANOVA F=25.1, Kruskal–Wallis H=82.8, KW log p=-16.4\n210308@04:05:37.524 INFO [pynhanes] LBXSCR: ANOVA F=16.2, Kruskal–Wallis H=18.0, KW log p=-2.9\n210308@04:05:37.537 INFO [pynhanes] LBXSGB: ANOVA F=8.7, Kruskal–Wallis H=24.7, KW log p=-4.2\n210308@04:05:37.547 INFO [pynhanes] LBXSGL: ANOVA F=91.4, Kruskal–Wallis H=431.2, KW log p=-91.3\n210308@04:05:37.558 INFO [pynhanes] LBXSGTSI: ANOVA F=14.0, Kruskal–Wallis H=201.2, KW log p=-41.7\n210308@04:05:37.568 INFO [pynhanes] LBXSIR: ANOVA F=13.1, Kruskal–Wallis H=58.4, KW log p=-11.2\n210308@04:05:37.578 INFO [pynhanes] LBXSKSI: ANOVA F=6.8, Kruskal–Wallis H=26.9, KW log p=-4.7\n210308@04:05:37.588 INFO [pynhanes] LBXSLDSI: ANOVA F=20.1, Kruskal–Wallis H=89.7, KW log p=-17.8\n210308@04:05:37.597 INFO [pynhanes] LBXSNASI: ANOVA F=2.0, Kruskal–Wallis H=6.2, KW log p=-0.7\n210308@04:05:37.608 INFO [pynhanes] LBXSOSSI: ANOVA F=30.3, Kruskal–Wallis H=105.8, KW log p=-21.2\n210308@04:05:37.617 INFO [pynhanes] LBXSPH: ANOVA F=3.6, Kruskal–Wallis H=12.1, KW log p=-1.8\n210308@04:05:37.626 INFO [pynhanes] LBXSTB: ANOVA F=26.6, Kruskal–Wallis H=111.0, KW log p=-22.4\n210308@04:05:37.635 INFO [pynhanes] LBXSTP: ANOVA F=25.4, Kruskal–Wallis H=113.5, KW log p=-22.9\n210308@04:05:37.645 INFO [pynhanes] LBXSTR: ANOVA F=13.1, Kruskal–Wallis H=189.4, KW log p=-39.1\n210308@04:05:37.655 INFO [pynhanes] LBXSUA: ANOVA F=4.3, Kruskal–Wallis H=11.8, KW log p=-1.7\n",
          "output_type": "stream"
        }
      ],
      "execution_count": 10
    },
    {
      "cell_type": "code",
      "source": "col = 'LBXSAL'\n\nfig, ax = plt.subplots(figsize=(8,4))\nax.grid()\nax.set_axisbelow(True)\n# ax.set_ylim(5,85)\nax.set_title(f'{col} in different drug groups')\nax.set_ylabel(col)\nsns.violinplot(data=biopro, x='drug_group', y=col, hue='RIAGENDR', cut=0, inner='quartiles', scale='count', split=True, ax=ax)\nplt.legend(title='gender', handles=ax.get_legend().legendHandles, labels=('M','F'), ncol=2, loc='upper left')\nplt.show()",
      "metadata": {
        "tags": [],
        "cell_id": "00017-820ecf83-66a6-4651-8385-aec2b9066fe8",
        "deepnote_to_be_reexecuted": false,
        "source_hash": "1ccef68d",
        "execution_millis": 301,
        "execution_start": 1615176337680,
        "deepnote_cell_type": "code"
      },
      "outputs": [
        {
          "data": {
            "text/plain": "<Figure size 576x288 with 1 Axes>",
            "image/png": "[encoded data removed]"
          },
          "metadata": {
            "needs_background": "light"
          },
          "output_type": "display_data"
        }
      ],
      "execution_count": 11
    },
    {
      "cell_type": "markdown",
      "source": "### BMX",
      "metadata": {
        "tags": [],
        "cell_id": "00015-9ba5ff05-cd58-4b43-ae10-b927642a598e",
        "deepnote_cell_type": "markdown"
      }
    },
    {
      "cell_type": "code",
      "source": "kws = []\nfor col in [c for c in dfs['BMX'].columns[1:] if 'X' in c]:\n    bmx_by_age = [list(filter(lambda x: x==x, g[1][col].values)) for g in bmx.groupby('drug_group')]\n    anova = stats.f_oneway(*bmx_by_age)\n    kw = stats.kruskal(*bmx_by_age)\n    kws.append(kw)\n    logger.info(f'{col}: ANOVA F={anova[0]:.1f}, Kruskal–Wallis H={kw[0]:.1f}, KW log p={np.log10(kw[1]):.1f}')",
      "metadata": {
        "tags": [],
        "cell_id": "00015-e0b56431-d09e-4095-9c09-0cfaf78de16d",
        "deepnote_to_be_reexecuted": false,
        "source_hash": "b830a1b7",
        "execution_millis": 352,
        "execution_start": 1615176337981,
        "deepnote_cell_type": "code"
      },
      "outputs": [
        {
          "name": "stdout",
          "text": "210308@04:05:38.149 INFO [pynhanes] BMXWT: ANOVA F=67.5, Kruskal–Wallis H=244.3, KW log p=-50.9\n210308@04:05:38.163 INFO [pynhanes] BMXRECUM: ANOVA F=nan, Kruskal–Wallis H=nan, KW log p=nan\n210308@04:05:38.168 INFO [pynhanes] BMXHEAD: ANOVA F=nan, Kruskal–Wallis H=nan, KW log p=nan\n210308@04:05:38.181 INFO [pynhanes] BMXHT: ANOVA F=14.7, Kruskal–Wallis H=63.5, KW log p=-12.3\n210308@04:05:38.193 INFO [pynhanes] BMXBMI: ANOVA F=113.2, Kruskal–Wallis H=414.9, KW log p=-87.8\n210308@04:05:38.204 INFO [pynhanes] BMXLEG: ANOVA F=55.4, Kruskal–Wallis H=209.8, KW log p=-43.5\n210308@04:05:38.215 INFO [pynhanes] BMXARML: ANOVA F=4.3, Kruskal–Wallis H=13.5, KW log p=-2.0\n210308@04:05:38.226 INFO [pynhanes] BMXARMC: ANOVA F=44.5, Kruskal–Wallis H=165.8, KW log p=-34.1\n210308@04:05:38.240 INFO [pynhanes] BMXWAIST: ANOVA F=160.4, Kruskal–Wallis H=615.3, KW log p=-131.1\n210308@04:05:38.251 INFO [pynhanes] BMXSAD1: ANOVA F=120.4, Kruskal–Wallis H=429.1, KW log p=-90.8\n210308@04:05:38.261 INFO [pynhanes] BMXSAD2: ANOVA F=120.6, Kruskal–Wallis H=429.6, KW log p=-91.0\n210308@04:05:38.272 INFO [pynhanes] BMXSAD3: ANOVA F=6.5, Kruskal–Wallis H=26.8, KW log p=-4.7\n210308@04:05:38.282 INFO [pynhanes] BMXSAD4: ANOVA F=6.6, Kruskal–Wallis H=27.3, KW log p=-4.8\n210308@04:05:38.290 INFO [pynhanes] BMXHIP: ANOVA F=33.4, Kruskal–Wallis H=114.9, KW log p=-23.2\n/shared-libs/python3.7/py/lib/python3.7/site-packages/scipy/stats/stats.py:3680: F_onewayBadInputSizesWarning: at least one input has length 0\n  warnings.warn(F_onewayBadInputSizesWarning('at least one input '\n",
          "output_type": "stream"
        }
      ],
      "execution_count": 12
    },
    {
      "cell_type": "code",
      "source": "col = 'BMXBMI'\n\nfig, ax = plt.subplots(figsize=(8,4))\nax.grid()\nax.set_axisbelow(True)\n# ax.set_ylim(5,85)\nax.set_title(f'{col} in different drug groups')\nax.set_ylabel(col)\nsns.violinplot(data=bmx, x='drug_group', y=col, hue='RIAGENDR', cut=0, inner='quartiles', scale='count', split=True, ax=ax)\nplt.legend(title='gender', handles=ax.get_legend().legendHandles, labels=('M','F'), ncol=2, loc='upper left')\nplt.show()",
      "metadata": {
        "tags": [],
        "cell_id": "00017-580377db-21b1-4c30-be76-5382d7cf83f1",
        "deepnote_to_be_reexecuted": false,
        "source_hash": "505b87c8",
        "execution_millis": 298,
        "execution_start": 1615176338327,
        "deepnote_cell_type": "code"
      },
      "outputs": [
        {
          "data": {
            "text/plain": "<Figure size 576x288 with 1 Axes>",
            "image/png": "[encoded data removed]"
          },
          "metadata": {
            "needs_background": "light"
          },
          "output_type": "display_data"
        }
      ],
      "execution_count": 13
    },
    {
      "cell_type": "markdown",
      "source": "### CBC\nThe difference between drug groups is mainly due to gender differences.  Biggest F / H scores are observed for measures related to red blood cells (RBC count, hemoglobin, hematocrit).",
      "metadata": {
        "tags": [],
        "cell_id": "00015-77b2acdf-0a75-43e7-b987-84d1c076c169",
        "deepnote_cell_type": "markdown"
      }
    },
    {
      "cell_type": "code",
      "source": "kws = []\nfor col in dfs['CBC'].columns[1:]:\n    cbc_by_age = [list(filter(lambda x: x==x, g[1][col].values)) for g in cbc.groupby('drug_group')]\n    anova = stats.f_oneway(*cbc_by_age)\n    kw = stats.kruskal(*cbc_by_age)\n    kws.append(kw)\n    logger.info(f'{col}: ANOVA F={anova[0]:.1f}, Kruskal–Wallis H={kw[0]:.1f}, KW log p={np.log10(kw[1]):.1f}')",
      "metadata": {
        "tags": [],
        "cell_id": "00015-f2bc1e31-cf9a-4fd1-b9a6-8335a081eb3c",
        "deepnote_to_be_reexecuted": false,
        "source_hash": "1ff6fa5a",
        "execution_millis": 245,
        "execution_start": 1615176338621,
        "deepnote_cell_type": "code"
      },
      "outputs": [
        {
          "name": "stdout",
          "text": "210308@04:05:38.644 INFO [pynhanes] LBXWBCSI: ANOVA F=14.9, Kruskal–Wallis H=44.2, KW log p=-8.2\n210308@04:05:38.654 INFO [pynhanes] LBXLYPCT: ANOVA F=12.7, Kruskal–Wallis H=54.0, KW log p=-10.3\n210308@04:05:38.664 INFO [pynhanes] LBXMOPCT: ANOVA F=0.5, Kruskal–Wallis H=1.6, KW log p=-0.1\n210308@04:05:38.675 INFO [pynhanes] LBXNEPCT: ANOVA F=8.8, Kruskal–Wallis H=34.8, KW log p=-6.3\n210308@04:05:38.685 INFO [pynhanes] LBXEOPCT: ANOVA F=2.1, Kruskal–Wallis H=18.4, KW log p=-3.0\n210308@04:05:38.694 INFO [pynhanes] LBXBAPCT: ANOVA F=13.8, Kruskal–Wallis H=63.8, KW log p=-12.3\n210308@04:05:38.705 INFO [pynhanes] LBDLYMNO: ANOVA F=3.6, Kruskal–Wallis H=14.9, KW log p=-2.3\n210308@04:05:38.715 INFO [pynhanes] LBDMONO: ANOVA F=9.7, Kruskal–Wallis H=27.7, KW log p=-4.8\n210308@04:05:38.726 INFO [pynhanes] LBDNENO: ANOVA F=15.2, Kruskal–Wallis H=48.2, KW log p=-9.1\n210308@04:05:38.736 INFO [pynhanes] LBDEONO: ANOVA F=3.1, Kruskal–Wallis H=25.8, KW log p=-4.5\n210308@04:05:38.745 INFO [pynhanes] LBDBANO: ANOVA F=21.8, Kruskal–Wallis H=82.2, KW log p=-16.2\n210308@04:05:38.757 INFO [pynhanes] LBXRBCSI: ANOVA F=43.6, Kruskal–Wallis H=175.2, KW log p=-36.1\n210308@04:05:38.768 INFO [pynhanes] LBXHGB: ANOVA F=29.9, Kruskal–Wallis H=157.8, KW log p=-32.4\n210308@04:05:38.778 INFO [pynhanes] LBXHCT: ANOVA F=28.7, Kruskal–Wallis H=146.3, KW log p=-29.9\n210308@04:05:38.789 INFO [pynhanes] LBXMCVSI: ANOVA F=9.2, Kruskal–Wallis H=36.0, KW log p=-6.5\n210308@04:05:38.799 INFO [pynhanes] LBXMCHSI: ANOVA F=3.5, Kruskal–Wallis H=15.7, KW log p=-2.5\n210308@04:05:38.810 INFO [pynhanes] LBXMC: ANOVA F=5.1, Kruskal–Wallis H=25.8, KW log p=-4.5\n210308@04:05:38.820 INFO [pynhanes] LBXRDW: ANOVA F=35.1, Kruskal–Wallis H=223.8, KW log p=-46.6\n210308@04:05:38.830 INFO [pynhanes] LBXPLTSI: ANOVA F=6.5, Kruskal–Wallis H=23.7, KW log p=-4.0\n210308@04:05:38.840 INFO [pynhanes] LBXMPSI: ANOVA F=1.8, Kruskal–Wallis H=8.5, KW log p=-1.1\n210308@04:05:38.851 INFO [pynhanes] year: ANOVA F=4.1, Kruskal–Wallis H=16.5, KW log p=-2.6\n210308@04:05:38.859 INFO [pynhanes] LBXNRBC: ANOVA F=1.5, Kruskal–Wallis H=5.9, KW log p=-0.7\n",
          "output_type": "stream"
        }
      ],
      "execution_count": 14
    },
    {
      "cell_type": "code",
      "source": "col = 'LBXHGB'\n\nfig, ax = plt.subplots(figsize=(8,4))\nax.grid()\nax.set_axisbelow(True)\n# ax.set_ylim(5,85)\nax.set_title(f'{col} in different drug groups')\nax.set_ylabel(col)\nsns.violinplot(data=cbc, x='drug_group', y=col, hue='RIAGENDR', split=True, inner='quartile', ax=ax)\nplt.legend(title='gender', handles=ax.get_legend().legendHandles, labels=('M','F'), ncol=2, loc='upper left')\nplt.show()",
      "metadata": {
        "tags": [],
        "cell_id": "00015-dc0d1d09-94e5-42a7-a0c5-13cff8948c74",
        "deepnote_to_be_reexecuted": false,
        "source_hash": "18b82f73",
        "execution_millis": 321,
        "execution_start": 1615176338869,
        "deepnote_cell_type": "code"
      },
      "outputs": [
        {
          "data": {
            "text/plain": "<Figure size 576x288 with 1 Axes>",
            "image/png": "[encoded data removed]"
          },
          "metadata": {
            "needs_background": "light"
          },
          "output_type": "display_data"
        }
      ],
      "execution_count": 15
    },
    {
      "cell_type": "code",
      "source": "# nrx = df[df.RXDDRGID == ''].groupby('SEQN').RXDDRGID.nunique()  #.value_counts()\n# nrx.value_counts()",
      "metadata": {
        "tags": [],
        "cell_id": "00008-fd30496a-82a8-4ad9-8d02-a00c494595bd",
        "deepnote_to_be_reexecuted": false,
        "source_hash": "fb5ef8e2",
        "execution_millis": 0,
        "execution_start": 1615176388383,
        "deepnote_cell_type": "code"
      },
      "outputs": [],
      "execution_count": 17
    },
    {
      "cell_type": "code",
      "metadata": {
        "tags": [],
        "cell_id": "00008-cf007044-235f-4e3b-a7f4-458643121dfb",
        "deepnote_to_be_reexecuted": true,
        "source_hash": "81f25b35",
        "execution_millis": 128,
        "deepnote_cell_type": "code"
      },
      "source": "# interesting people\n# dfs['BMX'].query(\"SEQN == 100222\")  ## 22 prescriptions\n# dfs['BMX'].query(\"SEQN == 77111\")  ## 23 prescriptions\n\n# df[df.apply(lambda x: x.astype(str).str.contains('alg', case=False)).any(axis=1)]",
      "outputs": [],
      "execution_count": null
    },
    {
      "cell_type": "markdown",
      "source": "<a style='text-decoration:none;line-height:16px;display:flex;color:#5B5B62;padding:10px;justify-content:end;' href='https://deepnote.com?utm_source=created-in-deepnote-cell&projectId=98f37550-cbaa-491c-a3ea-f393696dc041' target=\"_blank\">\n<img style='display:inline;max-height:16px;margin:0px;margin-right:7.5px;' src='data:image/svg+xml;base64,PD94bWwgdmVyc2lvbj0iMS4wIiBlbmNvZGluZz0iVVRGLTgiPz4KPHN2ZyB3aWR0aD0iODBweCIgaGVpZ2h0PSI4MHB4IiB2aWV3Qm94PSIwIDAgODAgODAiIHZlcnNpb249IjEuMSIgeG1sbnM9Imh0dHA6Ly93d3cudzMub3JnLzIwMDAvc3ZnIiB4bWxuczp4bGluaz0iaHR0cDovL3d3dy53My5vcmcvMTk5OS94bGluayI+CiAgICA8IS0tIEdlbmVyYXRvcjogU2tldGNoIDU0LjEgKDc2NDkwKSAtIGh0dHBzOi8vc2tldGNoYXBwLmNvbSAtLT4KICAgIDx0aXRsZT5Hcm91cCAzPC90aXRsZT4KICAgIDxkZXNjPkNyZWF0ZWQgd2l0aCBTa2V0Y2guPC9kZXNjPgogICAgPGcgaWQ9IkxhbmRpbmciIHN0cm9rZT0ibm9uZSIgc3Ryb2tlLXdpZHRoPSIxIiBmaWxsPSJub25lIiBmaWxsLXJ1bGU9ImV2ZW5vZGQiPgogICAgICAgIDxnIGlkPSJBcnRib2FyZCIgdHJhbnNmb3JtPSJ0cmFuc2xhdGUoLTEyMzUuMDAwMDAwLCAtNzkuMDAwMDAwKSI+CiAgICAgICAgICAgIDxnIGlkPSJHcm91cC0zIiB0cmFuc2Zvcm09InRyYW5zbGF0ZSgxMjM1LjAwMDAwMCwgNzkuMDAwMDAwKSI+CiAgICAgICAgICAgICAgICA8cG9seWdvbiBpZD0iUGF0aC0yMCIgZmlsbD0iIzAyNjVCNCIgcG9pbnRzPSIyLjM3NjIzNzYyIDgwIDM4LjA0NzY2NjcgODAgNTcuODIxNzgyMiA3My44MDU3NTkyIDU3LjgyMTc4MjIgMzIuNzU5MjczOSAzOS4xNDAyMjc4IDMxLjY4MzE2ODMiPjwvcG9seWdvbj4KICAgICAgICAgICAgICAgIDxwYXRoIGQ9Ik0zNS4wMDc3MTgsODAgQzQyLjkwNjIwMDcsNzYuNDU0OTM1OCA0Ny41NjQ5MTY3LDcxLjU0MjI2NzEgNDguOTgzODY2LDY1LjI2MTk5MzkgQzUxLjExMjI4OTksNTUuODQxNTg0MiA0MS42NzcxNzk1LDQ5LjIxMjIyODQgMjUuNjIzOTg0Niw0OS4yMTIyMjg0IEMyNS40ODQ5Mjg5LDQ5LjEyNjg0NDggMjkuODI2MTI5Niw0My4yODM4MjQ4IDM4LjY0NzU4NjksMzEuNjgzMTY4MyBMNzIuODcxMjg3MSwzMi41NTQ0MjUgTDY1LjI4MDk3Myw2Ny42NzYzNDIxIEw1MS4xMTIyODk5LDc3LjM3NjE0NCBMMzUuMDA3NzE4LDgwIFoiIGlkPSJQYXRoLTIyIiBmaWxsPSIjMDAyODY4Ij48L3BhdGg+CiAgICAgICAgICAgICAgICA8cGF0aCBkPSJNMCwzNy43MzA0NDA1IEwyNy4xMTQ1MzcsMC4yNTcxMTE0MzYgQzYyLjM3MTUxMjMsLTEuOTkwNzE3MDEgODAsMTAuNTAwMzkyNyA4MCwzNy43MzA0NDA1IEM4MCw2NC45NjA0ODgyIDY0Ljc3NjUwMzgsNzkuMDUwMzQxNCAzNC4zMjk1MTEzLDgwIEM0Ny4wNTUzNDg5LDc3LjU2NzA4MDggNTMuNDE4MjY3Nyw3MC4zMTM2MTAzIDUzLjQxODI2NzcsNTguMjM5NTg4NSBDNTMuNDE4MjY3Nyw0MC4xMjg1NTU3IDM2LjMwMzk1NDQsMzcuNzMwNDQwNSAyNS4yMjc0MTcsMzcuNzMwNDQwNSBDMTcuODQzMDU4NiwzNy43MzA0NDA1IDkuNDMzOTE5NjYsMzcuNzMwNDQwNSAwLDM3LjczMDQ0MDUgWiIgaWQ9IlBhdGgtMTkiIGZpbGw9IiMzNzkzRUYiPjwvcGF0aD4KICAgICAgICAgICAgPC9nPgogICAgICAgIDwvZz4KICAgIDwvZz4KPC9zdmc+' > </img>\nCreated in <span style='font-weight:600;margin-left:4px;'>Deepnote</span></a>",
      "metadata": {
        "tags": [],
        "created_in_deepnote_cell": true,
        "deepnote_cell_type": "markdown"
      }
    }
  ],
  "nbformat": 4,
  "nbformat_minor": 2,
  "metadata": {
    "orig_nbformat": 2,
    "deepnote_notebook_id": "049fbbe2-a979-4fac-bc0e-e43033f6988d",
    "deepnote": {},
    "deepnote_execution_queue": []
  }
}