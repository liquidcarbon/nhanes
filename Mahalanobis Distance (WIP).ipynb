{
  "cells": [
    {
      "cell_type": "markdown",
      "source": "# Mahalanobis Distance\nThe Mahalanobis distance is a measure of the distance between a point P and a distribution D.  It is a multi-dimensional generalization of the idea of measuring how many standard deviations away P is from the mean of D. This distance is zero if P is at the mean of D, and grows as P moves away from the mean along each principal component axis. If each of these axes is re-scaled to have unit variance, then the Mahalanobis distance corresponds to standard Euclidean distance in the transformed space. The Mahalanobis distance is thus unitless and scale-invariant, and takes into account the correlations of the data set.",
      "metadata": {
        "tags": [],
        "cell_id": "00000-651ce9eb-6313-45f7-8576-160eb454a6df",
        "deepnote_cell_type": "markdown"
      }
    },
    {
      "cell_type": "code",
      "metadata": {
        "tags": [],
        "deepnote_to_be_reexecuted": false,
        "source_hash": "2f19d1f9",
        "execution_millis": 16,
        "cell_id": "00001-c38ea305-5ebc-4688-8599-512ca2c3a667",
        "execution_start": 1615183576186,
        "deepnote_cell_type": "code"
      },
      "source": "%load_ext autoreload\n%autoreload 2",
      "execution_count": 1,
      "outputs": []
    },
    {
      "cell_type": "code",
      "metadata": {
        "tags": [],
        "deepnote_to_be_reexecuted": false,
        "source_hash": "2b7a4bf6",
        "execution_millis": 799,
        "cell_id": "00002-428664a9-72a2-4675-a013-ea280229efdb",
        "execution_start": 1615183576208,
        "deepnote_cell_type": "code"
      },
      "source": "import logging\nimport matplotlib.pyplot as plt\nimport numpy as np\nimport os\nimport pandas as pd\nimport seaborn as sns\nimport sys\n\nfrom scipy import linalg, stats\n\nformatter = logging.Formatter(\n    fmt='%(asctime)s.%(msecs)03d %(levelname)s [%(name)s] %(message)s',\n    datefmt='%y%m%d@%H:%M:%S',\n)\n\nlogger = logging.getLogger('pynhanes')\nlogger.setLevel(logging.DEBUG)\n# f = logging.FileHandler('nhanes.log')\n# f.setFormatter(formatter)\nh = logging.StreamHandler(stream=sys.stdout)\nh.setFormatter(formatter)\n\nif not logger.hasHandlers():\n    logger.addHandler(h)  # log to STDOUT or Jupyter\n#     logger.addHandler(f)  # log to file\n\nimport pynhanes",
      "execution_count": 2,
      "outputs": [
        {
          "name": "stdout",
          "text": "210308@06:06:16.973 DEBUG [pynhanes] pynhanes package (re)loaded\n",
          "output_type": "stream"
        }
      ]
    },
    {
      "cell_type": "code",
      "metadata": {
        "tags": [],
        "deepnote_to_be_reexecuted": false,
        "source_hash": "3208402b",
        "execution_millis": 3497,
        "cell_id": "00003-c5cfeb20-997c-4bb3-9a42-16a451c41903",
        "execution_start": 1615183576996,
        "deepnote_cell_type": "code"
      },
      "source": "dfs = pynhanes.data.load(datasets=['DEMO','BMX'], years=(2015, 2018))",
      "execution_count": 3,
      "outputs": [
        {
          "name": "stdout",
          "text": "210308@06:06:18.175 INFO [pynhanes.data] read 9971 rows x 47 cols from https://wwwn.cdc.gov/Nchs/Nhanes/2015-2016/DEMO_I.XPT\n210308@06:06:19.236 INFO [pynhanes.data] read 9254 rows x 46 cols from https://wwwn.cdc.gov/Nchs/Nhanes/2017-2018/DEMO_J.XPT\n210308@06:06:19.246 INFO [pynhanes.data] combined DEMO datasets: 19225 rows x 52 cols\n210308@06:06:19.905 INFO [pynhanes.data] read 9544 rows x 26 cols from https://wwwn.cdc.gov/Nchs/Nhanes/2015-2016/BMX_I.XPT\n210308@06:06:20.481 INFO [pynhanes.data] read 8704 rows x 21 cols from https://wwwn.cdc.gov/Nchs/Nhanes/2017-2018/BMX_J.XPT\n210308@06:06:20.487 INFO [pynhanes.data] combined BMX datasets: 18248 rows x 29 cols\n",
          "output_type": "stream"
        }
      ]
    },
    {
      "cell_type": "code",
      "metadata": {
        "tags": [],
        "deepnote_to_be_reexecuted": false,
        "source_hash": "110db102",
        "execution_millis": 68,
        "cell_id": "00004-be0cd8ad-cc21-49c4-931a-014adf28c8c4",
        "execution_start": 1615183580499,
        "deepnote_cell_type": "code"
      },
      "source": "cols = ['RIDAGEYR','RIAGENDR','BMXBMI']\ndf = pd.concat([d.set_index('SEQN') for d in dfs.values()], axis=1, join='outer')\n\n# gab: gender, age, bmi\ngab = df.loc[df.RIDAGEYR.between(18,65), cols].dropna()\ngab.shape",
      "execution_count": 4,
      "outputs": [
        {
          "output_type": "execute_result",
          "execution_count": 4,
          "data": {
            "text/plain": "(8651, 3)"
          },
          "metadata": {}
        }
      ]
    },
    {
      "cell_type": "code",
      "source": "gab.head()",
      "metadata": {
        "tags": [],
        "cell_id": "00005-ecc58616-8054-4517-9cd1-643952f79eda",
        "deepnote_to_be_reexecuted": false,
        "source_hash": "9973b829",
        "execution_millis": 40,
        "execution_start": 1615183580565,
        "deepnote_cell_type": "code"
      },
      "outputs": [
        {
          "output_type": "execute_result",
          "execution_count": 5,
          "data": {
            "application/vnd.deepnote.dataframe.v2+json": {
              "row_count": 5,
              "column_count": 3,
              "columns": [
                {
                  "name": "RIDAGEYR",
                  "dtype": "float64",
                  "stats": {
                    "unique_count": 5,
                    "nan_count": 0,
                    "min": 22,
                    "max": 62,
                    "histogram": [
                      {
                        "bin_start": 22,
                        "bin_end": 26,
                        "count": 1
                      },
                      {
                        "bin_start": 26,
                        "bin_end": 30,
                        "count": 0
                      },
                      {
                        "bin_start": 30,
                        "bin_end": 34,
                        "count": 0
                      },
                      {
                        "bin_start": 34,
                        "bin_end": 38,
                        "count": 0
                      },
                      {
                        "bin_start": 38,
                        "bin_end": 42,
                        "count": 0
                      },
                      {
                        "bin_start": 42,
                        "bin_end": 46,
                        "count": 1
                      },
                      {
                        "bin_start": 46,
                        "bin_end": 50,
                        "count": 0
                      },
                      {
                        "bin_start": 50,
                        "bin_end": 54,
                        "count": 1
                      },
                      {
                        "bin_start": 54,
                        "bin_end": 58,
                        "count": 1
                      },
                      {
                        "bin_start": 58,
                        "bin_end": 62,
                        "count": 1
                      }
                    ]
                  }
                },
                {
                  "name": "RIAGENDR",
                  "dtype": "float64",
                  "stats": {
                    "unique_count": 2,
                    "nan_count": 0,
                    "min": 1,
                    "max": 2,
                    "histogram": [
                      {
                        "bin_start": 1,
                        "bin_end": 1.1,
                        "count": 3
                      },
                      {
                        "bin_start": 1.1,
                        "bin_end": 1.2,
                        "count": 0
                      },
                      {
                        "bin_start": 1.2,
                        "bin_end": 1.3,
                        "count": 0
                      },
                      {
                        "bin_start": 1.3,
                        "bin_end": 1.4,
                        "count": 0
                      },
                      {
                        "bin_start": 1.4,
                        "bin_end": 1.5,
                        "count": 0
                      },
                      {
                        "bin_start": 1.5,
                        "bin_end": 1.6,
                        "count": 0
                      },
                      {
                        "bin_start": 1.6,
                        "bin_end": 1.7000000000000002,
                        "count": 0
                      },
                      {
                        "bin_start": 1.7000000000000002,
                        "bin_end": 1.8,
                        "count": 0
                      },
                      {
                        "bin_start": 1.8,
                        "bin_end": 1.9,
                        "count": 0
                      },
                      {
                        "bin_start": 1.9,
                        "bin_end": 2,
                        "count": 2
                      }
                    ]
                  }
                },
                {
                  "name": "BMXBMI",
                  "dtype": "float64",
                  "stats": {
                    "unique_count": 5,
                    "nan_count": 0,
                    "min": 20.3,
                    "max": 42.4,
                    "histogram": [
                      {
                        "bin_start": 20.3,
                        "bin_end": 22.51,
                        "count": 1
                      },
                      {
                        "bin_start": 22.51,
                        "bin_end": 24.72,
                        "count": 0
                      },
                      {
                        "bin_start": 24.72,
                        "bin_end": 26.93,
                        "count": 0
                      },
                      {
                        "bin_start": 26.93,
                        "bin_end": 29.14,
                        "count": 2
                      },
                      {
                        "bin_start": 29.14,
                        "bin_end": 31.35,
                        "count": 1
                      },
                      {
                        "bin_start": 31.35,
                        "bin_end": 33.56,
                        "count": 0
                      },
                      {
                        "bin_start": 33.56,
                        "bin_end": 35.769999999999996,
                        "count": 0
                      },
                      {
                        "bin_start": 35.769999999999996,
                        "bin_end": 37.980000000000004,
                        "count": 0
                      },
                      {
                        "bin_start": 37.980000000000004,
                        "bin_end": 40.19,
                        "count": 0
                      },
                      {
                        "bin_start": 40.19,
                        "bin_end": 42.4,
                        "count": 1
                      }
                    ]
                  }
                },
                {
                  "name": "_deepnote_index_column",
                  "dtype": "float64"
                }
              ],
              "rows_top": [
                {
                  "RIDAGEYR": 62,
                  "RIAGENDR": 1,
                  "BMXBMI": 27.8,
                  "_deepnote_index_column": 83732
                },
                {
                  "RIDAGEYR": 53,
                  "RIAGENDR": 1,
                  "BMXBMI": 30.8,
                  "_deepnote_index_column": 83733
                },
                {
                  "RIDAGEYR": 56,
                  "RIAGENDR": 2,
                  "BMXBMI": 42.4,
                  "_deepnote_index_column": 83735
                },
                {
                  "RIDAGEYR": 42,
                  "RIAGENDR": 2,
                  "BMXBMI": 20.3,
                  "_deepnote_index_column": 83736
                },
                {
                  "RIDAGEYR": 22,
                  "RIAGENDR": 1,
                  "BMXBMI": 28,
                  "_deepnote_index_column": 83741
                }
              ],
              "rows_bottom": null
            },
            "text/plain": "         RIDAGEYR  RIAGENDR  BMXBMI\nSEQN                               \n83732.0      62.0       1.0    27.8\n83733.0      53.0       1.0    30.8\n83735.0      56.0       2.0    42.4\n83736.0      42.0       2.0    20.3\n83741.0      22.0       1.0    28.0",
            "text/html": "<div>\n<style scoped>\n    .dataframe tbody tr th:only-of-type {\n        vertical-align: middle;\n    }\n\n    .dataframe tbody tr th {\n        vertical-align: top;\n    }\n\n    .dataframe thead th {\n        text-align: right;\n    }\n</style>\n<table border=\"1\" class=\"dataframe\">\n  <thead>\n    <tr style=\"text-align: right;\">\n      <th></th>\n      <th>RIDAGEYR</th>\n      <th>RIAGENDR</th>\n      <th>BMXBMI</th>\n    </tr>\n    <tr>\n      <th>SEQN</th>\n      <th></th>\n      <th></th>\n      <th></th>\n    </tr>\n  </thead>\n  <tbody>\n    <tr>\n      <th>83732.0</th>\n      <td>62.0</td>\n      <td>1.0</td>\n      <td>27.8</td>\n    </tr>\n    <tr>\n      <th>83733.0</th>\n      <td>53.0</td>\n      <td>1.0</td>\n      <td>30.8</td>\n    </tr>\n    <tr>\n      <th>83735.0</th>\n      <td>56.0</td>\n      <td>2.0</td>\n      <td>42.4</td>\n    </tr>\n    <tr>\n      <th>83736.0</th>\n      <td>42.0</td>\n      <td>2.0</td>\n      <td>20.3</td>\n    </tr>\n    <tr>\n      <th>83741.0</th>\n      <td>22.0</td>\n      <td>1.0</td>\n      <td>28.0</td>\n    </tr>\n  </tbody>\n</table>\n</div>"
          },
          "metadata": {}
        }
      ],
      "execution_count": 5
    },
    {
      "cell_type": "code",
      "source": "def mahalanobis(x=None, data=None, cov=None):\n    \"\"\"Compute the Mahalanobis Distance between each row of x and the data  \n    x    : vector or matrix of data with, say, p columns.\n    data : ndarray of the distribution from which Mahalanobis distance of each observation of x is to be computed.\n    cov  : covariance matrix (p x p) of the distribution. If None, will be computed from data.\n    \"\"\"\n    x_minus_mu = x - np.mean(data)\n    if not cov:\n        cov = np.cov(data.values.T)\n    inv_covmat = linalg.inv(cov)\n    left_term = np.dot(x_minus_mu, inv_covmat)\n    mahal = np.dot(left_term, x_minus_mu.T)\n    return mahal.diagonal()\n\ngab['mahalanodis'] = mahalanobis(x=gab, data=gab)",
      "metadata": {
        "tags": [],
        "cell_id": "00006-420e5053-2282-4610-a58d-6209d7c99c60",
        "deepnote_to_be_reexecuted": false,
        "source_hash": "8b9001a4",
        "execution_millis": 346,
        "execution_start": 1615183580603,
        "deepnote_cell_type": "code"
      },
      "outputs": [],
      "execution_count": 6
    },
    {
      "cell_type": "code",
      "source": "gab['md_decile'] = pd.qcut(gab.mahalanodis, q=[x/10 for x in range(0, 11)], labels=range(1, 11))\ngab.groupby(['md_decile']).mean()",
      "metadata": {
        "tags": [],
        "cell_id": "00007-caebd0be-3a90-4f22-98ff-a3cd03e3d66e",
        "deepnote_to_be_reexecuted": false,
        "source_hash": "91ac930c",
        "execution_millis": 121,
        "execution_start": 1615183580955,
        "deepnote_cell_type": "code"
      },
      "outputs": [
        {
          "output_type": "execute_result",
          "execution_count": 7,
          "data": {
            "application/vnd.deepnote.dataframe.v2+json": {
              "error": "Traceback (most recent call last):\n  File \"/shared-libs/code/variable_explorer.py\", line 123, in dataframe_formatter\n    return { MIME_TYPE: describe_pd_dataframe(df) }\n  File \"/shared-libs/code/variable_explorer_helpers.py\", line 122, in describe_pd_dataframe\n    df_display_top = df_analyzed.fillna('nan')\n  File \"/shared-libs/python3.7/py/lib/python3.7/site-packages/pandas/core/frame.py\", line 4468, in fillna\n    downcast=downcast,\n  File \"/shared-libs/python3.7/py/lib/python3.7/site-packages/pandas/core/generic.py\", line 6430, in fillna\n    value=value, limit=limit, inplace=inplace, downcast=downcast\n  File \"/shared-libs/python3.7/py/lib/python3.7/site-packages/pandas/core/internals/managers.py\", line 622, in fillna\n    \"fillna\", value=value, limit=limit, inplace=inplace, downcast=downcast\n  File \"/shared-libs/python3.7/py/lib/python3.7/site-packages/pandas/core/internals/managers.py\", line 427, in apply\n    applied = getattr(b, f)(**kwargs)\n  File \"/shared-libs/python3.7/py/lib/python3.7/site-packages/pandas/core/internals/blocks.py\", line 1918, in fillna\n    values = values.fillna(value=value, limit=limit)\n  File \"/shared-libs/python3.7/py/lib/python3.7/site-packages/pandas/core/arrays/categorical.py\", line 1692, in fillna\n    new_codes = self._validate_setitem_value(value)\n  File \"/shared-libs/python3.7/py/lib/python3.7/site-packages/pandas/core/arrays/categorical.py\", line 1894, in _validate_setitem_value\n    \"Cannot setitem on a Categorical with a new \"\nValueError: Cannot setitem on a Categorical with a new category, set the categories first\n"
            },
            "text/plain": "            RIDAGEYR  RIAGENDR     BMXBMI  mahalanodis\nmd_decile                                             \n1          41.804850  1.629330  29.526212     1.124808\n2          41.853179  1.468208  29.056185     1.421375\n3          41.953757  1.472832  28.812601     1.718357\n4          42.421965  1.494798  28.462081     2.033994\n5          41.579191  1.539884  28.594566     2.399284\n6          42.720231  1.500578  28.243006     2.785824\n7          44.670520  1.530636  28.681156     3.187419\n8          42.691329  1.502890  28.211792     3.637503\n9          37.988439  1.495954  28.427861     4.228439\n10         39.684393  1.602312  38.320347     7.461696",
            "text/html": "<div>\n<style scoped>\n    .dataframe tbody tr th:only-of-type {\n        vertical-align: middle;\n    }\n\n    .dataframe tbody tr th {\n        vertical-align: top;\n    }\n\n    .dataframe thead th {\n        text-align: right;\n    }\n</style>\n<table border=\"1\" class=\"dataframe\">\n  <thead>\n    <tr style=\"text-align: right;\">\n      <th></th>\n      <th>RIDAGEYR</th>\n      <th>RIAGENDR</th>\n      <th>BMXBMI</th>\n      <th>mahalanodis</th>\n    </tr>\n    <tr>\n      <th>md_decile</th>\n      <th></th>\n      <th></th>\n      <th></th>\n      <th></th>\n    </tr>\n  </thead>\n  <tbody>\n    <tr>\n      <th>1</th>\n      <td>41.804850</td>\n      <td>1.629330</td>\n      <td>29.526212</td>\n      <td>1.124808</td>\n    </tr>\n    <tr>\n      <th>2</th>\n      <td>41.853179</td>\n      <td>1.468208</td>\n      <td>29.056185</td>\n      <td>1.421375</td>\n    </tr>\n    <tr>\n      <th>3</th>\n      <td>41.953757</td>\n      <td>1.472832</td>\n      <td>28.812601</td>\n      <td>1.718357</td>\n    </tr>\n    <tr>\n      <th>4</th>\n      <td>42.421965</td>\n      <td>1.494798</td>\n      <td>28.462081</td>\n      <td>2.033994</td>\n    </tr>\n    <tr>\n      <th>5</th>\n      <td>41.579191</td>\n      <td>1.539884</td>\n      <td>28.594566</td>\n      <td>2.399284</td>\n    </tr>\n    <tr>\n      <th>6</th>\n      <td>42.720231</td>\n      <td>1.500578</td>\n      <td>28.243006</td>\n      <td>2.785824</td>\n    </tr>\n    <tr>\n      <th>7</th>\n      <td>44.670520</td>\n      <td>1.530636</td>\n      <td>28.681156</td>\n      <td>3.187419</td>\n    </tr>\n    <tr>\n      <th>8</th>\n      <td>42.691329</td>\n      <td>1.502890</td>\n      <td>28.211792</td>\n      <td>3.637503</td>\n    </tr>\n    <tr>\n      <th>9</th>\n      <td>37.988439</td>\n      <td>1.495954</td>\n      <td>28.427861</td>\n      <td>4.228439</td>\n    </tr>\n    <tr>\n      <th>10</th>\n      <td>39.684393</td>\n      <td>1.602312</td>\n      <td>38.320347</td>\n      <td>7.461696</td>\n    </tr>\n  </tbody>\n</table>\n</div>"
          },
          "metadata": {}
        }
      ],
      "execution_count": 7
    },
    {
      "cell_type": "markdown",
      "source": "## Outlier Detection\nAssuming that the Mahalanobis distance statistic follows chi-square distribution, the critical value at a 0.01 significance level and 2 degrees of freedom, computed as `stats.chi2.ppf(0.99, df=2)`, is 9.21, meaning that an observation can be considered extreme if the M distance > 9.21.  Using this threshold, we filter out 145 survey participants with extreme BMI levels (BMI > 45).",
      "metadata": {
        "tags": [],
        "cell_id": "00007-18dad333-c222-44e5-b782-714853c657d7",
        "deepnote_cell_type": "markdown"
      }
    },
    {
      "cell_type": "code",
      "source": "gab['chi2p'] = 1 - stats.chi2.cdf(gab['mahalanodis'], 2)\ngab[gab.chi2p < .01]",
      "metadata": {
        "tags": [],
        "cell_id": "00007-3d2170df-6b1f-4369-aa1d-70b8690dc1ac",
        "deepnote_to_be_reexecuted": false,
        "source_hash": "bb8019dc",
        "execution_millis": 39,
        "execution_start": 1615183632887,
        "deepnote_cell_type": "code"
      },
      "outputs": [
        {
          "output_type": "execute_result",
          "execution_count": 9,
          "data": {
            "application/vnd.deepnote.dataframe.v2+json": {
              "row_count": 145,
              "column_count": 6,
              "columns": [
                {
                  "name": "RIDAGEYR",
                  "dtype": "float64",
                  "stats": {
                    "unique_count": 44,
                    "nan_count": 0,
                    "min": 18,
                    "max": 64,
                    "histogram": [
                      {
                        "bin_start": 18,
                        "bin_end": 22.6,
                        "count": 18
                      },
                      {
                        "bin_start": 22.6,
                        "bin_end": 27.2,
                        "count": 17
                      },
                      {
                        "bin_start": 27.2,
                        "bin_end": 31.799999999999997,
                        "count": 8
                      },
                      {
                        "bin_start": 31.799999999999997,
                        "bin_end": 36.4,
                        "count": 26
                      },
                      {
                        "bin_start": 36.4,
                        "bin_end": 41,
                        "count": 11
                      },
                      {
                        "bin_start": 41,
                        "bin_end": 45.599999999999994,
                        "count": 14
                      },
                      {
                        "bin_start": 45.599999999999994,
                        "bin_end": 50.199999999999996,
                        "count": 12
                      },
                      {
                        "bin_start": 50.199999999999996,
                        "bin_end": 54.8,
                        "count": 9
                      },
                      {
                        "bin_start": 54.8,
                        "bin_end": 59.4,
                        "count": 10
                      },
                      {
                        "bin_start": 59.4,
                        "bin_end": 64,
                        "count": 20
                      }
                    ]
                  }
                },
                {
                  "name": "RIAGENDR",
                  "dtype": "float64",
                  "stats": {
                    "unique_count": 2,
                    "nan_count": 0,
                    "min": 1,
                    "max": 2,
                    "histogram": [
                      {
                        "bin_start": 1,
                        "bin_end": 1.1,
                        "count": 51
                      },
                      {
                        "bin_start": 1.1,
                        "bin_end": 1.2,
                        "count": 0
                      },
                      {
                        "bin_start": 1.2,
                        "bin_end": 1.3,
                        "count": 0
                      },
                      {
                        "bin_start": 1.3,
                        "bin_end": 1.4,
                        "count": 0
                      },
                      {
                        "bin_start": 1.4,
                        "bin_end": 1.5,
                        "count": 0
                      },
                      {
                        "bin_start": 1.5,
                        "bin_end": 1.6,
                        "count": 0
                      },
                      {
                        "bin_start": 1.6,
                        "bin_end": 1.7000000000000002,
                        "count": 0
                      },
                      {
                        "bin_start": 1.7000000000000002,
                        "bin_end": 1.8,
                        "count": 0
                      },
                      {
                        "bin_start": 1.8,
                        "bin_end": 1.9,
                        "count": 0
                      },
                      {
                        "bin_start": 1.9,
                        "bin_end": 2,
                        "count": 94
                      }
                    ]
                  }
                },
                {
                  "name": "BMXBMI",
                  "dtype": "float64",
                  "stats": {
                    "unique_count": 97,
                    "nan_count": 0,
                    "min": 46,
                    "max": 86.2,
                    "histogram": [
                      {
                        "bin_start": 46,
                        "bin_end": 50.02,
                        "count": 12
                      },
                      {
                        "bin_start": 50.02,
                        "bin_end": 54.04,
                        "count": 52
                      },
                      {
                        "bin_start": 54.04,
                        "bin_end": 58.06,
                        "count": 46
                      },
                      {
                        "bin_start": 58.06,
                        "bin_end": 62.08,
                        "count": 16
                      },
                      {
                        "bin_start": 62.08,
                        "bin_end": 66.1,
                        "count": 12
                      },
                      {
                        "bin_start": 66.1,
                        "bin_end": 70.12,
                        "count": 4
                      },
                      {
                        "bin_start": 70.12,
                        "bin_end": 74.14,
                        "count": 1
                      },
                      {
                        "bin_start": 74.14,
                        "bin_end": 78.16,
                        "count": 1
                      },
                      {
                        "bin_start": 78.16,
                        "bin_end": 82.18,
                        "count": 0
                      },
                      {
                        "bin_start": 82.18,
                        "bin_end": 86.2,
                        "count": 1
                      }
                    ]
                  }
                },
                {
                  "name": "mahalanodis",
                  "dtype": "float64",
                  "stats": {
                    "unique_count": 144,
                    "nan_count": 0,
                    "min": 9.293008966427259,
                    "max": 60.59364497746824,
                    "histogram": [
                      {
                        "bin_start": 9.293008966427259,
                        "bin_end": 14.423072567531356,
                        "count": 92
                      },
                      {
                        "bin_start": 14.423072567531356,
                        "bin_end": 19.553136168635454,
                        "count": 29
                      },
                      {
                        "bin_start": 19.553136168635454,
                        "bin_end": 24.683199769739552,
                        "count": 15
                      },
                      {
                        "bin_start": 24.683199769739552,
                        "bin_end": 29.81326337084365,
                        "count": 6
                      },
                      {
                        "bin_start": 29.81326337084365,
                        "bin_end": 34.94332697194775,
                        "count": 0
                      },
                      {
                        "bin_start": 34.94332697194775,
                        "bin_end": 40.073390573051846,
                        "count": 2
                      },
                      {
                        "bin_start": 40.073390573051846,
                        "bin_end": 45.203454174155944,
                        "count": 0
                      },
                      {
                        "bin_start": 45.203454174155944,
                        "bin_end": 50.33351777526004,
                        "count": 0
                      },
                      {
                        "bin_start": 50.33351777526004,
                        "bin_end": 55.46358137636414,
                        "count": 0
                      },
                      {
                        "bin_start": 55.46358137636414,
                        "bin_end": 60.59364497746824,
                        "count": 1
                      }
                    ]
                  }
                },
                {
                  "name": "md_decile",
                  "dtype": "category",
                  "stats": {
                    "unique_count": 1,
                    "nan_count": 0,
                    "categories": [
                      {
                        "name": "10",
                        "count": 145
                      }
                    ]
                  }
                },
                {
                  "name": "chi2p",
                  "dtype": "float64",
                  "stats": {
                    "unique_count": 144,
                    "nan_count": 0,
                    "min": 6.94999613415348e-14,
                    "max": 0.009595083153593698,
                    "histogram": [
                      {
                        "bin_start": 6.94999613415348e-14,
                        "bin_end": 0.0009595083154219197,
                        "count": 60
                      },
                      {
                        "bin_start": 0.0009595083154219197,
                        "bin_end": 0.0019190166307743394,
                        "count": 27
                      },
                      {
                        "bin_start": 0.0019190166307743394,
                        "bin_end": 0.002878524946126759,
                        "count": 12
                      },
                      {
                        "bin_start": 0.002878524946126759,
                        "bin_end": 0.003838033261479179,
                        "count": 8
                      },
                      {
                        "bin_start": 0.003838033261479179,
                        "bin_end": 0.004797541576831599,
                        "count": 10
                      },
                      {
                        "bin_start": 0.004797541576831599,
                        "bin_end": 0.005757049892184018,
                        "count": 4
                      },
                      {
                        "bin_start": 0.005757049892184018,
                        "bin_end": 0.006716558207536438,
                        "count": 9
                      },
                      {
                        "bin_start": 0.006716558207536438,
                        "bin_end": 0.007676066522888858,
                        "count": 4
                      },
                      {
                        "bin_start": 0.007676066522888858,
                        "bin_end": 0.008635574838241277,
                        "count": 5
                      },
                      {
                        "bin_start": 0.008635574838241277,
                        "bin_end": 0.009595083153593698,
                        "count": 6
                      }
                    ]
                  }
                },
                {
                  "name": "_deepnote_index_column",
                  "dtype": "float64"
                }
              ],
              "rows_top": [
                {
                  "RIDAGEYR": 44,
                  "RIAGENDR": 2,
                  "BMXBMI": 52.1,
                  "mahalanodis": 9.48936714586981,
                  "md_decile": 10,
                  "chi2p": 0.008697813794093956,
                  "_deepnote_index_column": 83963
                },
                {
                  "RIDAGEYR": 60,
                  "RIAGENDR": 2,
                  "BMXBMI": 58.7,
                  "mahalanodis": 16.068692907220207,
                  "md_decile": 10,
                  "chi2p": 0.00032413629935501564,
                  "_deepnote_index_column": 84022
                },
                {
                  "RIDAGEYR": 28,
                  "RIAGENDR": 2,
                  "BMXBMI": 57.8,
                  "mahalanodis": 16.42022204000223,
                  "md_decile": 10,
                  "chi2p": 0.0002718905343264133,
                  "_deepnote_index_column": 84230
                },
                {
                  "RIDAGEYR": 28,
                  "RIAGENDR": 2,
                  "BMXBMI": 51.5,
                  "mahalanodis": 10.687898981816145,
                  "md_decile": 10,
                  "chi2p": 0.004776966817478856,
                  "_deepnote_index_column": 84277
                },
                {
                  "RIDAGEYR": 38,
                  "RIAGENDR": 2,
                  "BMXBMI": 59.4,
                  "mahalanodis": 16.589922062236404,
                  "md_decile": 10,
                  "chi2p": 0.0002497722560436122,
                  "_deepnote_index_column": 84396
                },
                {
                  "RIDAGEYR": 44,
                  "RIAGENDR": 2,
                  "BMXBMI": 56.7,
                  "mahalanodis": 13.470337122290312,
                  "md_decile": 10,
                  "chi2p": 0.001188374869445008,
                  "_deepnote_index_column": 84493
                },
                {
                  "RIDAGEYR": 20,
                  "RIAGENDR": 1,
                  "BMXBMI": 50.4,
                  "mahalanodis": 12.619520688182794,
                  "md_decile": 10,
                  "chi2p": 0.0018184689938315346,
                  "_deepnote_index_column": 84767
                },
                {
                  "RIDAGEYR": 41,
                  "RIAGENDR": 2,
                  "BMXBMI": 56.4,
                  "mahalanodis": 13.33769280293278,
                  "md_decile": 10,
                  "chi2p": 0.0012698628182570282,
                  "_deepnote_index_column": 84825
                },
                {
                  "RIDAGEYR": 52,
                  "RIAGENDR": 2,
                  "BMXBMI": 56.2,
                  "mahalanodis": 13.042191202271471,
                  "md_decile": 10,
                  "chi2p": 0.0014720554329421542,
                  "_deepnote_index_column": 84914
                },
                {
                  "RIDAGEYR": 57,
                  "RIAGENDR": 2,
                  "BMXBMI": 54.5,
                  "mahalanodis": 11.911475801352646,
                  "md_decile": 10,
                  "chi2p": 0.002590931279108033,
                  "_deepnote_index_column": 85003
                },
                {
                  "RIDAGEYR": 46,
                  "RIAGENDR": 2,
                  "BMXBMI": 52.8,
                  "mahalanodis": 10.011932300303632,
                  "md_decile": 10,
                  "chi2p": 0.006697867075880715,
                  "_deepnote_index_column": 85401
                },
                {
                  "RIDAGEYR": 61,
                  "RIAGENDR": 2,
                  "BMXBMI": 57.4,
                  "mahalanodis": 14.946674725457386,
                  "md_decile": 10,
                  "chi2p": 0.000568029409821591,
                  "_deepnote_index_column": 85552
                },
                {
                  "RIDAGEYR": 61,
                  "RIAGENDR": 1,
                  "BMXBMI": 54.2,
                  "mahalanodis": 13.14191275333555,
                  "md_decile": 10,
                  "chi2p": 0.0014004574066758257,
                  "_deepnote_index_column": 85674
                },
                {
                  "RIDAGEYR": 30,
                  "RIAGENDR": 1,
                  "BMXBMI": 50.7,
                  "mahalanodis": 10.711509300619806,
                  "md_decile": 10,
                  "chi2p": 0.004720905520082641,
                  "_deepnote_index_column": 85678
                },
                {
                  "RIDAGEYR": 33,
                  "RIAGENDR": 2,
                  "BMXBMI": 59.1,
                  "mahalanodis": 16.90270247905265,
                  "md_decile": 10,
                  "chi2p": 0.00021361157985866353,
                  "_deepnote_index_column": 85716
                },
                {
                  "RIDAGEYR": 38,
                  "RIAGENDR": 2,
                  "BMXBMI": 56.6,
                  "mahalanodis": 13.768188613651546,
                  "md_decile": 10,
                  "chi2p": 0.0010239431138121535,
                  "_deepnote_index_column": 86071
                },
                {
                  "RIDAGEYR": 32,
                  "RIAGENDR": 2,
                  "BMXBMI": 60.7,
                  "mahalanodis": 18.800948797409788,
                  "md_decile": 10,
                  "chi2p": 0.00008268483067430665,
                  "_deepnote_index_column": 86212
                },
                {
                  "RIDAGEYR": 62,
                  "RIAGENDR": 2,
                  "BMXBMI": 58.9,
                  "mahalanodis": 16.523388359458387,
                  "md_decile": 10,
                  "chi2p": 0.00025822114740015056,
                  "_deepnote_index_column": 86336
                },
                {
                  "RIDAGEYR": 37,
                  "RIAGENDR": 1,
                  "BMXBMI": 54.7,
                  "mahalanodis": 13.220877090245189,
                  "md_decile": 10,
                  "chi2p": 0.001346241632235623,
                  "_deepnote_index_column": 86354
                },
                {
                  "RIDAGEYR": 25,
                  "RIAGENDR": 2,
                  "BMXBMI": 49.1,
                  "mahalanodis": 9.457655977713708,
                  "md_decile": 10,
                  "chi2p": 0.00883682182657386,
                  "_deepnote_index_column": 86425
                },
                {
                  "RIDAGEYR": 35,
                  "RIAGENDR": 1,
                  "BMXBMI": 58.8,
                  "mahalanodis": 17.573290326676045,
                  "md_decile": 10,
                  "chi2p": 0.0001527595924779579,
                  "_deepnote_index_column": 86553
                },
                {
                  "RIDAGEYR": 32,
                  "RIAGENDR": 2,
                  "BMXBMI": 54,
                  "mahalanodis": 12.115816141704908,
                  "md_decile": 10,
                  "chi2p": 0.0023392894002161047,
                  "_deepnote_index_column": 86649
                },
                {
                  "RIDAGEYR": 24,
                  "RIAGENDR": 1,
                  "BMXBMI": 57.6,
                  "mahalanodis": 18.348160227477017,
                  "md_decile": 10,
                  "chi2p": 0.00010369256798259396,
                  "_deepnote_index_column": 86677
                },
                {
                  "RIDAGEYR": 39,
                  "RIAGENDR": 2,
                  "BMXBMI": 57.2,
                  "mahalanodis": 14.257563646170274,
                  "md_decile": 10,
                  "chi2p": 0.000801695399722524,
                  "_deepnote_index_column": 86855
                },
                {
                  "RIDAGEYR": 61,
                  "RIAGENDR": 1,
                  "BMXBMI": 52.4,
                  "mahalanodis": 11.658195883362167,
                  "md_decile": 10,
                  "chi2p": 0.0029407284927348565,
                  "_deepnote_index_column": 87260
                },
                {
                  "RIDAGEYR": 25,
                  "RIAGENDR": 2,
                  "BMXBMI": 63.9,
                  "mahalanodis": 24.003855676237247,
                  "md_decile": 10,
                  "chi2p": 0.000006132378716827702,
                  "_deepnote_index_column": 87277
                },
                {
                  "RIDAGEYR": 27,
                  "RIAGENDR": 2,
                  "BMXBMI": 52.6,
                  "mahalanodis": 11.777207859487786,
                  "md_decile": 10,
                  "chi2p": 0.0027708422884715755,
                  "_deepnote_index_column": 87802
                },
                {
                  "RIDAGEYR": 54,
                  "RIAGENDR": 1,
                  "BMXBMI": 57.4,
                  "mahalanodis": 15.41277180187651,
                  "md_decile": 10,
                  "chi2p": 0.0004499446868174717,
                  "_deepnote_index_column": 87903
                },
                {
                  "RIDAGEYR": 32,
                  "RIAGENDR": 2,
                  "BMXBMI": 53.3,
                  "mahalanodis": 11.510191781539612,
                  "md_decile": 10,
                  "chi2p": 0.003166602948508568,
                  "_deepnote_index_column": 87942
                },
                {
                  "RIDAGEYR": 46,
                  "RIAGENDR": 2,
                  "BMXBMI": 52.8,
                  "mahalanodis": 10.011932300303632,
                  "md_decile": 10,
                  "chi2p": 0.006697867075880715,
                  "_deepnote_index_column": 88083
                },
                {
                  "RIDAGEYR": 63,
                  "RIAGENDR": 2,
                  "BMXBMI": 57.4,
                  "mahalanodis": 15.230414449107647,
                  "md_decile": 10,
                  "chi2p": 0.000492898531011865,
                  "_deepnote_index_column": 88298
                },
                {
                  "RIDAGEYR": 22,
                  "RIAGENDR": 2,
                  "BMXBMI": 55.4,
                  "mahalanodis": 15.400914504735026,
                  "md_decile": 10,
                  "chi2p": 0.00045262017391667353,
                  "_deepnote_index_column": 88480
                },
                {
                  "RIDAGEYR": 48,
                  "RIAGENDR": 2,
                  "BMXBMI": 61.1,
                  "mahalanodis": 17.885346891363355,
                  "md_decile": 10,
                  "chi2p": 0.00013069117695674315,
                  "_deepnote_index_column": 88503
                },
                {
                  "RIDAGEYR": 45,
                  "RIAGENDR": 1,
                  "BMXBMI": 53.1,
                  "mahalanodis": 11.291614642685353,
                  "md_decile": 10,
                  "chi2p": 0.0035322955521037702,
                  "_deepnote_index_column": 88561
                },
                {
                  "RIDAGEYR": 36,
                  "RIAGENDR": 2,
                  "BMXBMI": 60.9,
                  "mahalanodis": 18.446687897561247,
                  "md_decile": 10,
                  "chi2p": 0.00009870806044198766,
                  "_deepnote_index_column": 88891
                },
                {
                  "RIDAGEYR": 30,
                  "RIAGENDR": 1,
                  "BMXBMI": 49.8,
                  "mahalanodis": 10.00611704471723,
                  "md_decile": 10,
                  "chi2p": 0.006717370320693528,
                  "_deepnote_index_column": 88898
                },
                {
                  "RIDAGEYR": 19,
                  "RIAGENDR": 2,
                  "BMXBMI": 54.7,
                  "mahalanodis": 15.540447223912016,
                  "md_decile": 10,
                  "chi2p": 0.0004221188654296437,
                  "_deepnote_index_column": 88964
                },
                {
                  "RIDAGEYR": 49,
                  "RIAGENDR": 1,
                  "BMXBMI": 53.8,
                  "mahalanodis": 11.884544986613221,
                  "md_decile": 10,
                  "chi2p": 0.0026260551723010783,
                  "_deepnote_index_column": 89054
                },
                {
                  "RIDAGEYR": 36,
                  "RIAGENDR": 1,
                  "BMXBMI": 57.8,
                  "mahalanodis": 16.38558422915624,
                  "md_decile": 10,
                  "chi2p": 0.0002766403932304984,
                  "_deepnote_index_column": 89290
                },
                {
                  "RIDAGEYR": 44,
                  "RIAGENDR": 1,
                  "BMXBMI": 50.6,
                  "mahalanodis": 9.293008966427259,
                  "md_decile": 10,
                  "chi2p": 0.009595083153593698,
                  "_deepnote_index_column": 89325
                },
                {
                  "RIDAGEYR": 63,
                  "RIAGENDR": 1,
                  "BMXBMI": 48.9,
                  "mahalanodis": 9.419647925767356,
                  "md_decile": 10,
                  "chi2p": 0.009006362897048259,
                  "_deepnote_index_column": 89371
                },
                {
                  "RIDAGEYR": 50,
                  "RIAGENDR": 2,
                  "BMXBMI": 61.7,
                  "mahalanodis": 18.5556271476093,
                  "md_decile": 10,
                  "chi2p": 0.00009347527699454794,
                  "_deepnote_index_column": 89652
                },
                {
                  "RIDAGEYR": 24,
                  "RIAGENDR": 2,
                  "BMXBMI": 64.6,
                  "mahalanodis": 25.133696060812458,
                  "md_decile": 10,
                  "chi2p": 0.000003485677840364687,
                  "_deepnote_index_column": 89810
                },
                {
                  "RIDAGEYR": 60,
                  "RIAGENDR": 2,
                  "BMXBMI": 54.2,
                  "mahalanodis": 12.003424122228031,
                  "md_decile": 10,
                  "chi2p": 0.0024745120321824077,
                  "_deepnote_index_column": 89862
                },
                {
                  "RIDAGEYR": 46,
                  "RIAGENDR": 2,
                  "BMXBMI": 64.5,
                  "mahalanodis": 21.867598722604505,
                  "md_decile": 10,
                  "chi2p": 0.000017844783001152997,
                  "_deepnote_index_column": 89935
                },
                {
                  "RIDAGEYR": 45,
                  "RIAGENDR": 2,
                  "BMXBMI": 56.3,
                  "mahalanodis": 13.064159778774687,
                  "md_decile": 10,
                  "chi2p": 0.0014559744326028135,
                  "_deepnote_index_column": 90081
                },
                {
                  "RIDAGEYR": 24,
                  "RIAGENDR": 2,
                  "BMXBMI": 48.7,
                  "mahalanodis": 9.385601800084972,
                  "md_decile": 10,
                  "chi2p": 0.009160991167944443,
                  "_deepnote_index_column": 90093
                },
                {
                  "RIDAGEYR": 22,
                  "RIAGENDR": 1,
                  "BMXBMI": 49.9,
                  "mahalanodis": 11.711638450979255,
                  "md_decile": 10,
                  "chi2p": 0.0028631890426199513,
                  "_deepnote_index_column": 90099
                },
                {
                  "RIDAGEYR": 52,
                  "RIAGENDR": 2,
                  "BMXBMI": 56.7,
                  "mahalanodis": 13.502763886014597,
                  "md_decile": 10,
                  "chi2p": 0.0011692626494252956,
                  "_deepnote_index_column": 90106
                },
                {
                  "RIDAGEYR": 20,
                  "RIAGENDR": 1,
                  "BMXBMI": 53,
                  "mahalanodis": 14.850127574842777,
                  "md_decile": 10,
                  "chi2p": 0.0005961228503321703,
                  "_deepnote_index_column": 90182
                },
                {
                  "RIDAGEYR": 56,
                  "RIAGENDR": 1,
                  "BMXBMI": 50.6,
                  "mahalanodis": 9.69853875902077,
                  "md_decile": 10,
                  "chi2p": 0.007834099212191248,
                  "_deepnote_index_column": 90303
                },
                {
                  "RIDAGEYR": 18,
                  "RIAGENDR": 1,
                  "BMXBMI": 50.3,
                  "mahalanodis": 13.086855928464425,
                  "md_decile": 10,
                  "chi2p": 0.0014395453214705034,
                  "_deepnote_index_column": 90351
                },
                {
                  "RIDAGEYR": 31,
                  "RIAGENDR": 1,
                  "BMXBMI": 54,
                  "mahalanodis": 13.37843717556803,
                  "md_decile": 10,
                  "chi2p": 0.001244254668984257,
                  "_deepnote_index_column": 90439
                },
                {
                  "RIDAGEYR": 20,
                  "RIAGENDR": 1,
                  "BMXBMI": 50.1,
                  "mahalanodis": 12.377732822157277,
                  "md_decile": 10,
                  "chi2p": 0.002052151731710361,
                  "_deepnote_index_column": 90591
                },
                {
                  "RIDAGEYR": 27,
                  "RIAGENDR": 1,
                  "BMXBMI": 58,
                  "mahalanodis": 18.095654709699296,
                  "md_decile": 10,
                  "chi2p": 0.00011764636325251043,
                  "_deepnote_index_column": 90669
                },
                {
                  "RIDAGEYR": 62,
                  "RIAGENDR": 2,
                  "BMXBMI": 51.6,
                  "mahalanodis": 10.274964309908055,
                  "md_decile": 10,
                  "chi2p": 0.005872457051494306,
                  "_deepnote_index_column": 90982
                },
                {
                  "RIDAGEYR": 40,
                  "RIAGENDR": 2,
                  "BMXBMI": 52.8,
                  "mahalanodis": 10.234336401371893,
                  "md_decile": 10,
                  "chi2p": 0.005992969776299373,
                  "_deepnote_index_column": 91211
                },
                {
                  "RIDAGEYR": 24,
                  "RIAGENDR": 2,
                  "BMXBMI": 55.5,
                  "mahalanodis": 15.011785224583166,
                  "md_decile": 10,
                  "chi2p": 0.000549834841897856,
                  "_deepnote_index_column": 91475
                },
                {
                  "RIDAGEYR": 41,
                  "RIAGENDR": 1,
                  "BMXBMI": 55.4,
                  "mahalanodis": 13.533611950873718,
                  "md_decile": 10,
                  "chi2p": 0.0011513662763168453,
                  "_deepnote_index_column": 91912
                },
                {
                  "RIDAGEYR": 20,
                  "RIAGENDR": 2,
                  "BMXBMI": 48.3,
                  "mahalanodis": 10.050803392966408,
                  "md_decile": 10,
                  "chi2p": 0.006568947241870404,
                  "_deepnote_index_column": 92478
                },
                {
                  "RIDAGEYR": 63,
                  "RIAGENDR": 1,
                  "BMXBMI": 53.6,
                  "mahalanodis": 12.927632318598732,
                  "md_decile": 10,
                  "chi2p": 0.0015588355803283216,
                  "_deepnote_index_column": 92579
                },
                {
                  "RIDAGEYR": 18,
                  "RIAGENDR": 1,
                  "BMXBMI": 46,
                  "mahalanodis": 9.925769939141885,
                  "md_decile": 10,
                  "chi2p": 0.006992724905612424,
                  "_deepnote_index_column": 92604
                },
                {
                  "RIDAGEYR": 64,
                  "RIAGENDR": 1,
                  "BMXBMI": 54,
                  "mahalanodis": 13.423381464768065,
                  "md_decile": 10,
                  "chi2p": 0.0012166054305418061,
                  "_deepnote_index_column": 92978
                },
                {
                  "RIDAGEYR": 51,
                  "RIAGENDR": 2,
                  "BMXBMI": 64.5,
                  "mahalanodis": 21.826210439137725,
                  "md_decile": 10,
                  "chi2p": 0.000018217912955975635,
                  "_deepnote_index_column": 92988
                },
                {
                  "RIDAGEYR": 28,
                  "RIAGENDR": 1,
                  "BMXBMI": 54.1,
                  "mahalanodis": 14.004360171342194,
                  "md_decile": 10,
                  "chi2p": 0.0009098961501580183,
                  "_deepnote_index_column": 93097
                },
                {
                  "RIDAGEYR": 64,
                  "RIAGENDR": 2,
                  "BMXBMI": 67.3,
                  "mahalanodis": 26.33627498750737,
                  "md_decile": 10,
                  "chi2p": 0.0000019105154298593163,
                  "_deepnote_index_column": 93142
                },
                {
                  "RIDAGEYR": 36,
                  "RIAGENDR": 2,
                  "BMXBMI": 62.7,
                  "mahalanodis": 20.513784915013357,
                  "md_decile": 10,
                  "chi2p": 0.00003511463869820819,
                  "_deepnote_index_column": 93345
                },
                {
                  "RIDAGEYR": 38,
                  "RIAGENDR": 1,
                  "BMXBMI": 52.3,
                  "mahalanodis": 11.003153170377832,
                  "md_decile": 10,
                  "chi2p": 0.004080333371557665,
                  "_deepnote_index_column": 93445
                },
                {
                  "RIDAGEYR": 60,
                  "RIAGENDR": 2,
                  "BMXBMI": 55.1,
                  "mahalanodis": 12.758419121297852,
                  "md_decile": 10,
                  "chi2p": 0.0016964633782042826,
                  "_deepnote_index_column": 93614
                },
                {
                  "RIDAGEYR": 25,
                  "RIAGENDR": 2,
                  "BMXBMI": 66.2,
                  "mahalanodis": 26.969182549016622,
                  "md_decile": 10,
                  "chi2p": 0.0000013922474103589266,
                  "_deepnote_index_column": 93912
                },
                {
                  "RIDAGEYR": 57,
                  "RIAGENDR": 2,
                  "BMXBMI": 74.8,
                  "mahalanodis": 36.35121097322365,
                  "md_decile": 10,
                  "chi2p": 1.277717465164585e-8,
                  "_deepnote_index_column": 94117
                },
                {
                  "RIDAGEYR": 33,
                  "RIAGENDR": 1,
                  "BMXBMI": 50,
                  "mahalanodis": 9.713237006682466,
                  "md_decile": 10,
                  "chi2p": 0.007776736488037228,
                  "_deepnote_index_column": 94377
                },
                {
                  "RIDAGEYR": 25,
                  "RIAGENDR": 2,
                  "BMXBMI": 52.5,
                  "mahalanodis": 12.104795732274562,
                  "md_decile": 10,
                  "chi2p": 0.0023522149421864036,
                  "_deepnote_index_column": 94430
                },
                {
                  "RIDAGEYR": 47,
                  "RIAGENDR": 1,
                  "BMXBMI": 55.3,
                  "mahalanodis": 13.22120664618178,
                  "md_decile": 10,
                  "chi2p": 0.0013460198195499595,
                  "_deepnote_index_column": 94431
                },
                {
                  "RIDAGEYR": 34,
                  "RIAGENDR": 1,
                  "BMXBMI": 60.6,
                  "mahalanodis": 19.716419011516987,
                  "md_decile": 10,
                  "chi2p": 0.000052315937251079525,
                  "_deepnote_index_column": 94528
                },
                {
                  "RIDAGEYR": 18,
                  "RIAGENDR": 1,
                  "BMXBMI": 48.7,
                  "mahalanodis": 11.833226208687657,
                  "md_decile": 10,
                  "chi2p": 0.0026943100882201865,
                  "_deepnote_index_column": 94574
                },
                {
                  "RIDAGEYR": 59,
                  "RIAGENDR": 2,
                  "BMXBMI": 52,
                  "mahalanodis": 10.151125697564215,
                  "md_decile": 10,
                  "chi2p": 0.006247569013221654,
                  "_deepnote_index_column": 94953
                },
                {
                  "RIDAGEYR": 26,
                  "RIAGENDR": 2,
                  "BMXBMI": 50.6,
                  "mahalanodis": 10.36804377779925,
                  "md_decile": 10,
                  "chi2p": 0.0056054166550802975,
                  "_deepnote_index_column": 95040
                },
                {
                  "RIDAGEYR": 40,
                  "RIAGENDR": 1,
                  "BMXBMI": 54.4,
                  "mahalanodis": 12.676812645899213,
                  "md_decile": 10,
                  "chi2p": 0.00176711620650305,
                  "_deepnote_index_column": 95055
                },
                {
                  "RIDAGEYR": 36,
                  "RIAGENDR": 2,
                  "BMXBMI": 63.4,
                  "mahalanodis": 21.34901487438518,
                  "md_decile": 10,
                  "chi2p": 0.000023127054455507334,
                  "_deepnote_index_column": 95058
                },
                {
                  "RIDAGEYR": 60,
                  "RIAGENDR": 1,
                  "BMXBMI": 56.3,
                  "mahalanodis": 14.894002391499374,
                  "md_decile": 10,
                  "chi2p": 0.0005831878587889694,
                  "_deepnote_index_column": 95129
                },
                {
                  "RIDAGEYR": 61,
                  "RIAGENDR": 2,
                  "BMXBMI": 55.5,
                  "mahalanodis": 13.234444077364088,
                  "md_decile": 10,
                  "chi2p": 0.0013371403150573835,
                  "_deepnote_index_column": 95504
                },
                {
                  "RIDAGEYR": 60,
                  "RIAGENDR": 1,
                  "BMXBMI": 54.6,
                  "mahalanodis": 13.357951279157652,
                  "md_decile": 10,
                  "chi2p": 0.001257065000893176,
                  "_deepnote_index_column": 95767
                },
                {
                  "RIDAGEYR": 32,
                  "RIAGENDR": 1,
                  "BMXBMI": 57.7,
                  "mahalanodis": 16.84662304442948,
                  "md_decile": 10,
                  "chi2p": 0.00021968595203125663,
                  "_deepnote_index_column": 95962
                },
                {
                  "RIDAGEYR": 64,
                  "RIAGENDR": 1,
                  "BMXBMI": 50.7,
                  "mahalanodis": 10.837556794421959,
                  "md_decile": 10,
                  "chi2p": 0.004432558167214551,
                  "_deepnote_index_column": 96001
                },
                {
                  "RIDAGEYR": 42,
                  "RIAGENDR": 2,
                  "BMXBMI": 56.6,
                  "mahalanodis": 13.466729969639989,
                  "md_decile": 10,
                  "chi2p": 0.0011905201282124134,
                  "_deepnote_index_column": 96067
                },
                {
                  "RIDAGEYR": 34,
                  "RIAGENDR": 2,
                  "BMXBMI": 54.6,
                  "mahalanodis": 12.367676831620948,
                  "md_decile": 10,
                  "chi2p": 0.0020624959243905616,
                  "_deepnote_index_column": 96084
                },
                {
                  "RIDAGEYR": 34,
                  "RIAGENDR": 2,
                  "BMXBMI": 59.1,
                  "mahalanodis": 16.75708279590676,
                  "md_decile": 10,
                  "chi2p": 0.00022974480742721237,
                  "_deepnote_index_column": 96196
                },
                {
                  "RIDAGEYR": 37,
                  "RIAGENDR": 2,
                  "BMXBMI": 53.5,
                  "mahalanodis": 11.06524496877315,
                  "md_decile": 10,
                  "chi2p": 0.003955601970608624,
                  "_deepnote_index_column": 96476
                },
                {
                  "RIDAGEYR": 30,
                  "RIAGENDR": 1,
                  "BMXBMI": 61.9,
                  "mahalanodis": 21.91815702669305,
                  "md_decile": 10,
                  "chi2p": 0.00001739933600075627,
                  "_deepnote_index_column": 96587
                },
                {
                  "RIDAGEYR": 32,
                  "RIAGENDR": 2,
                  "BMXBMI": 51.8,
                  "mahalanodis": 10.2715592155836,
                  "md_decile": 10,
                  "chi2p": 0.005882463702563179,
                  "_deepnote_index_column": 96721
                },
                {
                  "RIDAGEYR": 61,
                  "RIAGENDR": 2,
                  "BMXBMI": 63.4,
                  "mahalanodis": 21.203097002582897,
                  "md_decile": 10,
                  "chi2p": 0.000024877457115324297,
                  "_deepnote_index_column": 96726
                },
                {
                  "RIDAGEYR": 52,
                  "RIAGENDR": 2,
                  "BMXBMI": 52.8,
                  "mahalanodis": 10.147907795451985,
                  "md_decile": 10,
                  "chi2p": 0.0062576291369367265,
                  "_deepnote_index_column": 96745
                },
                {
                  "RIDAGEYR": 34,
                  "RIAGENDR": 2,
                  "BMXBMI": 56.4,
                  "mahalanodis": 14.036351080442351,
                  "md_decile": 10,
                  "chi2p": 0.0008954577300326338,
                  "_deepnote_index_column": 96833
                },
                {
                  "RIDAGEYR": 33,
                  "RIAGENDR": 1,
                  "BMXBMI": 56.5,
                  "mahalanodis": 15.463320810779587,
                  "md_decile": 10,
                  "chi2p": 0.0004387150671479878,
                  "_deepnote_index_column": 96948
                },
                {
                  "RIDAGEYR": 31,
                  "RIAGENDR": 2,
                  "BMXBMI": 53.2,
                  "mahalanodis": 11.57754490177962,
                  "md_decile": 10,
                  "chi2p": 0.003061738304667272,
                  "_deepnote_index_column": 97092
                },
                {
                  "RIDAGEYR": 46,
                  "RIAGENDR": 2,
                  "BMXBMI": 65.8,
                  "mahalanodis": 23.48773234020385,
                  "md_decile": 10,
                  "chi2p": 0.000007937865321050452,
                  "_deepnote_index_column": 97145
                },
                {
                  "RIDAGEYR": 53,
                  "RIAGENDR": 2,
                  "BMXBMI": 52.4,
                  "mahalanodis": 9.893033965704872,
                  "md_decile": 10,
                  "chi2p": 0.007108123579605774,
                  "_deepnote_index_column": 97222
                },
                {
                  "RIDAGEYR": 43,
                  "RIAGENDR": 2,
                  "BMXBMI": 64.2,
                  "mahalanodis": 21.644618732666853,
                  "md_decile": 10,
                  "chi2p": 0.000019949442371269832,
                  "_deepnote_index_column": 97495
                },
                {
                  "RIDAGEYR": 34,
                  "RIAGENDR": 2,
                  "BMXBMI": 52.2,
                  "mahalanodis": 10.323405080081427,
                  "md_decile": 10,
                  "chi2p": 0.005731932528884709,
                  "_deepnote_index_column": 97627
                },
                {
                  "RIDAGEYR": 23,
                  "RIAGENDR": 2,
                  "BMXBMI": 59.7,
                  "mahalanodis": 19.561156744496273,
                  "md_decile": 10,
                  "chi2p": 0.00005653908595071311,
                  "_deepnote_index_column": 97756
                },
                {
                  "RIDAGEYR": 24,
                  "RIAGENDR": 1,
                  "BMXBMI": 62,
                  "mahalanodis": 23.361271025575462,
                  "md_decile": 10,
                  "chi2p": 0.000008455989824129873,
                  "_deepnote_index_column": 97829
                },
                {
                  "RIDAGEYR": 35,
                  "RIAGENDR": 1,
                  "BMXBMI": 86.2,
                  "mahalanodis": 60.59364497746824,
                  "md_decile": 10,
                  "chi2p": 6.94999613415348e-14,
                  "_deepnote_index_column": 97938
                },
                {
                  "RIDAGEYR": 52,
                  "RIAGENDR": 2,
                  "BMXBMI": 64.7,
                  "mahalanodis": 22.09044396761624,
                  "md_decile": 10,
                  "chi2p": 0.000015963239923699746,
                  "_deepnote_index_column": 98228
                },
                {
                  "RIDAGEYR": 52,
                  "RIAGENDR": 2,
                  "BMXBMI": 67.7,
                  "mahalanodis": 25.90216319934162,
                  "md_decile": 10,
                  "chi2p": 0.0000023736502455795616,
                  "_deepnote_index_column": 98259
                },
                {
                  "RIDAGEYR": 38,
                  "RIAGENDR": 2,
                  "BMXBMI": 53.7,
                  "mahalanodis": 11.141886152128682,
                  "md_decile": 10,
                  "chi2p": 0.0038068885536761687,
                  "_deepnote_index_column": 98284
                },
                {
                  "RIDAGEYR": 63,
                  "RIAGENDR": 2,
                  "BMXBMI": 56.1,
                  "mahalanodis": 14.05068060666175,
                  "md_decile": 10,
                  "chi2p": 0.0008890649163673103,
                  "_deepnote_index_column": 98371
                },
                {
                  "RIDAGEYR": 22,
                  "RIAGENDR": 1,
                  "BMXBMI": 53.8,
                  "mahalanodis": 15.061205947003765,
                  "md_decile": 10,
                  "chi2p": 0.0005364147152924215,
                  "_deepnote_index_column": 98441
                },
                {
                  "RIDAGEYR": 32,
                  "RIAGENDR": 1,
                  "BMXBMI": 53.5,
                  "mahalanodis": 12.768135960532994,
                  "md_decile": 10,
                  "chi2p": 0.0016882412367269506,
                  "_deepnote_index_column": 98447
                },
                {
                  "RIDAGEYR": 61,
                  "RIAGENDR": 2,
                  "BMXBMI": 58.8,
                  "mahalanodis": 16.291105849052016,
                  "md_decile": 10,
                  "chi2p": 0.0002900222468860125,
                  "_deepnote_index_column": 98491
                },
                {
                  "RIDAGEYR": 21,
                  "RIAGENDR": 2,
                  "BMXBMI": 52.8,
                  "mahalanodis": 13.30292589090598,
                  "md_decile": 10,
                  "chi2p": 0.001292130405774694,
                  "_deepnote_index_column": 98589
                },
                {
                  "RIDAGEYR": 46,
                  "RIAGENDR": 2,
                  "BMXBMI": 52.4,
                  "mahalanodis": 9.693340120834382,
                  "md_decile": 10,
                  "chi2p": 0.007854489024185063,
                  "_deepnote_index_column": 98770
                },
                {
                  "RIDAGEYR": 56,
                  "RIAGENDR": 2,
                  "BMXBMI": 52.6,
                  "mahalanodis": 10.282083112741583,
                  "md_decile": 10,
                  "chi2p": 0.005851591775520859,
                  "_deepnote_index_column": 99131
                },
                {
                  "RIDAGEYR": 43,
                  "RIAGENDR": 1,
                  "BMXBMI": 51,
                  "mahalanodis": 9.633775438410298,
                  "md_decile": 10,
                  "chi2p": 0.00809193235497807,
                  "_deepnote_index_column": 99195
                },
                {
                  "RIDAGEYR": 56,
                  "RIAGENDR": 2,
                  "BMXBMI": 57.2,
                  "mahalanodis": 14.222991291257804,
                  "md_decile": 10,
                  "chi2p": 0.0008156741199044637,
                  "_deepnote_index_column": 99255
                },
                {
                  "RIDAGEYR": 39,
                  "RIAGENDR": 2,
                  "BMXBMI": 63.5,
                  "mahalanodis": 21.12307650370091,
                  "md_decile": 10,
                  "chi2p": 0.00002589299078747942,
                  "_deepnote_index_column": 99616
                },
                {
                  "RIDAGEYR": 21,
                  "RIAGENDR": 2,
                  "BMXBMI": 52,
                  "mahalanodis": 12.627094969894774,
                  "md_decile": 10,
                  "chi2p": 0.0018115952198004548,
                  "_deepnote_index_column": 99795
                },
                {
                  "RIDAGEYR": 25,
                  "RIAGENDR": 1,
                  "BMXBMI": 47.6,
                  "mahalanodis": 9.321714886160816,
                  "md_decile": 10,
                  "chi2p": 0.009458348927946059,
                  "_deepnote_index_column": 99927
                },
                {
                  "RIDAGEYR": 26,
                  "RIAGENDR": 2,
                  "BMXBMI": 57.4,
                  "mahalanodis": 16.42708479908495,
                  "md_decile": 10,
                  "chi2p": 0.00027095917354946764,
                  "_deepnote_index_column": 99934
                },
                {
                  "RIDAGEYR": 33,
                  "RIAGENDR": 2,
                  "BMXBMI": 51.1,
                  "mahalanodis": 9.583304146414932,
                  "md_decile": 10,
                  "chi2p": 0.008298735931335566,
                  "_deepnote_index_column": 99983
                },
                {
                  "RIDAGEYR": 35,
                  "RIAGENDR": 2,
                  "BMXBMI": 53.1,
                  "mahalanodis": 10.943465371525726,
                  "md_decile": 10,
                  "chi2p": 0.004203941733823768,
                  "_deepnote_index_column": 100025
                },
                {
                  "RIDAGEYR": 18,
                  "RIAGENDR": 2,
                  "BMXBMI": 72.6,
                  "mahalanodis": 38.283533329975455,
                  "md_decile": 10,
                  "chi2p": 4.862239721958872e-9,
                  "_deepnote_index_column": 100082
                },
                {
                  "RIDAGEYR": 50,
                  "RIAGENDR": 2,
                  "BMXBMI": 54.5,
                  "mahalanodis": 11.465662129420084,
                  "md_decile": 10,
                  "chi2p": 0.0032378975481167638,
                  "_deepnote_index_column": 100105
                },
                {
                  "RIDAGEYR": 57,
                  "RIAGENDR": 1,
                  "BMXBMI": 52.8,
                  "mahalanodis": 11.503847237129197,
                  "md_decile": 10,
                  "chi2p": 0.0031766642251436217,
                  "_deepnote_index_column": 100214
                },
                {
                  "RIDAGEYR": 56,
                  "RIAGENDR": 2,
                  "BMXBMI": 52.2,
                  "mahalanodis": 9.975234184506629,
                  "md_decile": 10,
                  "chi2p": 0.006821901100357075,
                  "_deepnote_index_column": 100292
                },
                {
                  "RIDAGEYR": 44,
                  "RIAGENDR": 2,
                  "BMXBMI": 53.2,
                  "mahalanodis": 10.3723486537232,
                  "md_decile": 10,
                  "chi2p": 0.005593364319085192,
                  "_deepnote_index_column": 100378
                },
                {
                  "RIDAGEYR": 45,
                  "RIAGENDR": 1,
                  "BMXBMI": 58,
                  "mahalanodis": 15.899716360898251,
                  "md_decile": 10,
                  "chi2p": 0.00035271218256471837,
                  "_deepnote_index_column": 100380
                },
                {
                  "RIDAGEYR": 18,
                  "RIAGENDR": 1,
                  "BMXBMI": 50.9,
                  "mahalanodis": 13.580620641425707,
                  "md_decile": 10,
                  "chi2p": 0.0011246197272239966,
                  "_deepnote_index_column": 100466
                },
                {
                  "RIDAGEYR": 57,
                  "RIAGENDR": 2,
                  "BMXBMI": 55.1,
                  "mahalanodis": 12.422025555718916,
                  "md_decile": 10,
                  "chi2p": 0.0020072035829608037,
                  "_deepnote_index_column": 100657
                },
                {
                  "RIDAGEYR": 57,
                  "RIAGENDR": 2,
                  "BMXBMI": 53.1,
                  "mahalanodis": 10.770367276411637,
                  "md_decile": 10,
                  "chi2p": 0.004583998447692306,
                  "_deepnote_index_column": 100847
                },
                {
                  "RIDAGEYR": 36,
                  "RIAGENDR": 1,
                  "BMXBMI": 51.9,
                  "mahalanodis": 10.867236664011049,
                  "md_decile": 10,
                  "chi2p": 0.00436726496472839,
                  "_deepnote_index_column": 100861
                },
                {
                  "RIDAGEYR": 21,
                  "RIAGENDR": 2,
                  "BMXBMI": 49.4,
                  "mahalanodis": 10.589051705030862,
                  "md_decile": 10,
                  "chi2p": 0.005018993554573803,
                  "_deepnote_index_column": 101009
                },
                {
                  "RIDAGEYR": 19,
                  "RIAGENDR": 2,
                  "BMXBMI": 49.3,
                  "mahalanodis": 11.032034573715723,
                  "md_decile": 10,
                  "chi2p": 0.004021833897942195,
                  "_deepnote_index_column": 101089
                },
                {
                  "RIDAGEYR": 34,
                  "RIAGENDR": 2,
                  "BMXBMI": 52.9,
                  "mahalanodis": 10.89832695763383,
                  "md_decile": 10,
                  "chi2p": 0.004299900144261959,
                  "_deepnote_index_column": 101256
                },
                {
                  "RIDAGEYR": 41,
                  "RIAGENDR": 2,
                  "BMXBMI": 56.9,
                  "mahalanodis": 13.814054069728442,
                  "md_decile": 10,
                  "chi2p": 0.0010007285093520668,
                  "_deepnote_index_column": 101342
                },
                {
                  "RIDAGEYR": 23,
                  "RIAGENDR": 2,
                  "BMXBMI": 60.3,
                  "mahalanodis": 20.228791741578682,
                  "md_decile": 10,
                  "chi2p": 0.00004049241558923278,
                  "_deepnote_index_column": 101462
                },
                {
                  "RIDAGEYR": 53,
                  "RIAGENDR": 2,
                  "BMXBMI": 57.3,
                  "mahalanodis": 14.114797262709851,
                  "md_decile": 10,
                  "chi2p": 0.0008610150006290729,
                  "_deepnote_index_column": 101642
                },
                {
                  "RIDAGEYR": 26,
                  "RIAGENDR": 2,
                  "BMXBMI": 65.3,
                  "mahalanodis": 25.547241215975284,
                  "md_decile": 10,
                  "chi2p": 0.0000028345691490683222,
                  "_deepnote_index_column": 101814
                },
                {
                  "RIDAGEYR": 22,
                  "RIAGENDR": 2,
                  "BMXBMI": 52.1,
                  "mahalanodis": 12.460773196723904,
                  "md_decile": 10,
                  "chi2p": 0.001968690656918959,
                  "_deepnote_index_column": 101911
                },
                {
                  "RIDAGEYR": 48,
                  "RIAGENDR": 2,
                  "BMXBMI": 54.7,
                  "mahalanodis": 11.600625663948101,
                  "md_decile": 10,
                  "chi2p": 0.0030266077775769062,
                  "_deepnote_index_column": 102012
                },
                {
                  "RIDAGEYR": 49,
                  "RIAGENDR": 2,
                  "BMXBMI": 56.5,
                  "mahalanodis": 13.229305775246814,
                  "md_decile": 10,
                  "chi2p": 0.0013405800472171547,
                  "_deepnote_index_column": 102238
                },
                {
                  "RIDAGEYR": 33,
                  "RIAGENDR": 1,
                  "BMXBMI": 53.7,
                  "mahalanodis": 12.800716963216345,
                  "md_decile": 10,
                  "chi2p": 0.0016609617422004286,
                  "_deepnote_index_column": 102355
                },
                {
                  "RIDAGEYR": 39,
                  "RIAGENDR": 1,
                  "BMXBMI": 56.1,
                  "mahalanodis": 14.359063821434493,
                  "md_decile": 10,
                  "chi2p": 0.000762024454161403,
                  "_deepnote_index_column": 102450
                },
                {
                  "RIDAGEYR": 33,
                  "RIAGENDR": 1,
                  "BMXBMI": 68.2,
                  "mahalanodis": 29.629222248684943,
                  "md_decile": 10,
                  "chi2p": 3.682104731117519e-7,
                  "_deepnote_index_column": 102560
                },
                {
                  "RIDAGEYR": 41,
                  "RIAGENDR": 2,
                  "BMXBMI": 57.7,
                  "mahalanodis": 14.594868241121802,
                  "md_decile": 10,
                  "chi2p": 0.0006772743519355418,
                  "_deepnote_index_column": 102861
                }
              ],
              "rows_bottom": null
            },
            "text/plain": "          RIDAGEYR  RIAGENDR  BMXBMI  mahalanodis md_decile         chi2p\nSEQN                                                                     \n83963.0       44.0       2.0    52.1     9.489367        10  8.697814e-03\n84022.0       60.0       2.0    58.7    16.068693        10  3.241363e-04\n84230.0       28.0       2.0    57.8    16.420222        10  2.718905e-04\n84277.0       28.0       2.0    51.5    10.687899        10  4.776967e-03\n84396.0       38.0       2.0    59.4    16.589922        10  2.497723e-04\n...            ...       ...     ...          ...       ...           ...\n102238.0      49.0       2.0    56.5    13.229306        10  1.340580e-03\n102355.0      33.0       1.0    53.7    12.800717        10  1.660962e-03\n102450.0      39.0       1.0    56.1    14.359064        10  7.620245e-04\n102560.0      33.0       1.0    68.2    29.629222        10  3.682105e-07\n102861.0      41.0       2.0    57.7    14.594868        10  6.772744e-04\n\n[145 rows x 6 columns]",
            "text/html": "<div>\n<style scoped>\n    .dataframe tbody tr th:only-of-type {\n        vertical-align: middle;\n    }\n\n    .dataframe tbody tr th {\n        vertical-align: top;\n    }\n\n    .dataframe thead th {\n        text-align: right;\n    }\n</style>\n<table border=\"1\" class=\"dataframe\">\n  <thead>\n    <tr style=\"text-align: right;\">\n      <th></th>\n      <th>RIDAGEYR</th>\n      <th>RIAGENDR</th>\n      <th>BMXBMI</th>\n      <th>mahalanodis</th>\n      <th>md_decile</th>\n      <th>chi2p</th>\n    </tr>\n    <tr>\n      <th>SEQN</th>\n      <th></th>\n      <th></th>\n      <th></th>\n      <th></th>\n      <th></th>\n      <th></th>\n    </tr>\n  </thead>\n  <tbody>\n    <tr>\n      <th>83963.0</th>\n      <td>44.0</td>\n      <td>2.0</td>\n      <td>52.1</td>\n      <td>9.489367</td>\n      <td>10</td>\n      <td>8.697814e-03</td>\n    </tr>\n    <tr>\n      <th>84022.0</th>\n      <td>60.0</td>\n      <td>2.0</td>\n      <td>58.7</td>\n      <td>16.068693</td>\n      <td>10</td>\n      <td>3.241363e-04</td>\n    </tr>\n    <tr>\n      <th>84230.0</th>\n      <td>28.0</td>\n      <td>2.0</td>\n      <td>57.8</td>\n      <td>16.420222</td>\n      <td>10</td>\n      <td>2.718905e-04</td>\n    </tr>\n    <tr>\n      <th>84277.0</th>\n      <td>28.0</td>\n      <td>2.0</td>\n      <td>51.5</td>\n      <td>10.687899</td>\n      <td>10</td>\n      <td>4.776967e-03</td>\n    </tr>\n    <tr>\n      <th>84396.0</th>\n      <td>38.0</td>\n      <td>2.0</td>\n      <td>59.4</td>\n      <td>16.589922</td>\n      <td>10</td>\n      <td>2.497723e-04</td>\n    </tr>\n    <tr>\n      <th>...</th>\n      <td>...</td>\n      <td>...</td>\n      <td>...</td>\n      <td>...</td>\n      <td>...</td>\n      <td>...</td>\n    </tr>\n    <tr>\n      <th>102238.0</th>\n      <td>49.0</td>\n      <td>2.0</td>\n      <td>56.5</td>\n      <td>13.229306</td>\n      <td>10</td>\n      <td>1.340580e-03</td>\n    </tr>\n    <tr>\n      <th>102355.0</th>\n      <td>33.0</td>\n      <td>1.0</td>\n      <td>53.7</td>\n      <td>12.800717</td>\n      <td>10</td>\n      <td>1.660962e-03</td>\n    </tr>\n    <tr>\n      <th>102450.0</th>\n      <td>39.0</td>\n      <td>1.0</td>\n      <td>56.1</td>\n      <td>14.359064</td>\n      <td>10</td>\n      <td>7.620245e-04</td>\n    </tr>\n    <tr>\n      <th>102560.0</th>\n      <td>33.0</td>\n      <td>1.0</td>\n      <td>68.2</td>\n      <td>29.629222</td>\n      <td>10</td>\n      <td>3.682105e-07</td>\n    </tr>\n    <tr>\n      <th>102861.0</th>\n      <td>41.0</td>\n      <td>2.0</td>\n      <td>57.7</td>\n      <td>14.594868</td>\n      <td>10</td>\n      <td>6.772744e-04</td>\n    </tr>\n  </tbody>\n</table>\n<p>145 rows × 6 columns</p>\n</div>"
          },
          "metadata": {}
        }
      ],
      "execution_count": 9
    },
    {
      "cell_type": "markdown",
      "source": "<a style='text-decoration:none;line-height:16px;display:flex;color:#5B5B62;padding:10px;justify-content:end;' href='https://deepnote.com?utm_source=created-in-deepnote-cell&projectId=98f37550-cbaa-491c-a3ea-f393696dc041' target=\"_blank\">\n<img style='display:inline;max-height:16px;margin:0px;margin-right:7.5px;' src='data:image/svg+xml;base64,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' > </img>\nCreated in <span style='font-weight:600;margin-left:4px;'>Deepnote</span></a>",
      "metadata": {
        "tags": [],
        "created_in_deepnote_cell": true,
        "deepnote_cell_type": "markdown"
      }
    }
  ],
  "nbformat": 4,
  "nbformat_minor": 2,
  "metadata": {
    "orig_nbformat": 2,
    "deepnote_notebook_id": "33edc132-f549-463c-8c8c-1bd4133ddb90",
    "deepnote": {},
    "deepnote_execution_queue": []
  }
}