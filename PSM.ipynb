{
  "cells": [
    {
      "cell_type": "markdown",
      "source": "# Propensity Score Matching\nThe possibility of bias arises because a difference in the treatment outcome (such as the average treatment effect) between treated and untreated groups may be caused by a factor that predicts treatment rather than the treatment itself.  Matching attempts to reduce the treatment assignment bias, and mimic randomization, by creating a sample of units that received the treatment that is comparable on all observed covariates to a sample of units that did not receive the treatment.  PSM employs a predicted probability of group membership—e.g., treatment versus control group—based on observed predictors, usually obtained from logistic regression to create a counterfactual group. Propensity scores may be used for matching or as covariates, alone or with other matching variables or covariates.\n\nPSM is the most widespread matching method, though some researchers caution about increased imbalance and degradation of inference (the PSM paradox) and recommend the use of Mahalanobis distance matching or coarsened exact matching [[2019 King, Nielsen](https://gking.harvard.edu/files/gking/files/pan1900011_rev.pdf)].\n\nHere, we will try to see whether there are differences in alcohol consumption between people of different marital status (never married *vs.* married or divorced).  Our key data fields are:\n* DEMO.DMDMARTL: marital status\n* ALQ.ALQ121: \"During the past 12 months, about how often did you drink any type of alcoholic beverage?\"\n\nInitially, we find that unmarried people drink significantly more.  However, marital status might be associated with age and gender.  When matching on age and gender is performed, the differences disappear.",
      "metadata": {
        "tags": [],
        "cell_id": "00000-dee05ff9-3cd5-4066-a814-4cfdf815792b",
        "deepnote_cell_type": "markdown"
      }
    },
    {
      "cell_type": "markdown",
      "source": "![Graphical Abstract](data:image/png;base64,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%0A)",
      "metadata": {
        "tags": [],
        "cell_id": "00001-0bd84c9f-1918-465f-a3e9-fe757dc2ddf9",
        "deepnote_cell_type": "markdown"
      }
    },
    {
      "cell_type": "code",
      "metadata": {
        "tags": [],
        "cell_id": "00000-16c870b4-eb5c-440d-9d75-93f88c6fc90f",
        "deepnote_to_be_reexecuted": false,
        "source_hash": "2f19d1f9",
        "execution_millis": 17,
        "execution_start": 1614832647375,
        "deepnote_cell_type": "code"
      },
      "source": "%load_ext autoreload\n%autoreload 2",
      "execution_count": null,
      "outputs": []
    },
    {
      "cell_type": "code",
      "metadata": {
        "tags": [],
        "cell_id": "00000-44f3a21f-ba85-44fe-953f-b51aaaee1f55",
        "deepnote_to_be_reexecuted": false,
        "source_hash": "eba0bce7",
        "execution_millis": 1066,
        "execution_start": 1614832647398,
        "deepnote_cell_type": "code"
      },
      "source": "import logging\nimport matplotlib.pyplot as plt\nimport numpy as np\nimport os\nimport pandas as pd\nimport seaborn as sns\nimport sys\n\nfrom scipy import stats\n\nformatter = logging.Formatter(\n    fmt='%(asctime)s.%(msecs)03d %(levelname)s [%(name)s] %(message)s',\n    datefmt='%y%m%d@%H:%M:%S',\n)\n\nlogger = logging.getLogger('pynhanes')\nlogger.setLevel(logging.DEBUG)\n# f = logging.FileHandler('nhanes.log')\n# f.setFormatter(formatter)\nh = logging.StreamHandler(stream=sys.stdout)\nh.setFormatter(formatter)\n\nif not logger.hasHandlers():\n    logger.addHandler(h)  # log to STDOUT or Jupyter\n#     logger.addHandler(f)  # log to file\n\nimport pynhanes",
      "execution_count": null,
      "outputs": [
        {
          "name": "stdout",
          "text": "210304@04:37:28.431 DEBUG [pynhanes] pynhanes package (re)loaded\n",
          "output_type": "stream"
        }
      ]
    },
    {
      "cell_type": "code",
      "metadata": {
        "tags": [],
        "cell_id": "00005-75a830f6-0991-4477-96db-9033086d2168",
        "deepnote_to_be_reexecuted": false,
        "source_hash": "71da291a",
        "execution_millis": 2757,
        "execution_start": 1614832648460,
        "deepnote_cell_type": "code"
      },
      "source": "dfs = pynhanes.data.load(datasets=['DEMO','ALQ'], years=(2015, 2018))",
      "execution_count": null,
      "outputs": [
        {
          "name": "stdout",
          "text": "210304@04:37:29.588 INFO [pynhanes.data] read 9971 rows x 47 cols from https://wwwn.cdc.gov/Nchs/Nhanes/2015-2016/DEMO_I.XPT\n210304@04:37:30.635 INFO [pynhanes.data] read 9254 rows x 46 cols from https://wwwn.cdc.gov/Nchs/Nhanes/2017-2018/DEMO_J.XPT\n210304@04:37:30.647 INFO [pynhanes.data] combined dataset DEMO: 19225 rows x 52 cols\n210304@04:37:30.929 INFO [pynhanes.data] read 5735 rows x 10 cols from https://wwwn.cdc.gov/Nchs/Nhanes/2015-2016/ALQ_I.XPT\n210304@04:37:31.206 INFO [pynhanes.data] read 5533 rows x 10 cols from https://wwwn.cdc.gov/Nchs/Nhanes/2017-2018/ALQ_J.XPT\n210304@04:37:31.211 INFO [pynhanes.data] combined dataset ALQ: 11268 rows x 18 cols\n",
          "output_type": "stream"
        }
      ]
    },
    {
      "cell_type": "code",
      "metadata": {
        "tags": [],
        "cell_id": "00005-7a3871b5-8bbf-4df7-b621-722a369ff674",
        "deepnote_to_be_reexecuted": false,
        "source_hash": "39a2a5e3",
        "execution_millis": 34,
        "execution_start": 1614832651219,
        "deepnote_cell_type": "code"
      },
      "source": "df = pd.merge(\n    left = dfs['DEMO'],\n    right = dfs['ALQ'],\n    on = ['SEQN','year'],\n    how = 'inner',\n)\ndf.shape",
      "execution_count": null,
      "outputs": [
        {
          "output_type": "execute_result",
          "execution_count": 4,
          "data": {
            "text/plain": "(11268, 68)"
          },
          "metadata": {}
        }
      ]
    },
    {
      "cell_type": "code",
      "metadata": {
        "tags": [],
        "cell_id": "00006-55e45089-cba8-4369-8331-0601a5668532",
        "deepnote_to_be_reexecuted": false,
        "source_hash": "3423f73c",
        "execution_millis": 39,
        "execution_start": 1614832651255,
        "deepnote_cell_type": "code"
      },
      "source": "# # Recoding ALQ121 answers into numbers\n\n# Code or Value\tValue Description\tCount\tCumulative\tSkip to Item\n# 0\tNever in the last year\t1049\t1049\tALQ151\n# 1\tEvery day\t142\t1191\t\n# 2\tNearly every day\t155\t1346\t\n# 3\t3 to 4 times a week\t273\t1619\t\n# 4\t2 times a week\t323\t1942\t\n# 5\tOnce a week\t340\t2282\t\n# 6\t2 to 3 times a month\t606\t2888\t\n# 7\tOnce a month\t351\t3239\t\n# 8\t7 to 11 times in the last year\t299\t3538\t\n# 9\t3 to 6 times in the last year\t476\t4014\t\n# 10\t1 to 2 times in the last year\t527\t4541\t\n# 77\tRefused\t2\t4543\t\n# 99\tDon't know\t2\t4545\t\n# .\tMissing\t988\t5533\t\n\nALQ121_categories = sorted(df.ALQ121.unique())\ndrinks_per_year = [np.nan, 1, 365, 300, 183, 104, 52, 30, 12, 9, 5, 2, np.nan, np.nan]\ndrinks = {k: v for k, v in zip(ALQ121_categories, drinks_per_year)}\ndf['drinks'] = df.ALQ121.map(drinks)\ndf['log_drinks'] = np.log10(df['drinks']).round(2)\n\nf1 = df.DMDMARTL.isin([1,3,5])  # 1 = married, 3 = divorced, 5 = never married\nf2 = df.log_drinks >= 0\n\ndr = df.loc[f1 & f2, ['RIAGENDR','RIDAGEYR','DMDMARTL','log_drinks',]]  #'INDFMPIR',]]\ndr['RIAGENDR'] = dr['RIAGENDR'].map({1: 1, 2: 0})   # 0 = F, 1 = M\n# dr['DMDMARTL'] = dr['DMDMARTL'].map({1: 0, 3: 1})   # 0 = married, 1 = divorced\ndr['DMDMARTL'] = dr['DMDMARTL'].map({5: 0, 1: 1, 3: 1})   # 0 = never married, 1 = married or divorced\ndr.shape",
      "execution_count": null,
      "outputs": [
        {
          "output_type": "execute_result",
          "execution_count": 5,
          "data": {
            "text/plain": "(3460, 4)"
          },
          "metadata": {}
        }
      ]
    },
    {
      "cell_type": "code",
      "metadata": {
        "tags": [],
        "cell_id": "00010-aa26437b-1d61-4b8a-a840-04736a69e818",
        "deepnote_to_be_reexecuted": false,
        "source_hash": "99aa7534",
        "execution_millis": 63,
        "execution_start": 1614832651291,
        "deepnote_cell_type": "code"
      },
      "source": "# TODO: impute DEMO.INFDMPIR\ndr.isna().sum()",
      "execution_count": null,
      "outputs": [
        {
          "output_type": "execute_result",
          "execution_count": 6,
          "data": {
            "text/plain": "RIAGENDR      0\nRIDAGEYR      0\nDMDMARTL      0\nlog_drinks    0\ndtype: int64"
          },
          "metadata": {}
        }
      ]
    },
    {
      "cell_type": "code",
      "metadata": {
        "tags": [],
        "cell_id": "00008-ca4a4771-bf82-4d75-9d7b-d184239aede9",
        "deepnote_to_be_reexecuted": false,
        "source_hash": "830acf19",
        "execution_millis": 15,
        "execution_start": 1614832651356,
        "deepnote_cell_type": "code"
      },
      "source": "gender_by_maritalstatus = dr.groupby('DMDMARTL').RIAGENDR.describe()\ngender_by_maritalstatus",
      "execution_count": null,
      "outputs": [
        {
          "output_type": "execute_result",
          "execution_count": 7,
          "data": {
            "application/vnd.deepnote.dataframe.v2+json": {
              "row_count": 2,
              "column_count": 8,
              "columns": [
                {
                  "name": "count",
                  "dtype": "float64",
                  "stats": {
                    "unique_count": 2,
                    "nan_count": 0,
                    "min": 796,
                    "max": 2664,
                    "histogram": [
                      {
                        "bin_start": 796,
                        "bin_end": 982.8,
                        "count": 1
                      },
                      {
                        "bin_start": 982.8,
                        "bin_end": 1169.6,
                        "count": 0
                      },
                      {
                        "bin_start": 1169.6,
                        "bin_end": 1356.4,
                        "count": 0
                      },
                      {
                        "bin_start": 1356.4,
                        "bin_end": 1543.2,
                        "count": 0
                      },
                      {
                        "bin_start": 1543.2,
                        "bin_end": 1730,
                        "count": 0
                      },
                      {
                        "bin_start": 1730,
                        "bin_end": 1916.8000000000002,
                        "count": 0
                      },
                      {
                        "bin_start": 1916.8000000000002,
                        "bin_end": 2103.6000000000004,
                        "count": 0
                      },
                      {
                        "bin_start": 2103.6000000000004,
                        "bin_end": 2290.4,
                        "count": 0
                      },
                      {
                        "bin_start": 2290.4,
                        "bin_end": 2477.2,
                        "count": 0
                      },
                      {
                        "bin_start": 2477.2,
                        "bin_end": 2664,
                        "count": 1
                      }
                    ]
                  }
                },
                {
                  "name": "mean",
                  "dtype": "float64",
                  "stats": {
                    "unique_count": 2,
                    "nan_count": 0,
                    "min": 0.5188442211055276,
                    "max": 0.539039039039039,
                    "histogram": [
                      {
                        "bin_start": 0.5188442211055276,
                        "bin_end": 0.5208637028988787,
                        "count": 1
                      },
                      {
                        "bin_start": 0.5208637028988787,
                        "bin_end": 0.5228831846922299,
                        "count": 0
                      },
                      {
                        "bin_start": 0.5228831846922299,
                        "bin_end": 0.524902666485581,
                        "count": 0
                      },
                      {
                        "bin_start": 0.524902666485581,
                        "bin_end": 0.5269221482789322,
                        "count": 0
                      },
                      {
                        "bin_start": 0.5269221482789322,
                        "bin_end": 0.5289416300722833,
                        "count": 0
                      },
                      {
                        "bin_start": 0.5289416300722833,
                        "bin_end": 0.5309611118656344,
                        "count": 0
                      },
                      {
                        "bin_start": 0.5309611118656344,
                        "bin_end": 0.5329805936589856,
                        "count": 0
                      },
                      {
                        "bin_start": 0.5329805936589856,
                        "bin_end": 0.5350000754523367,
                        "count": 0
                      },
                      {
                        "bin_start": 0.5350000754523367,
                        "bin_end": 0.537019557245688,
                        "count": 0
                      },
                      {
                        "bin_start": 0.537019557245688,
                        "bin_end": 0.539039039039039,
                        "count": 1
                      }
                    ]
                  }
                },
                {
                  "name": "std",
                  "dtype": "float64",
                  "stats": {
                    "unique_count": 2,
                    "nan_count": 0,
                    "min": 0.4985672073153895,
                    "max": 0.4999589123789987,
                    "histogram": [
                      {
                        "bin_start": 0.4985672073153895,
                        "bin_end": 0.4987063778217504,
                        "count": 1
                      },
                      {
                        "bin_start": 0.4987063778217504,
                        "bin_end": 0.49884554832811134,
                        "count": 0
                      },
                      {
                        "bin_start": 0.49884554832811134,
                        "bin_end": 0.49898471883447226,
                        "count": 0
                      },
                      {
                        "bin_start": 0.49898471883447226,
                        "bin_end": 0.4991238893408332,
                        "count": 0
                      },
                      {
                        "bin_start": 0.4991238893408332,
                        "bin_end": 0.4992630598471941,
                        "count": 0
                      },
                      {
                        "bin_start": 0.4992630598471941,
                        "bin_end": 0.499402230353555,
                        "count": 0
                      },
                      {
                        "bin_start": 0.499402230353555,
                        "bin_end": 0.49954140085991594,
                        "count": 0
                      },
                      {
                        "bin_start": 0.49954140085991594,
                        "bin_end": 0.49968057136627686,
                        "count": 0
                      },
                      {
                        "bin_start": 0.49968057136627686,
                        "bin_end": 0.4998197418726378,
                        "count": 0
                      },
                      {
                        "bin_start": 0.4998197418726378,
                        "bin_end": 0.4999589123789987,
                        "count": 1
                      }
                    ]
                  }
                },
                {
                  "name": "min",
                  "dtype": "float64",
                  "stats": {
                    "unique_count": 1,
                    "nan_count": 0,
                    "min": 0,
                    "max": 0,
                    "histogram": [
                      {
                        "bin_start": -0.5,
                        "bin_end": -0.4,
                        "count": 0
                      },
                      {
                        "bin_start": -0.4,
                        "bin_end": -0.3,
                        "count": 0
                      },
                      {
                        "bin_start": -0.3,
                        "bin_end": -0.19999999999999996,
                        "count": 0
                      },
                      {
                        "bin_start": -0.19999999999999996,
                        "bin_end": -0.09999999999999998,
                        "count": 0
                      },
                      {
                        "bin_start": -0.09999999999999998,
                        "bin_end": 0,
                        "count": 0
                      },
                      {
                        "bin_start": 0,
                        "bin_end": 0.10000000000000009,
                        "count": 2
                      },
                      {
                        "bin_start": 0.10000000000000009,
                        "bin_end": 0.20000000000000007,
                        "count": 0
                      },
                      {
                        "bin_start": 0.20000000000000007,
                        "bin_end": 0.30000000000000004,
                        "count": 0
                      },
                      {
                        "bin_start": 0.30000000000000004,
                        "bin_end": 0.4,
                        "count": 0
                      },
                      {
                        "bin_start": 0.4,
                        "bin_end": 0.5,
                        "count": 0
                      }
                    ]
                  }
                },
                {
                  "name": "25%",
                  "dtype": "float64",
                  "stats": {
                    "unique_count": 1,
                    "nan_count": 0,
                    "min": 0,
                    "max": 0,
                    "histogram": [
                      {
                        "bin_start": -0.5,
                        "bin_end": -0.4,
                        "count": 0
                      },
                      {
                        "bin_start": -0.4,
                        "bin_end": -0.3,
                        "count": 0
                      },
                      {
                        "bin_start": -0.3,
                        "bin_end": -0.19999999999999996,
                        "count": 0
                      },
                      {
                        "bin_start": -0.19999999999999996,
                        "bin_end": -0.09999999999999998,
                        "count": 0
                      },
                      {
                        "bin_start": -0.09999999999999998,
                        "bin_end": 0,
                        "count": 0
                      },
                      {
                        "bin_start": 0,
                        "bin_end": 0.10000000000000009,
                        "count": 2
                      },
                      {
                        "bin_start": 0.10000000000000009,
                        "bin_end": 0.20000000000000007,
                        "count": 0
                      },
                      {
                        "bin_start": 0.20000000000000007,
                        "bin_end": 0.30000000000000004,
                        "count": 0
                      },
                      {
                        "bin_start": 0.30000000000000004,
                        "bin_end": 0.4,
                        "count": 0
                      },
                      {
                        "bin_start": 0.4,
                        "bin_end": 0.5,
                        "count": 0
                      }
                    ]
                  }
                },
                {
                  "name": "50%",
                  "dtype": "float64",
                  "stats": {
                    "unique_count": 1,
                    "nan_count": 0,
                    "min": 1,
                    "max": 1,
                    "histogram": [
                      {
                        "bin_start": 0.5,
                        "bin_end": 0.6,
                        "count": 0
                      },
                      {
                        "bin_start": 0.6,
                        "bin_end": 0.7,
                        "count": 0
                      },
                      {
                        "bin_start": 0.7,
                        "bin_end": 0.8,
                        "count": 0
                      },
                      {
                        "bin_start": 0.8,
                        "bin_end": 0.9,
                        "count": 0
                      },
                      {
                        "bin_start": 0.9,
                        "bin_end": 1,
                        "count": 0
                      },
                      {
                        "bin_start": 1,
                        "bin_end": 1.1,
                        "count": 2
                      },
                      {
                        "bin_start": 1.1,
                        "bin_end": 1.2000000000000002,
                        "count": 0
                      },
                      {
                        "bin_start": 1.2000000000000002,
                        "bin_end": 1.3,
                        "count": 0
                      },
                      {
                        "bin_start": 1.3,
                        "bin_end": 1.4,
                        "count": 0
                      },
                      {
                        "bin_start": 1.4,
                        "bin_end": 1.5,
                        "count": 0
                      }
                    ]
                  }
                },
                {
                  "name": "75%",
                  "dtype": "float64",
                  "stats": {
                    "unique_count": 1,
                    "nan_count": 0,
                    "min": 1,
                    "max": 1,
                    "histogram": [
                      {
                        "bin_start": 0.5,
                        "bin_end": 0.6,
                        "count": 0
                      },
                      {
                        "bin_start": 0.6,
                        "bin_end": 0.7,
                        "count": 0
                      },
                      {
                        "bin_start": 0.7,
                        "bin_end": 0.8,
                        "count": 0
                      },
                      {
                        "bin_start": 0.8,
                        "bin_end": 0.9,
                        "count": 0
                      },
                      {
                        "bin_start": 0.9,
                        "bin_end": 1,
                        "count": 0
                      },
                      {
                        "bin_start": 1,
                        "bin_end": 1.1,
                        "count": 2
                      },
                      {
                        "bin_start": 1.1,
                        "bin_end": 1.2000000000000002,
                        "count": 0
                      },
                      {
                        "bin_start": 1.2000000000000002,
                        "bin_end": 1.3,
                        "count": 0
                      },
                      {
                        "bin_start": 1.3,
                        "bin_end": 1.4,
                        "count": 0
                      },
                      {
                        "bin_start": 1.4,
                        "bin_end": 1.5,
                        "count": 0
                      }
                    ]
                  }
                },
                {
                  "name": "max",
                  "dtype": "float64",
                  "stats": {
                    "unique_count": 1,
                    "nan_count": 0,
                    "min": 1,
                    "max": 1,
                    "histogram": [
                      {
                        "bin_start": 0.5,
                        "bin_end": 0.6,
                        "count": 0
                      },
                      {
                        "bin_start": 0.6,
                        "bin_end": 0.7,
                        "count": 0
                      },
                      {
                        "bin_start": 0.7,
                        "bin_end": 0.8,
                        "count": 0
                      },
                      {
                        "bin_start": 0.8,
                        "bin_end": 0.9,
                        "count": 0
                      },
                      {
                        "bin_start": 0.9,
                        "bin_end": 1,
                        "count": 0
                      },
                      {
                        "bin_start": 1,
                        "bin_end": 1.1,
                        "count": 2
                      },
                      {
                        "bin_start": 1.1,
                        "bin_end": 1.2000000000000002,
                        "count": 0
                      },
                      {
                        "bin_start": 1.2000000000000002,
                        "bin_end": 1.3,
                        "count": 0
                      },
                      {
                        "bin_start": 1.3,
                        "bin_end": 1.4,
                        "count": 0
                      },
                      {
                        "bin_start": 1.4,
                        "bin_end": 1.5,
                        "count": 0
                      }
                    ]
                  }
                },
                {
                  "name": "_deepnote_index_column",
                  "dtype": "int64"
                }
              ],
              "rows_top": [
                {
                  "count": 796,
                  "mean": 0.5188442211055276,
                  "std": 0.4999589123789987,
                  "min": 0,
                  "25%": 0,
                  "50%": 1,
                  "75%": 1,
                  "max": 1,
                  "_deepnote_index_column": 0
                },
                {
                  "count": 2664,
                  "mean": 0.539039039039039,
                  "std": 0.4985672073153895,
                  "min": 0,
                  "25%": 0,
                  "50%": 1,
                  "75%": 1,
                  "max": 1,
                  "_deepnote_index_column": 1
                }
              ],
              "rows_bottom": null
            },
            "text/plain": "           count      mean       std  min  25%  50%  75%  max\nDMDMARTL                                                     \n0          796.0  0.518844  0.499959  0.0  0.0  1.0  1.0  1.0\n1         2664.0  0.539039  0.498567  0.0  0.0  1.0  1.0  1.0",
            "text/html": "<div>\n<style scoped>\n    .dataframe tbody tr th:only-of-type {\n        vertical-align: middle;\n    }\n\n    .dataframe tbody tr th {\n        vertical-align: top;\n    }\n\n    .dataframe thead th {\n        text-align: right;\n    }\n</style>\n<table border=\"1\" class=\"dataframe\">\n  <thead>\n    <tr style=\"text-align: right;\">\n      <th></th>\n      <th>count</th>\n      <th>mean</th>\n      <th>std</th>\n      <th>min</th>\n      <th>25%</th>\n      <th>50%</th>\n      <th>75%</th>\n      <th>max</th>\n    </tr>\n    <tr>\n      <th>DMDMARTL</th>\n      <th></th>\n      <th></th>\n      <th></th>\n      <th></th>\n      <th></th>\n      <th></th>\n      <th></th>\n      <th></th>\n    </tr>\n  </thead>\n  <tbody>\n    <tr>\n      <th>0</th>\n      <td>796.0</td>\n      <td>0.518844</td>\n      <td>0.499959</td>\n      <td>0.0</td>\n      <td>0.0</td>\n      <td>1.0</td>\n      <td>1.0</td>\n      <td>1.0</td>\n    </tr>\n    <tr>\n      <th>1</th>\n      <td>2664.0</td>\n      <td>0.539039</td>\n      <td>0.498567</td>\n      <td>0.0</td>\n      <td>0.0</td>\n      <td>1.0</td>\n      <td>1.0</td>\n      <td>1.0</td>\n    </tr>\n  </tbody>\n</table>\n</div>"
          },
          "metadata": {}
        }
      ]
    },
    {
      "cell_type": "code",
      "metadata": {
        "tags": [],
        "cell_id": "00008-147f57dd-fa68-4006-afba-037e2d5975bf",
        "deepnote_to_be_reexecuted": false,
        "source_hash": "2b053ebe",
        "execution_start": 1614832651368,
        "execution_millis": 51,
        "deepnote_cell_type": "code"
      },
      "source": "logdrinks_by_maritalstatus = dr.groupby('DMDMARTL').log_drinks.describe()\nlogdrinks_by_maritalstatus",
      "execution_count": null,
      "outputs": [
        {
          "output_type": "execute_result",
          "execution_count": 8,
          "data": {
            "application/vnd.deepnote.dataframe.v2+json": {
              "row_count": 2,
              "column_count": 8,
              "columns": [
                {
                  "name": "count",
                  "dtype": "float64",
                  "stats": {
                    "unique_count": 2,
                    "nan_count": 0,
                    "min": 796,
                    "max": 2664,
                    "histogram": [
                      {
                        "bin_start": 796,
                        "bin_end": 982.8,
                        "count": 1
                      },
                      {
                        "bin_start": 982.8,
                        "bin_end": 1169.6,
                        "count": 0
                      },
                      {
                        "bin_start": 1169.6,
                        "bin_end": 1356.4,
                        "count": 0
                      },
                      {
                        "bin_start": 1356.4,
                        "bin_end": 1543.2,
                        "count": 0
                      },
                      {
                        "bin_start": 1543.2,
                        "bin_end": 1730,
                        "count": 0
                      },
                      {
                        "bin_start": 1730,
                        "bin_end": 1916.8000000000002,
                        "count": 0
                      },
                      {
                        "bin_start": 1916.8000000000002,
                        "bin_end": 2103.6000000000004,
                        "count": 0
                      },
                      {
                        "bin_start": 2103.6000000000004,
                        "bin_end": 2290.4,
                        "count": 0
                      },
                      {
                        "bin_start": 2290.4,
                        "bin_end": 2477.2,
                        "count": 0
                      },
                      {
                        "bin_start": 2477.2,
                        "bin_end": 2664,
                        "count": 1
                      }
                    ]
                  }
                },
                {
                  "name": "mean",
                  "dtype": "float64",
                  "stats": {
                    "unique_count": 2,
                    "nan_count": 0,
                    "min": 0.9997672672672673,
                    "max": 1.1459924623115578,
                    "histogram": [
                      {
                        "bin_start": 0.9997672672672673,
                        "bin_end": 1.0143897867716962,
                        "count": 1
                      },
                      {
                        "bin_start": 1.0143897867716962,
                        "bin_end": 1.0290123062761254,
                        "count": 0
                      },
                      {
                        "bin_start": 1.0290123062761254,
                        "bin_end": 1.0436348257805546,
                        "count": 0
                      },
                      {
                        "bin_start": 1.0436348257805546,
                        "bin_end": 1.0582573452849835,
                        "count": 0
                      },
                      {
                        "bin_start": 1.0582573452849835,
                        "bin_end": 1.0728798647894124,
                        "count": 0
                      },
                      {
                        "bin_start": 1.0728798647894124,
                        "bin_end": 1.0875023842938416,
                        "count": 0
                      },
                      {
                        "bin_start": 1.0875023842938416,
                        "bin_end": 1.1021249037982708,
                        "count": 0
                      },
                      {
                        "bin_start": 1.1021249037982708,
                        "bin_end": 1.1167474233026997,
                        "count": 0
                      },
                      {
                        "bin_start": 1.1167474233026997,
                        "bin_end": 1.1313699428071287,
                        "count": 0
                      },
                      {
                        "bin_start": 1.1313699428071287,
                        "bin_end": 1.1459924623115578,
                        "count": 1
                      }
                    ]
                  }
                },
                {
                  "name": "std",
                  "dtype": "float64",
                  "stats": {
                    "unique_count": 2,
                    "nan_count": 0,
                    "min": 0.7951096723962552,
                    "max": 0.8349612963445854,
                    "histogram": [
                      {
                        "bin_start": 0.7951096723962552,
                        "bin_end": 0.7990948347910882,
                        "count": 1
                      },
                      {
                        "bin_start": 0.7990948347910882,
                        "bin_end": 0.8030799971859213,
                        "count": 0
                      },
                      {
                        "bin_start": 0.8030799971859213,
                        "bin_end": 0.8070651595807542,
                        "count": 0
                      },
                      {
                        "bin_start": 0.8070651595807542,
                        "bin_end": 0.8110503219755872,
                        "count": 0
                      },
                      {
                        "bin_start": 0.8110503219755872,
                        "bin_end": 0.8150354843704203,
                        "count": 0
                      },
                      {
                        "bin_start": 0.8150354843704203,
                        "bin_end": 0.8190206467652533,
                        "count": 0
                      },
                      {
                        "bin_start": 0.8190206467652533,
                        "bin_end": 0.8230058091600864,
                        "count": 0
                      },
                      {
                        "bin_start": 0.8230058091600864,
                        "bin_end": 0.8269909715549193,
                        "count": 0
                      },
                      {
                        "bin_start": 0.8269909715549193,
                        "bin_end": 0.8309761339497523,
                        "count": 0
                      },
                      {
                        "bin_start": 0.8309761339497523,
                        "bin_end": 0.8349612963445854,
                        "count": 1
                      }
                    ]
                  }
                },
                {
                  "name": "min",
                  "dtype": "float64",
                  "stats": {
                    "unique_count": 1,
                    "nan_count": 0,
                    "min": 0,
                    "max": 0,
                    "histogram": [
                      {
                        "bin_start": -0.5,
                        "bin_end": -0.4,
                        "count": 0
                      },
                      {
                        "bin_start": -0.4,
                        "bin_end": -0.3,
                        "count": 0
                      },
                      {
                        "bin_start": -0.3,
                        "bin_end": -0.19999999999999996,
                        "count": 0
                      },
                      {
                        "bin_start": -0.19999999999999996,
                        "bin_end": -0.09999999999999998,
                        "count": 0
                      },
                      {
                        "bin_start": -0.09999999999999998,
                        "bin_end": 0,
                        "count": 0
                      },
                      {
                        "bin_start": 0,
                        "bin_end": 0.10000000000000009,
                        "count": 2
                      },
                      {
                        "bin_start": 0.10000000000000009,
                        "bin_end": 0.20000000000000007,
                        "count": 0
                      },
                      {
                        "bin_start": 0.20000000000000007,
                        "bin_end": 0.30000000000000004,
                        "count": 0
                      },
                      {
                        "bin_start": 0.30000000000000004,
                        "bin_end": 0.4,
                        "count": 0
                      },
                      {
                        "bin_start": 0.4,
                        "bin_end": 0.5,
                        "count": 0
                      }
                    ]
                  }
                },
                {
                  "name": "25%",
                  "dtype": "float64",
                  "stats": {
                    "unique_count": 2,
                    "nan_count": 0,
                    "min": 0.22499999999999998,
                    "max": 0.3,
                    "histogram": [
                      {
                        "bin_start": 0.22499999999999998,
                        "bin_end": 0.23249999999999998,
                        "count": 1
                      },
                      {
                        "bin_start": 0.23249999999999998,
                        "bin_end": 0.24,
                        "count": 0
                      },
                      {
                        "bin_start": 0.24,
                        "bin_end": 0.2475,
                        "count": 0
                      },
                      {
                        "bin_start": 0.2475,
                        "bin_end": 0.255,
                        "count": 0
                      },
                      {
                        "bin_start": 0.255,
                        "bin_end": 0.26249999999999996,
                        "count": 0
                      },
                      {
                        "bin_start": 0.26249999999999996,
                        "bin_end": 0.27,
                        "count": 0
                      },
                      {
                        "bin_start": 0.27,
                        "bin_end": 0.27749999999999997,
                        "count": 0
                      },
                      {
                        "bin_start": 0.27749999999999997,
                        "bin_end": 0.285,
                        "count": 0
                      },
                      {
                        "bin_start": 0.285,
                        "bin_end": 0.2925,
                        "count": 0
                      },
                      {
                        "bin_start": 0.2925,
                        "bin_end": 0.3,
                        "count": 1
                      }
                    ]
                  }
                },
                {
                  "name": "50%",
                  "dtype": "float64",
                  "stats": {
                    "unique_count": 2,
                    "nan_count": 0,
                    "min": 0.95,
                    "max": 1.08,
                    "histogram": [
                      {
                        "bin_start": 0.95,
                        "bin_end": 0.963,
                        "count": 1
                      },
                      {
                        "bin_start": 0.963,
                        "bin_end": 0.976,
                        "count": 0
                      },
                      {
                        "bin_start": 0.976,
                        "bin_end": 0.989,
                        "count": 0
                      },
                      {
                        "bin_start": 0.989,
                        "bin_end": 1.002,
                        "count": 0
                      },
                      {
                        "bin_start": 1.002,
                        "bin_end": 1.0150000000000001,
                        "count": 0
                      },
                      {
                        "bin_start": 1.0150000000000001,
                        "bin_end": 1.028,
                        "count": 0
                      },
                      {
                        "bin_start": 1.028,
                        "bin_end": 1.041,
                        "count": 0
                      },
                      {
                        "bin_start": 1.041,
                        "bin_end": 1.054,
                        "count": 0
                      },
                      {
                        "bin_start": 1.054,
                        "bin_end": 1.0670000000000002,
                        "count": 0
                      },
                      {
                        "bin_start": 1.0670000000000002,
                        "bin_end": 1.08,
                        "count": 1
                      }
                    ]
                  }
                },
                {
                  "name": "75%",
                  "dtype": "float64",
                  "stats": {
                    "unique_count": 1,
                    "nan_count": 0,
                    "min": 1.72,
                    "max": 1.72,
                    "histogram": [
                      {
                        "bin_start": 1.22,
                        "bin_end": 1.3199999999999998,
                        "count": 0
                      },
                      {
                        "bin_start": 1.3199999999999998,
                        "bin_end": 1.42,
                        "count": 0
                      },
                      {
                        "bin_start": 1.42,
                        "bin_end": 1.52,
                        "count": 0
                      },
                      {
                        "bin_start": 1.52,
                        "bin_end": 1.6199999999999999,
                        "count": 0
                      },
                      {
                        "bin_start": 1.6199999999999999,
                        "bin_end": 1.7199999999999998,
                        "count": 0
                      },
                      {
                        "bin_start": 1.7199999999999998,
                        "bin_end": 1.8199999999999998,
                        "count": 2
                      },
                      {
                        "bin_start": 1.8199999999999998,
                        "bin_end": 1.92,
                        "count": 0
                      },
                      {
                        "bin_start": 1.92,
                        "bin_end": 2.0199999999999996,
                        "count": 0
                      },
                      {
                        "bin_start": 2.0199999999999996,
                        "bin_end": 2.1199999999999997,
                        "count": 0
                      },
                      {
                        "bin_start": 2.1199999999999997,
                        "bin_end": 2.2199999999999998,
                        "count": 0
                      }
                    ]
                  }
                },
                {
                  "name": "max",
                  "dtype": "float64",
                  "stats": {
                    "unique_count": 1,
                    "nan_count": 0,
                    "min": 2.56,
                    "max": 2.56,
                    "histogram": [
                      {
                        "bin_start": 2.06,
                        "bin_end": 2.16,
                        "count": 0
                      },
                      {
                        "bin_start": 2.16,
                        "bin_end": 2.2600000000000002,
                        "count": 0
                      },
                      {
                        "bin_start": 2.2600000000000002,
                        "bin_end": 2.3600000000000003,
                        "count": 0
                      },
                      {
                        "bin_start": 2.3600000000000003,
                        "bin_end": 2.46,
                        "count": 0
                      },
                      {
                        "bin_start": 2.46,
                        "bin_end": 2.56,
                        "count": 0
                      },
                      {
                        "bin_start": 2.56,
                        "bin_end": 2.66,
                        "count": 2
                      },
                      {
                        "bin_start": 2.66,
                        "bin_end": 2.7600000000000002,
                        "count": 0
                      },
                      {
                        "bin_start": 2.7600000000000002,
                        "bin_end": 2.8600000000000003,
                        "count": 0
                      },
                      {
                        "bin_start": 2.8600000000000003,
                        "bin_end": 2.96,
                        "count": 0
                      },
                      {
                        "bin_start": 2.96,
                        "bin_end": 3.06,
                        "count": 0
                      }
                    ]
                  }
                },
                {
                  "name": "_deepnote_index_column",
                  "dtype": "int64"
                }
              ],
              "rows_top": [
                {
                  "count": 796,
                  "mean": 1.1459924623115578,
                  "std": 0.7951096723962552,
                  "min": 0,
                  "25%": 0.3,
                  "50%": 1.08,
                  "75%": 1.72,
                  "max": 2.56,
                  "_deepnote_index_column": 0
                },
                {
                  "count": 2664,
                  "mean": 0.9997672672672673,
                  "std": 0.8349612963445854,
                  "min": 0,
                  "25%": 0.22499999999999998,
                  "50%": 0.95,
                  "75%": 1.72,
                  "max": 2.56,
                  "_deepnote_index_column": 1
                }
              ],
              "rows_bottom": null
            },
            "text/plain": "           count      mean       std  min    25%   50%   75%   max\nDMDMARTL                                                          \n0          796.0  1.145992  0.795110  0.0  0.300  1.08  1.72  2.56\n1         2664.0  0.999767  0.834961  0.0  0.225  0.95  1.72  2.56",
            "text/html": "<div>\n<style scoped>\n    .dataframe tbody tr th:only-of-type {\n        vertical-align: middle;\n    }\n\n    .dataframe tbody tr th {\n        vertical-align: top;\n    }\n\n    .dataframe thead th {\n        text-align: right;\n    }\n</style>\n<table border=\"1\" class=\"dataframe\">\n  <thead>\n    <tr style=\"text-align: right;\">\n      <th></th>\n      <th>count</th>\n      <th>mean</th>\n      <th>std</th>\n      <th>min</th>\n      <th>25%</th>\n      <th>50%</th>\n      <th>75%</th>\n      <th>max</th>\n    </tr>\n    <tr>\n      <th>DMDMARTL</th>\n      <th></th>\n      <th></th>\n      <th></th>\n      <th></th>\n      <th></th>\n      <th></th>\n      <th></th>\n      <th></th>\n    </tr>\n  </thead>\n  <tbody>\n    <tr>\n      <th>0</th>\n      <td>796.0</td>\n      <td>1.145992</td>\n      <td>0.795110</td>\n      <td>0.0</td>\n      <td>0.300</td>\n      <td>1.08</td>\n      <td>1.72</td>\n      <td>2.56</td>\n    </tr>\n    <tr>\n      <th>1</th>\n      <td>2664.0</td>\n      <td>0.999767</td>\n      <td>0.834961</td>\n      <td>0.0</td>\n      <td>0.225</td>\n      <td>0.95</td>\n      <td>1.72</td>\n      <td>2.56</td>\n    </tr>\n  </tbody>\n</table>\n</div>"
          },
          "metadata": {}
        }
      ]
    },
    {
      "cell_type": "code",
      "metadata": {
        "tags": [],
        "cell_id": "00007-9d9bf7c0-8a58-483d-a116-7fa808cae72f",
        "deepnote_to_be_reexecuted": false,
        "source_hash": "2f9eb868",
        "execution_millis": 17,
        "execution_start": 1614832651458,
        "deepnote_cell_type": "code"
      },
      "source": "dr",
      "execution_count": null,
      "outputs": [
        {
          "output_type": "execute_result",
          "execution_count": 9,
          "data": {
            "application/vnd.deepnote.dataframe.v2+json": {
              "row_count": 3460,
              "column_count": 4,
              "columns": [
                {
                  "name": "RIAGENDR",
                  "dtype": "int64",
                  "stats": {
                    "unique_count": 2,
                    "nan_count": 0,
                    "min": 0,
                    "max": 1,
                    "histogram": [
                      {
                        "bin_start": 0,
                        "bin_end": 0.1,
                        "count": 1611
                      },
                      {
                        "bin_start": 0.1,
                        "bin_end": 0.2,
                        "count": 0
                      },
                      {
                        "bin_start": 0.2,
                        "bin_end": 0.30000000000000004,
                        "count": 0
                      },
                      {
                        "bin_start": 0.30000000000000004,
                        "bin_end": 0.4,
                        "count": 0
                      },
                      {
                        "bin_start": 0.4,
                        "bin_end": 0.5,
                        "count": 0
                      },
                      {
                        "bin_start": 0.5,
                        "bin_end": 0.6000000000000001,
                        "count": 0
                      },
                      {
                        "bin_start": 0.6000000000000001,
                        "bin_end": 0.7000000000000001,
                        "count": 0
                      },
                      {
                        "bin_start": 0.7000000000000001,
                        "bin_end": 0.8,
                        "count": 0
                      },
                      {
                        "bin_start": 0.8,
                        "bin_end": 0.9,
                        "count": 0
                      },
                      {
                        "bin_start": 0.9,
                        "bin_end": 1,
                        "count": 1849
                      }
                    ]
                  }
                },
                {
                  "name": "RIDAGEYR",
                  "dtype": "float64",
                  "stats": {
                    "unique_count": 61,
                    "nan_count": 0,
                    "min": 20,
                    "max": 80,
                    "histogram": [
                      {
                        "bin_start": 20,
                        "bin_end": 26,
                        "count": 297
                      },
                      {
                        "bin_start": 26,
                        "bin_end": 32,
                        "count": 323
                      },
                      {
                        "bin_start": 32,
                        "bin_end": 38,
                        "count": 318
                      },
                      {
                        "bin_start": 38,
                        "bin_end": 44,
                        "count": 311
                      },
                      {
                        "bin_start": 44,
                        "bin_end": 50,
                        "count": 323
                      },
                      {
                        "bin_start": 50,
                        "bin_end": 56,
                        "count": 374
                      },
                      {
                        "bin_start": 56,
                        "bin_end": 62,
                        "count": 445
                      },
                      {
                        "bin_start": 62,
                        "bin_end": 68,
                        "count": 418
                      },
                      {
                        "bin_start": 68,
                        "bin_end": 74,
                        "count": 307
                      },
                      {
                        "bin_start": 74,
                        "bin_end": 80,
                        "count": 344
                      }
                    ]
                  }
                },
                {
                  "name": "DMDMARTL",
                  "dtype": "int64",
                  "stats": {
                    "unique_count": 2,
                    "nan_count": 0,
                    "min": 0,
                    "max": 1,
                    "histogram": [
                      {
                        "bin_start": 0,
                        "bin_end": 0.1,
                        "count": 796
                      },
                      {
                        "bin_start": 0.1,
                        "bin_end": 0.2,
                        "count": 0
                      },
                      {
                        "bin_start": 0.2,
                        "bin_end": 0.30000000000000004,
                        "count": 0
                      },
                      {
                        "bin_start": 0.30000000000000004,
                        "bin_end": 0.4,
                        "count": 0
                      },
                      {
                        "bin_start": 0.4,
                        "bin_end": 0.5,
                        "count": 0
                      },
                      {
                        "bin_start": 0.5,
                        "bin_end": 0.6000000000000001,
                        "count": 0
                      },
                      {
                        "bin_start": 0.6000000000000001,
                        "bin_end": 0.7000000000000001,
                        "count": 0
                      },
                      {
                        "bin_start": 0.7000000000000001,
                        "bin_end": 0.8,
                        "count": 0
                      },
                      {
                        "bin_start": 0.8,
                        "bin_end": 0.9,
                        "count": 0
                      },
                      {
                        "bin_start": 0.9,
                        "bin_end": 1,
                        "count": 2664
                      }
                    ]
                  }
                },
                {
                  "name": "log_drinks",
                  "dtype": "float64",
                  "stats": {
                    "unique_count": 11,
                    "nan_count": 0,
                    "min": 0,
                    "max": 2.56,
                    "histogram": [
                      {
                        "bin_start": 0,
                        "bin_end": 0.256,
                        "count": 795
                      },
                      {
                        "bin_start": 0.256,
                        "bin_end": 0.512,
                        "count": 382
                      },
                      {
                        "bin_start": 0.512,
                        "bin_end": 0.768,
                        "count": 371
                      },
                      {
                        "bin_start": 0.768,
                        "bin_end": 1.024,
                        "count": 225
                      },
                      {
                        "bin_start": 1.024,
                        "bin_end": 1.28,
                        "count": 267
                      },
                      {
                        "bin_start": 1.28,
                        "bin_end": 1.536,
                        "count": 463
                      },
                      {
                        "bin_start": 1.536,
                        "bin_end": 1.792,
                        "count": 268
                      },
                      {
                        "bin_start": 1.792,
                        "bin_end": 2.048,
                        "count": 252
                      },
                      {
                        "bin_start": 2.048,
                        "bin_end": 2.3040000000000003,
                        "count": 217
                      },
                      {
                        "bin_start": 2.3040000000000003,
                        "bin_end": 2.56,
                        "count": 220
                      }
                    ]
                  }
                },
                {
                  "name": "_deepnote_index_column",
                  "dtype": "int64"
                }
              ],
              "rows_top": [
                {
                  "RIAGENDR": 0,
                  "RIDAGEYR": 66,
                  "DMDMARTL": 1,
                  "log_drinks": 1.08,
                  "_deepnote_index_column": 5735
                },
                {
                  "RIAGENDR": 1,
                  "RIDAGEYR": 56,
                  "DMDMARTL": 1,
                  "log_drinks": 1.72,
                  "_deepnote_index_column": 5739
                },
                {
                  "RIAGENDR": 1,
                  "RIDAGEYR": 67,
                  "DMDMARTL": 1,
                  "log_drinks": 1.48,
                  "_deepnote_index_column": 5741
                },
                {
                  "RIAGENDR": 0,
                  "RIDAGEYR": 54,
                  "DMDMARTL": 1,
                  "log_drinks": 0.7,
                  "_deepnote_index_column": 5742
                },
                {
                  "RIAGENDR": 1,
                  "RIDAGEYR": 71,
                  "DMDMARTL": 1,
                  "log_drinks": 0,
                  "_deepnote_index_column": 5743
                },
                {
                  "RIAGENDR": 1,
                  "RIDAGEYR": 61,
                  "DMDMARTL": 1,
                  "log_drinks": 1.08,
                  "_deepnote_index_column": 5744
                },
                {
                  "RIAGENDR": 1,
                  "RIDAGEYR": 22,
                  "DMDMARTL": 0,
                  "log_drinks": 2.56,
                  "_deepnote_index_column": 5745
                },
                {
                  "RIAGENDR": 1,
                  "RIDAGEYR": 45,
                  "DMDMARTL": 0,
                  "log_drinks": 0,
                  "_deepnote_index_column": 5746
                },
                {
                  "RIAGENDR": 0,
                  "RIDAGEYR": 60,
                  "DMDMARTL": 1,
                  "log_drinks": 1.72,
                  "_deepnote_index_column": 5747
                },
                {
                  "RIAGENDR": 0,
                  "RIDAGEYR": 60,
                  "DMDMARTL": 1,
                  "log_drinks": 1.08,
                  "_deepnote_index_column": 5748
                },
                {
                  "RIAGENDR": 1,
                  "RIDAGEYR": 64,
                  "DMDMARTL": 1,
                  "log_drinks": 0,
                  "_deepnote_index_column": 5749
                },
                {
                  "RIAGENDR": 1,
                  "RIDAGEYR": 70,
                  "DMDMARTL": 1,
                  "log_drinks": 0,
                  "_deepnote_index_column": 5751
                },
                {
                  "RIAGENDR": 1,
                  "RIDAGEYR": 53,
                  "DMDMARTL": 1,
                  "log_drinks": 2.48,
                  "_deepnote_index_column": 5752
                },
                {
                  "RIAGENDR": 1,
                  "RIDAGEYR": 42,
                  "DMDMARTL": 0,
                  "log_drinks": 0.7,
                  "_deepnote_index_column": 5753
                },
                {
                  "RIAGENDR": 1,
                  "RIDAGEYR": 20,
                  "DMDMARTL": 0,
                  "log_drinks": 0,
                  "_deepnote_index_column": 5755
                },
                {
                  "RIAGENDR": 1,
                  "RIDAGEYR": 72,
                  "DMDMARTL": 1,
                  "log_drinks": 2.02,
                  "_deepnote_index_column": 5756
                },
                {
                  "RIAGENDR": 1,
                  "RIDAGEYR": 26,
                  "DMDMARTL": 0,
                  "log_drinks": 1.08,
                  "_deepnote_index_column": 5758
                },
                {
                  "RIAGENDR": 1,
                  "RIDAGEYR": 72,
                  "DMDMARTL": 1,
                  "log_drinks": 0,
                  "_deepnote_index_column": 5759
                },
                {
                  "RIAGENDR": 0,
                  "RIDAGEYR": 25,
                  "DMDMARTL": 0,
                  "log_drinks": 1.48,
                  "_deepnote_index_column": 5762
                },
                {
                  "RIAGENDR": 1,
                  "RIDAGEYR": 72,
                  "DMDMARTL": 1,
                  "log_drinks": 0,
                  "_deepnote_index_column": 5764
                },
                {
                  "RIAGENDR": 0,
                  "RIDAGEYR": 26,
                  "DMDMARTL": 0,
                  "log_drinks": 1.48,
                  "_deepnote_index_column": 5765
                },
                {
                  "RIAGENDR": 1,
                  "RIDAGEYR": 63,
                  "DMDMARTL": 1,
                  "log_drinks": 2.26,
                  "_deepnote_index_column": 5767
                },
                {
                  "RIAGENDR": 0,
                  "RIDAGEYR": 55,
                  "DMDMARTL": 1,
                  "log_drinks": 0,
                  "_deepnote_index_column": 5768
                },
                {
                  "RIAGENDR": 1,
                  "RIDAGEYR": 60,
                  "DMDMARTL": 1,
                  "log_drinks": 1.72,
                  "_deepnote_index_column": 5769
                },
                {
                  "RIAGENDR": 0,
                  "RIDAGEYR": 54,
                  "DMDMARTL": 0,
                  "log_drinks": 0.7,
                  "_deepnote_index_column": 5770
                },
                {
                  "RIAGENDR": 1,
                  "RIDAGEYR": 44,
                  "DMDMARTL": 1,
                  "log_drinks": 1.48,
                  "_deepnote_index_column": 5771
                },
                {
                  "RIAGENDR": 1,
                  "RIDAGEYR": 40,
                  "DMDMARTL": 1,
                  "log_drinks": 0.7,
                  "_deepnote_index_column": 5773
                },
                {
                  "RIAGENDR": 0,
                  "RIDAGEYR": 36,
                  "DMDMARTL": 1,
                  "log_drinks": 1.08,
                  "_deepnote_index_column": 5775
                },
                {
                  "RIAGENDR": 1,
                  "RIDAGEYR": 61,
                  "DMDMARTL": 1,
                  "log_drinks": 1.08,
                  "_deepnote_index_column": 5776
                },
                {
                  "RIAGENDR": 1,
                  "RIDAGEYR": 80,
                  "DMDMARTL": 1,
                  "log_drinks": 0,
                  "_deepnote_index_column": 5777
                },
                {
                  "RIAGENDR": 1,
                  "RIDAGEYR": 55,
                  "DMDMARTL": 0,
                  "log_drinks": 0,
                  "_deepnote_index_column": 5778
                },
                {
                  "RIAGENDR": 0,
                  "RIDAGEYR": 55,
                  "DMDMARTL": 0,
                  "log_drinks": 0.3,
                  "_deepnote_index_column": 5779
                },
                {
                  "RIAGENDR": 1,
                  "RIDAGEYR": 69,
                  "DMDMARTL": 1,
                  "log_drinks": 2.48,
                  "_deepnote_index_column": 5780
                },
                {
                  "RIAGENDR": 0,
                  "RIDAGEYR": 47,
                  "DMDMARTL": 1,
                  "log_drinks": 1.08,
                  "_deepnote_index_column": 5782
                },
                {
                  "RIAGENDR": 0,
                  "RIDAGEYR": 72,
                  "DMDMARTL": 1,
                  "log_drinks": 0,
                  "_deepnote_index_column": 5784
                },
                {
                  "RIAGENDR": 0,
                  "RIDAGEYR": 46,
                  "DMDMARTL": 1,
                  "log_drinks": 0,
                  "_deepnote_index_column": 5786
                },
                {
                  "RIAGENDR": 1,
                  "RIDAGEYR": 32,
                  "DMDMARTL": 0,
                  "log_drinks": 1.08,
                  "_deepnote_index_column": 5787
                },
                {
                  "RIAGENDR": 0,
                  "RIDAGEYR": 25,
                  "DMDMARTL": 0,
                  "log_drinks": 0.95,
                  "_deepnote_index_column": 5788
                },
                {
                  "RIAGENDR": 0,
                  "RIDAGEYR": 66,
                  "DMDMARTL": 1,
                  "log_drinks": 0.7,
                  "_deepnote_index_column": 5791
                },
                {
                  "RIAGENDR": 0,
                  "RIDAGEYR": 34,
                  "DMDMARTL": 0,
                  "log_drinks": 2.26,
                  "_deepnote_index_column": 5792
                },
                {
                  "RIAGENDR": 1,
                  "RIDAGEYR": 20,
                  "DMDMARTL": 0,
                  "log_drinks": 1.48,
                  "_deepnote_index_column": 5793
                },
                {
                  "RIAGENDR": 0,
                  "RIDAGEYR": 31,
                  "DMDMARTL": 1,
                  "log_drinks": 2.26,
                  "_deepnote_index_column": 5794
                },
                {
                  "RIAGENDR": 1,
                  "RIDAGEYR": 64,
                  "DMDMARTL": 1,
                  "log_drinks": 1.72,
                  "_deepnote_index_column": 5796
                },
                {
                  "RIAGENDR": 0,
                  "RIDAGEYR": 52,
                  "DMDMARTL": 1,
                  "log_drinks": 0.95,
                  "_deepnote_index_column": 5798
                },
                {
                  "RIAGENDR": 0,
                  "RIDAGEYR": 61,
                  "DMDMARTL": 1,
                  "log_drinks": 0.3,
                  "_deepnote_index_column": 5799
                },
                {
                  "RIAGENDR": 0,
                  "RIDAGEYR": 80,
                  "DMDMARTL": 1,
                  "log_drinks": 0.95,
                  "_deepnote_index_column": 5801
                },
                {
                  "RIAGENDR": 1,
                  "RIDAGEYR": 59,
                  "DMDMARTL": 1,
                  "log_drinks": 2.56,
                  "_deepnote_index_column": 5802
                },
                {
                  "RIAGENDR": 1,
                  "RIDAGEYR": 44,
                  "DMDMARTL": 1,
                  "log_drinks": 0.3,
                  "_deepnote_index_column": 5804
                },
                {
                  "RIAGENDR": 1,
                  "RIDAGEYR": 24,
                  "DMDMARTL": 0,
                  "log_drinks": 1.72,
                  "_deepnote_index_column": 5805
                },
                {
                  "RIAGENDR": 1,
                  "RIDAGEYR": 67,
                  "DMDMARTL": 1,
                  "log_drinks": 2.02,
                  "_deepnote_index_column": 5806
                },
                {
                  "RIAGENDR": 0,
                  "RIDAGEYR": 41,
                  "DMDMARTL": 1,
                  "log_drinks": 1.08,
                  "_deepnote_index_column": 5808
                },
                {
                  "RIAGENDR": 0,
                  "RIDAGEYR": 32,
                  "DMDMARTL": 0,
                  "log_drinks": 0.7,
                  "_deepnote_index_column": 5809
                },
                {
                  "RIAGENDR": 1,
                  "RIDAGEYR": 55,
                  "DMDMARTL": 1,
                  "log_drinks": 0.95,
                  "_deepnote_index_column": 5811
                },
                {
                  "RIAGENDR": 0,
                  "RIDAGEYR": 58,
                  "DMDMARTL": 1,
                  "log_drinks": 1.72,
                  "_deepnote_index_column": 5813
                },
                {
                  "RIAGENDR": 0,
                  "RIDAGEYR": 52,
                  "DMDMARTL": 1,
                  "log_drinks": 1.48,
                  "_deepnote_index_column": 5814
                },
                {
                  "RIAGENDR": 0,
                  "RIDAGEYR": 68,
                  "DMDMARTL": 1,
                  "log_drinks": 0,
                  "_deepnote_index_column": 5816
                },
                {
                  "RIAGENDR": 0,
                  "RIDAGEYR": 38,
                  "DMDMARTL": 1,
                  "log_drinks": 0.3,
                  "_deepnote_index_column": 5817
                },
                {
                  "RIAGENDR": 1,
                  "RIDAGEYR": 67,
                  "DMDMARTL": 1,
                  "log_drinks": 1.48,
                  "_deepnote_index_column": 5818
                },
                {
                  "RIAGENDR": 1,
                  "RIDAGEYR": 63,
                  "DMDMARTL": 1,
                  "log_drinks": 1.72,
                  "_deepnote_index_column": 5820
                },
                {
                  "RIAGENDR": 0,
                  "RIDAGEYR": 48,
                  "DMDMARTL": 1,
                  "log_drinks": 0,
                  "_deepnote_index_column": 5821
                },
                {
                  "RIAGENDR": 0,
                  "RIDAGEYR": 35,
                  "DMDMARTL": 0,
                  "log_drinks": 0.95,
                  "_deepnote_index_column": 5822
                },
                {
                  "RIAGENDR": 0,
                  "RIDAGEYR": 50,
                  "DMDMARTL": 1,
                  "log_drinks": 0.3,
                  "_deepnote_index_column": 5823
                },
                {
                  "RIAGENDR": 1,
                  "RIDAGEYR": 47,
                  "DMDMARTL": 1,
                  "log_drinks": 2.48,
                  "_deepnote_index_column": 5824
                },
                {
                  "RIAGENDR": 0,
                  "RIDAGEYR": 48,
                  "DMDMARTL": 1,
                  "log_drinks": 0.95,
                  "_deepnote_index_column": 5825
                },
                {
                  "RIAGENDR": 0,
                  "RIDAGEYR": 42,
                  "DMDMARTL": 1,
                  "log_drinks": 0.7,
                  "_deepnote_index_column": 5826
                },
                {
                  "RIAGENDR": 0,
                  "RIDAGEYR": 28,
                  "DMDMARTL": 0,
                  "log_drinks": 2.26,
                  "_deepnote_index_column": 5827
                },
                {
                  "RIAGENDR": 0,
                  "RIDAGEYR": 29,
                  "DMDMARTL": 0,
                  "log_drinks": 1.08,
                  "_deepnote_index_column": 5828
                },
                {
                  "RIAGENDR": 1,
                  "RIDAGEYR": 62,
                  "DMDMARTL": 1,
                  "log_drinks": 0,
                  "_deepnote_index_column": 5830
                },
                {
                  "RIAGENDR": 0,
                  "RIDAGEYR": 40,
                  "DMDMARTL": 1,
                  "log_drinks": 2.02,
                  "_deepnote_index_column": 5831
                },
                {
                  "RIAGENDR": 0,
                  "RIDAGEYR": 74,
                  "DMDMARTL": 1,
                  "log_drinks": 0.7,
                  "_deepnote_index_column": 5833
                },
                {
                  "RIAGENDR": 1,
                  "RIDAGEYR": 50,
                  "DMDMARTL": 0,
                  "log_drinks": 0,
                  "_deepnote_index_column": 5835
                },
                {
                  "RIAGENDR": 1,
                  "RIDAGEYR": 71,
                  "DMDMARTL": 0,
                  "log_drinks": 1.72,
                  "_deepnote_index_column": 5836
                },
                {
                  "RIAGENDR": 1,
                  "RIDAGEYR": 66,
                  "DMDMARTL": 1,
                  "log_drinks": 0,
                  "_deepnote_index_column": 5837
                },
                {
                  "RIAGENDR": 1,
                  "RIDAGEYR": 73,
                  "DMDMARTL": 1,
                  "log_drinks": 1.48,
                  "_deepnote_index_column": 5839
                },
                {
                  "RIAGENDR": 1,
                  "RIDAGEYR": 76,
                  "DMDMARTL": 1,
                  "log_drinks": 0,
                  "_deepnote_index_column": 5840
                },
                {
                  "RIAGENDR": 1,
                  "RIDAGEYR": 50,
                  "DMDMARTL": 1,
                  "log_drinks": 0.7,
                  "_deepnote_index_column": 5841
                },
                {
                  "RIAGENDR": 1,
                  "RIDAGEYR": 26,
                  "DMDMARTL": 0,
                  "log_drinks": 0.3,
                  "_deepnote_index_column": 5842
                },
                {
                  "RIAGENDR": 1,
                  "RIDAGEYR": 68,
                  "DMDMARTL": 1,
                  "log_drinks": 0,
                  "_deepnote_index_column": 5843
                },
                {
                  "RIAGENDR": 1,
                  "RIDAGEYR": 80,
                  "DMDMARTL": 0,
                  "log_drinks": 0,
                  "_deepnote_index_column": 5844
                },
                {
                  "RIAGENDR": 0,
                  "RIDAGEYR": 55,
                  "DMDMARTL": 1,
                  "log_drinks": 2.02,
                  "_deepnote_index_column": 5846
                },
                {
                  "RIAGENDR": 1,
                  "RIDAGEYR": 37,
                  "DMDMARTL": 0,
                  "log_drinks": 2.48,
                  "_deepnote_index_column": 5847
                },
                {
                  "RIAGENDR": 1,
                  "RIDAGEYR": 64,
                  "DMDMARTL": 1,
                  "log_drinks": 2.48,
                  "_deepnote_index_column": 5848
                },
                {
                  "RIAGENDR": 0,
                  "RIDAGEYR": 59,
                  "DMDMARTL": 1,
                  "log_drinks": 1.48,
                  "_deepnote_index_column": 5849
                },
                {
                  "RIAGENDR": 0,
                  "RIDAGEYR": 30,
                  "DMDMARTL": 0,
                  "log_drinks": 0,
                  "_deepnote_index_column": 5850
                },
                {
                  "RIAGENDR": 1,
                  "RIDAGEYR": 63,
                  "DMDMARTL": 1,
                  "log_drinks": 2.02,
                  "_deepnote_index_column": 5852
                },
                {
                  "RIAGENDR": 1,
                  "RIDAGEYR": 27,
                  "DMDMARTL": 0,
                  "log_drinks": 1.48,
                  "_deepnote_index_column": 5854
                },
                {
                  "RIAGENDR": 1,
                  "RIDAGEYR": 55,
                  "DMDMARTL": 1,
                  "log_drinks": 2.48,
                  "_deepnote_index_column": 5857
                },
                {
                  "RIAGENDR": 0,
                  "RIDAGEYR": 66,
                  "DMDMARTL": 1,
                  "log_drinks": 0,
                  "_deepnote_index_column": 5858
                },
                {
                  "RIAGENDR": 1,
                  "RIDAGEYR": 40,
                  "DMDMARTL": 1,
                  "log_drinks": 2.26,
                  "_deepnote_index_column": 5859
                },
                {
                  "RIAGENDR": 1,
                  "RIDAGEYR": 67,
                  "DMDMARTL": 1,
                  "log_drinks": 1.48,
                  "_deepnote_index_column": 5860
                },
                {
                  "RIAGENDR": 1,
                  "RIDAGEYR": 48,
                  "DMDMARTL": 1,
                  "log_drinks": 1.72,
                  "_deepnote_index_column": 5861
                },
                {
                  "RIAGENDR": 1,
                  "RIDAGEYR": 62,
                  "DMDMARTL": 1,
                  "log_drinks": 1.48,
                  "_deepnote_index_column": 5863
                },
                {
                  "RIAGENDR": 1,
                  "RIDAGEYR": 39,
                  "DMDMARTL": 1,
                  "log_drinks": 0,
                  "_deepnote_index_column": 5864
                },
                {
                  "RIAGENDR": 0,
                  "RIDAGEYR": 25,
                  "DMDMARTL": 1,
                  "log_drinks": 0,
                  "_deepnote_index_column": 5868
                },
                {
                  "RIAGENDR": 0,
                  "RIDAGEYR": 40,
                  "DMDMARTL": 1,
                  "log_drinks": 2.26,
                  "_deepnote_index_column": 5869
                },
                {
                  "RIAGENDR": 1,
                  "RIDAGEYR": 34,
                  "DMDMARTL": 0,
                  "log_drinks": 0.3,
                  "_deepnote_index_column": 5871
                },
                {
                  "RIAGENDR": 1,
                  "RIDAGEYR": 28,
                  "DMDMARTL": 0,
                  "log_drinks": 0.95,
                  "_deepnote_index_column": 5872
                },
                {
                  "RIAGENDR": 0,
                  "RIDAGEYR": 61,
                  "DMDMARTL": 1,
                  "log_drinks": 0.7,
                  "_deepnote_index_column": 5874
                },
                {
                  "RIAGENDR": 1,
                  "RIDAGEYR": 52,
                  "DMDMARTL": 1,
                  "log_drinks": 0,
                  "_deepnote_index_column": 5875
                },
                {
                  "RIAGENDR": 0,
                  "RIDAGEYR": 70,
                  "DMDMARTL": 1,
                  "log_drinks": 0,
                  "_deepnote_index_column": 5876
                },
                {
                  "RIAGENDR": 1,
                  "RIDAGEYR": 31,
                  "DMDMARTL": 0,
                  "log_drinks": 0.3,
                  "_deepnote_index_column": 5877
                },
                {
                  "RIAGENDR": 0,
                  "RIDAGEYR": 54,
                  "DMDMARTL": 1,
                  "log_drinks": 0,
                  "_deepnote_index_column": 5878
                },
                {
                  "RIAGENDR": 0,
                  "RIDAGEYR": 35,
                  "DMDMARTL": 1,
                  "log_drinks": 0,
                  "_deepnote_index_column": 5879
                },
                {
                  "RIAGENDR": 1,
                  "RIDAGEYR": 24,
                  "DMDMARTL": 1,
                  "log_drinks": 0.3,
                  "_deepnote_index_column": 5881
                },
                {
                  "RIAGENDR": 0,
                  "RIDAGEYR": 54,
                  "DMDMARTL": 1,
                  "log_drinks": 0,
                  "_deepnote_index_column": 5882
                },
                {
                  "RIAGENDR": 0,
                  "RIDAGEYR": 40,
                  "DMDMARTL": 0,
                  "log_drinks": 0.95,
                  "_deepnote_index_column": 5886
                },
                {
                  "RIAGENDR": 1,
                  "RIDAGEYR": 50,
                  "DMDMARTL": 1,
                  "log_drinks": 0.3,
                  "_deepnote_index_column": 5887
                },
                {
                  "RIAGENDR": 0,
                  "RIDAGEYR": 52,
                  "DMDMARTL": 1,
                  "log_drinks": 2.02,
                  "_deepnote_index_column": 5889
                },
                {
                  "RIAGENDR": 1,
                  "RIDAGEYR": 66,
                  "DMDMARTL": 0,
                  "log_drinks": 0,
                  "_deepnote_index_column": 5890
                },
                {
                  "RIAGENDR": 0,
                  "RIDAGEYR": 53,
                  "DMDMARTL": 1,
                  "log_drinks": 2.56,
                  "_deepnote_index_column": 5892
                },
                {
                  "RIAGENDR": 0,
                  "RIDAGEYR": 49,
                  "DMDMARTL": 1,
                  "log_drinks": 0.3,
                  "_deepnote_index_column": 5893
                },
                {
                  "RIAGENDR": 1,
                  "RIDAGEYR": 30,
                  "DMDMARTL": 1,
                  "log_drinks": 2.02,
                  "_deepnote_index_column": 5894
                },
                {
                  "RIAGENDR": 1,
                  "RIDAGEYR": 26,
                  "DMDMARTL": 0,
                  "log_drinks": 2.02,
                  "_deepnote_index_column": 5896
                },
                {
                  "RIAGENDR": 0,
                  "RIDAGEYR": 41,
                  "DMDMARTL": 1,
                  "log_drinks": 0.95,
                  "_deepnote_index_column": 5899
                },
                {
                  "RIAGENDR": 1,
                  "RIDAGEYR": 60,
                  "DMDMARTL": 1,
                  "log_drinks": 2.26,
                  "_deepnote_index_column": 5901
                },
                {
                  "RIAGENDR": 1,
                  "RIDAGEYR": 80,
                  "DMDMARTL": 1,
                  "log_drinks": 2.26,
                  "_deepnote_index_column": 5902
                },
                {
                  "RIAGENDR": 1,
                  "RIDAGEYR": 52,
                  "DMDMARTL": 1,
                  "log_drinks": 2.02,
                  "_deepnote_index_column": 5903
                },
                {
                  "RIAGENDR": 0,
                  "RIDAGEYR": 30,
                  "DMDMARTL": 1,
                  "log_drinks": 2.02,
                  "_deepnote_index_column": 5904
                },
                {
                  "RIAGENDR": 1,
                  "RIDAGEYR": 33,
                  "DMDMARTL": 1,
                  "log_drinks": 0.7,
                  "_deepnote_index_column": 5907
                },
                {
                  "RIAGENDR": 1,
                  "RIDAGEYR": 40,
                  "DMDMARTL": 1,
                  "log_drinks": 0.7,
                  "_deepnote_index_column": 5908
                },
                {
                  "RIAGENDR": 1,
                  "RIDAGEYR": 35,
                  "DMDMARTL": 1,
                  "log_drinks": 2.26,
                  "_deepnote_index_column": 5909
                },
                {
                  "RIAGENDR": 1,
                  "RIDAGEYR": 59,
                  "DMDMARTL": 1,
                  "log_drinks": 1.72,
                  "_deepnote_index_column": 5910
                },
                {
                  "RIAGENDR": 0,
                  "RIDAGEYR": 54,
                  "DMDMARTL": 1,
                  "log_drinks": 1.48,
                  "_deepnote_index_column": 5911
                },
                {
                  "RIAGENDR": 0,
                  "RIDAGEYR": 29,
                  "DMDMARTL": 0,
                  "log_drinks": 2.02,
                  "_deepnote_index_column": 5914
                },
                {
                  "RIAGENDR": 0,
                  "RIDAGEYR": 57,
                  "DMDMARTL": 1,
                  "log_drinks": 2.56,
                  "_deepnote_index_column": 5916
                }
              ],
              "rows_bottom": [
                {
                  "RIAGENDR": 0,
                  "RIDAGEYR": 68,
                  "DMDMARTL": 1,
                  "log_drinks": 1.72,
                  "_deepnote_index_column": 11085
                },
                {
                  "RIAGENDR": 0,
                  "RIDAGEYR": 59,
                  "DMDMARTL": 1,
                  "log_drinks": 0,
                  "_deepnote_index_column": 11088
                },
                {
                  "RIAGENDR": 1,
                  "RIDAGEYR": 80,
                  "DMDMARTL": 0,
                  "log_drinks": 0.7,
                  "_deepnote_index_column": 11090
                },
                {
                  "RIAGENDR": 0,
                  "RIDAGEYR": 44,
                  "DMDMARTL": 1,
                  "log_drinks": 1.72,
                  "_deepnote_index_column": 11091
                },
                {
                  "RIAGENDR": 1,
                  "RIDAGEYR": 50,
                  "DMDMARTL": 1,
                  "log_drinks": 1.72,
                  "_deepnote_index_column": 11092
                },
                {
                  "RIAGENDR": 1,
                  "RIDAGEYR": 32,
                  "DMDMARTL": 0,
                  "log_drinks": 1.72,
                  "_deepnote_index_column": 11094
                },
                {
                  "RIAGENDR": 0,
                  "RIDAGEYR": 21,
                  "DMDMARTL": 0,
                  "log_drinks": 1.72,
                  "_deepnote_index_column": 11096
                },
                {
                  "RIAGENDR": 1,
                  "RIDAGEYR": 26,
                  "DMDMARTL": 1,
                  "log_drinks": 2.02,
                  "_deepnote_index_column": 11098
                },
                {
                  "RIAGENDR": 1,
                  "RIDAGEYR": 22,
                  "DMDMARTL": 0,
                  "log_drinks": 1.48,
                  "_deepnote_index_column": 11100
                },
                {
                  "RIAGENDR": 1,
                  "RIDAGEYR": 60,
                  "DMDMARTL": 1,
                  "log_drinks": 0,
                  "_deepnote_index_column": 11101
                },
                {
                  "RIAGENDR": 1,
                  "RIDAGEYR": 80,
                  "DMDMARTL": 1,
                  "log_drinks": 0,
                  "_deepnote_index_column": 11102
                },
                {
                  "RIAGENDR": 1,
                  "RIDAGEYR": 80,
                  "DMDMARTL": 1,
                  "log_drinks": 0,
                  "_deepnote_index_column": 11103
                },
                {
                  "RIAGENDR": 1,
                  "RIDAGEYR": 65,
                  "DMDMARTL": 1,
                  "log_drinks": 2.26,
                  "_deepnote_index_column": 11105
                },
                {
                  "RIAGENDR": 1,
                  "RIDAGEYR": 34,
                  "DMDMARTL": 1,
                  "log_drinks": 0.3,
                  "_deepnote_index_column": 11106
                },
                {
                  "RIAGENDR": 0,
                  "RIDAGEYR": 51,
                  "DMDMARTL": 1,
                  "log_drinks": 0,
                  "_deepnote_index_column": 11108
                },
                {
                  "RIAGENDR": 0,
                  "RIDAGEYR": 64,
                  "DMDMARTL": 1,
                  "log_drinks": 0.3,
                  "_deepnote_index_column": 11109
                },
                {
                  "RIAGENDR": 0,
                  "RIDAGEYR": 53,
                  "DMDMARTL": 1,
                  "log_drinks": 0.7,
                  "_deepnote_index_column": 11110
                },
                {
                  "RIAGENDR": 1,
                  "RIDAGEYR": 24,
                  "DMDMARTL": 1,
                  "log_drinks": 1.48,
                  "_deepnote_index_column": 11111
                },
                {
                  "RIAGENDR": 0,
                  "RIDAGEYR": 55,
                  "DMDMARTL": 1,
                  "log_drinks": 0.7,
                  "_deepnote_index_column": 11112
                },
                {
                  "RIAGENDR": 1,
                  "RIDAGEYR": 67,
                  "DMDMARTL": 1,
                  "log_drinks": 2.26,
                  "_deepnote_index_column": 11113
                },
                {
                  "RIAGENDR": 1,
                  "RIDAGEYR": 75,
                  "DMDMARTL": 1,
                  "log_drinks": 0,
                  "_deepnote_index_column": 11114
                },
                {
                  "RIAGENDR": 0,
                  "RIDAGEYR": 61,
                  "DMDMARTL": 1,
                  "log_drinks": 0.3,
                  "_deepnote_index_column": 11115
                },
                {
                  "RIAGENDR": 1,
                  "RIDAGEYR": 75,
                  "DMDMARTL": 1,
                  "log_drinks": 0,
                  "_deepnote_index_column": 11116
                },
                {
                  "RIAGENDR": 0,
                  "RIDAGEYR": 52,
                  "DMDMARTL": 1,
                  "log_drinks": 0.7,
                  "_deepnote_index_column": 11117
                },
                {
                  "RIAGENDR": 1,
                  "RIDAGEYR": 27,
                  "DMDMARTL": 1,
                  "log_drinks": 0.95,
                  "_deepnote_index_column": 11119
                },
                {
                  "RIAGENDR": 1,
                  "RIDAGEYR": 20,
                  "DMDMARTL": 1,
                  "log_drinks": 1.08,
                  "_deepnote_index_column": 11123
                },
                {
                  "RIAGENDR": 1,
                  "RIDAGEYR": 59,
                  "DMDMARTL": 1,
                  "log_drinks": 2.56,
                  "_deepnote_index_column": 11124
                },
                {
                  "RIAGENDR": 0,
                  "RIDAGEYR": 63,
                  "DMDMARTL": 1,
                  "log_drinks": 0,
                  "_deepnote_index_column": 11127
                },
                {
                  "RIAGENDR": 1,
                  "RIDAGEYR": 43,
                  "DMDMARTL": 1,
                  "log_drinks": 0.7,
                  "_deepnote_index_column": 11128
                },
                {
                  "RIAGENDR": 1,
                  "RIDAGEYR": 62,
                  "DMDMARTL": 1,
                  "log_drinks": 2.48,
                  "_deepnote_index_column": 11129
                },
                {
                  "RIAGENDR": 1,
                  "RIDAGEYR": 54,
                  "DMDMARTL": 1,
                  "log_drinks": 0.95,
                  "_deepnote_index_column": 11131
                },
                {
                  "RIAGENDR": 1,
                  "RIDAGEYR": 70,
                  "DMDMARTL": 1,
                  "log_drinks": 0,
                  "_deepnote_index_column": 11133
                },
                {
                  "RIAGENDR": 0,
                  "RIDAGEYR": 50,
                  "DMDMARTL": 1,
                  "log_drinks": 0.7,
                  "_deepnote_index_column": 11135
                },
                {
                  "RIAGENDR": 1,
                  "RIDAGEYR": 45,
                  "DMDMARTL": 1,
                  "log_drinks": 0.7,
                  "_deepnote_index_column": 11137
                },
                {
                  "RIAGENDR": 1,
                  "RIDAGEYR": 23,
                  "DMDMARTL": 0,
                  "log_drinks": 0.95,
                  "_deepnote_index_column": 11138
                },
                {
                  "RIAGENDR": 0,
                  "RIDAGEYR": 57,
                  "DMDMARTL": 1,
                  "log_drinks": 1.08,
                  "_deepnote_index_column": 11139
                },
                {
                  "RIAGENDR": 1,
                  "RIDAGEYR": 50,
                  "DMDMARTL": 1,
                  "log_drinks": 1.08,
                  "_deepnote_index_column": 11140
                },
                {
                  "RIAGENDR": 1,
                  "RIDAGEYR": 50,
                  "DMDMARTL": 1,
                  "log_drinks": 1.48,
                  "_deepnote_index_column": 11141
                },
                {
                  "RIAGENDR": 1,
                  "RIDAGEYR": 50,
                  "DMDMARTL": 1,
                  "log_drinks": 1.48,
                  "_deepnote_index_column": 11142
                },
                {
                  "RIAGENDR": 1,
                  "RIDAGEYR": 34,
                  "DMDMARTL": 0,
                  "log_drinks": 0,
                  "_deepnote_index_column": 11143
                },
                {
                  "RIAGENDR": 0,
                  "RIDAGEYR": 46,
                  "DMDMARTL": 1,
                  "log_drinks": 0.3,
                  "_deepnote_index_column": 11144
                },
                {
                  "RIAGENDR": 0,
                  "RIDAGEYR": 47,
                  "DMDMARTL": 1,
                  "log_drinks": 2.26,
                  "_deepnote_index_column": 11145
                },
                {
                  "RIAGENDR": 1,
                  "RIDAGEYR": 25,
                  "DMDMARTL": 0,
                  "log_drinks": 1.72,
                  "_deepnote_index_column": 11146
                },
                {
                  "RIAGENDR": 1,
                  "RIDAGEYR": 62,
                  "DMDMARTL": 1,
                  "log_drinks": 2.48,
                  "_deepnote_index_column": 11148
                },
                {
                  "RIAGENDR": 0,
                  "RIDAGEYR": 46,
                  "DMDMARTL": 1,
                  "log_drinks": 0,
                  "_deepnote_index_column": 11149
                },
                {
                  "RIAGENDR": 1,
                  "RIDAGEYR": 49,
                  "DMDMARTL": 1,
                  "log_drinks": 0.7,
                  "_deepnote_index_column": 11150
                },
                {
                  "RIAGENDR": 0,
                  "RIDAGEYR": 60,
                  "DMDMARTL": 1,
                  "log_drinks": 1.72,
                  "_deepnote_index_column": 11151
                },
                {
                  "RIAGENDR": 1,
                  "RIDAGEYR": 56,
                  "DMDMARTL": 1,
                  "log_drinks": 0.3,
                  "_deepnote_index_column": 11152
                },
                {
                  "RIAGENDR": 1,
                  "RIDAGEYR": 58,
                  "DMDMARTL": 0,
                  "log_drinks": 0,
                  "_deepnote_index_column": 11154
                },
                {
                  "RIAGENDR": 1,
                  "RIDAGEYR": 35,
                  "DMDMARTL": 1,
                  "log_drinks": 2.26,
                  "_deepnote_index_column": 11155
                },
                {
                  "RIAGENDR": 0,
                  "RIDAGEYR": 60,
                  "DMDMARTL": 1,
                  "log_drinks": 1.72,
                  "_deepnote_index_column": 11156
                },
                {
                  "RIAGENDR": 0,
                  "RIDAGEYR": 67,
                  "DMDMARTL": 1,
                  "log_drinks": 0,
                  "_deepnote_index_column": 11157
                },
                {
                  "RIAGENDR": 1,
                  "RIDAGEYR": 24,
                  "DMDMARTL": 0,
                  "log_drinks": 1.48,
                  "_deepnote_index_column": 11159
                },
                {
                  "RIAGENDR": 0,
                  "RIDAGEYR": 54,
                  "DMDMARTL": 1,
                  "log_drinks": 1.72,
                  "_deepnote_index_column": 11161
                },
                {
                  "RIAGENDR": 0,
                  "RIDAGEYR": 46,
                  "DMDMARTL": 1,
                  "log_drinks": 0,
                  "_deepnote_index_column": 11162
                },
                {
                  "RIAGENDR": 1,
                  "RIDAGEYR": 61,
                  "DMDMARTL": 1,
                  "log_drinks": 1.72,
                  "_deepnote_index_column": 11164
                },
                {
                  "RIAGENDR": 1,
                  "RIDAGEYR": 47,
                  "DMDMARTL": 1,
                  "log_drinks": 0.95,
                  "_deepnote_index_column": 11165
                },
                {
                  "RIAGENDR": 1,
                  "RIDAGEYR": 61,
                  "DMDMARTL": 0,
                  "log_drinks": 0,
                  "_deepnote_index_column": 11166
                },
                {
                  "RIAGENDR": 1,
                  "RIDAGEYR": 61,
                  "DMDMARTL": 1,
                  "log_drinks": 1.48,
                  "_deepnote_index_column": 11167
                },
                {
                  "RIAGENDR": 0,
                  "RIDAGEYR": 30,
                  "DMDMARTL": 1,
                  "log_drinks": 0,
                  "_deepnote_index_column": 11168
                },
                {
                  "RIAGENDR": 1,
                  "RIDAGEYR": 20,
                  "DMDMARTL": 0,
                  "log_drinks": 1.48,
                  "_deepnote_index_column": 11170
                },
                {
                  "RIAGENDR": 0,
                  "RIDAGEYR": 57,
                  "DMDMARTL": 1,
                  "log_drinks": 0,
                  "_deepnote_index_column": 11171
                },
                {
                  "RIAGENDR": 1,
                  "RIDAGEYR": 65,
                  "DMDMARTL": 1,
                  "log_drinks": 0,
                  "_deepnote_index_column": 11173
                },
                {
                  "RIAGENDR": 1,
                  "RIDAGEYR": 25,
                  "DMDMARTL": 0,
                  "log_drinks": 1.08,
                  "_deepnote_index_column": 11175
                },
                {
                  "RIAGENDR": 1,
                  "RIDAGEYR": 60,
                  "DMDMARTL": 0,
                  "log_drinks": 2.56,
                  "_deepnote_index_column": 11176
                },
                {
                  "RIAGENDR": 1,
                  "RIDAGEYR": 79,
                  "DMDMARTL": 1,
                  "log_drinks": 0,
                  "_deepnote_index_column": 11177
                },
                {
                  "RIAGENDR": 1,
                  "RIDAGEYR": 62,
                  "DMDMARTL": 1,
                  "log_drinks": 0.3,
                  "_deepnote_index_column": 11178
                },
                {
                  "RIAGENDR": 1,
                  "RIDAGEYR": 24,
                  "DMDMARTL": 0,
                  "log_drinks": 0.95,
                  "_deepnote_index_column": 11179
                },
                {
                  "RIAGENDR": 0,
                  "RIDAGEYR": 41,
                  "DMDMARTL": 1,
                  "log_drinks": 0.3,
                  "_deepnote_index_column": 11180
                },
                {
                  "RIAGENDR": 1,
                  "RIDAGEYR": 80,
                  "DMDMARTL": 1,
                  "log_drinks": 2.56,
                  "_deepnote_index_column": 11181
                },
                {
                  "RIAGENDR": 0,
                  "RIDAGEYR": 48,
                  "DMDMARTL": 1,
                  "log_drinks": 1.08,
                  "_deepnote_index_column": 11183
                },
                {
                  "RIAGENDR": 0,
                  "RIDAGEYR": 57,
                  "DMDMARTL": 1,
                  "log_drinks": 0.95,
                  "_deepnote_index_column": 11184
                },
                {
                  "RIAGENDR": 0,
                  "RIDAGEYR": 35,
                  "DMDMARTL": 0,
                  "log_drinks": 2.02,
                  "_deepnote_index_column": 11185
                },
                {
                  "RIAGENDR": 0,
                  "RIDAGEYR": 55,
                  "DMDMARTL": 1,
                  "log_drinks": 1.48,
                  "_deepnote_index_column": 11186
                },
                {
                  "RIAGENDR": 0,
                  "RIDAGEYR": 58,
                  "DMDMARTL": 1,
                  "log_drinks": 0,
                  "_deepnote_index_column": 11187
                },
                {
                  "RIAGENDR": 1,
                  "RIDAGEYR": 29,
                  "DMDMARTL": 1,
                  "log_drinks": 2.02,
                  "_deepnote_index_column": 11190
                },
                {
                  "RIAGENDR": 1,
                  "RIDAGEYR": 57,
                  "DMDMARTL": 0,
                  "log_drinks": 1.72,
                  "_deepnote_index_column": 11192
                },
                {
                  "RIAGENDR": 1,
                  "RIDAGEYR": 40,
                  "DMDMARTL": 1,
                  "log_drinks": 1.48,
                  "_deepnote_index_column": 11194
                },
                {
                  "RIAGENDR": 1,
                  "RIDAGEYR": 41,
                  "DMDMARTL": 1,
                  "log_drinks": 1.72,
                  "_deepnote_index_column": 11196
                },
                {
                  "RIAGENDR": 1,
                  "RIDAGEYR": 78,
                  "DMDMARTL": 0,
                  "log_drinks": 2.56,
                  "_deepnote_index_column": 11197
                },
                {
                  "RIAGENDR": 1,
                  "RIDAGEYR": 63,
                  "DMDMARTL": 0,
                  "log_drinks": 0,
                  "_deepnote_index_column": 11198
                },
                {
                  "RIAGENDR": 0,
                  "RIDAGEYR": 61,
                  "DMDMARTL": 1,
                  "log_drinks": 2.02,
                  "_deepnote_index_column": 11199
                },
                {
                  "RIAGENDR": 0,
                  "RIDAGEYR": 30,
                  "DMDMARTL": 0,
                  "log_drinks": 2.26,
                  "_deepnote_index_column": 11200
                },
                {
                  "RIAGENDR": 1,
                  "RIDAGEYR": 29,
                  "DMDMARTL": 0,
                  "log_drinks": 2.02,
                  "_deepnote_index_column": 11201
                },
                {
                  "RIAGENDR": 1,
                  "RIDAGEYR": 58,
                  "DMDMARTL": 1,
                  "log_drinks": 0,
                  "_deepnote_index_column": 11203
                },
                {
                  "RIAGENDR": 1,
                  "RIDAGEYR": 45,
                  "DMDMARTL": 1,
                  "log_drinks": 0.7,
                  "_deepnote_index_column": 11204
                },
                {
                  "RIAGENDR": 1,
                  "RIDAGEYR": 45,
                  "DMDMARTL": 1,
                  "log_drinks": 0,
                  "_deepnote_index_column": 11205
                },
                {
                  "RIAGENDR": 1,
                  "RIDAGEYR": 61,
                  "DMDMARTL": 1,
                  "log_drinks": 0.3,
                  "_deepnote_index_column": 11206
                },
                {
                  "RIAGENDR": 1,
                  "RIDAGEYR": 63,
                  "DMDMARTL": 1,
                  "log_drinks": 1.08,
                  "_deepnote_index_column": 11209
                },
                {
                  "RIAGENDR": 0,
                  "RIDAGEYR": 41,
                  "DMDMARTL": 1,
                  "log_drinks": 0.3,
                  "_deepnote_index_column": 11210
                },
                {
                  "RIAGENDR": 0,
                  "RIDAGEYR": 61,
                  "DMDMARTL": 1,
                  "log_drinks": 0.3,
                  "_deepnote_index_column": 11211
                },
                {
                  "RIAGENDR": 0,
                  "RIDAGEYR": 44,
                  "DMDMARTL": 0,
                  "log_drinks": 1.08,
                  "_deepnote_index_column": 11212
                },
                {
                  "RIAGENDR": 0,
                  "RIDAGEYR": 73,
                  "DMDMARTL": 1,
                  "log_drinks": 0.7,
                  "_deepnote_index_column": 11213
                },
                {
                  "RIAGENDR": 1,
                  "RIDAGEYR": 67,
                  "DMDMARTL": 1,
                  "log_drinks": 0,
                  "_deepnote_index_column": 11215
                },
                {
                  "RIAGENDR": 0,
                  "RIDAGEYR": 44,
                  "DMDMARTL": 1,
                  "log_drinks": 0.7,
                  "_deepnote_index_column": 11218
                },
                {
                  "RIAGENDR": 1,
                  "RIDAGEYR": 66,
                  "DMDMARTL": 1,
                  "log_drinks": 0,
                  "_deepnote_index_column": 11219
                },
                {
                  "RIAGENDR": 1,
                  "RIDAGEYR": 61,
                  "DMDMARTL": 0,
                  "log_drinks": 0.3,
                  "_deepnote_index_column": 11220
                },
                {
                  "RIAGENDR": 1,
                  "RIDAGEYR": 65,
                  "DMDMARTL": 1,
                  "log_drinks": 1.48,
                  "_deepnote_index_column": 11221
                },
                {
                  "RIAGENDR": 1,
                  "RIDAGEYR": 61,
                  "DMDMARTL": 1,
                  "log_drinks": 1.08,
                  "_deepnote_index_column": 11222
                },
                {
                  "RIAGENDR": 0,
                  "RIDAGEYR": 51,
                  "DMDMARTL": 1,
                  "log_drinks": 0.7,
                  "_deepnote_index_column": 11224
                },
                {
                  "RIAGENDR": 1,
                  "RIDAGEYR": 32,
                  "DMDMARTL": 0,
                  "log_drinks": 2.56,
                  "_deepnote_index_column": 11226
                },
                {
                  "RIAGENDR": 0,
                  "RIDAGEYR": 37,
                  "DMDMARTL": 1,
                  "log_drinks": 1.08,
                  "_deepnote_index_column": 11227
                },
                {
                  "RIAGENDR": 0,
                  "RIDAGEYR": 50,
                  "DMDMARTL": 1,
                  "log_drinks": 0.7,
                  "_deepnote_index_column": 11228
                },
                {
                  "RIAGENDR": 0,
                  "RIDAGEYR": 44,
                  "DMDMARTL": 1,
                  "log_drinks": 1.48,
                  "_deepnote_index_column": 11233
                },
                {
                  "RIAGENDR": 0,
                  "RIDAGEYR": 20,
                  "DMDMARTL": 0,
                  "log_drinks": 1.48,
                  "_deepnote_index_column": 11236
                },
                {
                  "RIAGENDR": 1,
                  "RIDAGEYR": 66,
                  "DMDMARTL": 1,
                  "log_drinks": 0.3,
                  "_deepnote_index_column": 11237
                },
                {
                  "RIAGENDR": 0,
                  "RIDAGEYR": 75,
                  "DMDMARTL": 1,
                  "log_drinks": 0.7,
                  "_deepnote_index_column": 11239
                },
                {
                  "RIAGENDR": 0,
                  "RIDAGEYR": 47,
                  "DMDMARTL": 1,
                  "log_drinks": 0.7,
                  "_deepnote_index_column": 11240
                },
                {
                  "RIAGENDR": 1,
                  "RIDAGEYR": 71,
                  "DMDMARTL": 0,
                  "log_drinks": 0,
                  "_deepnote_index_column": 11242
                },
                {
                  "RIAGENDR": 0,
                  "RIDAGEYR": 55,
                  "DMDMARTL": 1,
                  "log_drinks": 0.3,
                  "_deepnote_index_column": 11243
                },
                {
                  "RIAGENDR": 0,
                  "RIDAGEYR": 39,
                  "DMDMARTL": 1,
                  "log_drinks": 1.08,
                  "_deepnote_index_column": 11244
                },
                {
                  "RIAGENDR": 0,
                  "RIDAGEYR": 73,
                  "DMDMARTL": 1,
                  "log_drinks": 0,
                  "_deepnote_index_column": 11245
                },
                {
                  "RIAGENDR": 1,
                  "RIDAGEYR": 66,
                  "DMDMARTL": 1,
                  "log_drinks": 0,
                  "_deepnote_index_column": 11246
                },
                {
                  "RIAGENDR": 0,
                  "RIDAGEYR": 61,
                  "DMDMARTL": 1,
                  "log_drinks": 0.7,
                  "_deepnote_index_column": 11247
                },
                {
                  "RIAGENDR": 1,
                  "RIDAGEYR": 33,
                  "DMDMARTL": 1,
                  "log_drinks": 1.48,
                  "_deepnote_index_column": 11248
                },
                {
                  "RIAGENDR": 0,
                  "RIDAGEYR": 62,
                  "DMDMARTL": 1,
                  "log_drinks": 1.48,
                  "_deepnote_index_column": 11249
                },
                {
                  "RIAGENDR": 1,
                  "RIDAGEYR": 31,
                  "DMDMARTL": 0,
                  "log_drinks": 1.72,
                  "_deepnote_index_column": 11251
                },
                {
                  "RIAGENDR": 0,
                  "RIDAGEYR": 43,
                  "DMDMARTL": 1,
                  "log_drinks": 0,
                  "_deepnote_index_column": 11252
                },
                {
                  "RIAGENDR": 0,
                  "RIDAGEYR": 75,
                  "DMDMARTL": 1,
                  "log_drinks": 0.7,
                  "_deepnote_index_column": 11253
                },
                {
                  "RIAGENDR": 0,
                  "RIDAGEYR": 24,
                  "DMDMARTL": 1,
                  "log_drinks": 1.48,
                  "_deepnote_index_column": 11255
                },
                {
                  "RIAGENDR": 1,
                  "RIDAGEYR": 48,
                  "DMDMARTL": 1,
                  "log_drinks": 1.72,
                  "_deepnote_index_column": 11256
                },
                {
                  "RIAGENDR": 1,
                  "RIDAGEYR": 55,
                  "DMDMARTL": 1,
                  "log_drinks": 1.08,
                  "_deepnote_index_column": 11259
                },
                {
                  "RIAGENDR": 1,
                  "RIDAGEYR": 75,
                  "DMDMARTL": 1,
                  "log_drinks": 0.7,
                  "_deepnote_index_column": 11261
                },
                {
                  "RIAGENDR": 0,
                  "RIDAGEYR": 70,
                  "DMDMARTL": 1,
                  "log_drinks": 0,
                  "_deepnote_index_column": 11264
                },
                {
                  "RIAGENDR": 1,
                  "RIDAGEYR": 38,
                  "DMDMARTL": 1,
                  "log_drinks": 0.95,
                  "_deepnote_index_column": 11267
                }
              ]
            },
            "text/plain": "       RIAGENDR  RIDAGEYR  DMDMARTL  log_drinks\n5735          0      66.0         1        1.08\n5739          1      56.0         1        1.72\n5741          1      67.0         1        1.48\n5742          0      54.0         1        0.70\n5743          1      71.0         1        0.00\n...         ...       ...       ...         ...\n11256         1      48.0         1        1.72\n11259         1      55.0         1        1.08\n11261         1      75.0         1        0.70\n11264         0      70.0         1        0.00\n11267         1      38.0         1        0.95\n\n[3460 rows x 4 columns]",
            "text/html": "<div>\n<style scoped>\n    .dataframe tbody tr th:only-of-type {\n        vertical-align: middle;\n    }\n\n    .dataframe tbody tr th {\n        vertical-align: top;\n    }\n\n    .dataframe thead th {\n        text-align: right;\n    }\n</style>\n<table border=\"1\" class=\"dataframe\">\n  <thead>\n    <tr style=\"text-align: right;\">\n      <th></th>\n      <th>RIAGENDR</th>\n      <th>RIDAGEYR</th>\n      <th>DMDMARTL</th>\n      <th>log_drinks</th>\n    </tr>\n  </thead>\n  <tbody>\n    <tr>\n      <th>5735</th>\n      <td>0</td>\n      <td>66.0</td>\n      <td>1</td>\n      <td>1.08</td>\n    </tr>\n    <tr>\n      <th>5739</th>\n      <td>1</td>\n      <td>56.0</td>\n      <td>1</td>\n      <td>1.72</td>\n    </tr>\n    <tr>\n      <th>5741</th>\n      <td>1</td>\n      <td>67.0</td>\n      <td>1</td>\n      <td>1.48</td>\n    </tr>\n    <tr>\n      <th>5742</th>\n      <td>0</td>\n      <td>54.0</td>\n      <td>1</td>\n      <td>0.70</td>\n    </tr>\n    <tr>\n      <th>5743</th>\n      <td>1</td>\n      <td>71.0</td>\n      <td>1</td>\n      <td>0.00</td>\n    </tr>\n    <tr>\n      <th>...</th>\n      <td>...</td>\n      <td>...</td>\n      <td>...</td>\n      <td>...</td>\n    </tr>\n    <tr>\n      <th>11256</th>\n      <td>1</td>\n      <td>48.0</td>\n      <td>1</td>\n      <td>1.72</td>\n    </tr>\n    <tr>\n      <th>11259</th>\n      <td>1</td>\n      <td>55.0</td>\n      <td>1</td>\n      <td>1.08</td>\n    </tr>\n    <tr>\n      <th>11261</th>\n      <td>1</td>\n      <td>75.0</td>\n      <td>1</td>\n      <td>0.70</td>\n    </tr>\n    <tr>\n      <th>11264</th>\n      <td>0</td>\n      <td>70.0</td>\n      <td>1</td>\n      <td>0.00</td>\n    </tr>\n    <tr>\n      <th>11267</th>\n      <td>1</td>\n      <td>38.0</td>\n      <td>1</td>\n      <td>0.95</td>\n    </tr>\n  </tbody>\n</table>\n<p>3460 rows × 4 columns</p>\n</div>"
          },
          "metadata": {}
        }
      ]
    },
    {
      "cell_type": "markdown",
      "source": "## Checking for differences\nSeems like there is no difference in `log_drinks` between married and divorced people.  But wait!..",
      "metadata": {
        "tags": [],
        "cell_id": "00010-9b2086da-6a3b-4105-9de2-7cdd6b141dfd",
        "deepnote_cell_type": "markdown"
      }
    },
    {
      "cell_type": "code",
      "metadata": {
        "tags": [],
        "cell_id": "00009-7776ca65-8bb9-40df-bc27-1fa9620caa7b",
        "deepnote_to_be_reexecuted": false,
        "source_hash": "11c0eb61",
        "execution_millis": 221,
        "execution_start": 1614832651471,
        "deepnote_cell_type": "code"
      },
      "source": "fig, ax = plt.subplots(figsize=(6,4))\n# # sns.boxplot(x='RIAGENDR', y='log_drinks', hue='DMDMARTL', data=dr)\nsns.ecdfplot(data=dr, x=\"log_drinks\", hue=\"DMDMARTL\", palette=\"deep\", ax=ax)\nax.set_title(\"Unmatched Data\")\nplt.show()",
      "execution_count": null,
      "outputs": [
        {
          "data": {
            "text/plain": "<Figure size 432x288 with 1 Axes>",
            "image/png": "[encoded data removed]"
          },
          "metadata": {
            "needs_background": "light"
          },
          "output_type": "display_data"
        }
      ]
    },
    {
      "cell_type": "code",
      "metadata": {
        "tags": [],
        "cell_id": "00010-3c75df2f-a73e-49df-8571-8974d5728046",
        "deepnote_to_be_reexecuted": false,
        "source_hash": "36a7bd35",
        "execution_millis": 17,
        "execution_start": 1614832651689,
        "deepnote_cell_type": "code"
      },
      "source": "test = dr[dr.DMDMARTL == 1].copy()\ncontrol = dr[dr.DMDMARTL == 0].copy()",
      "execution_count": null,
      "outputs": []
    },
    {
      "cell_type": "code",
      "metadata": {
        "tags": [],
        "cell_id": "00012-47639242-754b-4d20-b1f5-7886a1b432a4",
        "deepnote_to_be_reexecuted": false,
        "source_hash": "9ff66727",
        "execution_millis": 25,
        "execution_start": 1614832651710,
        "deepnote_cell_type": "code"
      },
      "source": "print(stats.ttest_ind(test.log_drinks, control.log_drinks))\nprint(stats.mannwhitneyu(test.log_drinks, control.log_drinks))",
      "execution_count": null,
      "outputs": [
        {
          "name": "stdout",
          "text": "Ttest_indResult(statistic=-4.382720315739331, pvalue=1.2069086630411861e-05)\nMannwhitneyuResult(statistic=948272.0, pvalue=2.4103262220651153e-06)\n",
          "output_type": "stream"
        }
      ]
    },
    {
      "cell_type": "markdown",
      "source": "## There is a significant association between marital status and age",
      "metadata": {
        "tags": [],
        "cell_id": "00014-74f52fac-f07f-4302-869a-80c404e3f1c9",
        "deepnote_cell_type": "markdown"
      }
    },
    {
      "cell_type": "code",
      "metadata": {
        "tags": [],
        "cell_id": "00013-c4dae8b3-f436-4aef-8873-df51e6fc9827",
        "deepnote_to_be_reexecuted": false,
        "source_hash": "f67d164",
        "execution_millis": 22,
        "execution_start": 1614832651730,
        "deepnote_cell_type": "code"
      },
      "source": "print(stats.ttest_ind(test.RIDAGEYR, control.RIDAGEYR))\nprint(stats.mannwhitneyu(test.RIDAGEYR, control.RIDAGEYR))",
      "execution_count": null,
      "outputs": [
        {
          "name": "stdout",
          "text": "Ttest_indResult(statistic=31.060149158739318, pvalue=4.918807596321285e-187)\nMannwhitneyuResult(statistic=394913.5, pvalue=8.481055037126749e-160)\n",
          "output_type": "stream"
        }
      ]
    },
    {
      "cell_type": "markdown",
      "source": "## Let's match!\nPropensity score matching with PyMatch",
      "metadata": {
        "tags": [],
        "cell_id": "00010-8651dd79-2840-4a55-8f81-42dfc2532f05",
        "deepnote_cell_type": "markdown"
      }
    },
    {
      "cell_type": "code",
      "metadata": {
        "tags": [],
        "cell_id": "00013-106b326a-e3b0-4b70-ba42-cb6eb65b73e0",
        "deepnote_to_be_reexecuted": false,
        "source_hash": "3f697c33",
        "execution_millis": 49,
        "execution_start": 1614832651790,
        "deepnote_cell_type": "code"
      },
      "source": "%%bash\n# must tweak source code: https://github.com/benmiroglio/pymatch/issues/23\nsed -i 's/y == preds/y.to_numpy().T == preds/1' ~/venv/lib/python3.7/site-packages/pymatch/Matcher.py\ngrep \"== preds\" ~/venv/lib/python3.7/site-packages/pymatch/Matcher.py",
      "execution_count": null,
      "outputs": [
        {
          "name": "stdout",
          "text": "        return (y.to_numpy().T == preds).sum() * 1.0 / len(y)\n",
          "output_type": "stream"
        }
      ]
    },
    {
      "cell_type": "code",
      "metadata": {
        "tags": [],
        "cell_id": "00011-499d2b44-ac51-489c-8036-d23832018d9a",
        "deepnote_to_be_reexecuted": false,
        "source_hash": "f0a383bc",
        "execution_millis": 362,
        "execution_start": 1614832651835,
        "deepnote_cell_type": "code"
      },
      "source": "from pymatch.Matcher import Matcher\nm = Matcher(test, control, yvar=\"DMDMARTL\", exclude=[])",
      "execution_count": null,
      "outputs": [
        {
          "name": "stdout",
          "text": "Formula:\nDMDMARTL ~ RIAGENDR+RIDAGEYR+log_drinks\nn majority: 2664\nn minority: 796\n",
          "output_type": "stream"
        }
      ]
    },
    {
      "cell_type": "code",
      "metadata": {
        "tags": [],
        "cell_id": "00012-7a64c4f8-5ef5-4480-b71a-dc7d7a20669b",
        "deepnote_to_be_reexecuted": false,
        "source_hash": "d596f2fe",
        "execution_millis": 584,
        "execution_start": 1614832652195,
        "deepnote_cell_type": "code"
      },
      "source": "np.random.seed(20210303)\nm.fit_scores(balance=True, nmodels=10)\nm.predict_scores()\nm.plot_scores()",
      "execution_count": null,
      "outputs": [
        {
          "name": "stdout",
          "text": "Fitting Models on Balanced Samples: 10\\10\nAverage Accuracy: 72.64%\n/shared-libs/python3.7/py/lib/python3.7/site-packages/seaborn/distributions.py:2557: FutureWarning: `distplot` is a deprecated function and will be removed in a future version. Please adapt your code to use either `displot` (a figure-level function with similar flexibility) or `histplot` (an axes-level function for histograms).\n  warnings.warn(msg, FutureWarning)\n/shared-libs/python3.7/py/lib/python3.7/site-packages/seaborn/distributions.py:2557: FutureWarning: `distplot` is a deprecated function and will be removed in a future version. Please adapt your code to use either `displot` (a figure-level function with similar flexibility) or `histplot` (an axes-level function for histograms).\n  warnings.warn(msg, FutureWarning)\n",
          "output_type": "stream"
        },
        {
          "data": {
            "text/plain": "<Figure size 720x360 with 1 Axes>",
            "image/png": "[encoded data removed]"
          },
          "metadata": {
            "needs_background": "light"
          },
          "output_type": "display_data"
        }
      ]
    },
    {
      "cell_type": "code",
      "metadata": {
        "tags": [],
        "cell_id": "00013-1096c7dc-2a6d-4a08-bd20-4e1aac40e10c",
        "deepnote_to_be_reexecuted": false,
        "source_hash": "5ca06665",
        "execution_millis": 30531,
        "execution_start": 1614832652780,
        "deepnote_cell_type": "code"
      },
      "source": "m.tune_threshold(method='random')  #, rng=np.arange(0, 1e-6, 1e-7))",
      "execution_count": null,
      "outputs": [
        {
          "data": {
            "text/plain": "<Figure size 720x360 with 1 Axes>",
            "image/png": "[encoded data removed]"
          },
          "metadata": {
            "needs_background": "light"
          },
          "output_type": "display_data"
        }
      ]
    },
    {
      "cell_type": "code",
      "metadata": {
        "tags": [],
        "cell_id": "00014-fca9442f-0108-4bae-92c1-ad7484acb47c",
        "deepnote_to_be_reexecuted": false,
        "source_hash": "fa0868c2",
        "execution_millis": 3126,
        "execution_start": 1614832683299,
        "deepnote_cell_type": "code"
      },
      "source": "m.match(method=\"random\", nmatches=1, threshold=0.0001)\nm.record_frequency()",
      "execution_count": null,
      "outputs": [
        {
          "output_type": "execute_result",
          "execution_count": 18,
          "data": {
            "application/vnd.deepnote.dataframe.v2+json": {
              "row_count": 16,
              "column_count": 2,
              "columns": [
                {
                  "name": "freq",
                  "dtype": "int64",
                  "stats": {
                    "unique_count": 16,
                    "nan_count": 0,
                    "min": 1,
                    "max": 30,
                    "histogram": [
                      {
                        "bin_start": 1,
                        "bin_end": 3.9,
                        "count": 3
                      },
                      {
                        "bin_start": 3.9,
                        "bin_end": 6.8,
                        "count": 3
                      },
                      {
                        "bin_start": 6.8,
                        "bin_end": 9.7,
                        "count": 3
                      },
                      {
                        "bin_start": 9.7,
                        "bin_end": 12.6,
                        "count": 2
                      },
                      {
                        "bin_start": 12.6,
                        "bin_end": 15.5,
                        "count": 2
                      },
                      {
                        "bin_start": 15.5,
                        "bin_end": 18.4,
                        "count": 1
                      },
                      {
                        "bin_start": 18.4,
                        "bin_end": 21.3,
                        "count": 1
                      },
                      {
                        "bin_start": 21.3,
                        "bin_end": 24.2,
                        "count": 0
                      },
                      {
                        "bin_start": 24.2,
                        "bin_end": 27.099999999999998,
                        "count": 0
                      },
                      {
                        "bin_start": 27.099999999999998,
                        "bin_end": 30,
                        "count": 1
                      }
                    ]
                  }
                },
                {
                  "name": "n_records",
                  "dtype": "int64",
                  "stats": {
                    "unique_count": 9,
                    "nan_count": 0,
                    "min": 1,
                    "max": 1331,
                    "histogram": [
                      {
                        "bin_start": 1,
                        "bin_end": 134,
                        "count": 15
                      },
                      {
                        "bin_start": 134,
                        "bin_end": 267,
                        "count": 0
                      },
                      {
                        "bin_start": 267,
                        "bin_end": 400,
                        "count": 0
                      },
                      {
                        "bin_start": 400,
                        "bin_end": 533,
                        "count": 0
                      },
                      {
                        "bin_start": 533,
                        "bin_end": 666,
                        "count": 0
                      },
                      {
                        "bin_start": 666,
                        "bin_end": 799,
                        "count": 0
                      },
                      {
                        "bin_start": 799,
                        "bin_end": 932,
                        "count": 0
                      },
                      {
                        "bin_start": 932,
                        "bin_end": 1065,
                        "count": 0
                      },
                      {
                        "bin_start": 1065,
                        "bin_end": 1198,
                        "count": 0
                      },
                      {
                        "bin_start": 1198,
                        "bin_end": 1331,
                        "count": 1
                      }
                    ]
                  }
                },
                {
                  "name": "_deepnote_index_column",
                  "dtype": "int64"
                }
              ],
              "rows_top": [
                {
                  "freq": 1,
                  "n_records": 1331,
                  "_deepnote_index_column": 0
                },
                {
                  "freq": 2,
                  "n_records": 103,
                  "_deepnote_index_column": 1
                },
                {
                  "freq": 3,
                  "n_records": 67,
                  "_deepnote_index_column": 2
                },
                {
                  "freq": 4,
                  "n_records": 37,
                  "_deepnote_index_column": 3
                },
                {
                  "freq": 5,
                  "n_records": 14,
                  "_deepnote_index_column": 4
                },
                {
                  "freq": 6,
                  "n_records": 14,
                  "_deepnote_index_column": 5
                },
                {
                  "freq": 7,
                  "n_records": 7,
                  "_deepnote_index_column": 6
                },
                {
                  "freq": 8,
                  "n_records": 3,
                  "_deepnote_index_column": 7
                },
                {
                  "freq": 9,
                  "n_records": 5,
                  "_deepnote_index_column": 8
                },
                {
                  "freq": 10,
                  "n_records": 3,
                  "_deepnote_index_column": 9
                },
                {
                  "freq": 11,
                  "n_records": 3,
                  "_deepnote_index_column": 10
                },
                {
                  "freq": 14,
                  "n_records": 1,
                  "_deepnote_index_column": 11
                },
                {
                  "freq": 15,
                  "n_records": 1,
                  "_deepnote_index_column": 12
                },
                {
                  "freq": 17,
                  "n_records": 1,
                  "_deepnote_index_column": 13
                },
                {
                  "freq": 21,
                  "n_records": 1,
                  "_deepnote_index_column": 14
                },
                {
                  "freq": 30,
                  "n_records": 1,
                  "_deepnote_index_column": 15
                }
              ],
              "rows_bottom": null
            },
            "text/plain": "    freq  n_records\n0      1       1331\n1      2        103\n2      3         67\n3      4         37\n4      5         14\n5      6         14\n6      7          7\n7      8          3\n8      9          5\n9     10          3\n10    11          3\n11    14          1\n12    15          1\n13    17          1\n14    21          1\n15    30          1",
            "text/html": "<div>\n<style scoped>\n    .dataframe tbody tr th:only-of-type {\n        vertical-align: middle;\n    }\n\n    .dataframe tbody tr th {\n        vertical-align: top;\n    }\n\n    .dataframe thead th {\n        text-align: right;\n    }\n</style>\n<table border=\"1\" class=\"dataframe\">\n  <thead>\n    <tr style=\"text-align: right;\">\n      <th></th>\n      <th>freq</th>\n      <th>n_records</th>\n    </tr>\n  </thead>\n  <tbody>\n    <tr>\n      <th>0</th>\n      <td>1</td>\n      <td>1331</td>\n    </tr>\n    <tr>\n      <th>1</th>\n      <td>2</td>\n      <td>103</td>\n    </tr>\n    <tr>\n      <th>2</th>\n      <td>3</td>\n      <td>67</td>\n    </tr>\n    <tr>\n      <th>3</th>\n      <td>4</td>\n      <td>37</td>\n    </tr>\n    <tr>\n      <th>4</th>\n      <td>5</td>\n      <td>14</td>\n    </tr>\n    <tr>\n      <th>5</th>\n      <td>6</td>\n      <td>14</td>\n    </tr>\n    <tr>\n      <th>6</th>\n      <td>7</td>\n      <td>7</td>\n    </tr>\n    <tr>\n      <th>7</th>\n      <td>8</td>\n      <td>3</td>\n    </tr>\n    <tr>\n      <th>8</th>\n      <td>9</td>\n      <td>5</td>\n    </tr>\n    <tr>\n      <th>9</th>\n      <td>10</td>\n      <td>3</td>\n    </tr>\n    <tr>\n      <th>10</th>\n      <td>11</td>\n      <td>3</td>\n    </tr>\n    <tr>\n      <th>11</th>\n      <td>14</td>\n      <td>1</td>\n    </tr>\n    <tr>\n      <th>12</th>\n      <td>15</td>\n      <td>1</td>\n    </tr>\n    <tr>\n      <th>13</th>\n      <td>17</td>\n      <td>1</td>\n    </tr>\n    <tr>\n      <th>14</th>\n      <td>21</td>\n      <td>1</td>\n    </tr>\n    <tr>\n      <th>15</th>\n      <td>30</td>\n      <td>1</td>\n    </tr>\n  </tbody>\n</table>\n</div>"
          },
          "metadata": {}
        }
      ]
    },
    {
      "cell_type": "code",
      "metadata": {
        "tags": [],
        "cell_id": "00015-55236c0b-43ff-4362-943f-fabdd29e70f6",
        "deepnote_to_be_reexecuted": false,
        "source_hash": "1021f568",
        "execution_millis": 50,
        "execution_start": 1614832686421,
        "deepnote_cell_type": "code"
      },
      "source": "m.assign_weight_vector()\nm.matched_data.sort_values(\"match_id\").head(8)",
      "execution_count": null,
      "outputs": [
        {
          "output_type": "execute_result",
          "execution_count": 19,
          "data": {
            "application/vnd.deepnote.dataframe.v2+json": {
              "row_count": 8,
              "column_count": 8,
              "columns": [
                {
                  "name": "record_id",
                  "dtype": "int64",
                  "stats": {
                    "unique_count": 8,
                    "nan_count": 0,
                    "min": 1,
                    "max": 3458,
                    "histogram": [
                      {
                        "bin_start": 1,
                        "bin_end": 346.7,
                        "count": 4
                      },
                      {
                        "bin_start": 346.7,
                        "bin_end": 692.4,
                        "count": 0
                      },
                      {
                        "bin_start": 692.4,
                        "bin_end": 1038.1,
                        "count": 0
                      },
                      {
                        "bin_start": 1038.1,
                        "bin_end": 1383.8,
                        "count": 0
                      },
                      {
                        "bin_start": 1383.8,
                        "bin_end": 1729.5,
                        "count": 0
                      },
                      {
                        "bin_start": 1729.5,
                        "bin_end": 2075.2,
                        "count": 0
                      },
                      {
                        "bin_start": 2075.2,
                        "bin_end": 2420.9,
                        "count": 0
                      },
                      {
                        "bin_start": 2420.9,
                        "bin_end": 2766.6,
                        "count": 1
                      },
                      {
                        "bin_start": 2766.6,
                        "bin_end": 3112.2999999999997,
                        "count": 2
                      },
                      {
                        "bin_start": 3112.2999999999997,
                        "bin_end": 3458,
                        "count": 1
                      }
                    ]
                  }
                },
                {
                  "name": "weight",
                  "dtype": "float64",
                  "stats": {
                    "unique_count": 3,
                    "nan_count": 0,
                    "min": 0.07142857142857142,
                    "max": 1,
                    "histogram": [
                      {
                        "bin_start": 0.07142857142857142,
                        "bin_end": 0.16428571428571428,
                        "count": 2
                      },
                      {
                        "bin_start": 0.16428571428571428,
                        "bin_end": 0.2571428571428571,
                        "count": 0
                      },
                      {
                        "bin_start": 0.2571428571428571,
                        "bin_end": 0.35,
                        "count": 0
                      },
                      {
                        "bin_start": 0.35,
                        "bin_end": 0.44285714285714284,
                        "count": 0
                      },
                      {
                        "bin_start": 0.44285714285714284,
                        "bin_end": 0.5357142857142857,
                        "count": 0
                      },
                      {
                        "bin_start": 0.5357142857142857,
                        "bin_end": 0.6285714285714286,
                        "count": 0
                      },
                      {
                        "bin_start": 0.6285714285714286,
                        "bin_end": 0.7214285714285714,
                        "count": 0
                      },
                      {
                        "bin_start": 0.7214285714285714,
                        "bin_end": 0.8142857142857143,
                        "count": 0
                      },
                      {
                        "bin_start": 0.8142857142857143,
                        "bin_end": 0.9071428571428571,
                        "count": 0
                      },
                      {
                        "bin_start": 0.9071428571428571,
                        "bin_end": 1,
                        "count": 6
                      }
                    ]
                  }
                },
                {
                  "name": "RIAGENDR",
                  "dtype": "int64",
                  "stats": {
                    "unique_count": 2,
                    "nan_count": 0,
                    "min": 0,
                    "max": 1,
                    "histogram": [
                      {
                        "bin_start": 0,
                        "bin_end": 0.1,
                        "count": 2
                      },
                      {
                        "bin_start": 0.1,
                        "bin_end": 0.2,
                        "count": 0
                      },
                      {
                        "bin_start": 0.2,
                        "bin_end": 0.30000000000000004,
                        "count": 0
                      },
                      {
                        "bin_start": 0.30000000000000004,
                        "bin_end": 0.4,
                        "count": 0
                      },
                      {
                        "bin_start": 0.4,
                        "bin_end": 0.5,
                        "count": 0
                      },
                      {
                        "bin_start": 0.5,
                        "bin_end": 0.6000000000000001,
                        "count": 0
                      },
                      {
                        "bin_start": 0.6000000000000001,
                        "bin_end": 0.7000000000000001,
                        "count": 0
                      },
                      {
                        "bin_start": 0.7000000000000001,
                        "bin_end": 0.8,
                        "count": 0
                      },
                      {
                        "bin_start": 0.8,
                        "bin_end": 0.9,
                        "count": 0
                      },
                      {
                        "bin_start": 0.9,
                        "bin_end": 1,
                        "count": 6
                      }
                    ]
                  }
                },
                {
                  "name": "RIDAGEYR",
                  "dtype": "float64",
                  "stats": {
                    "unique_count": 4,
                    "nan_count": 0,
                    "min": 53,
                    "max": 71,
                    "histogram": [
                      {
                        "bin_start": 53,
                        "bin_end": 54.8,
                        "count": 4
                      },
                      {
                        "bin_start": 54.8,
                        "bin_end": 56.6,
                        "count": 2
                      },
                      {
                        "bin_start": 56.6,
                        "bin_end": 58.4,
                        "count": 0
                      },
                      {
                        "bin_start": 58.4,
                        "bin_end": 60.2,
                        "count": 0
                      },
                      {
                        "bin_start": 60.2,
                        "bin_end": 62,
                        "count": 0
                      },
                      {
                        "bin_start": 62,
                        "bin_end": 63.8,
                        "count": 0
                      },
                      {
                        "bin_start": 63.8,
                        "bin_end": 65.6,
                        "count": 0
                      },
                      {
                        "bin_start": 65.6,
                        "bin_end": 67.4,
                        "count": 0
                      },
                      {
                        "bin_start": 67.4,
                        "bin_end": 69.2,
                        "count": 0
                      },
                      {
                        "bin_start": 69.2,
                        "bin_end": 71,
                        "count": 2
                      }
                    ]
                  }
                },
                {
                  "name": "DMDMARTL",
                  "dtype": "int64",
                  "stats": {
                    "unique_count": 2,
                    "nan_count": 0,
                    "min": 0,
                    "max": 1,
                    "histogram": [
                      {
                        "bin_start": 0,
                        "bin_end": 0.1,
                        "count": 4
                      },
                      {
                        "bin_start": 0.1,
                        "bin_end": 0.2,
                        "count": 0
                      },
                      {
                        "bin_start": 0.2,
                        "bin_end": 0.30000000000000004,
                        "count": 0
                      },
                      {
                        "bin_start": 0.30000000000000004,
                        "bin_end": 0.4,
                        "count": 0
                      },
                      {
                        "bin_start": 0.4,
                        "bin_end": 0.5,
                        "count": 0
                      },
                      {
                        "bin_start": 0.5,
                        "bin_end": 0.6000000000000001,
                        "count": 0
                      },
                      {
                        "bin_start": 0.6000000000000001,
                        "bin_end": 0.7000000000000001,
                        "count": 0
                      },
                      {
                        "bin_start": 0.7000000000000001,
                        "bin_end": 0.8,
                        "count": 0
                      },
                      {
                        "bin_start": 0.8,
                        "bin_end": 0.9,
                        "count": 0
                      },
                      {
                        "bin_start": 0.9,
                        "bin_end": 1,
                        "count": 4
                      }
                    ]
                  }
                },
                {
                  "name": "log_drinks",
                  "dtype": "float64",
                  "stats": {
                    "unique_count": 4,
                    "nan_count": 0,
                    "min": 0,
                    "max": 2.48,
                    "histogram": [
                      {
                        "bin_start": 0,
                        "bin_end": 0.248,
                        "count": 2
                      },
                      {
                        "bin_start": 0.248,
                        "bin_end": 0.496,
                        "count": 0
                      },
                      {
                        "bin_start": 0.496,
                        "bin_end": 0.744,
                        "count": 2
                      },
                      {
                        "bin_start": 0.744,
                        "bin_end": 0.992,
                        "count": 0
                      },
                      {
                        "bin_start": 0.992,
                        "bin_end": 1.24,
                        "count": 0
                      },
                      {
                        "bin_start": 1.24,
                        "bin_end": 1.488,
                        "count": 0
                      },
                      {
                        "bin_start": 1.488,
                        "bin_end": 1.736,
                        "count": 2
                      },
                      {
                        "bin_start": 1.736,
                        "bin_end": 1.984,
                        "count": 0
                      },
                      {
                        "bin_start": 1.984,
                        "bin_end": 2.232,
                        "count": 0
                      },
                      {
                        "bin_start": 2.232,
                        "bin_end": 2.48,
                        "count": 2
                      }
                    ]
                  }
                },
                {
                  "name": "scores",
                  "dtype": "float64",
                  "stats": {
                    "unique_count": 4,
                    "nan_count": 0,
                    "min": 0.6553980036281116,
                    "max": 0.8590227399448169,
                    "histogram": [
                      {
                        "bin_start": 0.6553980036281116,
                        "bin_end": 0.6757604772597822,
                        "count": 4
                      },
                      {
                        "bin_start": 0.6757604772597822,
                        "bin_end": 0.6961229508914527,
                        "count": 0
                      },
                      {
                        "bin_start": 0.6961229508914527,
                        "bin_end": 0.7164854245231232,
                        "count": 2
                      },
                      {
                        "bin_start": 0.7164854245231232,
                        "bin_end": 0.7368478981547938,
                        "count": 0
                      },
                      {
                        "bin_start": 0.7368478981547938,
                        "bin_end": 0.7572103717864642,
                        "count": 0
                      },
                      {
                        "bin_start": 0.7572103717864642,
                        "bin_end": 0.7775728454181348,
                        "count": 0
                      },
                      {
                        "bin_start": 0.7775728454181348,
                        "bin_end": 0.7979353190498053,
                        "count": 0
                      },
                      {
                        "bin_start": 0.7979353190498053,
                        "bin_end": 0.8182977926814758,
                        "count": 0
                      },
                      {
                        "bin_start": 0.8182977926814758,
                        "bin_end": 0.8386602663131464,
                        "count": 0
                      },
                      {
                        "bin_start": 0.8386602663131464,
                        "bin_end": 0.8590227399448169,
                        "count": 2
                      }
                    ]
                  }
                },
                {
                  "name": "match_id",
                  "dtype": "int64",
                  "stats": {
                    "unique_count": 4,
                    "nan_count": 0,
                    "min": 1,
                    "max": 10,
                    "histogram": [
                      {
                        "bin_start": 1,
                        "bin_end": 1.9,
                        "count": 2
                      },
                      {
                        "bin_start": 1.9,
                        "bin_end": 2.8,
                        "count": 0
                      },
                      {
                        "bin_start": 2.8,
                        "bin_end": 3.7,
                        "count": 2
                      },
                      {
                        "bin_start": 3.7,
                        "bin_end": 4.6,
                        "count": 2
                      },
                      {
                        "bin_start": 4.6,
                        "bin_end": 5.5,
                        "count": 0
                      },
                      {
                        "bin_start": 5.5,
                        "bin_end": 6.4,
                        "count": 0
                      },
                      {
                        "bin_start": 6.4,
                        "bin_end": 7.3,
                        "count": 0
                      },
                      {
                        "bin_start": 7.3,
                        "bin_end": 8.2,
                        "count": 0
                      },
                      {
                        "bin_start": 8.2,
                        "bin_end": 9.1,
                        "count": 0
                      },
                      {
                        "bin_start": 9.1,
                        "bin_end": 10,
                        "count": 2
                      }
                    ]
                  }
                },
                {
                  "name": "_deepnote_index_column",
                  "dtype": "int64"
                }
              ],
              "rows_top": [
                {
                  "record_id": 1,
                  "weight": 1,
                  "RIAGENDR": 1,
                  "RIDAGEYR": 56,
                  "DMDMARTL": 1,
                  "log_drinks": 1.72,
                  "scores": 0.7005784592732942,
                  "match_id": 1,
                  "_deepnote_index_column": 0
                },
                {
                  "record_id": 2787,
                  "weight": 0.125,
                  "RIAGENDR": 1,
                  "RIDAGEYR": 56,
                  "DMDMARTL": 0,
                  "log_drinks": 1.72,
                  "scores": 0.7005784592732942,
                  "match_id": 1,
                  "_deepnote_index_column": 1353
                },
                {
                  "record_id": 3,
                  "weight": 1,
                  "RIAGENDR": 0,
                  "RIDAGEYR": 54,
                  "DMDMARTL": 1,
                  "log_drinks": 0.7,
                  "scores": 0.6553980036281116,
                  "match_id": 3,
                  "_deepnote_index_column": 1
                },
                {
                  "record_id": 2671,
                  "weight": 1,
                  "RIAGENDR": 0,
                  "RIDAGEYR": 54,
                  "DMDMARTL": 0,
                  "log_drinks": 0.7,
                  "scores": 0.6553980036281116,
                  "match_id": 3,
                  "_deepnote_index_column": 1165
                },
                {
                  "record_id": 4,
                  "weight": 1,
                  "RIAGENDR": 1,
                  "RIDAGEYR": 71,
                  "DMDMARTL": 1,
                  "log_drinks": 0,
                  "scores": 0.8590227399448169,
                  "match_id": 4,
                  "_deepnote_index_column": 2
                },
                {
                  "record_id": 3458,
                  "weight": 0.07142857142857142,
                  "RIAGENDR": 1,
                  "RIDAGEYR": 71,
                  "DMDMARTL": 0,
                  "log_drinks": 0,
                  "scores": 0.8590227399448169,
                  "match_id": 4,
                  "_deepnote_index_column": 2303
                },
                {
                  "record_id": 10,
                  "weight": 1,
                  "RIAGENDR": 1,
                  "RIDAGEYR": 53,
                  "DMDMARTL": 1,
                  "log_drinks": 2.48,
                  "scores": 0.6669984350178935,
                  "match_id": 10,
                  "_deepnote_index_column": 3
                },
                {
                  "record_id": 2884,
                  "weight": 1,
                  "RIAGENDR": 1,
                  "RIDAGEYR": 53,
                  "DMDMARTL": 0,
                  "log_drinks": 2.48,
                  "scores": 0.6669984350178935,
                  "match_id": 10,
                  "_deepnote_index_column": 1474
                }
              ],
              "rows_bottom": null
            },
            "text/plain": "      record_id    weight  RIAGENDR  RIDAGEYR  DMDMARTL  log_drinks    scores  \\\n0             1  1.000000         1      56.0         1        1.72  0.700578   \n1353       2787  0.125000         1      56.0         0        1.72  0.700578   \n1             3  1.000000         0      54.0         1        0.70  0.655398   \n1165       2671  1.000000         0      54.0         0        0.70  0.655398   \n2             4  1.000000         1      71.0         1        0.00  0.859023   \n2303       3458  0.071429         1      71.0         0        0.00  0.859023   \n3            10  1.000000         1      53.0         1        2.48  0.666998   \n1474       2884  1.000000         1      53.0         0        2.48  0.666998   \n\n      match_id  \n0            1  \n1353         1  \n1            3  \n1165         3  \n2            4  \n2303         4  \n3           10  \n1474        10  ",
            "text/html": "<div>\n<style scoped>\n    .dataframe tbody tr th:only-of-type {\n        vertical-align: middle;\n    }\n\n    .dataframe tbody tr th {\n        vertical-align: top;\n    }\n\n    .dataframe thead th {\n        text-align: right;\n    }\n</style>\n<table border=\"1\" class=\"dataframe\">\n  <thead>\n    <tr style=\"text-align: right;\">\n      <th></th>\n      <th>record_id</th>\n      <th>weight</th>\n      <th>RIAGENDR</th>\n      <th>RIDAGEYR</th>\n      <th>DMDMARTL</th>\n      <th>log_drinks</th>\n      <th>scores</th>\n      <th>match_id</th>\n    </tr>\n  </thead>\n  <tbody>\n    <tr>\n      <th>0</th>\n      <td>1</td>\n      <td>1.000000</td>\n      <td>1</td>\n      <td>56.0</td>\n      <td>1</td>\n      <td>1.72</td>\n      <td>0.700578</td>\n      <td>1</td>\n    </tr>\n    <tr>\n      <th>1353</th>\n      <td>2787</td>\n      <td>0.125000</td>\n      <td>1</td>\n      <td>56.0</td>\n      <td>0</td>\n      <td>1.72</td>\n      <td>0.700578</td>\n      <td>1</td>\n    </tr>\n    <tr>\n      <th>1</th>\n      <td>3</td>\n      <td>1.000000</td>\n      <td>0</td>\n      <td>54.0</td>\n      <td>1</td>\n      <td>0.70</td>\n      <td>0.655398</td>\n      <td>3</td>\n    </tr>\n    <tr>\n      <th>1165</th>\n      <td>2671</td>\n      <td>1.000000</td>\n      <td>0</td>\n      <td>54.0</td>\n      <td>0</td>\n      <td>0.70</td>\n      <td>0.655398</td>\n      <td>3</td>\n    </tr>\n    <tr>\n      <th>2</th>\n      <td>4</td>\n      <td>1.000000</td>\n      <td>1</td>\n      <td>71.0</td>\n      <td>1</td>\n      <td>0.00</td>\n      <td>0.859023</td>\n      <td>4</td>\n    </tr>\n    <tr>\n      <th>2303</th>\n      <td>3458</td>\n      <td>0.071429</td>\n      <td>1</td>\n      <td>71.0</td>\n      <td>0</td>\n      <td>0.00</td>\n      <td>0.859023</td>\n      <td>4</td>\n    </tr>\n    <tr>\n      <th>3</th>\n      <td>10</td>\n      <td>1.000000</td>\n      <td>1</td>\n      <td>53.0</td>\n      <td>1</td>\n      <td>2.48</td>\n      <td>0.666998</td>\n      <td>10</td>\n    </tr>\n    <tr>\n      <th>1474</th>\n      <td>2884</td>\n      <td>1.000000</td>\n      <td>1</td>\n      <td>53.0</td>\n      <td>0</td>\n      <td>2.48</td>\n      <td>0.666998</td>\n      <td>10</td>\n    </tr>\n  </tbody>\n</table>\n</div>"
          },
          "metadata": {}
        }
      ]
    },
    {
      "cell_type": "code",
      "metadata": {
        "tags": [],
        "cell_id": "00024-de170d07-fbe4-4245-be7d-bfc9cbc6ab91",
        "deepnote_to_be_reexecuted": false,
        "source_hash": "2614e84f",
        "execution_millis": 31,
        "execution_start": 1614832686475,
        "deepnote_cell_type": "code"
      },
      "source": "m.matched_data.groupby('DMDMARTL').weight.value_counts()",
      "execution_count": null,
      "outputs": [
        {
          "output_type": "execute_result",
          "execution_count": 20,
          "data": {
            "text/plain": "DMDMARTL  weight  \n0         0.500000     206\n          0.333333     201\n          1.000000     172\n          0.250000     148\n          0.166667      84\n          0.200000      70\n          0.142857      49\n          0.111111      45\n          0.090909      33\n          0.033333      30\n          0.100000      30\n          0.125000      24\n          0.047619      21\n          0.058824      17\n          0.066667      15\n          0.071429      14\n1         1.000000    1159\nName: weight, dtype: int64"
          },
          "metadata": {}
        }
      ]
    },
    {
      "cell_type": "code",
      "metadata": {
        "tags": [],
        "cell_id": "00022-ca40956c-ef54-4f31-af4f-1ba3aa0e6f67",
        "deepnote_to_be_reexecuted": false,
        "source_hash": "536f39d1",
        "execution_millis": 26,
        "execution_start": 1614832686502,
        "deepnote_cell_type": "code"
      },
      "source": "# we picked 1159 matched pairs\nm.matched_data.match_id.value_counts().value_counts()\n# m.matched_data.DMDMARTL.value_counts()",
      "execution_count": null,
      "outputs": [
        {
          "output_type": "execute_result",
          "execution_count": 21,
          "data": {
            "text/plain": "2    1159\nName: match_id, dtype: int64"
          },
          "metadata": {}
        }
      ]
    },
    {
      "cell_type": "code",
      "metadata": {
        "tags": [],
        "cell_id": "00016-b1975bb8-22b7-4738-8880-c2261a21a862",
        "deepnote_to_be_reexecuted": false,
        "source_hash": "8b97f590",
        "execution_millis": 68040,
        "execution_start": 1614832686567,
        "deepnote_cell_type": "code"
      },
      "source": "cc = m.compare_continuous(return_table=True)",
      "execution_count": null,
      "outputs": [
        {
          "data": {
            "text/plain": "<Figure size 864x360 with 2 Axes>",
            "image/png": "[encoded data removed]"
          },
          "metadata": {
            "needs_background": "light"
          },
          "output_type": "display_data"
        },
        {
          "data": {
            "text/plain": "<Figure size 864x360 with 2 Axes>",
            "image/png": "[encoded data removed]"
          },
          "metadata": {
            "needs_background": "light"
          },
          "output_type": "display_data"
        },
        {
          "data": {
            "text/plain": "<Figure size 864x360 with 2 Axes>",
            "image/png": "[encoded data removed]"
          },
          "metadata": {
            "needs_background": "light"
          },
          "output_type": "display_data"
        }
      ]
    },
    {
      "cell_type": "markdown",
      "source": "## The differences disappeared!",
      "metadata": {
        "tags": [],
        "cell_id": "00027-867fda5a-ef32-49b4-9fa8-210964203bba",
        "deepnote_cell_type": "markdown"
      }
    },
    {
      "cell_type": "code",
      "metadata": {
        "tags": [],
        "cell_id": "00000-3e35cf1f-f24b-4658-8e78-e774434ba8a9",
        "deepnote_to_be_reexecuted": false,
        "source_hash": "9241e515",
        "execution_millis": 562,
        "execution_start": 1614832754608,
        "deepnote_cell_type": "code"
      },
      "source": "print(stats.ttest_ind(m.matched_data.query('DMDMARTL == 1').log_drinks, m.matched_data.query('DMDMARTL == 0').log_drinks))\nprint(stats.mannwhitneyu(m.matched_data.query('DMDMARTL == 1').log_drinks, m.matched_data.query('DMDMARTL == 0').log_drinks))",
      "execution_count": null,
      "outputs": [
        {
          "name": "stdout",
          "text": "Ttest_indResult(statistic=0.2700538898333542, pvalue=0.7871428554369482)\nMannwhitneyuResult(statistic=669554.5, pvalue=0.446792128696086)\n",
          "output_type": "stream"
        }
      ]
    },
    {
      "cell_type": "markdown",
      "source": "## Sandbox",
      "metadata": {
        "tags": [],
        "cell_id": "00028-413f7ac6-e5f2-4732-abf5-cf990f57e757",
        "deepnote_cell_type": "markdown"
      }
    },
    {
      "cell_type": "code",
      "metadata": {
        "tags": [],
        "cell_id": "00004-8ee2dc5f-934d-4ca1-aa2f-2550e8e45222",
        "deepnote_to_be_reexecuted": false,
        "source_hash": "b0c6ca82",
        "execution_millis": 16,
        "execution_start": 1614832755167,
        "deepnote_cell_type": "code"
      },
      "source": "# ALQ = pd.read_sas('https://wwwn.cdc.gov/Nchs/Nhanes/2017-2018/ALQ_J.XPT')\n# DEMO = pd.read_sas('https://wwwn.cdc.gov/Nchs/Nhanes/2017-2018/DEMO_J.XPT')\n\n# url = 'https://wwwn.cdc.gov/nchs/nhanes/Search/DataPage.aspx?Component=Laboratory&CycleBeginYear=2017'\n# df = pd.read_html(url)[0]  # attrs={'id':'GridView1'}\n\n# import requests\n# r = requests.get(url)\n# lines = r.content.decode('utf-8').split('\\n')\n# [l.split('\"')[1] for l in lines if '.XPT' in l]",
      "execution_count": null,
      "outputs": []
    },
    {
      "cell_type": "markdown",
      "source": "<a style='text-decoration:none;line-height:16px;display:flex;color:#5B5B62;padding:10px;justify-content:end;' href='https://deepnote.com?utm_source=created-in-deepnote-cell&projectId=98f37550-cbaa-491c-a3ea-f393696dc041' target=\"_blank\">\n<img style='display:inline;max-height:16px;margin:0px;margin-right:7.5px;' src='data:image/svg+xml;base64,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' > </img>\nCreated in <span style='font-weight:600;margin-left:4px;'>Deepnote</span></a>",
      "metadata": {
        "tags": [],
        "created_in_deepnote_cell": true,
        "deepnote_cell_type": "markdown"
      }
    }
  ],
  "nbformat": 4,
  "nbformat_minor": 2,
  "metadata": {
    "orig_nbformat": 2,
    "deepnote_notebook_id": "f32fe993-47cc-456e-a30a-fe2d9805d6f0",
    "deepnote": {},
    "deepnote_execution_queue": []
  }
}