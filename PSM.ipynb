{
  "cells": [
    {
      "cell_type": "markdown",
      "source": "# Propensity Score Matching\nThe possibility of bias arises because a difference in the treatment outcome (such as the average treatment effect) between treated and untreated groups may be caused by a factor that predicts treatment rather than the treatment itself.  Matching attempts to reduce the treatment assignment bias, and mimic randomization, by creating a sample of units that received the treatment that is comparable on all observed covariates to a sample of units that did not receive the treatment.  PSM employs a predicted probability of group membership—e.g., treatment versus control group—based on observed predictors, usually obtained from logistic regression to create a counterfactual group. Propensity scores may be used for matching or as covariates, alone or with other matching variables or covariates.",
      "metadata": {
        "tags": [],
        "cell_id": "00000-dee05ff9-3cd5-4066-a814-4cfdf815792b",
        "deepnote_cell_type": "markdown"
      }
    },
    {
      "cell_type": "markdown",
      "source": "DEMO_J.DMDMARTL - Marital status  \nALQ_J.ALQ130 - Avg # alcohol drinks/day - past 12 mos",
      "metadata": {
        "tags": [],
        "cell_id": "00010-f833f3bb-1ba0-4aea-9039-4f3821aa2387",
        "deepnote_cell_type": "markdown"
      }
    },
    {
      "cell_type": "code",
      "metadata": {
        "tags": [],
        "cell_id": "00000-16c870b4-eb5c-440d-9d75-93f88c6fc90f",
        "deepnote_to_be_reexecuted": false,
        "source_hash": "2f19d1f9",
        "execution_millis": 0,
        "execution_start": 1614825678332,
        "deepnote_cell_type": "code"
      },
      "source": "%load_ext autoreload\n%autoreload 2",
      "execution_count": 1,
      "outputs": []
    },
    {
      "cell_type": "code",
      "metadata": {
        "tags": [],
        "cell_id": "00000-44f3a21f-ba85-44fe-953f-b51aaaee1f55",
        "deepnote_to_be_reexecuted": false,
        "source_hash": "caa47001",
        "execution_millis": 773,
        "execution_start": 1614825678332,
        "deepnote_cell_type": "code"
      },
      "source": "import logging\nimport matplotlib.pyplot as plt\nimport numpy as np\nimport os\nimport pandas as pd\nimport seaborn as sns\nimport sys\n\nformatter = logging.Formatter(\n    fmt='%(asctime)s.%(msecs)03d %(levelname)s [%(name)s] %(message)s',\n    datefmt='%y%m%d@%H:%M:%S',\n)\n\nlogger = logging.getLogger('pynhanes')\nlogger.setLevel(logging.DEBUG)\n# f = logging.FileHandler('nhanes.log')\n# f.setFormatter(formatter)\nh = logging.StreamHandler(stream=sys.stdout)\nh.setFormatter(formatter)\n\nif not logger.hasHandlers():\n    logger.addHandler(h)  # log to STDOUT or Jupyter\n#     logger.addHandler(f)  # log to file\n\nimport pynhanes",
      "execution_count": 2,
      "outputs": [
        {
          "name": "stdout",
          "text": "210304@02:41:19.075 DEBUG [pynhanes] pynhanes package (re)loaded\n",
          "output_type": "stream"
        }
      ]
    },
    {
      "cell_type": "code",
      "metadata": {
        "tags": [],
        "cell_id": "00005-75a830f6-0991-4477-96db-9033086d2168",
        "deepnote_to_be_reexecuted": false,
        "source_hash": "71da291a",
        "execution_millis": 2454,
        "execution_start": 1614825679098,
        "deepnote_cell_type": "code"
      },
      "source": "dfs = pynhanes.data.load(datasets=['DEMO','ALQ'], years=(2015, 2018))",
      "execution_count": 3,
      "outputs": [
        {
          "name": "stdout",
          "text": "210304@02:41:20.182 INFO [pynhanes.data] read 9971 rows x 47 cols from https://wwwn.cdc.gov/Nchs/Nhanes/2015-2016/DEMO_I.XPT\n210304@02:41:21.142 INFO [pynhanes.data] read 9254 rows x 46 cols from https://wwwn.cdc.gov/Nchs/Nhanes/2017-2018/DEMO_J.XPT\n210304@02:41:21.153 INFO [pynhanes.data] combined dataset DEMO: 19225 rows x 52 cols\n210304@02:41:21.355 INFO [pynhanes.data] read 5735 rows x 10 cols from https://wwwn.cdc.gov/Nchs/Nhanes/2015-2016/ALQ_I.XPT\n210304@02:41:21.540 INFO [pynhanes.data] read 5533 rows x 10 cols from https://wwwn.cdc.gov/Nchs/Nhanes/2017-2018/ALQ_J.XPT\n210304@02:41:21.545 INFO [pynhanes.data] combined dataset ALQ: 11268 rows x 18 cols\n",
          "output_type": "stream"
        }
      ]
    },
    {
      "cell_type": "code",
      "metadata": {
        "tags": [],
        "cell_id": "00005-7a3871b5-8bbf-4df7-b621-722a369ff674",
        "deepnote_to_be_reexecuted": false,
        "source_hash": "39a2a5e3",
        "execution_millis": 38,
        "execution_start": 1614825681553,
        "deepnote_cell_type": "code"
      },
      "source": "df = pd.merge(\n    left = dfs['DEMO'],\n    right = dfs['ALQ'],\n    on = ['SEQN','year'],\n    how = 'inner',\n)\ndf.shape",
      "execution_count": 4,
      "outputs": [
        {
          "output_type": "execute_result",
          "execution_count": 4,
          "data": {
            "text/plain": "(11268, 68)"
          },
          "metadata": {}
        }
      ]
    },
    {
      "cell_type": "code",
      "metadata": {
        "tags": [],
        "cell_id": "00006-55e45089-cba8-4369-8331-0601a5668532",
        "deepnote_to_be_reexecuted": false,
        "source_hash": "d88a11eb",
        "execution_millis": 46,
        "execution_start": 1614825681593,
        "deepnote_cell_type": "code"
      },
      "source": "# # Recoding ALQ121 answers into numbers\n\n# Code or Value\tValue Description\tCount\tCumulative\tSkip to Item\n# 0\tNever in the last year\t1049\t1049\tALQ151\n# 1\tEvery day\t142\t1191\t\n# 2\tNearly every day\t155\t1346\t\n# 3\t3 to 4 times a week\t273\t1619\t\n# 4\t2 times a week\t323\t1942\t\n# 5\tOnce a week\t340\t2282\t\n# 6\t2 to 3 times a month\t606\t2888\t\n# 7\tOnce a month\t351\t3239\t\n# 8\t7 to 11 times in the last year\t299\t3538\t\n# 9\t3 to 6 times in the last year\t476\t4014\t\n# 10\t1 to 2 times in the last year\t527\t4541\t\n# 77\tRefused\t2\t4543\t\n# 99\tDon't know\t2\t4545\t\n# .\tMissing\t988\t5533\t\n\nALQ121_categories = sorted(df.ALQ121.unique())\ndrinks_per_year = [np.nan, 1, 365, 300, 183, 104, 52, 30, 12, 9, 5, 2, np.nan, np.nan]\ndrinks = {k: v for k, v in zip(ALQ121_categories, drinks_per_year)}\ndf['drinks'] = df.ALQ121.map(drinks)\ndf['log_drinks'] = np.log10(df['drinks']).round(2)\n\nf1 = df.DMDMARTL.isin([1,3])  # 1 = married, 3 = divorced\nf2 = df.log_drinks >= 0\n\ndr = df.loc[f1 & f2, ['RIAGENDR','RIDAGEYR','DMDMARTL','log_drinks']]\ndr['RIAGENDR'] = dr['RIAGENDR'].map({1: 1, 2: 0})   # 0 = F, 1 = M\ndr['DMDMARTL'] = dr['DMDMARTL'].map({1: 0, 3: 1})   # 0 = married, 1 = divorced\ndr.shape",
      "execution_count": 5,
      "outputs": [
        {
          "output_type": "execute_result",
          "execution_count": 5,
          "data": {
            "text/plain": "(2664, 4)"
          },
          "metadata": {}
        }
      ]
    },
    {
      "cell_type": "markdown",
      "source": "## Dataset\nThe dataset was constructed from NHANES data for years 2015–2018, joining demographic variables (DEMO) and alcohol use (ALQ) datasets.  The inclusion criteria were: 1) married or divorced (DMDMARTL 1 or 3); 2) valid response to ALQ121 (codes 0 through 10).  Of the 2664 participants, 1228 were female (mean age 53.1, 23.7% divorced, 35 ± 72 drinks per year) and 1436 were male (mean age 56.8, 16.9% divorced, 61 ± 98 drinks per year).\n\n|      RIAGENDR |   count    | % divorced  |        age |\n|--------------:|-----------:|------------:|-----------:|\n|        Female |       1228 |  23.7       |   53.1     |\n|          Male |       1436 |  16.9       |   56.8     |  ",
      "metadata": {
        "tags": [],
        "cell_id": "00007-97065cba-5430-4403-a14c-b8fd4c13d949",
        "deepnote_cell_type": "markdown"
      }
    },
    {
      "cell_type": "code",
      "metadata": {
        "tags": [],
        "cell_id": "00007-9d9bf7c0-8a58-483d-a116-7fa808cae72f",
        "deepnote_to_be_reexecuted": false,
        "source_hash": "c60d13fb",
        "execution_millis": 21,
        "execution_start": 1614825681679,
        "deepnote_cell_type": "code"
      },
      "source": "# dr.RIAGENDR.value_counts(dropna=False)\ndr",
      "execution_count": 6,
      "outputs": [
        {
          "output_type": "execute_result",
          "execution_count": 6,
          "data": {
            "application/vnd.deepnote.dataframe.v2+json": {
              "row_count": 2664,
              "column_count": 4,
              "columns": [
                {
                  "name": "RIAGENDR",
                  "dtype": "int64",
                  "stats": {
                    "unique_count": 2,
                    "nan_count": 0,
                    "min": 0,
                    "max": 1,
                    "histogram": [
                      {
                        "bin_start": 0,
                        "bin_end": 0.1,
                        "count": 1228
                      },
                      {
                        "bin_start": 0.1,
                        "bin_end": 0.2,
                        "count": 0
                      },
                      {
                        "bin_start": 0.2,
                        "bin_end": 0.30000000000000004,
                        "count": 0
                      },
                      {
                        "bin_start": 0.30000000000000004,
                        "bin_end": 0.4,
                        "count": 0
                      },
                      {
                        "bin_start": 0.4,
                        "bin_end": 0.5,
                        "count": 0
                      },
                      {
                        "bin_start": 0.5,
                        "bin_end": 0.6000000000000001,
                        "count": 0
                      },
                      {
                        "bin_start": 0.6000000000000001,
                        "bin_end": 0.7000000000000001,
                        "count": 0
                      },
                      {
                        "bin_start": 0.7000000000000001,
                        "bin_end": 0.8,
                        "count": 0
                      },
                      {
                        "bin_start": 0.8,
                        "bin_end": 0.9,
                        "count": 0
                      },
                      {
                        "bin_start": 0.9,
                        "bin_end": 1,
                        "count": 1436
                      }
                    ]
                  }
                },
                {
                  "name": "RIDAGEYR",
                  "dtype": "float64",
                  "stats": {
                    "unique_count": 61,
                    "nan_count": 0,
                    "min": 20,
                    "max": 80,
                    "histogram": [
                      {
                        "bin_start": 20,
                        "bin_end": 26,
                        "count": 56
                      },
                      {
                        "bin_start": 26,
                        "bin_end": 32,
                        "count": 145
                      },
                      {
                        "bin_start": 32,
                        "bin_end": 38,
                        "count": 216
                      },
                      {
                        "bin_start": 38,
                        "bin_end": 44,
                        "count": 257
                      },
                      {
                        "bin_start": 44,
                        "bin_end": 50,
                        "count": 275
                      },
                      {
                        "bin_start": 50,
                        "bin_end": 56,
                        "count": 317
                      },
                      {
                        "bin_start": 56,
                        "bin_end": 62,
                        "count": 391
                      },
                      {
                        "bin_start": 62,
                        "bin_end": 68,
                        "count": 386
                      },
                      {
                        "bin_start": 68,
                        "bin_end": 74,
                        "count": 291
                      },
                      {
                        "bin_start": 74,
                        "bin_end": 80,
                        "count": 330
                      }
                    ]
                  }
                },
                {
                  "name": "DMDMARTL",
                  "dtype": "int64",
                  "stats": {
                    "unique_count": 2,
                    "nan_count": 0,
                    "min": 0,
                    "max": 1,
                    "histogram": [
                      {
                        "bin_start": 0,
                        "bin_end": 0.1,
                        "count": 2130
                      },
                      {
                        "bin_start": 0.1,
                        "bin_end": 0.2,
                        "count": 0
                      },
                      {
                        "bin_start": 0.2,
                        "bin_end": 0.30000000000000004,
                        "count": 0
                      },
                      {
                        "bin_start": 0.30000000000000004,
                        "bin_end": 0.4,
                        "count": 0
                      },
                      {
                        "bin_start": 0.4,
                        "bin_end": 0.5,
                        "count": 0
                      },
                      {
                        "bin_start": 0.5,
                        "bin_end": 0.6000000000000001,
                        "count": 0
                      },
                      {
                        "bin_start": 0.6000000000000001,
                        "bin_end": 0.7000000000000001,
                        "count": 0
                      },
                      {
                        "bin_start": 0.7000000000000001,
                        "bin_end": 0.8,
                        "count": 0
                      },
                      {
                        "bin_start": 0.8,
                        "bin_end": 0.9,
                        "count": 0
                      },
                      {
                        "bin_start": 0.9,
                        "bin_end": 1,
                        "count": 534
                      }
                    ]
                  }
                },
                {
                  "name": "log_drinks",
                  "dtype": "float64",
                  "stats": {
                    "unique_count": 11,
                    "nan_count": 0,
                    "min": 0,
                    "max": 2.56,
                    "histogram": [
                      {
                        "bin_start": 0,
                        "bin_end": 0.256,
                        "count": 666
                      },
                      {
                        "bin_start": 0.256,
                        "bin_end": 0.512,
                        "count": 300
                      },
                      {
                        "bin_start": 0.512,
                        "bin_end": 0.768,
                        "count": 275
                      },
                      {
                        "bin_start": 0.768,
                        "bin_end": 1.024,
                        "count": 174
                      },
                      {
                        "bin_start": 1.024,
                        "bin_end": 1.28,
                        "count": 203
                      },
                      {
                        "bin_start": 1.28,
                        "bin_end": 1.536,
                        "count": 330
                      },
                      {
                        "bin_start": 1.536,
                        "bin_end": 1.792,
                        "count": 205
                      },
                      {
                        "bin_start": 1.792,
                        "bin_end": 2.048,
                        "count": 183
                      },
                      {
                        "bin_start": 2.048,
                        "bin_end": 2.3040000000000003,
                        "count": 156
                      },
                      {
                        "bin_start": 2.3040000000000003,
                        "bin_end": 2.56,
                        "count": 172
                      }
                    ]
                  }
                },
                {
                  "name": "_deepnote_index_column",
                  "dtype": "int64"
                }
              ],
              "rows_top": [
                {
                  "RIAGENDR": 0,
                  "RIDAGEYR": 66,
                  "DMDMARTL": 1,
                  "log_drinks": 1.08,
                  "_deepnote_index_column": 5735
                },
                {
                  "RIAGENDR": 1,
                  "RIDAGEYR": 56,
                  "DMDMARTL": 0,
                  "log_drinks": 1.72,
                  "_deepnote_index_column": 5739
                },
                {
                  "RIAGENDR": 1,
                  "RIDAGEYR": 67,
                  "DMDMARTL": 1,
                  "log_drinks": 1.48,
                  "_deepnote_index_column": 5741
                },
                {
                  "RIAGENDR": 0,
                  "RIDAGEYR": 54,
                  "DMDMARTL": 0,
                  "log_drinks": 0.7,
                  "_deepnote_index_column": 5742
                },
                {
                  "RIAGENDR": 1,
                  "RIDAGEYR": 71,
                  "DMDMARTL": 0,
                  "log_drinks": 0,
                  "_deepnote_index_column": 5743
                },
                {
                  "RIAGENDR": 1,
                  "RIDAGEYR": 61,
                  "DMDMARTL": 0,
                  "log_drinks": 1.08,
                  "_deepnote_index_column": 5744
                },
                {
                  "RIAGENDR": 0,
                  "RIDAGEYR": 60,
                  "DMDMARTL": 0,
                  "log_drinks": 1.72,
                  "_deepnote_index_column": 5747
                },
                {
                  "RIAGENDR": 0,
                  "RIDAGEYR": 60,
                  "DMDMARTL": 1,
                  "log_drinks": 1.08,
                  "_deepnote_index_column": 5748
                },
                {
                  "RIAGENDR": 1,
                  "RIDAGEYR": 64,
                  "DMDMARTL": 0,
                  "log_drinks": 0,
                  "_deepnote_index_column": 5749
                },
                {
                  "RIAGENDR": 1,
                  "RIDAGEYR": 70,
                  "DMDMARTL": 0,
                  "log_drinks": 0,
                  "_deepnote_index_column": 5751
                },
                {
                  "RIAGENDR": 1,
                  "RIDAGEYR": 53,
                  "DMDMARTL": 0,
                  "log_drinks": 2.48,
                  "_deepnote_index_column": 5752
                },
                {
                  "RIAGENDR": 1,
                  "RIDAGEYR": 72,
                  "DMDMARTL": 1,
                  "log_drinks": 2.02,
                  "_deepnote_index_column": 5756
                },
                {
                  "RIAGENDR": 1,
                  "RIDAGEYR": 72,
                  "DMDMARTL": 1,
                  "log_drinks": 0,
                  "_deepnote_index_column": 5759
                },
                {
                  "RIAGENDR": 1,
                  "RIDAGEYR": 72,
                  "DMDMARTL": 0,
                  "log_drinks": 0,
                  "_deepnote_index_column": 5764
                },
                {
                  "RIAGENDR": 1,
                  "RIDAGEYR": 63,
                  "DMDMARTL": 0,
                  "log_drinks": 2.26,
                  "_deepnote_index_column": 5767
                },
                {
                  "RIAGENDR": 0,
                  "RIDAGEYR": 55,
                  "DMDMARTL": 0,
                  "log_drinks": 0,
                  "_deepnote_index_column": 5768
                },
                {
                  "RIAGENDR": 1,
                  "RIDAGEYR": 60,
                  "DMDMARTL": 0,
                  "log_drinks": 1.72,
                  "_deepnote_index_column": 5769
                },
                {
                  "RIAGENDR": 1,
                  "RIDAGEYR": 44,
                  "DMDMARTL": 0,
                  "log_drinks": 1.48,
                  "_deepnote_index_column": 5771
                },
                {
                  "RIAGENDR": 1,
                  "RIDAGEYR": 40,
                  "DMDMARTL": 0,
                  "log_drinks": 0.7,
                  "_deepnote_index_column": 5773
                },
                {
                  "RIAGENDR": 0,
                  "RIDAGEYR": 36,
                  "DMDMARTL": 1,
                  "log_drinks": 1.08,
                  "_deepnote_index_column": 5775
                },
                {
                  "RIAGENDR": 1,
                  "RIDAGEYR": 61,
                  "DMDMARTL": 0,
                  "log_drinks": 1.08,
                  "_deepnote_index_column": 5776
                },
                {
                  "RIAGENDR": 1,
                  "RIDAGEYR": 80,
                  "DMDMARTL": 0,
                  "log_drinks": 0,
                  "_deepnote_index_column": 5777
                },
                {
                  "RIAGENDR": 1,
                  "RIDAGEYR": 69,
                  "DMDMARTL": 1,
                  "log_drinks": 2.48,
                  "_deepnote_index_column": 5780
                },
                {
                  "RIAGENDR": 0,
                  "RIDAGEYR": 47,
                  "DMDMARTL": 0,
                  "log_drinks": 1.08,
                  "_deepnote_index_column": 5782
                },
                {
                  "RIAGENDR": 0,
                  "RIDAGEYR": 72,
                  "DMDMARTL": 1,
                  "log_drinks": 0,
                  "_deepnote_index_column": 5784
                },
                {
                  "RIAGENDR": 0,
                  "RIDAGEYR": 46,
                  "DMDMARTL": 0,
                  "log_drinks": 0,
                  "_deepnote_index_column": 5786
                },
                {
                  "RIAGENDR": 0,
                  "RIDAGEYR": 66,
                  "DMDMARTL": 1,
                  "log_drinks": 0.7,
                  "_deepnote_index_column": 5791
                },
                {
                  "RIAGENDR": 0,
                  "RIDAGEYR": 31,
                  "DMDMARTL": 1,
                  "log_drinks": 2.26,
                  "_deepnote_index_column": 5794
                },
                {
                  "RIAGENDR": 1,
                  "RIDAGEYR": 64,
                  "DMDMARTL": 0,
                  "log_drinks": 1.72,
                  "_deepnote_index_column": 5796
                },
                {
                  "RIAGENDR": 0,
                  "RIDAGEYR": 52,
                  "DMDMARTL": 0,
                  "log_drinks": 0.95,
                  "_deepnote_index_column": 5798
                },
                {
                  "RIAGENDR": 0,
                  "RIDAGEYR": 61,
                  "DMDMARTL": 1,
                  "log_drinks": 0.3,
                  "_deepnote_index_column": 5799
                },
                {
                  "RIAGENDR": 0,
                  "RIDAGEYR": 80,
                  "DMDMARTL": 1,
                  "log_drinks": 0.95,
                  "_deepnote_index_column": 5801
                },
                {
                  "RIAGENDR": 1,
                  "RIDAGEYR": 59,
                  "DMDMARTL": 0,
                  "log_drinks": 2.56,
                  "_deepnote_index_column": 5802
                },
                {
                  "RIAGENDR": 1,
                  "RIDAGEYR": 44,
                  "DMDMARTL": 0,
                  "log_drinks": 0.3,
                  "_deepnote_index_column": 5804
                },
                {
                  "RIAGENDR": 1,
                  "RIDAGEYR": 67,
                  "DMDMARTL": 0,
                  "log_drinks": 2.02,
                  "_deepnote_index_column": 5806
                },
                {
                  "RIAGENDR": 0,
                  "RIDAGEYR": 41,
                  "DMDMARTL": 0,
                  "log_drinks": 1.08,
                  "_deepnote_index_column": 5808
                },
                {
                  "RIAGENDR": 1,
                  "RIDAGEYR": 55,
                  "DMDMARTL": 0,
                  "log_drinks": 0.95,
                  "_deepnote_index_column": 5811
                },
                {
                  "RIAGENDR": 0,
                  "RIDAGEYR": 58,
                  "DMDMARTL": 0,
                  "log_drinks": 1.72,
                  "_deepnote_index_column": 5813
                },
                {
                  "RIAGENDR": 0,
                  "RIDAGEYR": 52,
                  "DMDMARTL": 0,
                  "log_drinks": 1.48,
                  "_deepnote_index_column": 5814
                },
                {
                  "RIAGENDR": 0,
                  "RIDAGEYR": 68,
                  "DMDMARTL": 0,
                  "log_drinks": 0,
                  "_deepnote_index_column": 5816
                },
                {
                  "RIAGENDR": 0,
                  "RIDAGEYR": 38,
                  "DMDMARTL": 0,
                  "log_drinks": 0.3,
                  "_deepnote_index_column": 5817
                },
                {
                  "RIAGENDR": 1,
                  "RIDAGEYR": 67,
                  "DMDMARTL": 0,
                  "log_drinks": 1.48,
                  "_deepnote_index_column": 5818
                },
                {
                  "RIAGENDR": 1,
                  "RIDAGEYR": 63,
                  "DMDMARTL": 0,
                  "log_drinks": 1.72,
                  "_deepnote_index_column": 5820
                },
                {
                  "RIAGENDR": 0,
                  "RIDAGEYR": 48,
                  "DMDMARTL": 0,
                  "log_drinks": 0,
                  "_deepnote_index_column": 5821
                },
                {
                  "RIAGENDR": 0,
                  "RIDAGEYR": 50,
                  "DMDMARTL": 0,
                  "log_drinks": 0.3,
                  "_deepnote_index_column": 5823
                },
                {
                  "RIAGENDR": 1,
                  "RIDAGEYR": 47,
                  "DMDMARTL": 0,
                  "log_drinks": 2.48,
                  "_deepnote_index_column": 5824
                },
                {
                  "RIAGENDR": 0,
                  "RIDAGEYR": 48,
                  "DMDMARTL": 0,
                  "log_drinks": 0.95,
                  "_deepnote_index_column": 5825
                },
                {
                  "RIAGENDR": 0,
                  "RIDAGEYR": 42,
                  "DMDMARTL": 0,
                  "log_drinks": 0.7,
                  "_deepnote_index_column": 5826
                },
                {
                  "RIAGENDR": 1,
                  "RIDAGEYR": 62,
                  "DMDMARTL": 1,
                  "log_drinks": 0,
                  "_deepnote_index_column": 5830
                },
                {
                  "RIAGENDR": 0,
                  "RIDAGEYR": 40,
                  "DMDMARTL": 0,
                  "log_drinks": 2.02,
                  "_deepnote_index_column": 5831
                },
                {
                  "RIAGENDR": 0,
                  "RIDAGEYR": 74,
                  "DMDMARTL": 0,
                  "log_drinks": 0.7,
                  "_deepnote_index_column": 5833
                },
                {
                  "RIAGENDR": 1,
                  "RIDAGEYR": 66,
                  "DMDMARTL": 0,
                  "log_drinks": 0,
                  "_deepnote_index_column": 5837
                },
                {
                  "RIAGENDR": 1,
                  "RIDAGEYR": 73,
                  "DMDMARTL": 0,
                  "log_drinks": 1.48,
                  "_deepnote_index_column": 5839
                },
                {
                  "RIAGENDR": 1,
                  "RIDAGEYR": 76,
                  "DMDMARTL": 0,
                  "log_drinks": 0,
                  "_deepnote_index_column": 5840
                },
                {
                  "RIAGENDR": 1,
                  "RIDAGEYR": 50,
                  "DMDMARTL": 0,
                  "log_drinks": 0.7,
                  "_deepnote_index_column": 5841
                },
                {
                  "RIAGENDR": 1,
                  "RIDAGEYR": 68,
                  "DMDMARTL": 0,
                  "log_drinks": 0,
                  "_deepnote_index_column": 5843
                },
                {
                  "RIAGENDR": 0,
                  "RIDAGEYR": 55,
                  "DMDMARTL": 1,
                  "log_drinks": 2.02,
                  "_deepnote_index_column": 5846
                },
                {
                  "RIAGENDR": 1,
                  "RIDAGEYR": 64,
                  "DMDMARTL": 0,
                  "log_drinks": 2.48,
                  "_deepnote_index_column": 5848
                },
                {
                  "RIAGENDR": 0,
                  "RIDAGEYR": 59,
                  "DMDMARTL": 1,
                  "log_drinks": 1.48,
                  "_deepnote_index_column": 5849
                },
                {
                  "RIAGENDR": 1,
                  "RIDAGEYR": 63,
                  "DMDMARTL": 1,
                  "log_drinks": 2.02,
                  "_deepnote_index_column": 5852
                },
                {
                  "RIAGENDR": 1,
                  "RIDAGEYR": 55,
                  "DMDMARTL": 0,
                  "log_drinks": 2.48,
                  "_deepnote_index_column": 5857
                },
                {
                  "RIAGENDR": 0,
                  "RIDAGEYR": 66,
                  "DMDMARTL": 1,
                  "log_drinks": 0,
                  "_deepnote_index_column": 5858
                },
                {
                  "RIAGENDR": 1,
                  "RIDAGEYR": 40,
                  "DMDMARTL": 0,
                  "log_drinks": 2.26,
                  "_deepnote_index_column": 5859
                },
                {
                  "RIAGENDR": 1,
                  "RIDAGEYR": 67,
                  "DMDMARTL": 0,
                  "log_drinks": 1.48,
                  "_deepnote_index_column": 5860
                },
                {
                  "RIAGENDR": 1,
                  "RIDAGEYR": 48,
                  "DMDMARTL": 0,
                  "log_drinks": 1.72,
                  "_deepnote_index_column": 5861
                },
                {
                  "RIAGENDR": 1,
                  "RIDAGEYR": 62,
                  "DMDMARTL": 0,
                  "log_drinks": 1.48,
                  "_deepnote_index_column": 5863
                },
                {
                  "RIAGENDR": 1,
                  "RIDAGEYR": 39,
                  "DMDMARTL": 0,
                  "log_drinks": 0,
                  "_deepnote_index_column": 5864
                },
                {
                  "RIAGENDR": 0,
                  "RIDAGEYR": 25,
                  "DMDMARTL": 0,
                  "log_drinks": 0,
                  "_deepnote_index_column": 5868
                },
                {
                  "RIAGENDR": 0,
                  "RIDAGEYR": 40,
                  "DMDMARTL": 0,
                  "log_drinks": 2.26,
                  "_deepnote_index_column": 5869
                },
                {
                  "RIAGENDR": 0,
                  "RIDAGEYR": 61,
                  "DMDMARTL": 0,
                  "log_drinks": 0.7,
                  "_deepnote_index_column": 5874
                },
                {
                  "RIAGENDR": 1,
                  "RIDAGEYR": 52,
                  "DMDMARTL": 0,
                  "log_drinks": 0,
                  "_deepnote_index_column": 5875
                },
                {
                  "RIAGENDR": 0,
                  "RIDAGEYR": 70,
                  "DMDMARTL": 1,
                  "log_drinks": 0,
                  "_deepnote_index_column": 5876
                },
                {
                  "RIAGENDR": 0,
                  "RIDAGEYR": 54,
                  "DMDMARTL": 0,
                  "log_drinks": 0,
                  "_deepnote_index_column": 5878
                },
                {
                  "RIAGENDR": 0,
                  "RIDAGEYR": 35,
                  "DMDMARTL": 0,
                  "log_drinks": 0,
                  "_deepnote_index_column": 5879
                },
                {
                  "RIAGENDR": 1,
                  "RIDAGEYR": 24,
                  "DMDMARTL": 0,
                  "log_drinks": 0.3,
                  "_deepnote_index_column": 5881
                },
                {
                  "RIAGENDR": 0,
                  "RIDAGEYR": 54,
                  "DMDMARTL": 0,
                  "log_drinks": 0,
                  "_deepnote_index_column": 5882
                },
                {
                  "RIAGENDR": 1,
                  "RIDAGEYR": 50,
                  "DMDMARTL": 0,
                  "log_drinks": 0.3,
                  "_deepnote_index_column": 5887
                },
                {
                  "RIAGENDR": 0,
                  "RIDAGEYR": 52,
                  "DMDMARTL": 0,
                  "log_drinks": 2.02,
                  "_deepnote_index_column": 5889
                },
                {
                  "RIAGENDR": 0,
                  "RIDAGEYR": 53,
                  "DMDMARTL": 0,
                  "log_drinks": 2.56,
                  "_deepnote_index_column": 5892
                },
                {
                  "RIAGENDR": 0,
                  "RIDAGEYR": 49,
                  "DMDMARTL": 0,
                  "log_drinks": 0.3,
                  "_deepnote_index_column": 5893
                },
                {
                  "RIAGENDR": 1,
                  "RIDAGEYR": 30,
                  "DMDMARTL": 0,
                  "log_drinks": 2.02,
                  "_deepnote_index_column": 5894
                },
                {
                  "RIAGENDR": 0,
                  "RIDAGEYR": 41,
                  "DMDMARTL": 0,
                  "log_drinks": 0.95,
                  "_deepnote_index_column": 5899
                },
                {
                  "RIAGENDR": 1,
                  "RIDAGEYR": 60,
                  "DMDMARTL": 0,
                  "log_drinks": 2.26,
                  "_deepnote_index_column": 5901
                },
                {
                  "RIAGENDR": 1,
                  "RIDAGEYR": 80,
                  "DMDMARTL": 0,
                  "log_drinks": 2.26,
                  "_deepnote_index_column": 5902
                },
                {
                  "RIAGENDR": 1,
                  "RIDAGEYR": 52,
                  "DMDMARTL": 0,
                  "log_drinks": 2.02,
                  "_deepnote_index_column": 5903
                },
                {
                  "RIAGENDR": 0,
                  "RIDAGEYR": 30,
                  "DMDMARTL": 0,
                  "log_drinks": 2.02,
                  "_deepnote_index_column": 5904
                },
                {
                  "RIAGENDR": 1,
                  "RIDAGEYR": 33,
                  "DMDMARTL": 0,
                  "log_drinks": 0.7,
                  "_deepnote_index_column": 5907
                },
                {
                  "RIAGENDR": 1,
                  "RIDAGEYR": 40,
                  "DMDMARTL": 0,
                  "log_drinks": 0.7,
                  "_deepnote_index_column": 5908
                },
                {
                  "RIAGENDR": 1,
                  "RIDAGEYR": 35,
                  "DMDMARTL": 0,
                  "log_drinks": 2.26,
                  "_deepnote_index_column": 5909
                },
                {
                  "RIAGENDR": 1,
                  "RIDAGEYR": 59,
                  "DMDMARTL": 1,
                  "log_drinks": 1.72,
                  "_deepnote_index_column": 5910
                },
                {
                  "RIAGENDR": 0,
                  "RIDAGEYR": 54,
                  "DMDMARTL": 1,
                  "log_drinks": 1.48,
                  "_deepnote_index_column": 5911
                },
                {
                  "RIAGENDR": 0,
                  "RIDAGEYR": 57,
                  "DMDMARTL": 1,
                  "log_drinks": 2.56,
                  "_deepnote_index_column": 5916
                },
                {
                  "RIAGENDR": 0,
                  "RIDAGEYR": 75,
                  "DMDMARTL": 0,
                  "log_drinks": 0,
                  "_deepnote_index_column": 5917
                },
                {
                  "RIAGENDR": 0,
                  "RIDAGEYR": 32,
                  "DMDMARTL": 0,
                  "log_drinks": 1.48,
                  "_deepnote_index_column": 5918
                },
                {
                  "RIAGENDR": 0,
                  "RIDAGEYR": 61,
                  "DMDMARTL": 0,
                  "log_drinks": 0.3,
                  "_deepnote_index_column": 5919
                },
                {
                  "RIAGENDR": 1,
                  "RIDAGEYR": 35,
                  "DMDMARTL": 0,
                  "log_drinks": 1.72,
                  "_deepnote_index_column": 5920
                },
                {
                  "RIAGENDR": 0,
                  "RIDAGEYR": 32,
                  "DMDMARTL": 0,
                  "log_drinks": 0.7,
                  "_deepnote_index_column": 5921
                },
                {
                  "RIAGENDR": 0,
                  "RIDAGEYR": 39,
                  "DMDMARTL": 0,
                  "log_drinks": 2.26,
                  "_deepnote_index_column": 5922
                },
                {
                  "RIAGENDR": 0,
                  "RIDAGEYR": 64,
                  "DMDMARTL": 0,
                  "log_drinks": 0.7,
                  "_deepnote_index_column": 5923
                },
                {
                  "RIAGENDR": 0,
                  "RIDAGEYR": 27,
                  "DMDMARTL": 0,
                  "log_drinks": 1.48,
                  "_deepnote_index_column": 5927
                },
                {
                  "RIAGENDR": 1,
                  "RIDAGEYR": 71,
                  "DMDMARTL": 0,
                  "log_drinks": 0.95,
                  "_deepnote_index_column": 5932
                },
                {
                  "RIAGENDR": 0,
                  "RIDAGEYR": 30,
                  "DMDMARTL": 1,
                  "log_drinks": 2.26,
                  "_deepnote_index_column": 5935
                },
                {
                  "RIAGENDR": 1,
                  "RIDAGEYR": 70,
                  "DMDMARTL": 0,
                  "log_drinks": 0,
                  "_deepnote_index_column": 5936
                },
                {
                  "RIAGENDR": 1,
                  "RIDAGEYR": 54,
                  "DMDMARTL": 0,
                  "log_drinks": 0,
                  "_deepnote_index_column": 5937
                },
                {
                  "RIAGENDR": 0,
                  "RIDAGEYR": 64,
                  "DMDMARTL": 0,
                  "log_drinks": 0,
                  "_deepnote_index_column": 5938
                },
                {
                  "RIAGENDR": 0,
                  "RIDAGEYR": 39,
                  "DMDMARTL": 1,
                  "log_drinks": 2.26,
                  "_deepnote_index_column": 5942
                },
                {
                  "RIAGENDR": 0,
                  "RIDAGEYR": 55,
                  "DMDMARTL": 0,
                  "log_drinks": 1.08,
                  "_deepnote_index_column": 5946
                },
                {
                  "RIAGENDR": 0,
                  "RIDAGEYR": 54,
                  "DMDMARTL": 0,
                  "log_drinks": 0,
                  "_deepnote_index_column": 5947
                },
                {
                  "RIAGENDR": 1,
                  "RIDAGEYR": 59,
                  "DMDMARTL": 0,
                  "log_drinks": 0.7,
                  "_deepnote_index_column": 5948
                },
                {
                  "RIAGENDR": 0,
                  "RIDAGEYR": 59,
                  "DMDMARTL": 1,
                  "log_drinks": 1.72,
                  "_deepnote_index_column": 5949
                },
                {
                  "RIAGENDR": 1,
                  "RIDAGEYR": 60,
                  "DMDMARTL": 0,
                  "log_drinks": 2.02,
                  "_deepnote_index_column": 5950
                },
                {
                  "RIAGENDR": 0,
                  "RIDAGEYR": 60,
                  "DMDMARTL": 0,
                  "log_drinks": 0.3,
                  "_deepnote_index_column": 5952
                },
                {
                  "RIAGENDR": 1,
                  "RIDAGEYR": 64,
                  "DMDMARTL": 0,
                  "log_drinks": 2.56,
                  "_deepnote_index_column": 5954
                },
                {
                  "RIAGENDR": 0,
                  "RIDAGEYR": 34,
                  "DMDMARTL": 0,
                  "log_drinks": 0.95,
                  "_deepnote_index_column": 5955
                },
                {
                  "RIAGENDR": 1,
                  "RIDAGEYR": 46,
                  "DMDMARTL": 1,
                  "log_drinks": 0,
                  "_deepnote_index_column": 5957
                },
                {
                  "RIAGENDR": 0,
                  "RIDAGEYR": 45,
                  "DMDMARTL": 0,
                  "log_drinks": 1.48,
                  "_deepnote_index_column": 5958
                },
                {
                  "RIAGENDR": 0,
                  "RIDAGEYR": 55,
                  "DMDMARTL": 1,
                  "log_drinks": 0.7,
                  "_deepnote_index_column": 5961
                },
                {
                  "RIAGENDR": 0,
                  "RIDAGEYR": 61,
                  "DMDMARTL": 0,
                  "log_drinks": 1.48,
                  "_deepnote_index_column": 5967
                },
                {
                  "RIAGENDR": 1,
                  "RIDAGEYR": 59,
                  "DMDMARTL": 0,
                  "log_drinks": 0.95,
                  "_deepnote_index_column": 5969
                },
                {
                  "RIAGENDR": 0,
                  "RIDAGEYR": 36,
                  "DMDMARTL": 0,
                  "log_drinks": 1.48,
                  "_deepnote_index_column": 5970
                },
                {
                  "RIAGENDR": 1,
                  "RIDAGEYR": 44,
                  "DMDMARTL": 0,
                  "log_drinks": 1.08,
                  "_deepnote_index_column": 5972
                },
                {
                  "RIAGENDR": 1,
                  "RIDAGEYR": 69,
                  "DMDMARTL": 0,
                  "log_drinks": 1.48,
                  "_deepnote_index_column": 5973
                },
                {
                  "RIAGENDR": 1,
                  "RIDAGEYR": 69,
                  "DMDMARTL": 1,
                  "log_drinks": 1.08,
                  "_deepnote_index_column": 5976
                },
                {
                  "RIAGENDR": 0,
                  "RIDAGEYR": 79,
                  "DMDMARTL": 0,
                  "log_drinks": 0.7,
                  "_deepnote_index_column": 5979
                },
                {
                  "RIAGENDR": 1,
                  "RIDAGEYR": 80,
                  "DMDMARTL": 1,
                  "log_drinks": 0,
                  "_deepnote_index_column": 5980
                }
              ],
              "rows_bottom": [
                {
                  "RIAGENDR": 1,
                  "RIDAGEYR": 39,
                  "DMDMARTL": 0,
                  "log_drinks": 0.7,
                  "_deepnote_index_column": 11044
                },
                {
                  "RIAGENDR": 0,
                  "RIDAGEYR": 70,
                  "DMDMARTL": 0,
                  "log_drinks": 0.95,
                  "_deepnote_index_column": 11046
                },
                {
                  "RIAGENDR": 1,
                  "RIDAGEYR": 34,
                  "DMDMARTL": 0,
                  "log_drinks": 2.02,
                  "_deepnote_index_column": 11048
                },
                {
                  "RIAGENDR": 0,
                  "RIDAGEYR": 57,
                  "DMDMARTL": 0,
                  "log_drinks": 2.48,
                  "_deepnote_index_column": 11049
                },
                {
                  "RIAGENDR": 0,
                  "RIDAGEYR": 80,
                  "DMDMARTL": 1,
                  "log_drinks": 0,
                  "_deepnote_index_column": 11051
                },
                {
                  "RIAGENDR": 1,
                  "RIDAGEYR": 64,
                  "DMDMARTL": 1,
                  "log_drinks": 0,
                  "_deepnote_index_column": 11052
                },
                {
                  "RIAGENDR": 1,
                  "RIDAGEYR": 33,
                  "DMDMARTL": 0,
                  "log_drinks": 0,
                  "_deepnote_index_column": 11053
                },
                {
                  "RIAGENDR": 1,
                  "RIDAGEYR": 79,
                  "DMDMARTL": 1,
                  "log_drinks": 0,
                  "_deepnote_index_column": 11054
                },
                {
                  "RIAGENDR": 0,
                  "RIDAGEYR": 56,
                  "DMDMARTL": 1,
                  "log_drinks": 0.7,
                  "_deepnote_index_column": 11055
                },
                {
                  "RIAGENDR": 0,
                  "RIDAGEYR": 63,
                  "DMDMARTL": 0,
                  "log_drinks": 0.7,
                  "_deepnote_index_column": 11056
                },
                {
                  "RIAGENDR": 0,
                  "RIDAGEYR": 70,
                  "DMDMARTL": 1,
                  "log_drinks": 0.3,
                  "_deepnote_index_column": 11057
                },
                {
                  "RIAGENDR": 0,
                  "RIDAGEYR": 61,
                  "DMDMARTL": 0,
                  "log_drinks": 0.95,
                  "_deepnote_index_column": 11058
                },
                {
                  "RIAGENDR": 1,
                  "RIDAGEYR": 48,
                  "DMDMARTL": 0,
                  "log_drinks": 1.48,
                  "_deepnote_index_column": 11059
                },
                {
                  "RIAGENDR": 1,
                  "RIDAGEYR": 46,
                  "DMDMARTL": 0,
                  "log_drinks": 0.3,
                  "_deepnote_index_column": 11061
                },
                {
                  "RIAGENDR": 1,
                  "RIDAGEYR": 66,
                  "DMDMARTL": 1,
                  "log_drinks": 0,
                  "_deepnote_index_column": 11062
                },
                {
                  "RIAGENDR": 1,
                  "RIDAGEYR": 56,
                  "DMDMARTL": 0,
                  "log_drinks": 2.26,
                  "_deepnote_index_column": 11063
                },
                {
                  "RIAGENDR": 1,
                  "RIDAGEYR": 33,
                  "DMDMARTL": 0,
                  "log_drinks": 2.26,
                  "_deepnote_index_column": 11064
                },
                {
                  "RIAGENDR": 1,
                  "RIDAGEYR": 46,
                  "DMDMARTL": 0,
                  "log_drinks": 2.02,
                  "_deepnote_index_column": 11065
                },
                {
                  "RIAGENDR": 1,
                  "RIDAGEYR": 80,
                  "DMDMARTL": 0,
                  "log_drinks": 2.48,
                  "_deepnote_index_column": 11070
                },
                {
                  "RIAGENDR": 0,
                  "RIDAGEYR": 40,
                  "DMDMARTL": 0,
                  "log_drinks": 0,
                  "_deepnote_index_column": 11071
                },
                {
                  "RIAGENDR": 1,
                  "RIDAGEYR": 64,
                  "DMDMARTL": 0,
                  "log_drinks": 0,
                  "_deepnote_index_column": 11073
                },
                {
                  "RIAGENDR": 1,
                  "RIDAGEYR": 34,
                  "DMDMARTL": 0,
                  "log_drinks": 2.26,
                  "_deepnote_index_column": 11075
                },
                {
                  "RIAGENDR": 0,
                  "RIDAGEYR": 44,
                  "DMDMARTL": 0,
                  "log_drinks": 1.48,
                  "_deepnote_index_column": 11076
                },
                {
                  "RIAGENDR": 1,
                  "RIDAGEYR": 53,
                  "DMDMARTL": 0,
                  "log_drinks": 0.3,
                  "_deepnote_index_column": 11077
                },
                {
                  "RIAGENDR": 1,
                  "RIDAGEYR": 57,
                  "DMDMARTL": 0,
                  "log_drinks": 1.72,
                  "_deepnote_index_column": 11079
                },
                {
                  "RIAGENDR": 0,
                  "RIDAGEYR": 71,
                  "DMDMARTL": 0,
                  "log_drinks": 2.56,
                  "_deepnote_index_column": 11081
                },
                {
                  "RIAGENDR": 0,
                  "RIDAGEYR": 68,
                  "DMDMARTL": 0,
                  "log_drinks": 1.72,
                  "_deepnote_index_column": 11085
                },
                {
                  "RIAGENDR": 0,
                  "RIDAGEYR": 59,
                  "DMDMARTL": 0,
                  "log_drinks": 0,
                  "_deepnote_index_column": 11088
                },
                {
                  "RIAGENDR": 0,
                  "RIDAGEYR": 44,
                  "DMDMARTL": 1,
                  "log_drinks": 1.72,
                  "_deepnote_index_column": 11091
                },
                {
                  "RIAGENDR": 1,
                  "RIDAGEYR": 50,
                  "DMDMARTL": 0,
                  "log_drinks": 1.72,
                  "_deepnote_index_column": 11092
                },
                {
                  "RIAGENDR": 1,
                  "RIDAGEYR": 26,
                  "DMDMARTL": 0,
                  "log_drinks": 2.02,
                  "_deepnote_index_column": 11098
                },
                {
                  "RIAGENDR": 1,
                  "RIDAGEYR": 60,
                  "DMDMARTL": 1,
                  "log_drinks": 0,
                  "_deepnote_index_column": 11101
                },
                {
                  "RIAGENDR": 1,
                  "RIDAGEYR": 80,
                  "DMDMARTL": 0,
                  "log_drinks": 0,
                  "_deepnote_index_column": 11102
                },
                {
                  "RIAGENDR": 1,
                  "RIDAGEYR": 80,
                  "DMDMARTL": 0,
                  "log_drinks": 0,
                  "_deepnote_index_column": 11103
                },
                {
                  "RIAGENDR": 1,
                  "RIDAGEYR": 65,
                  "DMDMARTL": 0,
                  "log_drinks": 2.26,
                  "_deepnote_index_column": 11105
                },
                {
                  "RIAGENDR": 1,
                  "RIDAGEYR": 34,
                  "DMDMARTL": 0,
                  "log_drinks": 0.3,
                  "_deepnote_index_column": 11106
                },
                {
                  "RIAGENDR": 0,
                  "RIDAGEYR": 51,
                  "DMDMARTL": 1,
                  "log_drinks": 0,
                  "_deepnote_index_column": 11108
                },
                {
                  "RIAGENDR": 0,
                  "RIDAGEYR": 64,
                  "DMDMARTL": 0,
                  "log_drinks": 0.3,
                  "_deepnote_index_column": 11109
                },
                {
                  "RIAGENDR": 0,
                  "RIDAGEYR": 53,
                  "DMDMARTL": 0,
                  "log_drinks": 0.7,
                  "_deepnote_index_column": 11110
                },
                {
                  "RIAGENDR": 1,
                  "RIDAGEYR": 24,
                  "DMDMARTL": 0,
                  "log_drinks": 1.48,
                  "_deepnote_index_column": 11111
                },
                {
                  "RIAGENDR": 0,
                  "RIDAGEYR": 55,
                  "DMDMARTL": 1,
                  "log_drinks": 0.7,
                  "_deepnote_index_column": 11112
                },
                {
                  "RIAGENDR": 1,
                  "RIDAGEYR": 67,
                  "DMDMARTL": 0,
                  "log_drinks": 2.26,
                  "_deepnote_index_column": 11113
                },
                {
                  "RIAGENDR": 1,
                  "RIDAGEYR": 75,
                  "DMDMARTL": 0,
                  "log_drinks": 0,
                  "_deepnote_index_column": 11114
                },
                {
                  "RIAGENDR": 0,
                  "RIDAGEYR": 61,
                  "DMDMARTL": 1,
                  "log_drinks": 0.3,
                  "_deepnote_index_column": 11115
                },
                {
                  "RIAGENDR": 1,
                  "RIDAGEYR": 75,
                  "DMDMARTL": 0,
                  "log_drinks": 0,
                  "_deepnote_index_column": 11116
                },
                {
                  "RIAGENDR": 0,
                  "RIDAGEYR": 52,
                  "DMDMARTL": 0,
                  "log_drinks": 0.7,
                  "_deepnote_index_column": 11117
                },
                {
                  "RIAGENDR": 1,
                  "RIDAGEYR": 27,
                  "DMDMARTL": 0,
                  "log_drinks": 0.95,
                  "_deepnote_index_column": 11119
                },
                {
                  "RIAGENDR": 1,
                  "RIDAGEYR": 20,
                  "DMDMARTL": 0,
                  "log_drinks": 1.08,
                  "_deepnote_index_column": 11123
                },
                {
                  "RIAGENDR": 1,
                  "RIDAGEYR": 59,
                  "DMDMARTL": 0,
                  "log_drinks": 2.56,
                  "_deepnote_index_column": 11124
                },
                {
                  "RIAGENDR": 0,
                  "RIDAGEYR": 63,
                  "DMDMARTL": 1,
                  "log_drinks": 0,
                  "_deepnote_index_column": 11127
                },
                {
                  "RIAGENDR": 1,
                  "RIDAGEYR": 43,
                  "DMDMARTL": 1,
                  "log_drinks": 0.7,
                  "_deepnote_index_column": 11128
                },
                {
                  "RIAGENDR": 1,
                  "RIDAGEYR": 62,
                  "DMDMARTL": 0,
                  "log_drinks": 2.48,
                  "_deepnote_index_column": 11129
                },
                {
                  "RIAGENDR": 1,
                  "RIDAGEYR": 54,
                  "DMDMARTL": 0,
                  "log_drinks": 0.95,
                  "_deepnote_index_column": 11131
                },
                {
                  "RIAGENDR": 1,
                  "RIDAGEYR": 70,
                  "DMDMARTL": 1,
                  "log_drinks": 0,
                  "_deepnote_index_column": 11133
                },
                {
                  "RIAGENDR": 0,
                  "RIDAGEYR": 50,
                  "DMDMARTL": 0,
                  "log_drinks": 0.7,
                  "_deepnote_index_column": 11135
                },
                {
                  "RIAGENDR": 1,
                  "RIDAGEYR": 45,
                  "DMDMARTL": 0,
                  "log_drinks": 0.7,
                  "_deepnote_index_column": 11137
                },
                {
                  "RIAGENDR": 0,
                  "RIDAGEYR": 57,
                  "DMDMARTL": 1,
                  "log_drinks": 1.08,
                  "_deepnote_index_column": 11139
                },
                {
                  "RIAGENDR": 1,
                  "RIDAGEYR": 50,
                  "DMDMARTL": 0,
                  "log_drinks": 1.08,
                  "_deepnote_index_column": 11140
                },
                {
                  "RIAGENDR": 1,
                  "RIDAGEYR": 50,
                  "DMDMARTL": 0,
                  "log_drinks": 1.48,
                  "_deepnote_index_column": 11141
                },
                {
                  "RIAGENDR": 1,
                  "RIDAGEYR": 50,
                  "DMDMARTL": 0,
                  "log_drinks": 1.48,
                  "_deepnote_index_column": 11142
                },
                {
                  "RIAGENDR": 0,
                  "RIDAGEYR": 46,
                  "DMDMARTL": 0,
                  "log_drinks": 0.3,
                  "_deepnote_index_column": 11144
                },
                {
                  "RIAGENDR": 0,
                  "RIDAGEYR": 47,
                  "DMDMARTL": 0,
                  "log_drinks": 2.26,
                  "_deepnote_index_column": 11145
                },
                {
                  "RIAGENDR": 1,
                  "RIDAGEYR": 62,
                  "DMDMARTL": 0,
                  "log_drinks": 2.48,
                  "_deepnote_index_column": 11148
                },
                {
                  "RIAGENDR": 0,
                  "RIDAGEYR": 46,
                  "DMDMARTL": 0,
                  "log_drinks": 0,
                  "_deepnote_index_column": 11149
                },
                {
                  "RIAGENDR": 1,
                  "RIDAGEYR": 49,
                  "DMDMARTL": 0,
                  "log_drinks": 0.7,
                  "_deepnote_index_column": 11150
                },
                {
                  "RIAGENDR": 0,
                  "RIDAGEYR": 60,
                  "DMDMARTL": 0,
                  "log_drinks": 1.72,
                  "_deepnote_index_column": 11151
                },
                {
                  "RIAGENDR": 1,
                  "RIDAGEYR": 56,
                  "DMDMARTL": 1,
                  "log_drinks": 0.3,
                  "_deepnote_index_column": 11152
                },
                {
                  "RIAGENDR": 1,
                  "RIDAGEYR": 35,
                  "DMDMARTL": 0,
                  "log_drinks": 2.26,
                  "_deepnote_index_column": 11155
                },
                {
                  "RIAGENDR": 0,
                  "RIDAGEYR": 60,
                  "DMDMARTL": 1,
                  "log_drinks": 1.72,
                  "_deepnote_index_column": 11156
                },
                {
                  "RIAGENDR": 0,
                  "RIDAGEYR": 67,
                  "DMDMARTL": 0,
                  "log_drinks": 0,
                  "_deepnote_index_column": 11157
                },
                {
                  "RIAGENDR": 0,
                  "RIDAGEYR": 54,
                  "DMDMARTL": 0,
                  "log_drinks": 1.72,
                  "_deepnote_index_column": 11161
                },
                {
                  "RIAGENDR": 0,
                  "RIDAGEYR": 46,
                  "DMDMARTL": 0,
                  "log_drinks": 0,
                  "_deepnote_index_column": 11162
                },
                {
                  "RIAGENDR": 1,
                  "RIDAGEYR": 61,
                  "DMDMARTL": 0,
                  "log_drinks": 1.72,
                  "_deepnote_index_column": 11164
                },
                {
                  "RIAGENDR": 1,
                  "RIDAGEYR": 47,
                  "DMDMARTL": 0,
                  "log_drinks": 0.95,
                  "_deepnote_index_column": 11165
                },
                {
                  "RIAGENDR": 1,
                  "RIDAGEYR": 61,
                  "DMDMARTL": 0,
                  "log_drinks": 1.48,
                  "_deepnote_index_column": 11167
                },
                {
                  "RIAGENDR": 0,
                  "RIDAGEYR": 30,
                  "DMDMARTL": 0,
                  "log_drinks": 0,
                  "_deepnote_index_column": 11168
                },
                {
                  "RIAGENDR": 0,
                  "RIDAGEYR": 57,
                  "DMDMARTL": 0,
                  "log_drinks": 0,
                  "_deepnote_index_column": 11171
                },
                {
                  "RIAGENDR": 1,
                  "RIDAGEYR": 65,
                  "DMDMARTL": 1,
                  "log_drinks": 0,
                  "_deepnote_index_column": 11173
                },
                {
                  "RIAGENDR": 1,
                  "RIDAGEYR": 79,
                  "DMDMARTL": 0,
                  "log_drinks": 0,
                  "_deepnote_index_column": 11177
                },
                {
                  "RIAGENDR": 1,
                  "RIDAGEYR": 62,
                  "DMDMARTL": 0,
                  "log_drinks": 0.3,
                  "_deepnote_index_column": 11178
                },
                {
                  "RIAGENDR": 0,
                  "RIDAGEYR": 41,
                  "DMDMARTL": 0,
                  "log_drinks": 0.3,
                  "_deepnote_index_column": 11180
                },
                {
                  "RIAGENDR": 1,
                  "RIDAGEYR": 80,
                  "DMDMARTL": 1,
                  "log_drinks": 2.56,
                  "_deepnote_index_column": 11181
                },
                {
                  "RIAGENDR": 0,
                  "RIDAGEYR": 48,
                  "DMDMARTL": 0,
                  "log_drinks": 1.08,
                  "_deepnote_index_column": 11183
                },
                {
                  "RIAGENDR": 0,
                  "RIDAGEYR": 57,
                  "DMDMARTL": 0,
                  "log_drinks": 0.95,
                  "_deepnote_index_column": 11184
                },
                {
                  "RIAGENDR": 0,
                  "RIDAGEYR": 55,
                  "DMDMARTL": 1,
                  "log_drinks": 1.48,
                  "_deepnote_index_column": 11186
                },
                {
                  "RIAGENDR": 0,
                  "RIDAGEYR": 58,
                  "DMDMARTL": 1,
                  "log_drinks": 0,
                  "_deepnote_index_column": 11187
                },
                {
                  "RIAGENDR": 1,
                  "RIDAGEYR": 29,
                  "DMDMARTL": 0,
                  "log_drinks": 2.02,
                  "_deepnote_index_column": 11190
                },
                {
                  "RIAGENDR": 1,
                  "RIDAGEYR": 40,
                  "DMDMARTL": 0,
                  "log_drinks": 1.48,
                  "_deepnote_index_column": 11194
                },
                {
                  "RIAGENDR": 1,
                  "RIDAGEYR": 41,
                  "DMDMARTL": 1,
                  "log_drinks": 1.72,
                  "_deepnote_index_column": 11196
                },
                {
                  "RIAGENDR": 0,
                  "RIDAGEYR": 61,
                  "DMDMARTL": 1,
                  "log_drinks": 2.02,
                  "_deepnote_index_column": 11199
                },
                {
                  "RIAGENDR": 1,
                  "RIDAGEYR": 58,
                  "DMDMARTL": 0,
                  "log_drinks": 0,
                  "_deepnote_index_column": 11203
                },
                {
                  "RIAGENDR": 1,
                  "RIDAGEYR": 45,
                  "DMDMARTL": 0,
                  "log_drinks": 0.7,
                  "_deepnote_index_column": 11204
                },
                {
                  "RIAGENDR": 1,
                  "RIDAGEYR": 45,
                  "DMDMARTL": 0,
                  "log_drinks": 0,
                  "_deepnote_index_column": 11205
                },
                {
                  "RIAGENDR": 1,
                  "RIDAGEYR": 61,
                  "DMDMARTL": 0,
                  "log_drinks": 0.3,
                  "_deepnote_index_column": 11206
                },
                {
                  "RIAGENDR": 1,
                  "RIDAGEYR": 63,
                  "DMDMARTL": 0,
                  "log_drinks": 1.08,
                  "_deepnote_index_column": 11209
                },
                {
                  "RIAGENDR": 0,
                  "RIDAGEYR": 41,
                  "DMDMARTL": 1,
                  "log_drinks": 0.3,
                  "_deepnote_index_column": 11210
                },
                {
                  "RIAGENDR": 0,
                  "RIDAGEYR": 61,
                  "DMDMARTL": 0,
                  "log_drinks": 0.3,
                  "_deepnote_index_column": 11211
                },
                {
                  "RIAGENDR": 0,
                  "RIDAGEYR": 73,
                  "DMDMARTL": 1,
                  "log_drinks": 0.7,
                  "_deepnote_index_column": 11213
                },
                {
                  "RIAGENDR": 1,
                  "RIDAGEYR": 67,
                  "DMDMARTL": 1,
                  "log_drinks": 0,
                  "_deepnote_index_column": 11215
                },
                {
                  "RIAGENDR": 0,
                  "RIDAGEYR": 44,
                  "DMDMARTL": 1,
                  "log_drinks": 0.7,
                  "_deepnote_index_column": 11218
                },
                {
                  "RIAGENDR": 1,
                  "RIDAGEYR": 66,
                  "DMDMARTL": 0,
                  "log_drinks": 0,
                  "_deepnote_index_column": 11219
                },
                {
                  "RIAGENDR": 1,
                  "RIDAGEYR": 65,
                  "DMDMARTL": 0,
                  "log_drinks": 1.48,
                  "_deepnote_index_column": 11221
                },
                {
                  "RIAGENDR": 1,
                  "RIDAGEYR": 61,
                  "DMDMARTL": 0,
                  "log_drinks": 1.08,
                  "_deepnote_index_column": 11222
                },
                {
                  "RIAGENDR": 0,
                  "RIDAGEYR": 51,
                  "DMDMARTL": 0,
                  "log_drinks": 0.7,
                  "_deepnote_index_column": 11224
                },
                {
                  "RIAGENDR": 0,
                  "RIDAGEYR": 37,
                  "DMDMARTL": 0,
                  "log_drinks": 1.08,
                  "_deepnote_index_column": 11227
                },
                {
                  "RIAGENDR": 0,
                  "RIDAGEYR": 50,
                  "DMDMARTL": 0,
                  "log_drinks": 0.7,
                  "_deepnote_index_column": 11228
                },
                {
                  "RIAGENDR": 0,
                  "RIDAGEYR": 44,
                  "DMDMARTL": 1,
                  "log_drinks": 1.48,
                  "_deepnote_index_column": 11233
                },
                {
                  "RIAGENDR": 1,
                  "RIDAGEYR": 66,
                  "DMDMARTL": 0,
                  "log_drinks": 0.3,
                  "_deepnote_index_column": 11237
                },
                {
                  "RIAGENDR": 0,
                  "RIDAGEYR": 75,
                  "DMDMARTL": 1,
                  "log_drinks": 0.7,
                  "_deepnote_index_column": 11239
                },
                {
                  "RIAGENDR": 0,
                  "RIDAGEYR": 47,
                  "DMDMARTL": 0,
                  "log_drinks": 0.7,
                  "_deepnote_index_column": 11240
                },
                {
                  "RIAGENDR": 0,
                  "RIDAGEYR": 55,
                  "DMDMARTL": 0,
                  "log_drinks": 0.3,
                  "_deepnote_index_column": 11243
                },
                {
                  "RIAGENDR": 0,
                  "RIDAGEYR": 39,
                  "DMDMARTL": 0,
                  "log_drinks": 1.08,
                  "_deepnote_index_column": 11244
                },
                {
                  "RIAGENDR": 0,
                  "RIDAGEYR": 73,
                  "DMDMARTL": 0,
                  "log_drinks": 0,
                  "_deepnote_index_column": 11245
                },
                {
                  "RIAGENDR": 1,
                  "RIDAGEYR": 66,
                  "DMDMARTL": 0,
                  "log_drinks": 0,
                  "_deepnote_index_column": 11246
                },
                {
                  "RIAGENDR": 0,
                  "RIDAGEYR": 61,
                  "DMDMARTL": 0,
                  "log_drinks": 0.7,
                  "_deepnote_index_column": 11247
                },
                {
                  "RIAGENDR": 1,
                  "RIDAGEYR": 33,
                  "DMDMARTL": 0,
                  "log_drinks": 1.48,
                  "_deepnote_index_column": 11248
                },
                {
                  "RIAGENDR": 0,
                  "RIDAGEYR": 62,
                  "DMDMARTL": 0,
                  "log_drinks": 1.48,
                  "_deepnote_index_column": 11249
                },
                {
                  "RIAGENDR": 0,
                  "RIDAGEYR": 43,
                  "DMDMARTL": 0,
                  "log_drinks": 0,
                  "_deepnote_index_column": 11252
                },
                {
                  "RIAGENDR": 0,
                  "RIDAGEYR": 75,
                  "DMDMARTL": 1,
                  "log_drinks": 0.7,
                  "_deepnote_index_column": 11253
                },
                {
                  "RIAGENDR": 0,
                  "RIDAGEYR": 24,
                  "DMDMARTL": 1,
                  "log_drinks": 1.48,
                  "_deepnote_index_column": 11255
                },
                {
                  "RIAGENDR": 1,
                  "RIDAGEYR": 48,
                  "DMDMARTL": 0,
                  "log_drinks": 1.72,
                  "_deepnote_index_column": 11256
                },
                {
                  "RIAGENDR": 1,
                  "RIDAGEYR": 55,
                  "DMDMARTL": 0,
                  "log_drinks": 1.08,
                  "_deepnote_index_column": 11259
                },
                {
                  "RIAGENDR": 1,
                  "RIDAGEYR": 75,
                  "DMDMARTL": 1,
                  "log_drinks": 0.7,
                  "_deepnote_index_column": 11261
                },
                {
                  "RIAGENDR": 0,
                  "RIDAGEYR": 70,
                  "DMDMARTL": 0,
                  "log_drinks": 0,
                  "_deepnote_index_column": 11264
                },
                {
                  "RIAGENDR": 1,
                  "RIDAGEYR": 38,
                  "DMDMARTL": 1,
                  "log_drinks": 0.95,
                  "_deepnote_index_column": 11267
                }
              ]
            },
            "text/plain": "       RIAGENDR  RIDAGEYR  DMDMARTL  log_drinks\n5735          0      66.0         1        1.08\n5739          1      56.0         0        1.72\n5741          1      67.0         1        1.48\n5742          0      54.0         0        0.70\n5743          1      71.0         0        0.00\n...         ...       ...       ...         ...\n11256         1      48.0         0        1.72\n11259         1      55.0         0        1.08\n11261         1      75.0         1        0.70\n11264         0      70.0         0        0.00\n11267         1      38.0         1        0.95\n\n[2664 rows x 4 columns]",
            "text/html": "<div>\n<style scoped>\n    .dataframe tbody tr th:only-of-type {\n        vertical-align: middle;\n    }\n\n    .dataframe tbody tr th {\n        vertical-align: top;\n    }\n\n    .dataframe thead th {\n        text-align: right;\n    }\n</style>\n<table border=\"1\" class=\"dataframe\">\n  <thead>\n    <tr style=\"text-align: right;\">\n      <th></th>\n      <th>RIAGENDR</th>\n      <th>RIDAGEYR</th>\n      <th>DMDMARTL</th>\n      <th>log_drinks</th>\n    </tr>\n  </thead>\n  <tbody>\n    <tr>\n      <th>5735</th>\n      <td>0</td>\n      <td>66.0</td>\n      <td>1</td>\n      <td>1.08</td>\n    </tr>\n    <tr>\n      <th>5739</th>\n      <td>1</td>\n      <td>56.0</td>\n      <td>0</td>\n      <td>1.72</td>\n    </tr>\n    <tr>\n      <th>5741</th>\n      <td>1</td>\n      <td>67.0</td>\n      <td>1</td>\n      <td>1.48</td>\n    </tr>\n    <tr>\n      <th>5742</th>\n      <td>0</td>\n      <td>54.0</td>\n      <td>0</td>\n      <td>0.70</td>\n    </tr>\n    <tr>\n      <th>5743</th>\n      <td>1</td>\n      <td>71.0</td>\n      <td>0</td>\n      <td>0.00</td>\n    </tr>\n    <tr>\n      <th>...</th>\n      <td>...</td>\n      <td>...</td>\n      <td>...</td>\n      <td>...</td>\n    </tr>\n    <tr>\n      <th>11256</th>\n      <td>1</td>\n      <td>48.0</td>\n      <td>0</td>\n      <td>1.72</td>\n    </tr>\n    <tr>\n      <th>11259</th>\n      <td>1</td>\n      <td>55.0</td>\n      <td>0</td>\n      <td>1.08</td>\n    </tr>\n    <tr>\n      <th>11261</th>\n      <td>1</td>\n      <td>75.0</td>\n      <td>1</td>\n      <td>0.70</td>\n    </tr>\n    <tr>\n      <th>11264</th>\n      <td>0</td>\n      <td>70.0</td>\n      <td>0</td>\n      <td>0.00</td>\n    </tr>\n    <tr>\n      <th>11267</th>\n      <td>1</td>\n      <td>38.0</td>\n      <td>1</td>\n      <td>0.95</td>\n    </tr>\n  </tbody>\n</table>\n<p>2664 rows × 4 columns</p>\n</div>"
          },
          "metadata": {}
        }
      ]
    },
    {
      "cell_type": "code",
      "metadata": {
        "tags": [],
        "cell_id": "00009-7776ca65-8bb9-40df-bc27-1fa9620caa7b",
        "deepnote_to_be_reexecuted": false,
        "source_hash": "75f7d40",
        "execution_millis": 233,
        "execution_start": 1614825681690,
        "deepnote_cell_type": "code"
      },
      "source": "fig, ax = plt.subplots(figsize=(6,4))\n# # sns.boxplot(x='RIAGENDR', y='log_drinks', hue='DMDMARTL', data=dr)\nsns.ecdfplot(data=dr, x=\"log_drinks\", hue=\"DMDMARTL\", ax=ax)\nax.set_title(\"Unmatched Data\")\nplt.show()",
      "execution_count": 7,
      "outputs": [
        {
          "data": {
            "text/plain": "<Figure size 432x288 with 1 Axes>",
            "image/png": "[encoded data removed]"
          },
          "metadata": {
            "needs_background": "light"
          },
          "output_type": "display_data"
        }
      ]
    },
    {
      "cell_type": "markdown",
      "source": "## Matching with PyMatch",
      "metadata": {
        "tags": [],
        "cell_id": "00010-8651dd79-2840-4a55-8f81-42dfc2532f05",
        "deepnote_cell_type": "markdown"
      }
    },
    {
      "cell_type": "code",
      "metadata": {
        "tags": [],
        "cell_id": "00010-3c75df2f-a73e-49df-8571-8974d5728046",
        "deepnote_to_be_reexecuted": false,
        "source_hash": "36a7bd35",
        "execution_millis": 17,
        "execution_start": 1614825681916,
        "deepnote_cell_type": "code"
      },
      "source": "test = dr[dr.DMDMARTL == 1].copy()\ncontrol = dr[dr.DMDMARTL == 0].copy()",
      "execution_count": 8,
      "outputs": []
    },
    {
      "cell_type": "code",
      "metadata": {
        "tags": [],
        "cell_id": "00011-499d2b44-ac51-489c-8036-d23832018d9a",
        "deepnote_to_be_reexecuted": false,
        "source_hash": "f0a383bc",
        "execution_millis": 321,
        "execution_start": 1614825681933,
        "deepnote_cell_type": "code"
      },
      "source": "from pymatch.Matcher import Matcher\nm = Matcher(test, control, yvar=\"DMDMARTL\", exclude=[])",
      "execution_count": 9,
      "outputs": [
        {
          "name": "stdout",
          "text": "Formula:\nDMDMARTL ~ RIAGENDR+RIDAGEYR+log_drinks\nn majority: 2130\nn minority: 534\n",
          "output_type": "stream"
        }
      ]
    },
    {
      "cell_type": "code",
      "metadata": {
        "tags": [],
        "cell_id": "00013-106b326a-e3b0-4b70-ba42-cb6eb65b73e0",
        "deepnote_to_be_reexecuted": false,
        "source_hash": "3f697c33",
        "execution_millis": 54,
        "execution_start": 1614825682252,
        "deepnote_cell_type": "code"
      },
      "source": "%%bash\n# must tweak source code: https://github.com/benmiroglio/pymatch/issues/23\nsed -i 's/y == preds/y.to_numpy().T == preds/1' ~/venv/lib/python3.7/site-packages/pymatch/Matcher.py\ngrep \"== preds\" ~/venv/lib/python3.7/site-packages/pymatch/Matcher.py",
      "execution_count": 10,
      "outputs": [
        {
          "name": "stdout",
          "text": "        return (y.to_numpy().T == preds).sum() * 1.0 / len(y)\n",
          "output_type": "stream"
        }
      ]
    },
    {
      "cell_type": "code",
      "metadata": {
        "tags": [],
        "cell_id": "00012-7a64c4f8-5ef5-4480-b71a-dc7d7a20669b",
        "deepnote_to_be_reexecuted": false,
        "source_hash": "ebe0639b",
        "execution_millis": 2721,
        "execution_start": 1614825682304,
        "deepnote_cell_type": "code"
      },
      "source": "np.random.seed(20210301)\nm.fit_scores(balance=True, nmodels=100)\nm.predict_scores()\nm.plot_scores()",
      "execution_count": 11,
      "outputs": [
        {
          "name": "stdout",
          "text": "Fitting Models on Balanced Samples: 100\\100\nAverage Accuracy: 59.42%\n/shared-libs/python3.7/py/lib/python3.7/site-packages/seaborn/distributions.py:2557: FutureWarning: `distplot` is a deprecated function and will be removed in a future version. Please adapt your code to use either `displot` (a figure-level function with similar flexibility) or `histplot` (an axes-level function for histograms).\n  warnings.warn(msg, FutureWarning)\n/shared-libs/python3.7/py/lib/python3.7/site-packages/seaborn/distributions.py:2557: FutureWarning: `distplot` is a deprecated function and will be removed in a future version. Please adapt your code to use either `displot` (a figure-level function with similar flexibility) or `histplot` (an axes-level function for histograms).\n  warnings.warn(msg, FutureWarning)\n",
          "output_type": "stream"
        },
        {
          "data": {
            "text/plain": "<Figure size 720x360 with 1 Axes>",
            "image/png": "[encoded data removed]"
          },
          "metadata": {
            "needs_background": "light"
          },
          "output_type": "display_data"
        }
      ]
    },
    {
      "cell_type": "code",
      "metadata": {
        "tags": [],
        "cell_id": "00013-1096c7dc-2a6d-4a08-bd20-4e1aac40e10c",
        "deepnote_to_be_reexecuted": false,
        "source_hash": "ab8f005e",
        "execution_millis": 6530,
        "execution_start": 1614825685028,
        "deepnote_cell_type": "code"
      },
      "source": "m.tune_threshold(method='random')",
      "execution_count": 12,
      "outputs": [
        {
          "data": {
            "text/plain": "<Figure size 720x360 with 1 Axes>",
            "image/png": "[encoded data removed]"
          },
          "metadata": {
            "needs_background": "light"
          },
          "output_type": "display_data"
        }
      ]
    },
    {
      "cell_type": "code",
      "metadata": {
        "tags": [],
        "cell_id": "00014-fca9442f-0108-4bae-92c1-ad7484acb47c",
        "deepnote_to_be_reexecuted": false,
        "source_hash": "4b4408b2",
        "execution_millis": 608,
        "execution_start": 1614825691554,
        "deepnote_cell_type": "code"
      },
      "source": "m.match(method=\"min\", nmatches=1, threshold=0.0008)\nm.record_frequency()",
      "execution_count": 13,
      "outputs": [
        {
          "output_type": "execute_result",
          "execution_count": 13,
          "data": {
            "application/vnd.deepnote.dataframe.v2+json": {
              "row_count": 7,
              "column_count": 2,
              "columns": [
                {
                  "name": "freq",
                  "dtype": "int64",
                  "stats": {
                    "unique_count": 7,
                    "nan_count": 0,
                    "min": 1,
                    "max": 8,
                    "histogram": [
                      {
                        "bin_start": 1,
                        "bin_end": 1.7,
                        "count": 1
                      },
                      {
                        "bin_start": 1.7,
                        "bin_end": 2.4,
                        "count": 1
                      },
                      {
                        "bin_start": 2.4,
                        "bin_end": 3.0999999999999996,
                        "count": 1
                      },
                      {
                        "bin_start": 3.0999999999999996,
                        "bin_end": 3.8,
                        "count": 0
                      },
                      {
                        "bin_start": 3.8,
                        "bin_end": 4.5,
                        "count": 1
                      },
                      {
                        "bin_start": 4.5,
                        "bin_end": 5.199999999999999,
                        "count": 1
                      },
                      {
                        "bin_start": 5.199999999999999,
                        "bin_end": 5.8999999999999995,
                        "count": 0
                      },
                      {
                        "bin_start": 5.8999999999999995,
                        "bin_end": 6.6,
                        "count": 0
                      },
                      {
                        "bin_start": 6.6,
                        "bin_end": 7.3,
                        "count": 1
                      },
                      {
                        "bin_start": 7.3,
                        "bin_end": 8,
                        "count": 1
                      }
                    ]
                  }
                },
                {
                  "name": "n_records",
                  "dtype": "int64",
                  "stats": {
                    "unique_count": 7,
                    "nan_count": 0,
                    "min": 1,
                    "max": 766,
                    "histogram": [
                      {
                        "bin_start": 1,
                        "bin_end": 77.5,
                        "count": 6
                      },
                      {
                        "bin_start": 77.5,
                        "bin_end": 154,
                        "count": 0
                      },
                      {
                        "bin_start": 154,
                        "bin_end": 230.5,
                        "count": 0
                      },
                      {
                        "bin_start": 230.5,
                        "bin_end": 307,
                        "count": 0
                      },
                      {
                        "bin_start": 307,
                        "bin_end": 383.5,
                        "count": 0
                      },
                      {
                        "bin_start": 383.5,
                        "bin_end": 460,
                        "count": 0
                      },
                      {
                        "bin_start": 460,
                        "bin_end": 536.5,
                        "count": 0
                      },
                      {
                        "bin_start": 536.5,
                        "bin_end": 613,
                        "count": 0
                      },
                      {
                        "bin_start": 613,
                        "bin_end": 689.5,
                        "count": 0
                      },
                      {
                        "bin_start": 689.5,
                        "bin_end": 766,
                        "count": 1
                      }
                    ]
                  }
                },
                {
                  "name": "_deepnote_index_column",
                  "dtype": "int64"
                }
              ],
              "rows_top": [
                {
                  "freq": 1,
                  "n_records": 766,
                  "_deepnote_index_column": 0
                },
                {
                  "freq": 2,
                  "n_records": 67,
                  "_deepnote_index_column": 1
                },
                {
                  "freq": 3,
                  "n_records": 27,
                  "_deepnote_index_column": 2
                },
                {
                  "freq": 4,
                  "n_records": 10,
                  "_deepnote_index_column": 3
                },
                {
                  "freq": 5,
                  "n_records": 5,
                  "_deepnote_index_column": 4
                },
                {
                  "freq": 7,
                  "n_records": 2,
                  "_deepnote_index_column": 5
                },
                {
                  "freq": 8,
                  "n_records": 1,
                  "_deepnote_index_column": 6
                }
              ],
              "rows_bottom": null
            },
            "text/plain": "   freq  n_records\n0     1        766\n1     2         67\n2     3         27\n3     4         10\n4     5          5\n5     7          2\n6     8          1",
            "text/html": "<div>\n<style scoped>\n    .dataframe tbody tr th:only-of-type {\n        vertical-align: middle;\n    }\n\n    .dataframe tbody tr th {\n        vertical-align: top;\n    }\n\n    .dataframe thead th {\n        text-align: right;\n    }\n</style>\n<table border=\"1\" class=\"dataframe\">\n  <thead>\n    <tr style=\"text-align: right;\">\n      <th></th>\n      <th>freq</th>\n      <th>n_records</th>\n    </tr>\n  </thead>\n  <tbody>\n    <tr>\n      <th>0</th>\n      <td>1</td>\n      <td>766</td>\n    </tr>\n    <tr>\n      <th>1</th>\n      <td>2</td>\n      <td>67</td>\n    </tr>\n    <tr>\n      <th>2</th>\n      <td>3</td>\n      <td>27</td>\n    </tr>\n    <tr>\n      <th>3</th>\n      <td>4</td>\n      <td>10</td>\n    </tr>\n    <tr>\n      <th>4</th>\n      <td>5</td>\n      <td>5</td>\n    </tr>\n    <tr>\n      <th>5</th>\n      <td>7</td>\n      <td>2</td>\n    </tr>\n    <tr>\n      <th>6</th>\n      <td>8</td>\n      <td>1</td>\n    </tr>\n  </tbody>\n</table>\n</div>"
          },
          "metadata": {}
        }
      ]
    },
    {
      "cell_type": "code",
      "metadata": {
        "tags": [],
        "cell_id": "00015-55236c0b-43ff-4362-943f-fabdd29e70f6",
        "deepnote_to_be_reexecuted": false,
        "source_hash": "f1f8a6f3",
        "execution_millis": 57,
        "execution_start": 1614825692160,
        "deepnote_cell_type": "code"
      },
      "source": "m.assign_weight_vector()\nm.matched_data.sort_values(\"match_id\").head(6)",
      "execution_count": 14,
      "outputs": [
        {
          "output_type": "execute_result",
          "execution_count": 14,
          "data": {
            "application/vnd.deepnote.dataframe.v2+json": {
              "row_count": 6,
              "column_count": 8,
              "columns": [
                {
                  "name": "record_id",
                  "dtype": "int64",
                  "stats": {
                    "unique_count": 6,
                    "nan_count": 0,
                    "min": 0,
                    "max": 2375,
                    "histogram": [
                      {
                        "bin_start": 0,
                        "bin_end": 237.5,
                        "count": 3
                      },
                      {
                        "bin_start": 237.5,
                        "bin_end": 475,
                        "count": 0
                      },
                      {
                        "bin_start": 475,
                        "bin_end": 712.5,
                        "count": 1
                      },
                      {
                        "bin_start": 712.5,
                        "bin_end": 950,
                        "count": 0
                      },
                      {
                        "bin_start": 950,
                        "bin_end": 1187.5,
                        "count": 0
                      },
                      {
                        "bin_start": 1187.5,
                        "bin_end": 1425,
                        "count": 0
                      },
                      {
                        "bin_start": 1425,
                        "bin_end": 1662.5,
                        "count": 0
                      },
                      {
                        "bin_start": 1662.5,
                        "bin_end": 1900,
                        "count": 1
                      },
                      {
                        "bin_start": 1900,
                        "bin_end": 2137.5,
                        "count": 0
                      },
                      {
                        "bin_start": 2137.5,
                        "bin_end": 2375,
                        "count": 1
                      }
                    ]
                  }
                },
                {
                  "name": "weight",
                  "dtype": "float64",
                  "stats": {
                    "unique_count": 2,
                    "nan_count": 0,
                    "min": 0.3333333333333333,
                    "max": 1,
                    "histogram": [
                      {
                        "bin_start": 0.3333333333333333,
                        "bin_end": 0.4,
                        "count": 2
                      },
                      {
                        "bin_start": 0.4,
                        "bin_end": 0.4666666666666667,
                        "count": 0
                      },
                      {
                        "bin_start": 0.4666666666666667,
                        "bin_end": 0.5333333333333333,
                        "count": 0
                      },
                      {
                        "bin_start": 0.5333333333333333,
                        "bin_end": 0.6000000000000001,
                        "count": 0
                      },
                      {
                        "bin_start": 0.6000000000000001,
                        "bin_end": 0.6666666666666667,
                        "count": 0
                      },
                      {
                        "bin_start": 0.6666666666666667,
                        "bin_end": 0.7333333333333334,
                        "count": 0
                      },
                      {
                        "bin_start": 0.7333333333333334,
                        "bin_end": 0.8,
                        "count": 0
                      },
                      {
                        "bin_start": 0.8,
                        "bin_end": 0.8666666666666667,
                        "count": 0
                      },
                      {
                        "bin_start": 0.8666666666666667,
                        "bin_end": 0.9333333333333333,
                        "count": 0
                      },
                      {
                        "bin_start": 0.9333333333333333,
                        "bin_end": 1,
                        "count": 4
                      }
                    ]
                  }
                },
                {
                  "name": "RIAGENDR",
                  "dtype": "int64",
                  "stats": {
                    "unique_count": 2,
                    "nan_count": 0,
                    "min": 0,
                    "max": 1,
                    "histogram": [
                      {
                        "bin_start": 0,
                        "bin_end": 0.1,
                        "count": 4
                      },
                      {
                        "bin_start": 0.1,
                        "bin_end": 0.2,
                        "count": 0
                      },
                      {
                        "bin_start": 0.2,
                        "bin_end": 0.30000000000000004,
                        "count": 0
                      },
                      {
                        "bin_start": 0.30000000000000004,
                        "bin_end": 0.4,
                        "count": 0
                      },
                      {
                        "bin_start": 0.4,
                        "bin_end": 0.5,
                        "count": 0
                      },
                      {
                        "bin_start": 0.5,
                        "bin_end": 0.6000000000000001,
                        "count": 0
                      },
                      {
                        "bin_start": 0.6000000000000001,
                        "bin_end": 0.7000000000000001,
                        "count": 0
                      },
                      {
                        "bin_start": 0.7000000000000001,
                        "bin_end": 0.8,
                        "count": 0
                      },
                      {
                        "bin_start": 0.8,
                        "bin_end": 0.9,
                        "count": 0
                      },
                      {
                        "bin_start": 0.9,
                        "bin_end": 1,
                        "count": 2
                      }
                    ]
                  }
                },
                {
                  "name": "RIDAGEYR",
                  "dtype": "float64",
                  "stats": {
                    "unique_count": 4,
                    "nan_count": 0,
                    "min": 60,
                    "max": 67,
                    "histogram": [
                      {
                        "bin_start": 60,
                        "bin_end": 60.7,
                        "count": 2
                      },
                      {
                        "bin_start": 60.7,
                        "bin_end": 61.4,
                        "count": 0
                      },
                      {
                        "bin_start": 61.4,
                        "bin_end": 62.1,
                        "count": 1
                      },
                      {
                        "bin_start": 62.1,
                        "bin_end": 62.8,
                        "count": 0
                      },
                      {
                        "bin_start": 62.8,
                        "bin_end": 63.5,
                        "count": 0
                      },
                      {
                        "bin_start": 63.5,
                        "bin_end": 64.2,
                        "count": 0
                      },
                      {
                        "bin_start": 64.2,
                        "bin_end": 64.9,
                        "count": 0
                      },
                      {
                        "bin_start": 64.9,
                        "bin_end": 65.6,
                        "count": 0
                      },
                      {
                        "bin_start": 65.6,
                        "bin_end": 66.3,
                        "count": 1
                      },
                      {
                        "bin_start": 66.3,
                        "bin_end": 67,
                        "count": 2
                      }
                    ]
                  }
                },
                {
                  "name": "DMDMARTL",
                  "dtype": "int64",
                  "stats": {
                    "unique_count": 2,
                    "nan_count": 0,
                    "min": 0,
                    "max": 1,
                    "histogram": [
                      {
                        "bin_start": 0,
                        "bin_end": 0.1,
                        "count": 3
                      },
                      {
                        "bin_start": 0.1,
                        "bin_end": 0.2,
                        "count": 0
                      },
                      {
                        "bin_start": 0.2,
                        "bin_end": 0.30000000000000004,
                        "count": 0
                      },
                      {
                        "bin_start": 0.30000000000000004,
                        "bin_end": 0.4,
                        "count": 0
                      },
                      {
                        "bin_start": 0.4,
                        "bin_end": 0.5,
                        "count": 0
                      },
                      {
                        "bin_start": 0.5,
                        "bin_end": 0.6000000000000001,
                        "count": 0
                      },
                      {
                        "bin_start": 0.6000000000000001,
                        "bin_end": 0.7000000000000001,
                        "count": 0
                      },
                      {
                        "bin_start": 0.7000000000000001,
                        "bin_end": 0.8,
                        "count": 0
                      },
                      {
                        "bin_start": 0.8,
                        "bin_end": 0.9,
                        "count": 0
                      },
                      {
                        "bin_start": 0.9,
                        "bin_end": 1,
                        "count": 3
                      }
                    ]
                  }
                },
                {
                  "name": "log_drinks",
                  "dtype": "float64",
                  "stats": {
                    "unique_count": 3,
                    "nan_count": 0,
                    "min": 1.08,
                    "max": 2.02,
                    "histogram": [
                      {
                        "bin_start": 1.08,
                        "bin_end": 1.1740000000000002,
                        "count": 3
                      },
                      {
                        "bin_start": 1.1740000000000002,
                        "bin_end": 1.268,
                        "count": 0
                      },
                      {
                        "bin_start": 1.268,
                        "bin_end": 1.362,
                        "count": 0
                      },
                      {
                        "bin_start": 1.362,
                        "bin_end": 1.456,
                        "count": 0
                      },
                      {
                        "bin_start": 1.456,
                        "bin_end": 1.55,
                        "count": 2
                      },
                      {
                        "bin_start": 1.55,
                        "bin_end": 1.6440000000000001,
                        "count": 0
                      },
                      {
                        "bin_start": 1.6440000000000001,
                        "bin_end": 1.738,
                        "count": 0
                      },
                      {
                        "bin_start": 1.738,
                        "bin_end": 1.832,
                        "count": 0
                      },
                      {
                        "bin_start": 1.832,
                        "bin_end": 1.9260000000000002,
                        "count": 0
                      },
                      {
                        "bin_start": 1.9260000000000002,
                        "bin_end": 2.02,
                        "count": 1
                      }
                    ]
                  }
                },
                {
                  "name": "scores",
                  "dtype": "float64",
                  "stats": {
                    "unique_count": 4,
                    "nan_count": 0,
                    "min": 0.5145011825238804,
                    "max": 0.6354312313965617,
                    "histogram": [
                      {
                        "bin_start": 0.5145011825238804,
                        "bin_end": 0.5265941874111486,
                        "count": 2
                      },
                      {
                        "bin_start": 0.5265941874111486,
                        "bin_end": 0.5386871922984167,
                        "count": 0
                      },
                      {
                        "bin_start": 0.5386871922984167,
                        "bin_end": 0.5507801971856848,
                        "count": 0
                      },
                      {
                        "bin_start": 0.5507801971856848,
                        "bin_end": 0.5628732020729529,
                        "count": 0
                      },
                      {
                        "bin_start": 0.5628732020729529,
                        "bin_end": 0.574966206960221,
                        "count": 0
                      },
                      {
                        "bin_start": 0.574966206960221,
                        "bin_end": 0.5870592118474891,
                        "count": 0
                      },
                      {
                        "bin_start": 0.5870592118474891,
                        "bin_end": 0.5991522167347573,
                        "count": 2
                      },
                      {
                        "bin_start": 0.5991522167347573,
                        "bin_end": 0.6112452216220254,
                        "count": 0
                      },
                      {
                        "bin_start": 0.6112452216220254,
                        "bin_end": 0.6233382265092935,
                        "count": 0
                      },
                      {
                        "bin_start": 0.6233382265092935,
                        "bin_end": 0.6354312313965617,
                        "count": 2
                      }
                    ]
                  }
                },
                {
                  "name": "match_id",
                  "dtype": "int64",
                  "stats": {
                    "unique_count": 3,
                    "nan_count": 0,
                    "min": 0,
                    "max": 2,
                    "histogram": [
                      {
                        "bin_start": 0,
                        "bin_end": 0.2,
                        "count": 2
                      },
                      {
                        "bin_start": 0.2,
                        "bin_end": 0.4,
                        "count": 0
                      },
                      {
                        "bin_start": 0.4,
                        "bin_end": 0.6000000000000001,
                        "count": 0
                      },
                      {
                        "bin_start": 0.6000000000000001,
                        "bin_end": 0.8,
                        "count": 0
                      },
                      {
                        "bin_start": 0.8,
                        "bin_end": 1,
                        "count": 0
                      },
                      {
                        "bin_start": 1,
                        "bin_end": 1.2000000000000002,
                        "count": 2
                      },
                      {
                        "bin_start": 1.2000000000000002,
                        "bin_end": 1.4000000000000001,
                        "count": 0
                      },
                      {
                        "bin_start": 1.4000000000000001,
                        "bin_end": 1.6,
                        "count": 0
                      },
                      {
                        "bin_start": 1.6,
                        "bin_end": 1.8,
                        "count": 0
                      },
                      {
                        "bin_start": 1.8,
                        "bin_end": 2,
                        "count": 2
                      }
                    ]
                  }
                },
                {
                  "name": "_deepnote_index_column",
                  "dtype": "int64"
                }
              ],
              "rows_top": [
                {
                  "record_id": 0,
                  "weight": 1,
                  "RIAGENDR": 0,
                  "RIDAGEYR": 66,
                  "DMDMARTL": 1,
                  "log_drinks": 1.08,
                  "scores": 0.6354312313965617,
                  "match_id": 0,
                  "_deepnote_index_column": 0
                },
                {
                  "record_id": 1776,
                  "weight": 0.3333333333333333,
                  "RIAGENDR": 0,
                  "RIDAGEYR": 62,
                  "DMDMARTL": 0,
                  "log_drinks": 2.02,
                  "scores": 0.634327389623152,
                  "match_id": 0,
                  "_deepnote_index_column": 850
                },
                {
                  "record_id": 580,
                  "weight": 1,
                  "RIAGENDR": 1,
                  "RIDAGEYR": 67,
                  "DMDMARTL": 0,
                  "log_drinks": 1.48,
                  "scores": 0.5145011825238804,
                  "match_id": 1,
                  "_deepnote_index_column": 546
                },
                {
                  "record_id": 1,
                  "weight": 1,
                  "RIAGENDR": 1,
                  "RIDAGEYR": 67,
                  "DMDMARTL": 1,
                  "log_drinks": 1.48,
                  "scores": 0.5145011825238804,
                  "match_id": 1,
                  "_deepnote_index_column": 1
                },
                {
                  "record_id": 2375,
                  "weight": 0.3333333333333333,
                  "RIAGENDR": 0,
                  "RIDAGEYR": 60,
                  "DMDMARTL": 0,
                  "log_drinks": 1.08,
                  "scores": 0.5973318100015923,
                  "match_id": 2,
                  "_deepnote_index_column": 1007
                },
                {
                  "record_id": 2,
                  "weight": 1,
                  "RIAGENDR": 0,
                  "RIDAGEYR": 60,
                  "DMDMARTL": 1,
                  "log_drinks": 1.08,
                  "scores": 0.5973318100015923,
                  "match_id": 2,
                  "_deepnote_index_column": 2
                }
              ],
              "rows_bottom": null
            },
            "text/plain": "      record_id    weight  RIAGENDR  RIDAGEYR  DMDMARTL  log_drinks    scores  \\\n0             0  1.000000         0      66.0         1        1.08  0.635431   \n850        1776  0.333333         0      62.0         0        2.02  0.634327   \n546         580  1.000000         1      67.0         0        1.48  0.514501   \n1             1  1.000000         1      67.0         1        1.48  0.514501   \n1007       2375  0.333333         0      60.0         0        1.08  0.597332   \n2             2  1.000000         0      60.0         1        1.08  0.597332   \n\n      match_id  \n0            0  \n850          0  \n546          1  \n1            1  \n1007         2  \n2            2  ",
            "text/html": "<div>\n<style scoped>\n    .dataframe tbody tr th:only-of-type {\n        vertical-align: middle;\n    }\n\n    .dataframe tbody tr th {\n        vertical-align: top;\n    }\n\n    .dataframe thead th {\n        text-align: right;\n    }\n</style>\n<table border=\"1\" class=\"dataframe\">\n  <thead>\n    <tr style=\"text-align: right;\">\n      <th></th>\n      <th>record_id</th>\n      <th>weight</th>\n      <th>RIAGENDR</th>\n      <th>RIDAGEYR</th>\n      <th>DMDMARTL</th>\n      <th>log_drinks</th>\n      <th>scores</th>\n      <th>match_id</th>\n    </tr>\n  </thead>\n  <tbody>\n    <tr>\n      <th>0</th>\n      <td>0</td>\n      <td>1.000000</td>\n      <td>0</td>\n      <td>66.0</td>\n      <td>1</td>\n      <td>1.08</td>\n      <td>0.635431</td>\n      <td>0</td>\n    </tr>\n    <tr>\n      <th>850</th>\n      <td>1776</td>\n      <td>0.333333</td>\n      <td>0</td>\n      <td>62.0</td>\n      <td>0</td>\n      <td>2.02</td>\n      <td>0.634327</td>\n      <td>0</td>\n    </tr>\n    <tr>\n      <th>546</th>\n      <td>580</td>\n      <td>1.000000</td>\n      <td>1</td>\n      <td>67.0</td>\n      <td>0</td>\n      <td>1.48</td>\n      <td>0.514501</td>\n      <td>1</td>\n    </tr>\n    <tr>\n      <th>1</th>\n      <td>1</td>\n      <td>1.000000</td>\n      <td>1</td>\n      <td>67.0</td>\n      <td>1</td>\n      <td>1.48</td>\n      <td>0.514501</td>\n      <td>1</td>\n    </tr>\n    <tr>\n      <th>1007</th>\n      <td>2375</td>\n      <td>0.333333</td>\n      <td>0</td>\n      <td>60.0</td>\n      <td>0</td>\n      <td>1.08</td>\n      <td>0.597332</td>\n      <td>2</td>\n    </tr>\n    <tr>\n      <th>2</th>\n      <td>2</td>\n      <td>1.000000</td>\n      <td>0</td>\n      <td>60.0</td>\n      <td>1</td>\n      <td>1.08</td>\n      <td>0.597332</td>\n      <td>2</td>\n    </tr>\n  </tbody>\n</table>\n</div>"
          },
          "metadata": {}
        }
      ]
    },
    {
      "cell_type": "code",
      "metadata": {
        "tags": [],
        "cell_id": "00016-b1975bb8-22b7-4738-8880-c2261a21a862",
        "deepnote_to_be_reexecuted": false,
        "source_hash": "8b97f590",
        "execution_millis": 53419,
        "execution_start": 1614825692213,
        "deepnote_cell_type": "code"
      },
      "source": "cc = m.compare_continuous(return_table=True)",
      "execution_count": 15,
      "outputs": [
        {
          "data": {
            "text/plain": "<Figure size 864x360 with 2 Axes>",
            "image/png": "[encoded data removed]"
          },
          "metadata": {
            "needs_background": "light"
          },
          "output_type": "display_data"
        },
        {
          "data": {
            "text/plain": "<Figure size 864x360 with 2 Axes>",
            "image/png": "[encoded data removed]"
          },
          "metadata": {
            "needs_background": "light"
          },
          "output_type": "display_data"
        },
        {
          "data": {
            "text/plain": "<Figure size 864x360 with 2 Axes>",
            "image/png": "[encoded data removed]"
          },
          "metadata": {
            "needs_background": "light"
          },
          "output_type": "display_data"
        }
      ]
    },
    {
      "cell_type": "code",
      "metadata": {
        "tags": [],
        "cell_id": "00000-3e35cf1f-f24b-4658-8e78-e774434ba8a9",
        "deepnote_to_be_reexecuted": false,
        "source_hash": "b623e53d",
        "execution_millis": 0,
        "execution_start": 1614825745677,
        "deepnote_cell_type": "code"
      },
      "source": "",
      "execution_count": 15,
      "outputs": []
    },
    {
      "cell_type": "code",
      "metadata": {
        "tags": [],
        "cell_id": "00004-8ee2dc5f-934d-4ca1-aa2f-2550e8e45222",
        "deepnote_to_be_reexecuted": false,
        "source_hash": "b0c6ca82",
        "execution_millis": 184,
        "execution_start": 1614825745677,
        "deepnote_cell_type": "code"
      },
      "source": "# ALQ = pd.read_sas('https://wwwn.cdc.gov/Nchs/Nhanes/2017-2018/ALQ_J.XPT')\n# DEMO = pd.read_sas('https://wwwn.cdc.gov/Nchs/Nhanes/2017-2018/DEMO_J.XPT')\n\n# url = 'https://wwwn.cdc.gov/nchs/nhanes/Search/DataPage.aspx?Component=Laboratory&CycleBeginYear=2017'\n# df = pd.read_html(url)[0]  # attrs={'id':'GridView1'}\n\n# import requests\n# r = requests.get(url)\n# lines = r.content.decode('utf-8').split('\\n')\n# [l.split('\"')[1] for l in lines if '.XPT' in l]",
      "execution_count": 16,
      "outputs": []
    },
    {
      "cell_type": "markdown",
      "source": "<a style='text-decoration:none;line-height:16px;display:flex;color:#5B5B62;padding:10px;justify-content:end;' href='https://deepnote.com?utm_source=created-in-deepnote-cell&projectId=98f37550-cbaa-491c-a3ea-f393696dc041' target=\"_blank\">\n<img style='display:inline;max-height:16px;margin:0px;margin-right:7.5px;' src='data:image/svg+xml;base64,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' > </img>\nCreated in <span style='font-weight:600;margin-left:4px;'>Deepnote</span></a>",
      "metadata": {
        "tags": [],
        "created_in_deepnote_cell": true,
        "deepnote_cell_type": "markdown"
      }
    }
  ],
  "nbformat": 4,
  "nbformat_minor": 2,
  "metadata": {
    "orig_nbformat": 2,
    "deepnote_notebook_id": "f32fe993-47cc-456e-a30a-fe2d9805d6f0",
    "deepnote": {},
    "deepnote_execution_queue": []
  }
}